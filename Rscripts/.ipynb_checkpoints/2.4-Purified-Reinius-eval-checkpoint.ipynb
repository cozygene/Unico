{
 "cells": [
  {
   "cell_type": "code",
   "execution_count": 1,
   "metadata": {},
   "outputs": [
    {
     "name": "stderr",
     "output_type": "stream",
     "text": [
      "Warning message:\n",
      "“package ‘MASS’ was built under R version 4.1.3”\n"
     ]
    }
   ],
   "source": [
    "library(data.table)\n",
    "source(\"analysis.utils.r\")\n",
    "\n",
    "set.seed(2023)"
   ]
  },
  {
   "cell_type": "code",
   "execution_count": 2,
   "metadata": {},
   "outputs": [],
   "source": [
    "feature.set = \"hvf.10k\"\n",
    "#feature.set = \"random.10k\"\n",
    "\n",
    "robust = T\n",
    "qtl = 0.95"
   ]
  },
  {
   "cell_type": "code",
   "execution_count": 3,
   "metadata": {},
   "outputs": [
    {
     "name": "stdout",
     "output_type": "stream",
     "text": [
      "[1] \"../Data//Methylation/Purified-Reinius/hvf.10k\"\n",
      "[1] \"../Result//Methylation/Purified-Reinius/hvf.10k\"\n"
     ]
    }
   ],
   "source": [
    "data.dir = paste0(\"../Data//Methylation/Purified-Reinius/\", feature.set)\n",
    "res.dir  = paste0(\"../Result//Methylation/Purified-Reinius/\", feature.set)\n",
    "\n",
    "if (!file.exists(res.dir)){print(\"no result yet\")}\n",
    "print(data.dir)\n",
    "print(res.dir)"
   ]
  },
  {
   "cell_type": "markdown",
   "metadata": {},
   "source": [
    "# load data"
   ]
  },
  {
   "cell_type": "code",
   "execution_count": 4,
   "metadata": {},
   "outputs": [],
   "source": [
    "hannum  = readRDS(file.path(data.dir, paste0(\"hannum.\", feature.set, \".rds\")))\n",
    "reinius = readRDS(file.path(data.dir, paste0(\"reinius.\", feature.set, \".rds\")))"
   ]
  },
  {
   "cell_type": "code",
   "execution_count": 5,
   "metadata": {},
   "outputs": [
    {
     "name": "stdout",
     "output_type": "stream",
     "text": [
      "[1] \"mp_0_vp_0.01_cp_0.01_maxStds_2\"\n"
     ]
    }
   ],
   "source": [
    "#algorithm\n",
    "mean_penalty  = 0\n",
    "var_penalty   = 0.01\n",
    "covar_penalty = 0.01\n",
    "\n",
    "max_stds = 2\n",
    "#max_stds = 3\n",
    "\n",
    "mean_max_iterations = 2 \n",
    "var_max_iterations = 3\n",
    "nloptr_opts_algorithm = \"NLOPT_LN_COBYLA\"\n",
    "\n",
    "pen.config = paste(\"mp\", mean_penalty, \"vp\", var_penalty, \"cp\", covar_penalty, \"maxStds\", max_stds, sep =  \"_\")\n",
    "print(pen.config)"
   ]
  },
  {
   "cell_type": "code",
   "execution_count": 6,
   "metadata": {},
   "outputs": [],
   "source": [
    "base.mdl      = readRDS(file.path(res.dir, paste0(\"base.mdl.rds\")))\n",
    "cibersortx.mdl= readRDS(file.path(res.dir, paste0(\"cibersortx.mdl.rds\")))\n",
    "tca.mdl       = readRDS(file.path(res.dir, paste0(\"tca.mdl.rds\")))\n",
    "tcax.mdl      = readRDS(file.path(res.dir, paste0(\"tcax.mdl.\", pen.config, \".rds\")))\n",
    "bMIND.mdl      = readRDS(file.path(res.dir, paste0(\"bMIND.mdl.rds\")))"
   ]
  },
  {
   "cell_type": "markdown",
   "metadata": {},
   "source": [
    "# Eval helper"
   ]
  },
  {
   "cell_type": "code",
   "execution_count": 7,
   "metadata": {},
   "outputs": [],
   "source": [
    "#after adjust for source, feature specific mean, \n",
    "#collapse all features to one meta feature\n",
    "#return a list with two key, ref and hat. \n",
    "#each key is just a long meta vector, essentially one meta feature for this source\n",
    "calc_centered_Z_h = function(Z.ref, Z.hat, h, mask){\n",
    "    n = dim(Z.ref)[3]\n",
    "    mask = as.vector(mask)\n",
    "    \n",
    "    #source, feature specific mean\n",
    "    mus.ref = as.matrix(rowMeans(Z.ref[h,mask,]))\n",
    "    mus.hat = as.matrix(rowMeans(Z.hat[h,mask,]))\n",
    "    \n",
    "    #collapse\n",
    "    ref = as.vector(Z.ref[h,mask,] - repmat(mus.ref, 1, n))\n",
    "    hat = as.vector(Z.hat[h,mask,] - repmat(mus.hat, 1, n))\n",
    "    return (data.frame(ref = ref, hat = hat))  \n",
    "}"
   ]
  },
  {
   "cell_type": "code",
   "execution_count": 8,
   "metadata": {},
   "outputs": [],
   "source": [
    "#Z.ref: ground truth tensor with propor dim names: #sources by #features by #samples\n",
    "#Z.hat: estimated tensor with propor dim names: #sources by #features by #samples\n",
    "#group.mat:  matrix. number of features by number of different stratification.\n",
    "#            each column should be booleans indicating if we should keep/True or exclude/false under that column name\n",
    "#qtl: a number between 0 and 1. indicating the good portion of the data \n",
    "#returns a list with 5 elements: robcorrelation, mean and median absolute error, root mean and median square error\n",
    "#each element is number of sources by number of stratification. essetially we have one meta feature per source now\n",
    "calc_center_Z_hat_metrics = function(Z.ref, Z.hat, group.mat, qtl){\n",
    "    \n",
    "    center.Z.corrs           = matrix(0, dim(Z.ref)[1], ncol(group.mat))\n",
    "    rownames(center.Z.corrs) = dimnames(Z.ref)[[1]]\n",
    "    colnames(center.Z.corrs) = colnames(group.mat)  \n",
    "   \n",
    "    \n",
    "    center.Z.MAE   = copy(center.Z.corrs)\n",
    "    center.Z.MedAE = copy(center.Z.corrs)\n",
    "    center.Z.RMS   = copy(center.Z.corrs)\n",
    "    center.Z.RMedS = copy(center.Z.corrs)\n",
    "    \n",
    "    \n",
    "    for (h in 1:dim(Z.ref)[1]){\n",
    "        for (mask.i in 1:ncol(group.mat)){\n",
    "           \n",
    "            res = calc_centered_Z_h(Z.ref, Z.hat, h, mask = group.mat[,mask.i])\n",
    "            ref = res$ref\n",
    "            hat = res$hat\n",
    "           \n",
    "            center.Z.corrs[h,mask.i] = safe_cor(ref, hat, robust = T, qtl = qtl)\n",
    "           \n",
    "            center.Z.MAE[h,mask.i]   = mean(abs(ref - hat))\n",
    "            center.Z.MedAE[h,mask.i] = median(abs(ref - hat))\n",
    "            \n",
    "            center.Z.RMS[h,mask.i]   = sqrt(mean((ref - hat)**2))\n",
    "            center.Z.RMedS[h,mask.i] = sqrt(median((ref - hat)**2))\n",
    "        }\n",
    "    }\n",
    "    \n",
    "    metrics = list(center.Z.corrs = center.Z.corrs,\n",
    "                   center.Z.MAE  = center.Z.MAE, center.Z.MedAE = center.Z.MedAE,\n",
    "                   center.Z.RMS  = center.Z.RMS, center.Z.RMedS = center.Z.RMedS)\n",
    "   \n",
    "    return(metrics)\n",
    "}"
   ]
  },
  {
   "cell_type": "code",
   "execution_count": 9,
   "metadata": {},
   "outputs": [],
   "source": [
    "#Z.ref: ground truth tensor with propor dim names: #sources by #features by #samples\n",
    "#Z.hat: estimated tensor with propor dim names: #sources by #features by #samples\n",
    "#group.mat:  matrix. number of features by number of different stratification.\n",
    "#            each column should be booleans indicating if we should keep/True or exclude/false under that column name\n",
    "#qtl: a number between 0 and 1. indicating the good portion of the data \n",
    "#sample.itr: number of sampling to do \n",
    "#sample.size: number of samples to draw at each iteration \n",
    "#seed.number: default to 2023\n",
    "#return a list, each entry is a random sample's 5 metrics caluclated using calc_center_Z_hat_metrics\n",
    "calc_center_Z_hat_metrics_CI = function(Z.ref, Z.hat, group.mat, qtl, sample.itr, sample.size, seed.number = 2023){\n",
    "    set.seed(seed.number)\n",
    "    \n",
    "    feature.ids = dimnames(Z.ref)[[2]]\n",
    "    if (sample.itr*sample.size > length(feature.ids)){\n",
    "        message(\"sample with replacement\")\n",
    "        feature.ids = sample(feature.ids, sample.itr * sample.size, replace = T)\n",
    "    }else{\n",
    "        message(\"sample without replacement\")\n",
    "        feature.ids = sample(feature.ids, sample.itr * sample.size, replace = F)\n",
    "    }\n",
    "\n",
    "    features.list = list()\n",
    "    metrics.list = list()\n",
    "    for (t in 1:sample.itr){\n",
    "        features.list[[t]] = feature.ids[((t-1)*sample.size + 1):(t*sample.size)]\n",
    "        metrics.list[[t]]  = calc_center_Z_hat_metrics(Z.ref[,features.list[[t]],], \n",
    "                                                       Z.hat[,features.list[[t]],], \n",
    "                                                       group.mat[features.list[[t]], ], qtl)\n",
    "    }\n",
    "    res = list(features.list = features.list, \n",
    "               metrics.list  = metrics.list)\n",
    "    \n",
    "    return(res)\n",
    "}"
   ]
  },
  {
   "cell_type": "markdown",
   "metadata": {},
   "source": [
    "# Eval"
   ]
  },
  {
   "cell_type": "code",
   "execution_count": 10,
   "metadata": {
    "scrolled": true
   },
   "outputs": [
    {
     "name": "stdout",
     "output_type": "stream",
     "text": [
      "List of 5\n",
      " $ X     : num [1:10000, 1:6] 0.9149 0.0436 0.8372 0.8827 0.1134 ...\n",
      "  ..- attr(*, \"dimnames\")=List of 2\n",
      "  .. ..$ : chr [1:10000] \"cg12426467\" \"cg02113055\" \"cg00079898\" \"cg04131969\" ...\n",
      "  .. ..$ : chr [1:6] \"sample.1\" \"sample.2\" \"sample.3\" \"sample.4\" ...\n",
      " $ cov   : chr [1:6, 1] \"Male\" \"Male\" \"Male\" \"Male\" ...\n",
      "  ..- attr(*, \"dimnames\")=List of 2\n",
      "  .. ..$ : chr [1:6] \"GSM861635\" \"GSM861636\" \"GSM861637\" \"GSM861638\" ...\n",
      "  .. ..$ : chr \"gender\"\n",
      " $ W     : num [1:6, 1:6] 0.532 0.59 0.665 0.617 0.775 ...\n",
      "  ..- attr(*, \"dimnames\")=List of 2\n",
      "  .. ..$ : chr [1:6] \"sample.1\" \"sample.2\" \"sample.3\" \"sample.4\" ...\n",
      "  .. ..$ : chr [1:6] \"Gran\" \"CD8T\" \"CD4T\" \"Mono\" ...\n",
      " $ Z     : num [1:6, 1:10000, 1:6] 0.912 0.922 0.919 0.923 0.919 ...\n",
      "  ..- attr(*, \"dimnames\")=List of 3\n",
      "  .. ..$ : chr [1:6] \"Gran\" \"CD8T\" \"CD4T\" \"Mono\" ...\n",
      "  .. ..$ : chr [1:10000] \"cg12426467\" \"cg02113055\" \"cg00079898\" \"cg04131969\" ...\n",
      "  .. ..$ : chr [1:6] \"sample.1\" \"sample.2\" \"sample.3\" \"sample.4\" ...\n",
      " $ params:List of 4\n",
      "  ..$ sigmas   : num [1:10000, 1:6, 1:6] 0.184 0.175 0.149 0.143 0.129 ...\n",
      "  .. ..- attr(*, \"dimnames\")=List of 3\n",
      "  .. .. ..$ : chr [1:10000] \"cg12426467\" \"cg02113055\" \"cg00079898\" \"cg04131969\" ...\n",
      "  .. .. ..$ : chr [1:6] \"Gran\" \"CD8T\" \"CD4T\" \"Mono\" ...\n",
      "  .. .. ..$ : chr [1:6] \"Gran\" \"CD8T\" \"CD4T\" \"Mono\" ...\n",
      "  ..$ corrs    : num [1:10000, 1:6, 1:6] 1 1 1 1 1 1 1 1 1 1 ...\n",
      "  .. ..- attr(*, \"dimnames\")=List of 3\n",
      "  .. .. ..$ : chr [1:10000] \"cg12426467\" \"cg02113055\" \"cg00079898\" \"cg04131969\" ...\n",
      "  .. .. ..$ : chr [1:6] \"Gran\" \"CD8T\" \"CD4T\" \"Mono\" ...\n",
      "  .. .. ..$ : chr [1:6] \"Gran\" \"CD8T\" \"CD4T\" \"Mono\" ...\n",
      "  ..$ mus      : num [1:10000, 1:6] 0.641 0.542 0.649 0.464 0.48 ...\n",
      "  .. ..- attr(*, \"dimnames\")=List of 2\n",
      "  .. .. ..$ : chr [1:10000] \"cg12426467\" \"cg02113055\" \"cg00079898\" \"cg04131969\" ...\n",
      "  .. .. ..$ : chr [1:6] \"Gran\" \"CD8T\" \"CD4T\" \"Mono\" ...\n",
      "  ..$ entropies: num [1:10000, 1] 0.0483 0.0132 0.0595 0.0044 0.028 ...\n",
      "  .. ..- attr(*, \"dimnames\")=List of 2\n",
      "  .. .. ..$ : chr [1:10000] \"cg12426467\" \"cg02113055\" \"cg00079898\" \"cg04131969\" ...\n",
      "  .. .. ..$ : chr \"entropy\"\n"
     ]
    }
   ],
   "source": [
    "str(reinius)"
   ]
  },
  {
   "cell_type": "code",
   "execution_count": null,
   "metadata": {},
   "outputs": [],
   "source": []
  },
  {
   "cell_type": "code",
   "execution_count": 11,
   "metadata": {},
   "outputs": [],
   "source": [
    "feature.ids = dimnames(reinius$Z)[[2]]\n",
    "source.ids  = dimnames(reinius$Z)[[1]]\n",
    "\n",
    "group.mat = matrix(FALSE, length(feature.ids), 3)\n",
    "rownames(group.mat) = feature.ids\n",
    "colnames(group.mat) = c(\"low entropy\", \"high entropy\", \"all\")\n",
    "group.mat[,\"low entropy\"]  = reinius$params$entropies <= quantile(reinius$params$entropies, 0.5)\n",
    "group.mat[,\"high entropy\"] = reinius$params$entropies >  quantile(reinius$params$entropies, 0.5)\n",
    "group.mat[,\"all\"] = TRUE"
   ]
  },
  {
   "cell_type": "code",
   "execution_count": 12,
   "metadata": {
    "scrolled": true
   },
   "outputs": [
    {
     "data": {
      "text/html": [
       "<table class=\"dataframe\">\n",
       "<caption>A matrix: 10000 × 3 of type lgl</caption>\n",
       "<thead>\n",
       "\t<tr><th></th><th scope=col>low entropy</th><th scope=col>high entropy</th><th scope=col>all</th></tr>\n",
       "</thead>\n",
       "<tbody>\n",
       "\t<tr><th scope=row>cg12426467</th><td> TRUE</td><td>FALSE</td><td>TRUE</td></tr>\n",
       "\t<tr><th scope=row>cg02113055</th><td> TRUE</td><td>FALSE</td><td>TRUE</td></tr>\n",
       "\t<tr><th scope=row>cg00079898</th><td> TRUE</td><td>FALSE</td><td>TRUE</td></tr>\n",
       "\t<tr><th scope=row>cg04131969</th><td> TRUE</td><td>FALSE</td><td>TRUE</td></tr>\n",
       "\t<tr><th scope=row>cg06193597</th><td> TRUE</td><td>FALSE</td><td>TRUE</td></tr>\n",
       "\t<tr><th scope=row>cg00944631</th><td> TRUE</td><td>FALSE</td><td>TRUE</td></tr>\n",
       "\t<tr><th scope=row>cg08052546</th><td>FALSE</td><td> TRUE</td><td>TRUE</td></tr>\n",
       "\t<tr><th scope=row>cg02872767</th><td> TRUE</td><td>FALSE</td><td>TRUE</td></tr>\n",
       "\t<tr><th scope=row>cg06064954</th><td> TRUE</td><td>FALSE</td><td>TRUE</td></tr>\n",
       "\t<tr><th scope=row>cg04245305</th><td> TRUE</td><td>FALSE</td><td>TRUE</td></tr>\n",
       "\t<tr><th scope=row>cg12036633</th><td> TRUE</td><td>FALSE</td><td>TRUE</td></tr>\n",
       "\t<tr><th scope=row>cg11141652</th><td> TRUE</td><td>FALSE</td><td>TRUE</td></tr>\n",
       "\t<tr><th scope=row>cg14159672</th><td> TRUE</td><td>FALSE</td><td>TRUE</td></tr>\n",
       "\t<tr><th scope=row>cg04798314</th><td> TRUE</td><td>FALSE</td><td>TRUE</td></tr>\n",
       "\t<tr><th scope=row>cg12088417</th><td> TRUE</td><td>FALSE</td><td>TRUE</td></tr>\n",
       "\t<tr><th scope=row>cg17294865</th><td> TRUE</td><td>FALSE</td><td>TRUE</td></tr>\n",
       "\t<tr><th scope=row>cg01778345</th><td> TRUE</td><td>FALSE</td><td>TRUE</td></tr>\n",
       "\t<tr><th scope=row>cg04683516</th><td> TRUE</td><td>FALSE</td><td>TRUE</td></tr>\n",
       "\t<tr><th scope=row>cg11965913</th><td> TRUE</td><td>FALSE</td><td>TRUE</td></tr>\n",
       "\t<tr><th scope=row>cg08779649</th><td> TRUE</td><td>FALSE</td><td>TRUE</td></tr>\n",
       "\t<tr><th scope=row>cg07249765</th><td> TRUE</td><td>FALSE</td><td>TRUE</td></tr>\n",
       "\t<tr><th scope=row>cg10596483</th><td> TRUE</td><td>FALSE</td><td>TRUE</td></tr>\n",
       "\t<tr><th scope=row>cg09080788</th><td> TRUE</td><td>FALSE</td><td>TRUE</td></tr>\n",
       "\t<tr><th scope=row>cg02952635</th><td> TRUE</td><td>FALSE</td><td>TRUE</td></tr>\n",
       "\t<tr><th scope=row>cg17920646</th><td> TRUE</td><td>FALSE</td><td>TRUE</td></tr>\n",
       "\t<tr><th scope=row>cg03748376</th><td> TRUE</td><td>FALSE</td><td>TRUE</td></tr>\n",
       "\t<tr><th scope=row>cg15652532</th><td> TRUE</td><td>FALSE</td><td>TRUE</td></tr>\n",
       "\t<tr><th scope=row>cg03635532</th><td> TRUE</td><td>FALSE</td><td>TRUE</td></tr>\n",
       "\t<tr><th scope=row>cg10632894</th><td> TRUE</td><td>FALSE</td><td>TRUE</td></tr>\n",
       "\t<tr><th scope=row>cg18110333</th><td> TRUE</td><td>FALSE</td><td>TRUE</td></tr>\n",
       "\t<tr><th scope=row>⋮</th><td>⋮</td><td>⋮</td><td>⋮</td></tr>\n",
       "\t<tr><th scope=row>cg08740223</th><td>FALSE</td><td> TRUE</td><td>TRUE</td></tr>\n",
       "\t<tr><th scope=row>cg13729816</th><td> TRUE</td><td>FALSE</td><td>TRUE</td></tr>\n",
       "\t<tr><th scope=row>cg10132208</th><td> TRUE</td><td>FALSE</td><td>TRUE</td></tr>\n",
       "\t<tr><th scope=row>cg00962740</th><td>FALSE</td><td> TRUE</td><td>TRUE</td></tr>\n",
       "\t<tr><th scope=row>cg01229787</th><td> TRUE</td><td>FALSE</td><td>TRUE</td></tr>\n",
       "\t<tr><th scope=row>cg00601042</th><td> TRUE</td><td>FALSE</td><td>TRUE</td></tr>\n",
       "\t<tr><th scope=row>cg07631533</th><td> TRUE</td><td>FALSE</td><td>TRUE</td></tr>\n",
       "\t<tr><th scope=row>cg02220129</th><td> TRUE</td><td>FALSE</td><td>TRUE</td></tr>\n",
       "\t<tr><th scope=row>cg16288089</th><td> TRUE</td><td>FALSE</td><td>TRUE</td></tr>\n",
       "\t<tr><th scope=row>cg01019262</th><td>FALSE</td><td> TRUE</td><td>TRUE</td></tr>\n",
       "\t<tr><th scope=row>cg09558000</th><td>FALSE</td><td> TRUE</td><td>TRUE</td></tr>\n",
       "\t<tr><th scope=row>cg02363960</th><td> TRUE</td><td>FALSE</td><td>TRUE</td></tr>\n",
       "\t<tr><th scope=row>cg10807101</th><td> TRUE</td><td>FALSE</td><td>TRUE</td></tr>\n",
       "\t<tr><th scope=row>cg08243465</th><td>FALSE</td><td> TRUE</td><td>TRUE</td></tr>\n",
       "\t<tr><th scope=row>cg13938349</th><td> TRUE</td><td>FALSE</td><td>TRUE</td></tr>\n",
       "\t<tr><th scope=row>cg07361154</th><td>FALSE</td><td> TRUE</td><td>TRUE</td></tr>\n",
       "\t<tr><th scope=row>cg04091563</th><td> TRUE</td><td>FALSE</td><td>TRUE</td></tr>\n",
       "\t<tr><th scope=row>cg03149958</th><td>FALSE</td><td> TRUE</td><td>TRUE</td></tr>\n",
       "\t<tr><th scope=row>cg05246100</th><td>FALSE</td><td> TRUE</td><td>TRUE</td></tr>\n",
       "\t<tr><th scope=row>cg13625816</th><td>FALSE</td><td> TRUE</td><td>TRUE</td></tr>\n",
       "\t<tr><th scope=row>cg02806645</th><td> TRUE</td><td>FALSE</td><td>TRUE</td></tr>\n",
       "\t<tr><th scope=row>cg09323434</th><td>FALSE</td><td> TRUE</td><td>TRUE</td></tr>\n",
       "\t<tr><th scope=row>cg12134633</th><td>FALSE</td><td> TRUE</td><td>TRUE</td></tr>\n",
       "\t<tr><th scope=row>cg01823925</th><td>FALSE</td><td> TRUE</td><td>TRUE</td></tr>\n",
       "\t<tr><th scope=row>cg10219850</th><td> TRUE</td><td>FALSE</td><td>TRUE</td></tr>\n",
       "\t<tr><th scope=row>cg17766305</th><td>FALSE</td><td> TRUE</td><td>TRUE</td></tr>\n",
       "\t<tr><th scope=row>cg17369196</th><td>FALSE</td><td> TRUE</td><td>TRUE</td></tr>\n",
       "\t<tr><th scope=row>cg15761364</th><td>FALSE</td><td> TRUE</td><td>TRUE</td></tr>\n",
       "\t<tr><th scope=row>cg10383428</th><td>FALSE</td><td> TRUE</td><td>TRUE</td></tr>\n",
       "\t<tr><th scope=row>cg08240778</th><td> TRUE</td><td>FALSE</td><td>TRUE</td></tr>\n",
       "</tbody>\n",
       "</table>\n"
      ],
      "text/latex": [
       "A matrix: 10000 × 3 of type lgl\n",
       "\\begin{tabular}{r|lll}\n",
       "  & low entropy & high entropy & all\\\\\n",
       "\\hline\n",
       "\tcg12426467 &  TRUE & FALSE & TRUE\\\\\n",
       "\tcg02113055 &  TRUE & FALSE & TRUE\\\\\n",
       "\tcg00079898 &  TRUE & FALSE & TRUE\\\\\n",
       "\tcg04131969 &  TRUE & FALSE & TRUE\\\\\n",
       "\tcg06193597 &  TRUE & FALSE & TRUE\\\\\n",
       "\tcg00944631 &  TRUE & FALSE & TRUE\\\\\n",
       "\tcg08052546 & FALSE &  TRUE & TRUE\\\\\n",
       "\tcg02872767 &  TRUE & FALSE & TRUE\\\\\n",
       "\tcg06064954 &  TRUE & FALSE & TRUE\\\\\n",
       "\tcg04245305 &  TRUE & FALSE & TRUE\\\\\n",
       "\tcg12036633 &  TRUE & FALSE & TRUE\\\\\n",
       "\tcg11141652 &  TRUE & FALSE & TRUE\\\\\n",
       "\tcg14159672 &  TRUE & FALSE & TRUE\\\\\n",
       "\tcg04798314 &  TRUE & FALSE & TRUE\\\\\n",
       "\tcg12088417 &  TRUE & FALSE & TRUE\\\\\n",
       "\tcg17294865 &  TRUE & FALSE & TRUE\\\\\n",
       "\tcg01778345 &  TRUE & FALSE & TRUE\\\\\n",
       "\tcg04683516 &  TRUE & FALSE & TRUE\\\\\n",
       "\tcg11965913 &  TRUE & FALSE & TRUE\\\\\n",
       "\tcg08779649 &  TRUE & FALSE & TRUE\\\\\n",
       "\tcg07249765 &  TRUE & FALSE & TRUE\\\\\n",
       "\tcg10596483 &  TRUE & FALSE & TRUE\\\\\n",
       "\tcg09080788 &  TRUE & FALSE & TRUE\\\\\n",
       "\tcg02952635 &  TRUE & FALSE & TRUE\\\\\n",
       "\tcg17920646 &  TRUE & FALSE & TRUE\\\\\n",
       "\tcg03748376 &  TRUE & FALSE & TRUE\\\\\n",
       "\tcg15652532 &  TRUE & FALSE & TRUE\\\\\n",
       "\tcg03635532 &  TRUE & FALSE & TRUE\\\\\n",
       "\tcg10632894 &  TRUE & FALSE & TRUE\\\\\n",
       "\tcg18110333 &  TRUE & FALSE & TRUE\\\\\n",
       "\t⋮ & ⋮ & ⋮ & ⋮\\\\\n",
       "\tcg08740223 & FALSE &  TRUE & TRUE\\\\\n",
       "\tcg13729816 &  TRUE & FALSE & TRUE\\\\\n",
       "\tcg10132208 &  TRUE & FALSE & TRUE\\\\\n",
       "\tcg00962740 & FALSE &  TRUE & TRUE\\\\\n",
       "\tcg01229787 &  TRUE & FALSE & TRUE\\\\\n",
       "\tcg00601042 &  TRUE & FALSE & TRUE\\\\\n",
       "\tcg07631533 &  TRUE & FALSE & TRUE\\\\\n",
       "\tcg02220129 &  TRUE & FALSE & TRUE\\\\\n",
       "\tcg16288089 &  TRUE & FALSE & TRUE\\\\\n",
       "\tcg01019262 & FALSE &  TRUE & TRUE\\\\\n",
       "\tcg09558000 & FALSE &  TRUE & TRUE\\\\\n",
       "\tcg02363960 &  TRUE & FALSE & TRUE\\\\\n",
       "\tcg10807101 &  TRUE & FALSE & TRUE\\\\\n",
       "\tcg08243465 & FALSE &  TRUE & TRUE\\\\\n",
       "\tcg13938349 &  TRUE & FALSE & TRUE\\\\\n",
       "\tcg07361154 & FALSE &  TRUE & TRUE\\\\\n",
       "\tcg04091563 &  TRUE & FALSE & TRUE\\\\\n",
       "\tcg03149958 & FALSE &  TRUE & TRUE\\\\\n",
       "\tcg05246100 & FALSE &  TRUE & TRUE\\\\\n",
       "\tcg13625816 & FALSE &  TRUE & TRUE\\\\\n",
       "\tcg02806645 &  TRUE & FALSE & TRUE\\\\\n",
       "\tcg09323434 & FALSE &  TRUE & TRUE\\\\\n",
       "\tcg12134633 & FALSE &  TRUE & TRUE\\\\\n",
       "\tcg01823925 & FALSE &  TRUE & TRUE\\\\\n",
       "\tcg10219850 &  TRUE & FALSE & TRUE\\\\\n",
       "\tcg17766305 & FALSE &  TRUE & TRUE\\\\\n",
       "\tcg17369196 & FALSE &  TRUE & TRUE\\\\\n",
       "\tcg15761364 & FALSE &  TRUE & TRUE\\\\\n",
       "\tcg10383428 & FALSE &  TRUE & TRUE\\\\\n",
       "\tcg08240778 &  TRUE & FALSE & TRUE\\\\\n",
       "\\end{tabular}\n"
      ],
      "text/markdown": [
       "\n",
       "A matrix: 10000 × 3 of type lgl\n",
       "\n",
       "| <!--/--> | low entropy | high entropy | all |\n",
       "|---|---|---|---|\n",
       "| cg12426467 |  TRUE | FALSE | TRUE |\n",
       "| cg02113055 |  TRUE | FALSE | TRUE |\n",
       "| cg00079898 |  TRUE | FALSE | TRUE |\n",
       "| cg04131969 |  TRUE | FALSE | TRUE |\n",
       "| cg06193597 |  TRUE | FALSE | TRUE |\n",
       "| cg00944631 |  TRUE | FALSE | TRUE |\n",
       "| cg08052546 | FALSE |  TRUE | TRUE |\n",
       "| cg02872767 |  TRUE | FALSE | TRUE |\n",
       "| cg06064954 |  TRUE | FALSE | TRUE |\n",
       "| cg04245305 |  TRUE | FALSE | TRUE |\n",
       "| cg12036633 |  TRUE | FALSE | TRUE |\n",
       "| cg11141652 |  TRUE | FALSE | TRUE |\n",
       "| cg14159672 |  TRUE | FALSE | TRUE |\n",
       "| cg04798314 |  TRUE | FALSE | TRUE |\n",
       "| cg12088417 |  TRUE | FALSE | TRUE |\n",
       "| cg17294865 |  TRUE | FALSE | TRUE |\n",
       "| cg01778345 |  TRUE | FALSE | TRUE |\n",
       "| cg04683516 |  TRUE | FALSE | TRUE |\n",
       "| cg11965913 |  TRUE | FALSE | TRUE |\n",
       "| cg08779649 |  TRUE | FALSE | TRUE |\n",
       "| cg07249765 |  TRUE | FALSE | TRUE |\n",
       "| cg10596483 |  TRUE | FALSE | TRUE |\n",
       "| cg09080788 |  TRUE | FALSE | TRUE |\n",
       "| cg02952635 |  TRUE | FALSE | TRUE |\n",
       "| cg17920646 |  TRUE | FALSE | TRUE |\n",
       "| cg03748376 |  TRUE | FALSE | TRUE |\n",
       "| cg15652532 |  TRUE | FALSE | TRUE |\n",
       "| cg03635532 |  TRUE | FALSE | TRUE |\n",
       "| cg10632894 |  TRUE | FALSE | TRUE |\n",
       "| cg18110333 |  TRUE | FALSE | TRUE |\n",
       "| ⋮ | ⋮ | ⋮ | ⋮ |\n",
       "| cg08740223 | FALSE |  TRUE | TRUE |\n",
       "| cg13729816 |  TRUE | FALSE | TRUE |\n",
       "| cg10132208 |  TRUE | FALSE | TRUE |\n",
       "| cg00962740 | FALSE |  TRUE | TRUE |\n",
       "| cg01229787 |  TRUE | FALSE | TRUE |\n",
       "| cg00601042 |  TRUE | FALSE | TRUE |\n",
       "| cg07631533 |  TRUE | FALSE | TRUE |\n",
       "| cg02220129 |  TRUE | FALSE | TRUE |\n",
       "| cg16288089 |  TRUE | FALSE | TRUE |\n",
       "| cg01019262 | FALSE |  TRUE | TRUE |\n",
       "| cg09558000 | FALSE |  TRUE | TRUE |\n",
       "| cg02363960 |  TRUE | FALSE | TRUE |\n",
       "| cg10807101 |  TRUE | FALSE | TRUE |\n",
       "| cg08243465 | FALSE |  TRUE | TRUE |\n",
       "| cg13938349 |  TRUE | FALSE | TRUE |\n",
       "| cg07361154 | FALSE |  TRUE | TRUE |\n",
       "| cg04091563 |  TRUE | FALSE | TRUE |\n",
       "| cg03149958 | FALSE |  TRUE | TRUE |\n",
       "| cg05246100 | FALSE |  TRUE | TRUE |\n",
       "| cg13625816 | FALSE |  TRUE | TRUE |\n",
       "| cg02806645 |  TRUE | FALSE | TRUE |\n",
       "| cg09323434 | FALSE |  TRUE | TRUE |\n",
       "| cg12134633 | FALSE |  TRUE | TRUE |\n",
       "| cg01823925 | FALSE |  TRUE | TRUE |\n",
       "| cg10219850 |  TRUE | FALSE | TRUE |\n",
       "| cg17766305 | FALSE |  TRUE | TRUE |\n",
       "| cg17369196 | FALSE |  TRUE | TRUE |\n",
       "| cg15761364 | FALSE |  TRUE | TRUE |\n",
       "| cg10383428 | FALSE |  TRUE | TRUE |\n",
       "| cg08240778 |  TRUE | FALSE | TRUE |\n",
       "\n"
      ],
      "text/plain": [
       "           low entropy high entropy all \n",
       "cg12426467  TRUE       FALSE        TRUE\n",
       "cg02113055  TRUE       FALSE        TRUE\n",
       "cg00079898  TRUE       FALSE        TRUE\n",
       "cg04131969  TRUE       FALSE        TRUE\n",
       "cg06193597  TRUE       FALSE        TRUE\n",
       "cg00944631  TRUE       FALSE        TRUE\n",
       "cg08052546 FALSE        TRUE        TRUE\n",
       "cg02872767  TRUE       FALSE        TRUE\n",
       "cg06064954  TRUE       FALSE        TRUE\n",
       "cg04245305  TRUE       FALSE        TRUE\n",
       "cg12036633  TRUE       FALSE        TRUE\n",
       "cg11141652  TRUE       FALSE        TRUE\n",
       "cg14159672  TRUE       FALSE        TRUE\n",
       "cg04798314  TRUE       FALSE        TRUE\n",
       "cg12088417  TRUE       FALSE        TRUE\n",
       "cg17294865  TRUE       FALSE        TRUE\n",
       "cg01778345  TRUE       FALSE        TRUE\n",
       "cg04683516  TRUE       FALSE        TRUE\n",
       "cg11965913  TRUE       FALSE        TRUE\n",
       "cg08779649  TRUE       FALSE        TRUE\n",
       "cg07249765  TRUE       FALSE        TRUE\n",
       "cg10596483  TRUE       FALSE        TRUE\n",
       "cg09080788  TRUE       FALSE        TRUE\n",
       "cg02952635  TRUE       FALSE        TRUE\n",
       "cg17920646  TRUE       FALSE        TRUE\n",
       "cg03748376  TRUE       FALSE        TRUE\n",
       "cg15652532  TRUE       FALSE        TRUE\n",
       "cg03635532  TRUE       FALSE        TRUE\n",
       "cg10632894  TRUE       FALSE        TRUE\n",
       "cg18110333  TRUE       FALSE        TRUE\n",
       "⋮          ⋮           ⋮            ⋮   \n",
       "cg08740223 FALSE        TRUE        TRUE\n",
       "cg13729816  TRUE       FALSE        TRUE\n",
       "cg10132208  TRUE       FALSE        TRUE\n",
       "cg00962740 FALSE        TRUE        TRUE\n",
       "cg01229787  TRUE       FALSE        TRUE\n",
       "cg00601042  TRUE       FALSE        TRUE\n",
       "cg07631533  TRUE       FALSE        TRUE\n",
       "cg02220129  TRUE       FALSE        TRUE\n",
       "cg16288089  TRUE       FALSE        TRUE\n",
       "cg01019262 FALSE        TRUE        TRUE\n",
       "cg09558000 FALSE        TRUE        TRUE\n",
       "cg02363960  TRUE       FALSE        TRUE\n",
       "cg10807101  TRUE       FALSE        TRUE\n",
       "cg08243465 FALSE        TRUE        TRUE\n",
       "cg13938349  TRUE       FALSE        TRUE\n",
       "cg07361154 FALSE        TRUE        TRUE\n",
       "cg04091563  TRUE       FALSE        TRUE\n",
       "cg03149958 FALSE        TRUE        TRUE\n",
       "cg05246100 FALSE        TRUE        TRUE\n",
       "cg13625816 FALSE        TRUE        TRUE\n",
       "cg02806645  TRUE       FALSE        TRUE\n",
       "cg09323434 FALSE        TRUE        TRUE\n",
       "cg12134633 FALSE        TRUE        TRUE\n",
       "cg01823925 FALSE        TRUE        TRUE\n",
       "cg10219850  TRUE       FALSE        TRUE\n",
       "cg17766305 FALSE        TRUE        TRUE\n",
       "cg17369196 FALSE        TRUE        TRUE\n",
       "cg15761364 FALSE        TRUE        TRUE\n",
       "cg10383428 FALSE        TRUE        TRUE\n",
       "cg08240778  TRUE       FALSE        TRUE"
      ]
     },
     "metadata": {},
     "output_type": "display_data"
    }
   ],
   "source": [
    "group.mat"
   ]
  },
  {
   "cell_type": "code",
   "execution_count": 13,
   "metadata": {},
   "outputs": [
    {
     "data": {
      "text/html": [
       "<style>\n",
       ".dl-inline {width: auto; margin:0; padding: 0}\n",
       ".dl-inline>dt, .dl-inline>dd {float: none; width: auto; display: inline-block}\n",
       ".dl-inline>dt::after {content: \":\\0020\"; padding-right: .5ex}\n",
       ".dl-inline>dt:not(:first-of-type) {padding-left: .5ex}\n",
       "</style><dl class=dl-inline><dt>low entropy</dt><dd>5000</dd><dt>high entropy</dt><dd>5000</dd><dt>all</dt><dd>10000</dd></dl>\n"
      ],
      "text/latex": [
       "\\begin{description*}\n",
       "\\item[low entropy] 5000\n",
       "\\item[high entropy] 5000\n",
       "\\item[all] 10000\n",
       "\\end{description*}\n"
      ],
      "text/markdown": [
       "low entropy\n",
       ":   5000high entropy\n",
       ":   5000all\n",
       ":   10000\n",
       "\n"
      ],
      "text/plain": [
       " low entropy high entropy          all \n",
       "        5000         5000        10000 "
      ]
     },
     "metadata": {},
     "output_type": "display_data"
    }
   ],
   "source": [
    "colSums(group.mat)"
   ]
  },
  {
   "cell_type": "code",
   "execution_count": 14,
   "metadata": {
    "scrolled": true
   },
   "outputs": [
    {
     "data": {
      "text/html": [
       "<table class=\"dataframe\">\n",
       "<caption>A data.frame: 60000 × 2</caption>\n",
       "<thead>\n",
       "\t<tr><th scope=col>ref</th><th scope=col>hat</th></tr>\n",
       "\t<tr><th scope=col>&lt;dbl&gt;</th><th scope=col>&lt;dbl&gt;</th></tr>\n",
       "</thead>\n",
       "<tbody>\n",
       "\t<tr><td> 0.271177938</td><td> 0.026226772</td></tr>\n",
       "\t<tr><td>-0.508662647</td><td>-0.314427153</td></tr>\n",
       "\t<tr><td> 0.227830783</td><td>-0.013904993</td></tr>\n",
       "\t<tr><td> 0.414142792</td><td> 0.193850603</td></tr>\n",
       "\t<tr><td>-0.307367267</td><td>-0.243692806</td></tr>\n",
       "\t<tr><td> 0.255153543</td><td> 0.085797822</td></tr>\n",
       "\t<tr><td> 0.191962010</td><td> 0.193972850</td></tr>\n",
       "\t<tr><td>-0.356465917</td><td>-0.361270155</td></tr>\n",
       "\t<tr><td> 0.207939917</td><td>-0.051927227</td></tr>\n",
       "\t<tr><td> 0.136694933</td><td>-0.025745972</td></tr>\n",
       "\t<tr><td>-0.236168567</td><td>-0.195193610</td></tr>\n",
       "\t<tr><td> 0.371183358</td><td> 0.094334743</td></tr>\n",
       "\t<tr><td>-0.242076728</td><td>-0.167428169</td></tr>\n",
       "\t<tr><td> 0.300027300</td><td> 0.119284915</td></tr>\n",
       "\t<tr><td> 0.211231400</td><td>-0.021113149</td></tr>\n",
       "\t<tr><td> 0.145137218</td><td> 0.002583577</td></tr>\n",
       "\t<tr><td> 0.336993277</td><td> 0.078812170</td></tr>\n",
       "\t<tr><td>-0.005794145</td><td>-0.064420397</td></tr>\n",
       "\t<tr><td>-0.248494495</td><td>-0.142537209</td></tr>\n",
       "\t<tr><td> 0.205399300</td><td> 0.010145665</td></tr>\n",
       "\t<tr><td>-0.153904550</td><td>-0.150976288</td></tr>\n",
       "\t<tr><td> 0.619542940</td><td> 0.274916242</td></tr>\n",
       "\t<tr><td> 0.146003273</td><td> 0.001581002</td></tr>\n",
       "\t<tr><td> 0.146334767</td><td>-0.046202539</td></tr>\n",
       "\t<tr><td>-0.591773583</td><td>-0.429375251</td></tr>\n",
       "\t<tr><td> 0.457674082</td><td> 0.196799010</td></tr>\n",
       "\t<tr><td>-0.209755773</td><td>-0.150324558</td></tr>\n",
       "\t<tr><td>-0.353480433</td><td>-0.284877368</td></tr>\n",
       "\t<tr><td> 0.356243717</td><td> 0.123592552</td></tr>\n",
       "\t<tr><td> 0.177422417</td><td> 0.031124159</td></tr>\n",
       "\t<tr><td>⋮</td><td>⋮</td></tr>\n",
       "\t<tr><td> 0.011929983</td><td> 0.021850377</td></tr>\n",
       "\t<tr><td>-0.085017717</td><td>-0.034925394</td></tr>\n",
       "\t<tr><td> 0.017394880</td><td> 0.006465770</td></tr>\n",
       "\t<tr><td> 0.025095483</td><td>-0.005382043</td></tr>\n",
       "\t<tr><td> 0.008760567</td><td> 0.005982261</td></tr>\n",
       "\t<tr><td> 0.096992333</td><td> 0.067899311</td></tr>\n",
       "\t<tr><td> 0.027236833</td><td> 0.017769168</td></tr>\n",
       "\t<tr><td>-0.105242667</td><td>-0.065808017</td></tr>\n",
       "\t<tr><td>-0.009711912</td><td>-0.007202931</td></tr>\n",
       "\t<tr><td> 0.014112500</td><td> 0.003326776</td></tr>\n",
       "\t<tr><td>-0.017289717</td><td> 0.024144565</td></tr>\n",
       "\t<tr><td> 0.023717633</td><td> 0.053712410</td></tr>\n",
       "\t<tr><td>-0.152117767</td><td>-0.083881134</td></tr>\n",
       "\t<tr><td> 0.002088317</td><td> 0.004416288</td></tr>\n",
       "\t<tr><td> 0.028194617</td><td> 0.060738121</td></tr>\n",
       "\t<tr><td> 0.012046817</td><td> 0.009402448</td></tr>\n",
       "\t<tr><td>-0.005594190</td><td>-0.010008922</td></tr>\n",
       "\t<tr><td> 0.027036700</td><td> 0.016112837</td></tr>\n",
       "\t<tr><td> 0.039322250</td><td> 0.020022751</td></tr>\n",
       "\t<tr><td> 0.024093050</td><td> 0.006498300</td></tr>\n",
       "\t<tr><td>-0.006842467</td><td> 0.023335831</td></tr>\n",
       "\t<tr><td>-0.027709033</td><td>-0.012755733</td></tr>\n",
       "\t<tr><td> 0.060653400</td><td> 0.034199626</td></tr>\n",
       "\t<tr><td> 0.015087150</td><td>-0.014647842</td></tr>\n",
       "\t<tr><td> 0.002962233</td><td>-0.011199371</td></tr>\n",
       "\t<tr><td>-0.001043222</td><td> 0.002053485</td></tr>\n",
       "\t<tr><td>-0.008650600</td><td> 0.008292546</td></tr>\n",
       "\t<tr><td>-0.025224500</td><td> 0.008831373</td></tr>\n",
       "\t<tr><td>-0.072419100</td><td>-0.018651424</td></tr>\n",
       "\t<tr><td> 0.009230450</td><td> 0.066804755</td></tr>\n",
       "</tbody>\n",
       "</table>\n"
      ],
      "text/latex": [
       "A data.frame: 60000 × 2\n",
       "\\begin{tabular}{ll}\n",
       " ref & hat\\\\\n",
       " <dbl> & <dbl>\\\\\n",
       "\\hline\n",
       "\t  0.271177938 &  0.026226772\\\\\n",
       "\t -0.508662647 & -0.314427153\\\\\n",
       "\t  0.227830783 & -0.013904993\\\\\n",
       "\t  0.414142792 &  0.193850603\\\\\n",
       "\t -0.307367267 & -0.243692806\\\\\n",
       "\t  0.255153543 &  0.085797822\\\\\n",
       "\t  0.191962010 &  0.193972850\\\\\n",
       "\t -0.356465917 & -0.361270155\\\\\n",
       "\t  0.207939917 & -0.051927227\\\\\n",
       "\t  0.136694933 & -0.025745972\\\\\n",
       "\t -0.236168567 & -0.195193610\\\\\n",
       "\t  0.371183358 &  0.094334743\\\\\n",
       "\t -0.242076728 & -0.167428169\\\\\n",
       "\t  0.300027300 &  0.119284915\\\\\n",
       "\t  0.211231400 & -0.021113149\\\\\n",
       "\t  0.145137218 &  0.002583577\\\\\n",
       "\t  0.336993277 &  0.078812170\\\\\n",
       "\t -0.005794145 & -0.064420397\\\\\n",
       "\t -0.248494495 & -0.142537209\\\\\n",
       "\t  0.205399300 &  0.010145665\\\\\n",
       "\t -0.153904550 & -0.150976288\\\\\n",
       "\t  0.619542940 &  0.274916242\\\\\n",
       "\t  0.146003273 &  0.001581002\\\\\n",
       "\t  0.146334767 & -0.046202539\\\\\n",
       "\t -0.591773583 & -0.429375251\\\\\n",
       "\t  0.457674082 &  0.196799010\\\\\n",
       "\t -0.209755773 & -0.150324558\\\\\n",
       "\t -0.353480433 & -0.284877368\\\\\n",
       "\t  0.356243717 &  0.123592552\\\\\n",
       "\t  0.177422417 &  0.031124159\\\\\n",
       "\t ⋮ & ⋮\\\\\n",
       "\t  0.011929983 &  0.021850377\\\\\n",
       "\t -0.085017717 & -0.034925394\\\\\n",
       "\t  0.017394880 &  0.006465770\\\\\n",
       "\t  0.025095483 & -0.005382043\\\\\n",
       "\t  0.008760567 &  0.005982261\\\\\n",
       "\t  0.096992333 &  0.067899311\\\\\n",
       "\t  0.027236833 &  0.017769168\\\\\n",
       "\t -0.105242667 & -0.065808017\\\\\n",
       "\t -0.009711912 & -0.007202931\\\\\n",
       "\t  0.014112500 &  0.003326776\\\\\n",
       "\t -0.017289717 &  0.024144565\\\\\n",
       "\t  0.023717633 &  0.053712410\\\\\n",
       "\t -0.152117767 & -0.083881134\\\\\n",
       "\t  0.002088317 &  0.004416288\\\\\n",
       "\t  0.028194617 &  0.060738121\\\\\n",
       "\t  0.012046817 &  0.009402448\\\\\n",
       "\t -0.005594190 & -0.010008922\\\\\n",
       "\t  0.027036700 &  0.016112837\\\\\n",
       "\t  0.039322250 &  0.020022751\\\\\n",
       "\t  0.024093050 &  0.006498300\\\\\n",
       "\t -0.006842467 &  0.023335831\\\\\n",
       "\t -0.027709033 & -0.012755733\\\\\n",
       "\t  0.060653400 &  0.034199626\\\\\n",
       "\t  0.015087150 & -0.014647842\\\\\n",
       "\t  0.002962233 & -0.011199371\\\\\n",
       "\t -0.001043222 &  0.002053485\\\\\n",
       "\t -0.008650600 &  0.008292546\\\\\n",
       "\t -0.025224500 &  0.008831373\\\\\n",
       "\t -0.072419100 & -0.018651424\\\\\n",
       "\t  0.009230450 &  0.066804755\\\\\n",
       "\\end{tabular}\n"
      ],
      "text/markdown": [
       "\n",
       "A data.frame: 60000 × 2\n",
       "\n",
       "| ref &lt;dbl&gt; | hat &lt;dbl&gt; |\n",
       "|---|---|\n",
       "|  0.271177938 |  0.026226772 |\n",
       "| -0.508662647 | -0.314427153 |\n",
       "|  0.227830783 | -0.013904993 |\n",
       "|  0.414142792 |  0.193850603 |\n",
       "| -0.307367267 | -0.243692806 |\n",
       "|  0.255153543 |  0.085797822 |\n",
       "|  0.191962010 |  0.193972850 |\n",
       "| -0.356465917 | -0.361270155 |\n",
       "|  0.207939917 | -0.051927227 |\n",
       "|  0.136694933 | -0.025745972 |\n",
       "| -0.236168567 | -0.195193610 |\n",
       "|  0.371183358 |  0.094334743 |\n",
       "| -0.242076728 | -0.167428169 |\n",
       "|  0.300027300 |  0.119284915 |\n",
       "|  0.211231400 | -0.021113149 |\n",
       "|  0.145137218 |  0.002583577 |\n",
       "|  0.336993277 |  0.078812170 |\n",
       "| -0.005794145 | -0.064420397 |\n",
       "| -0.248494495 | -0.142537209 |\n",
       "|  0.205399300 |  0.010145665 |\n",
       "| -0.153904550 | -0.150976288 |\n",
       "|  0.619542940 |  0.274916242 |\n",
       "|  0.146003273 |  0.001581002 |\n",
       "|  0.146334767 | -0.046202539 |\n",
       "| -0.591773583 | -0.429375251 |\n",
       "|  0.457674082 |  0.196799010 |\n",
       "| -0.209755773 | -0.150324558 |\n",
       "| -0.353480433 | -0.284877368 |\n",
       "|  0.356243717 |  0.123592552 |\n",
       "|  0.177422417 |  0.031124159 |\n",
       "| ⋮ | ⋮ |\n",
       "|  0.011929983 |  0.021850377 |\n",
       "| -0.085017717 | -0.034925394 |\n",
       "|  0.017394880 |  0.006465770 |\n",
       "|  0.025095483 | -0.005382043 |\n",
       "|  0.008760567 |  0.005982261 |\n",
       "|  0.096992333 |  0.067899311 |\n",
       "|  0.027236833 |  0.017769168 |\n",
       "| -0.105242667 | -0.065808017 |\n",
       "| -0.009711912 | -0.007202931 |\n",
       "|  0.014112500 |  0.003326776 |\n",
       "| -0.017289717 |  0.024144565 |\n",
       "|  0.023717633 |  0.053712410 |\n",
       "| -0.152117767 | -0.083881134 |\n",
       "|  0.002088317 |  0.004416288 |\n",
       "|  0.028194617 |  0.060738121 |\n",
       "|  0.012046817 |  0.009402448 |\n",
       "| -0.005594190 | -0.010008922 |\n",
       "|  0.027036700 |  0.016112837 |\n",
       "|  0.039322250 |  0.020022751 |\n",
       "|  0.024093050 |  0.006498300 |\n",
       "| -0.006842467 |  0.023335831 |\n",
       "| -0.027709033 | -0.012755733 |\n",
       "|  0.060653400 |  0.034199626 |\n",
       "|  0.015087150 | -0.014647842 |\n",
       "|  0.002962233 | -0.011199371 |\n",
       "| -0.001043222 |  0.002053485 |\n",
       "| -0.008650600 |  0.008292546 |\n",
       "| -0.025224500 |  0.008831373 |\n",
       "| -0.072419100 | -0.018651424 |\n",
       "|  0.009230450 |  0.066804755 |\n",
       "\n"
      ],
      "text/plain": [
       "      ref          hat         \n",
       "1      0.271177938  0.026226772\n",
       "2     -0.508662647 -0.314427153\n",
       "3      0.227830783 -0.013904993\n",
       "4      0.414142792  0.193850603\n",
       "5     -0.307367267 -0.243692806\n",
       "6      0.255153543  0.085797822\n",
       "7      0.191962010  0.193972850\n",
       "8     -0.356465917 -0.361270155\n",
       "9      0.207939917 -0.051927227\n",
       "10     0.136694933 -0.025745972\n",
       "11    -0.236168567 -0.195193610\n",
       "12     0.371183358  0.094334743\n",
       "13    -0.242076728 -0.167428169\n",
       "14     0.300027300  0.119284915\n",
       "15     0.211231400 -0.021113149\n",
       "16     0.145137218  0.002583577\n",
       "17     0.336993277  0.078812170\n",
       "18    -0.005794145 -0.064420397\n",
       "19    -0.248494495 -0.142537209\n",
       "20     0.205399300  0.010145665\n",
       "21    -0.153904550 -0.150976288\n",
       "22     0.619542940  0.274916242\n",
       "23     0.146003273  0.001581002\n",
       "24     0.146334767 -0.046202539\n",
       "25    -0.591773583 -0.429375251\n",
       "26     0.457674082  0.196799010\n",
       "27    -0.209755773 -0.150324558\n",
       "28    -0.353480433 -0.284877368\n",
       "29     0.356243717  0.123592552\n",
       "30     0.177422417  0.031124159\n",
       "⋮     ⋮            ⋮           \n",
       "59971  0.011929983  0.021850377\n",
       "59972 -0.085017717 -0.034925394\n",
       "59973  0.017394880  0.006465770\n",
       "59974  0.025095483 -0.005382043\n",
       "59975  0.008760567  0.005982261\n",
       "59976  0.096992333  0.067899311\n",
       "59977  0.027236833  0.017769168\n",
       "59978 -0.105242667 -0.065808017\n",
       "59979 -0.009711912 -0.007202931\n",
       "59980  0.014112500  0.003326776\n",
       "59981 -0.017289717  0.024144565\n",
       "59982  0.023717633  0.053712410\n",
       "59983 -0.152117767 -0.083881134\n",
       "59984  0.002088317  0.004416288\n",
       "59985  0.028194617  0.060738121\n",
       "59986  0.012046817  0.009402448\n",
       "59987 -0.005594190 -0.010008922\n",
       "59988  0.027036700  0.016112837\n",
       "59989  0.039322250  0.020022751\n",
       "59990  0.024093050  0.006498300\n",
       "59991 -0.006842467  0.023335831\n",
       "59992 -0.027709033 -0.012755733\n",
       "59993  0.060653400  0.034199626\n",
       "59994  0.015087150 -0.014647842\n",
       "59995  0.002962233 -0.011199371\n",
       "59996 -0.001043222  0.002053485\n",
       "59997 -0.008650600  0.008292546\n",
       "59998 -0.025224500  0.008831373\n",
       "59999 -0.072419100 -0.018651424\n",
       "60000  0.009230450  0.066804755"
      ]
     },
     "metadata": {},
     "output_type": "display_data"
    }
   ],
   "source": [
    "calc_centered_Z_h(Z.ref = reinius$Z, Z.hat = base.mdl$Z.hat, h = 1, mask  = group.mat[,3])"
   ]
  },
  {
   "cell_type": "code",
   "execution_count": 15,
   "metadata": {},
   "outputs": [
    {
     "name": "stderr",
     "output_type": "stream",
     "text": [
      "sample with replacement\n",
      "\n",
      "sample with replacement\n",
      "\n",
      "sample with replacement\n",
      "\n",
      "sample with replacement\n",
      "\n",
      "sample with replacement\n",
      "\n"
     ]
    }
   ],
   "source": [
    "base.mdl$evals = calc_center_Z_hat_metrics_CI(Z.ref = reinius$Z, \n",
    "                                              Z.hat = base.mdl$Z.hat, \n",
    "                                              group.mat = group.mat, qtl = qtl,\n",
    "                                              sample.itr = 20, sample.size = 1000)\n",
    "\n",
    "cibersortx.mdl$evals = calc_center_Z_hat_metrics_CI(Z.ref = reinius$Z, \n",
    "                                                    Z.hat = cibersortx.mdl$Z.hat, \n",
    "                                                    group.mat = group.mat, qtl = qtl,\n",
    "                                                    sample.itr = 20, sample.size = 1000)\n",
    "\n",
    "tca.mdl$evals = calc_center_Z_hat_metrics_CI(Z.ref = reinius$Z, \n",
    "                                              Z.hat = tca.mdl$Z.hat, \n",
    "                                              group.mat = group.mat, qtl = qtl,\n",
    "                                              sample.itr = 20, sample.size = 1000)\n",
    "\n",
    "tcax.mdl$evals = calc_center_Z_hat_metrics_CI(Z.ref = reinius$Z, \n",
    "                                              Z.hat = tcax.mdl$Z.hat, \n",
    "                                              group.mat = group.mat, qtl = qtl,\n",
    "                                              sample.itr = 20, sample.size = 1000)\n",
    "\n",
    "\n",
    "\n",
    "\n",
    "\n",
    "\n",
    "bMIND.mdl$evals = calc_center_Z_hat_metrics_CI(Z.ref = reinius$Z, \n",
    "                                              Z.hat = bMIND.mdl$Z.hat, \n",
    "                                              group.mat = group.mat, qtl = qtl,\n",
    "                                              sample.itr = 20, sample.size = 1000)\n"
   ]
  },
  {
   "cell_type": "markdown",
   "metadata": {},
   "source": [
    "### Rob Cor"
   ]
  },
  {
   "cell_type": "code",
   "execution_count": 16,
   "metadata": {},
   "outputs": [
    {
     "data": {
      "text/html": [
       "<table class=\"dataframe\">\n",
       "<caption>A matrix: 6 × 3 of type dbl</caption>\n",
       "<thead>\n",
       "\t<tr><th></th><th scope=col>low entropy</th><th scope=col>high entropy</th><th scope=col>all</th></tr>\n",
       "</thead>\n",
       "<tbody>\n",
       "\t<tr><th scope=row>Gran</th><td>0.76019858</td><td> 0.23500075</td><td> 0.5160940</td></tr>\n",
       "\t<tr><th scope=row>CD8T</th><td>0.20717848</td><td>-0.41158796</td><td>-0.1428788</td></tr>\n",
       "\t<tr><th scope=row>CD4T</th><td>0.41196755</td><td>-0.10475640</td><td> 0.1614813</td></tr>\n",
       "\t<tr><th scope=row>Mono</th><td>0.44557690</td><td> 0.03593704</td><td> 0.2481545</td></tr>\n",
       "\t<tr><th scope=row>NK</th><td>0.08059443</td><td>-0.75065020</td><td>-0.4152279</td></tr>\n",
       "\t<tr><th scope=row>B</th><td>0.32684804</td><td> 0.62888552</td><td> 0.5008448</td></tr>\n",
       "</tbody>\n",
       "</table>\n"
      ],
      "text/latex": [
       "A matrix: 6 × 3 of type dbl\n",
       "\\begin{tabular}{r|lll}\n",
       "  & low entropy & high entropy & all\\\\\n",
       "\\hline\n",
       "\tGran & 0.76019858 &  0.23500075 &  0.5160940\\\\\n",
       "\tCD8T & 0.20717848 & -0.41158796 & -0.1428788\\\\\n",
       "\tCD4T & 0.41196755 & -0.10475640 &  0.1614813\\\\\n",
       "\tMono & 0.44557690 &  0.03593704 &  0.2481545\\\\\n",
       "\tNK & 0.08059443 & -0.75065020 & -0.4152279\\\\\n",
       "\tB & 0.32684804 &  0.62888552 &  0.5008448\\\\\n",
       "\\end{tabular}\n"
      ],
      "text/markdown": [
       "\n",
       "A matrix: 6 × 3 of type dbl\n",
       "\n",
       "| <!--/--> | low entropy | high entropy | all |\n",
       "|---|---|---|---|\n",
       "| Gran | 0.76019858 |  0.23500075 |  0.5160940 |\n",
       "| CD8T | 0.20717848 | -0.41158796 | -0.1428788 |\n",
       "| CD4T | 0.41196755 | -0.10475640 |  0.1614813 |\n",
       "| Mono | 0.44557690 |  0.03593704 |  0.2481545 |\n",
       "| NK | 0.08059443 | -0.75065020 | -0.4152279 |\n",
       "| B | 0.32684804 |  0.62888552 |  0.5008448 |\n",
       "\n"
      ],
      "text/plain": [
       "     low entropy high entropy all       \n",
       "Gran 0.76019858   0.23500075   0.5160940\n",
       "CD8T 0.20717848  -0.41158796  -0.1428788\n",
       "CD4T 0.41196755  -0.10475640   0.1614813\n",
       "Mono 0.44557690   0.03593704   0.2481545\n",
       "NK   0.08059443  -0.75065020  -0.4152279\n",
       "B    0.32684804   0.62888552   0.5008448"
      ]
     },
     "metadata": {},
     "output_type": "display_data"
    }
   ],
   "source": [
    "base.mdl$evals$metrics.list[[1]]$center.Z.corrs"
   ]
  },
  {
   "cell_type": "code",
   "execution_count": 17,
   "metadata": {},
   "outputs": [
    {
     "data": {
      "text/html": [
       "<table class=\"dataframe\">\n",
       "<caption>A matrix: 6 × 3 of type dbl</caption>\n",
       "<thead>\n",
       "\t<tr><th></th><th scope=col>low entropy</th><th scope=col>high entropy</th><th scope=col>all</th></tr>\n",
       "</thead>\n",
       "<tbody>\n",
       "\t<tr><th scope=row>Gran</th><td>0.9038642</td><td>0.0000000</td><td>0.8359301</td></tr>\n",
       "\t<tr><th scope=row>CD8T</th><td>0.0000000</td><td>0.2803589</td><td>0.0000000</td></tr>\n",
       "\t<tr><th scope=row>CD4T</th><td>0.0000000</td><td>0.0000000</td><td>0.0000000</td></tr>\n",
       "\t<tr><th scope=row>Mono</th><td>0.0000000</td><td>0.0000000</td><td>0.0000000</td></tr>\n",
       "\t<tr><th scope=row>NK</th><td>0.0000000</td><td>0.2305064</td><td>0.0000000</td></tr>\n",
       "\t<tr><th scope=row>B</th><td>0.0000000</td><td>0.0000000</td><td>0.0000000</td></tr>\n",
       "</tbody>\n",
       "</table>\n"
      ],
      "text/latex": [
       "A matrix: 6 × 3 of type dbl\n",
       "\\begin{tabular}{r|lll}\n",
       "  & low entropy & high entropy & all\\\\\n",
       "\\hline\n",
       "\tGran & 0.9038642 & 0.0000000 & 0.8359301\\\\\n",
       "\tCD8T & 0.0000000 & 0.2803589 & 0.0000000\\\\\n",
       "\tCD4T & 0.0000000 & 0.0000000 & 0.0000000\\\\\n",
       "\tMono & 0.0000000 & 0.0000000 & 0.0000000\\\\\n",
       "\tNK & 0.0000000 & 0.2305064 & 0.0000000\\\\\n",
       "\tB & 0.0000000 & 0.0000000 & 0.0000000\\\\\n",
       "\\end{tabular}\n"
      ],
      "text/markdown": [
       "\n",
       "A matrix: 6 × 3 of type dbl\n",
       "\n",
       "| <!--/--> | low entropy | high entropy | all |\n",
       "|---|---|---|---|\n",
       "| Gran | 0.9038642 | 0.0000000 | 0.8359301 |\n",
       "| CD8T | 0.0000000 | 0.2803589 | 0.0000000 |\n",
       "| CD4T | 0.0000000 | 0.0000000 | 0.0000000 |\n",
       "| Mono | 0.0000000 | 0.0000000 | 0.0000000 |\n",
       "| NK | 0.0000000 | 0.2305064 | 0.0000000 |\n",
       "| B | 0.0000000 | 0.0000000 | 0.0000000 |\n",
       "\n"
      ],
      "text/plain": [
       "     low entropy high entropy all      \n",
       "Gran 0.9038642   0.0000000    0.8359301\n",
       "CD8T 0.0000000   0.2803589    0.0000000\n",
       "CD4T 0.0000000   0.0000000    0.0000000\n",
       "Mono 0.0000000   0.0000000    0.0000000\n",
       "NK   0.0000000   0.2305064    0.0000000\n",
       "B    0.0000000   0.0000000    0.0000000"
      ]
     },
     "metadata": {},
     "output_type": "display_data"
    }
   ],
   "source": [
    "cibersortx.mdl$evals$metrics.list[[1]]$center.Z.corrs"
   ]
  },
  {
   "cell_type": "code",
   "execution_count": 18,
   "metadata": {},
   "outputs": [
    {
     "data": {
      "text/html": [
       "<table class=\"dataframe\">\n",
       "<caption>A matrix: 6 × 3 of type dbl</caption>\n",
       "<thead>\n",
       "\t<tr><th></th><th scope=col>low entropy</th><th scope=col>high entropy</th><th scope=col>all</th></tr>\n",
       "</thead>\n",
       "<tbody>\n",
       "\t<tr><th scope=row>Gran</th><td>0.8789910</td><td>0.4228022</td><td>0.8236695</td></tr>\n",
       "\t<tr><th scope=row>CD8T</th><td>0.3843924</td><td>0.1583904</td><td>0.2643615</td></tr>\n",
       "\t<tr><th scope=row>CD4T</th><td>0.6544522</td><td>0.1759740</td><td>0.5222660</td></tr>\n",
       "\t<tr><th scope=row>Mono</th><td>0.7288146</td><td>0.3199096</td><td>0.6579430</td></tr>\n",
       "\t<tr><th scope=row>NK</th><td>0.3487941</td><td>0.1986003</td><td>0.2702522</td></tr>\n",
       "\t<tr><th scope=row>B</th><td>0.4550442</td><td>0.1438142</td><td>0.2884919</td></tr>\n",
       "</tbody>\n",
       "</table>\n"
      ],
      "text/latex": [
       "A matrix: 6 × 3 of type dbl\n",
       "\\begin{tabular}{r|lll}\n",
       "  & low entropy & high entropy & all\\\\\n",
       "\\hline\n",
       "\tGran & 0.8789910 & 0.4228022 & 0.8236695\\\\\n",
       "\tCD8T & 0.3843924 & 0.1583904 & 0.2643615\\\\\n",
       "\tCD4T & 0.6544522 & 0.1759740 & 0.5222660\\\\\n",
       "\tMono & 0.7288146 & 0.3199096 & 0.6579430\\\\\n",
       "\tNK & 0.3487941 & 0.1986003 & 0.2702522\\\\\n",
       "\tB & 0.4550442 & 0.1438142 & 0.2884919\\\\\n",
       "\\end{tabular}\n"
      ],
      "text/markdown": [
       "\n",
       "A matrix: 6 × 3 of type dbl\n",
       "\n",
       "| <!--/--> | low entropy | high entropy | all |\n",
       "|---|---|---|---|\n",
       "| Gran | 0.8789910 | 0.4228022 | 0.8236695 |\n",
       "| CD8T | 0.3843924 | 0.1583904 | 0.2643615 |\n",
       "| CD4T | 0.6544522 | 0.1759740 | 0.5222660 |\n",
       "| Mono | 0.7288146 | 0.3199096 | 0.6579430 |\n",
       "| NK | 0.3487941 | 0.1986003 | 0.2702522 |\n",
       "| B | 0.4550442 | 0.1438142 | 0.2884919 |\n",
       "\n"
      ],
      "text/plain": [
       "     low entropy high entropy all      \n",
       "Gran 0.8789910   0.4228022    0.8236695\n",
       "CD8T 0.3843924   0.1583904    0.2643615\n",
       "CD4T 0.6544522   0.1759740    0.5222660\n",
       "Mono 0.7288146   0.3199096    0.6579430\n",
       "NK   0.3487941   0.1986003    0.2702522\n",
       "B    0.4550442   0.1438142    0.2884919"
      ]
     },
     "metadata": {},
     "output_type": "display_data"
    }
   ],
   "source": [
    "tca.mdl$evals$metrics.list[[1]]$center.Z.corrs"
   ]
  },
  {
   "cell_type": "code",
   "execution_count": 19,
   "metadata": {},
   "outputs": [
    {
     "data": {
      "text/html": [
       "<table class=\"dataframe\">\n",
       "<caption>A matrix: 6 × 3 of type dbl</caption>\n",
       "<thead>\n",
       "\t<tr><th></th><th scope=col>low entropy</th><th scope=col>high entropy</th><th scope=col>all</th></tr>\n",
       "</thead>\n",
       "<tbody>\n",
       "\t<tr><th scope=row>Gran</th><td>0.9374126</td><td>0.4192938</td><td>0.8618670</td></tr>\n",
       "\t<tr><th scope=row>CD8T</th><td>0.7130990</td><td>0.3554526</td><td>0.5139875</td></tr>\n",
       "\t<tr><th scope=row>CD4T</th><td>0.8285181</td><td>0.3135150</td><td>0.6777300</td></tr>\n",
       "\t<tr><th scope=row>Mono</th><td>0.8468365</td><td>0.3520747</td><td>0.7533118</td></tr>\n",
       "\t<tr><th scope=row>NK</th><td>0.7296215</td><td>0.3411895</td><td>0.5111247</td></tr>\n",
       "\t<tr><th scope=row>B</th><td>0.6286313</td><td>0.1533932</td><td>0.4117834</td></tr>\n",
       "</tbody>\n",
       "</table>\n"
      ],
      "text/latex": [
       "A matrix: 6 × 3 of type dbl\n",
       "\\begin{tabular}{r|lll}\n",
       "  & low entropy & high entropy & all\\\\\n",
       "\\hline\n",
       "\tGran & 0.9374126 & 0.4192938 & 0.8618670\\\\\n",
       "\tCD8T & 0.7130990 & 0.3554526 & 0.5139875\\\\\n",
       "\tCD4T & 0.8285181 & 0.3135150 & 0.6777300\\\\\n",
       "\tMono & 0.8468365 & 0.3520747 & 0.7533118\\\\\n",
       "\tNK & 0.7296215 & 0.3411895 & 0.5111247\\\\\n",
       "\tB & 0.6286313 & 0.1533932 & 0.4117834\\\\\n",
       "\\end{tabular}\n"
      ],
      "text/markdown": [
       "\n",
       "A matrix: 6 × 3 of type dbl\n",
       "\n",
       "| <!--/--> | low entropy | high entropy | all |\n",
       "|---|---|---|---|\n",
       "| Gran | 0.9374126 | 0.4192938 | 0.8618670 |\n",
       "| CD8T | 0.7130990 | 0.3554526 | 0.5139875 |\n",
       "| CD4T | 0.8285181 | 0.3135150 | 0.6777300 |\n",
       "| Mono | 0.8468365 | 0.3520747 | 0.7533118 |\n",
       "| NK | 0.7296215 | 0.3411895 | 0.5111247 |\n",
       "| B | 0.6286313 | 0.1533932 | 0.4117834 |\n",
       "\n"
      ],
      "text/plain": [
       "     low entropy high entropy all      \n",
       "Gran 0.9374126   0.4192938    0.8618670\n",
       "CD8T 0.7130990   0.3554526    0.5139875\n",
       "CD4T 0.8285181   0.3135150    0.6777300\n",
       "Mono 0.8468365   0.3520747    0.7533118\n",
       "NK   0.7296215   0.3411895    0.5111247\n",
       "B    0.6286313   0.1533932    0.4117834"
      ]
     },
     "metadata": {},
     "output_type": "display_data"
    }
   ],
   "source": [
    "tcax.mdl$evals$metrics.list[[1]]$center.Z.corrs"
   ]
  },
  {
   "cell_type": "code",
   "execution_count": 20,
   "metadata": {},
   "outputs": [
    {
     "data": {
      "text/html": [
       "<table class=\"dataframe\">\n",
       "<caption>A matrix: 6 × 3 of type dbl</caption>\n",
       "<thead>\n",
       "\t<tr><th></th><th scope=col>low entropy</th><th scope=col>high entropy</th><th scope=col>all</th></tr>\n",
       "</thead>\n",
       "<tbody>\n",
       "\t<tr><th scope=row>Gran</th><td>0.9379698</td><td>0.42983863</td><td>0.8636908</td></tr>\n",
       "\t<tr><th scope=row>CD8T</th><td>0.6835047</td><td>0.25142148</td><td>0.4541241</td></tr>\n",
       "\t<tr><th scope=row>CD4T</th><td>0.8085409</td><td>0.21996693</td><td>0.6185613</td></tr>\n",
       "\t<tr><th scope=row>Mono</th><td>0.8013404</td><td>0.32017760</td><td>0.6845437</td></tr>\n",
       "\t<tr><th scope=row>NK</th><td>0.5800532</td><td>0.33416108</td><td>0.4533417</td></tr>\n",
       "\t<tr><th scope=row>B</th><td>0.6788500</td><td>0.06778337</td><td>0.3905664</td></tr>\n",
       "</tbody>\n",
       "</table>\n"
      ],
      "text/latex": [
       "A matrix: 6 × 3 of type dbl\n",
       "\\begin{tabular}{r|lll}\n",
       "  & low entropy & high entropy & all\\\\\n",
       "\\hline\n",
       "\tGran & 0.9379698 & 0.42983863 & 0.8636908\\\\\n",
       "\tCD8T & 0.6835047 & 0.25142148 & 0.4541241\\\\\n",
       "\tCD4T & 0.8085409 & 0.21996693 & 0.6185613\\\\\n",
       "\tMono & 0.8013404 & 0.32017760 & 0.6845437\\\\\n",
       "\tNK & 0.5800532 & 0.33416108 & 0.4533417\\\\\n",
       "\tB & 0.6788500 & 0.06778337 & 0.3905664\\\\\n",
       "\\end{tabular}\n"
      ],
      "text/markdown": [
       "\n",
       "A matrix: 6 × 3 of type dbl\n",
       "\n",
       "| <!--/--> | low entropy | high entropy | all |\n",
       "|---|---|---|---|\n",
       "| Gran | 0.9379698 | 0.42983863 | 0.8636908 |\n",
       "| CD8T | 0.6835047 | 0.25142148 | 0.4541241 |\n",
       "| CD4T | 0.8085409 | 0.21996693 | 0.6185613 |\n",
       "| Mono | 0.8013404 | 0.32017760 | 0.6845437 |\n",
       "| NK | 0.5800532 | 0.33416108 | 0.4533417 |\n",
       "| B | 0.6788500 | 0.06778337 | 0.3905664 |\n",
       "\n"
      ],
      "text/plain": [
       "     low entropy high entropy all      \n",
       "Gran 0.9379698   0.42983863   0.8636908\n",
       "CD8T 0.6835047   0.25142148   0.4541241\n",
       "CD4T 0.8085409   0.21996693   0.6185613\n",
       "Mono 0.8013404   0.32017760   0.6845437\n",
       "NK   0.5800532   0.33416108   0.4533417\n",
       "B    0.6788500   0.06778337   0.3905664"
      ]
     },
     "metadata": {},
     "output_type": "display_data"
    }
   ],
   "source": [
    "bMIND.mdl$evals$metrics.list[[1]]$center.Z.corrs"
   ]
  },
  {
   "cell_type": "markdown",
   "metadata": {},
   "source": [
    "### Root Median Square Error"
   ]
  },
  {
   "cell_type": "code",
   "execution_count": 21,
   "metadata": {},
   "outputs": [
    {
     "data": {
      "text/html": [
       "<table class=\"dataframe\">\n",
       "<caption>A matrix: 6 × 3 of type dbl</caption>\n",
       "<thead>\n",
       "\t<tr><th></th><th scope=col>low entropy</th><th scope=col>high entropy</th><th scope=col>all</th></tr>\n",
       "</thead>\n",
       "<tbody>\n",
       "\t<tr><th scope=row>Gran</th><td>0.03441556</td><td>0.03355952</td><td>0.03415231</td></tr>\n",
       "\t<tr><th scope=row>CD8T</th><td>0.05430856</td><td>0.06051313</td><td>0.05707592</td></tr>\n",
       "\t<tr><th scope=row>CD4T</th><td>0.04746417</td><td>0.03592654</td><td>0.04151300</td></tr>\n",
       "\t<tr><th scope=row>Mono</th><td>0.05158839</td><td>0.02007020</td><td>0.03032501</td></tr>\n",
       "\t<tr><th scope=row>NK</th><td>0.06128353</td><td>0.09002060</td><td>0.07408015</td></tr>\n",
       "\t<tr><th scope=row>B</th><td>0.06124018</td><td>0.05733437</td><td>0.05927788</td></tr>\n",
       "</tbody>\n",
       "</table>\n"
      ],
      "text/latex": [
       "A matrix: 6 × 3 of type dbl\n",
       "\\begin{tabular}{r|lll}\n",
       "  & low entropy & high entropy & all\\\\\n",
       "\\hline\n",
       "\tGran & 0.03441556 & 0.03355952 & 0.03415231\\\\\n",
       "\tCD8T & 0.05430856 & 0.06051313 & 0.05707592\\\\\n",
       "\tCD4T & 0.04746417 & 0.03592654 & 0.04151300\\\\\n",
       "\tMono & 0.05158839 & 0.02007020 & 0.03032501\\\\\n",
       "\tNK & 0.06128353 & 0.09002060 & 0.07408015\\\\\n",
       "\tB & 0.06124018 & 0.05733437 & 0.05927788\\\\\n",
       "\\end{tabular}\n"
      ],
      "text/markdown": [
       "\n",
       "A matrix: 6 × 3 of type dbl\n",
       "\n",
       "| <!--/--> | low entropy | high entropy | all |\n",
       "|---|---|---|---|\n",
       "| Gran | 0.03441556 | 0.03355952 | 0.03415231 |\n",
       "| CD8T | 0.05430856 | 0.06051313 | 0.05707592 |\n",
       "| CD4T | 0.04746417 | 0.03592654 | 0.04151300 |\n",
       "| Mono | 0.05158839 | 0.02007020 | 0.03032501 |\n",
       "| NK | 0.06128353 | 0.09002060 | 0.07408015 |\n",
       "| B | 0.06124018 | 0.05733437 | 0.05927788 |\n",
       "\n"
      ],
      "text/plain": [
       "     low entropy high entropy all       \n",
       "Gran 0.03441556  0.03355952   0.03415231\n",
       "CD8T 0.05430856  0.06051313   0.05707592\n",
       "CD4T 0.04746417  0.03592654   0.04151300\n",
       "Mono 0.05158839  0.02007020   0.03032501\n",
       "NK   0.06128353  0.09002060   0.07408015\n",
       "B    0.06124018  0.05733437   0.05927788"
      ]
     },
     "metadata": {},
     "output_type": "display_data"
    }
   ],
   "source": [
    "base.mdl$evals$metrics.list[[1]]$center.Z.RMedS"
   ]
  },
  {
   "cell_type": "code",
   "execution_count": 22,
   "metadata": {},
   "outputs": [
    {
     "data": {
      "text/html": [
       "<table class=\"dataframe\">\n",
       "<caption>A matrix: 6 × 3 of type dbl</caption>\n",
       "<thead>\n",
       "\t<tr><th></th><th scope=col>low entropy</th><th scope=col>high entropy</th><th scope=col>all</th></tr>\n",
       "</thead>\n",
       "<tbody>\n",
       "\t<tr><th scope=row>Gran</th><td>0.02526324</td><td>0.01746002</td><td>0.02082772</td></tr>\n",
       "\t<tr><th scope=row>CD8T</th><td>0.05637272</td><td>0.05277937</td><td>0.05493801</td></tr>\n",
       "\t<tr><th scope=row>CD4T</th><td>0.04910140</td><td>0.03278678</td><td>0.03976024</td></tr>\n",
       "\t<tr><th scope=row>Mono</th><td>0.05404574</td><td>0.01718198</td><td>0.02943462</td></tr>\n",
       "\t<tr><th scope=row>NK</th><td>0.06393517</td><td>0.07554857</td><td>0.06969093</td></tr>\n",
       "\t<tr><th scope=row>B</th><td>0.06216924</td><td>0.06592536</td><td>0.06371962</td></tr>\n",
       "</tbody>\n",
       "</table>\n"
      ],
      "text/latex": [
       "A matrix: 6 × 3 of type dbl\n",
       "\\begin{tabular}{r|lll}\n",
       "  & low entropy & high entropy & all\\\\\n",
       "\\hline\n",
       "\tGran & 0.02526324 & 0.01746002 & 0.02082772\\\\\n",
       "\tCD8T & 0.05637272 & 0.05277937 & 0.05493801\\\\\n",
       "\tCD4T & 0.04910140 & 0.03278678 & 0.03976024\\\\\n",
       "\tMono & 0.05404574 & 0.01718198 & 0.02943462\\\\\n",
       "\tNK & 0.06393517 & 0.07554857 & 0.06969093\\\\\n",
       "\tB & 0.06216924 & 0.06592536 & 0.06371962\\\\\n",
       "\\end{tabular}\n"
      ],
      "text/markdown": [
       "\n",
       "A matrix: 6 × 3 of type dbl\n",
       "\n",
       "| <!--/--> | low entropy | high entropy | all |\n",
       "|---|---|---|---|\n",
       "| Gran | 0.02526324 | 0.01746002 | 0.02082772 |\n",
       "| CD8T | 0.05637272 | 0.05277937 | 0.05493801 |\n",
       "| CD4T | 0.04910140 | 0.03278678 | 0.03976024 |\n",
       "| Mono | 0.05404574 | 0.01718198 | 0.02943462 |\n",
       "| NK | 0.06393517 | 0.07554857 | 0.06969093 |\n",
       "| B | 0.06216924 | 0.06592536 | 0.06371962 |\n",
       "\n"
      ],
      "text/plain": [
       "     low entropy high entropy all       \n",
       "Gran 0.02526324  0.01746002   0.02082772\n",
       "CD8T 0.05637272  0.05277937   0.05493801\n",
       "CD4T 0.04910140  0.03278678   0.03976024\n",
       "Mono 0.05404574  0.01718198   0.02943462\n",
       "NK   0.06393517  0.07554857   0.06969093\n",
       "B    0.06216924  0.06592536   0.06371962"
      ]
     },
     "metadata": {},
     "output_type": "display_data"
    }
   ],
   "source": [
    "cibersortx.mdl$evals$metrics.list[[1]]$center.Z.RMedS"
   ]
  },
  {
   "cell_type": "code",
   "execution_count": 23,
   "metadata": {},
   "outputs": [
    {
     "data": {
      "text/html": [
       "<table class=\"dataframe\">\n",
       "<caption>A matrix: 6 × 3 of type dbl</caption>\n",
       "<thead>\n",
       "\t<tr><th></th><th scope=col>low entropy</th><th scope=col>high entropy</th><th scope=col>all</th></tr>\n",
       "</thead>\n",
       "<tbody>\n",
       "\t<tr><th scope=row>Gran</th><td>0.02593704</td><td>0.01691101</td><td>0.02110621</td></tr>\n",
       "\t<tr><th scope=row>CD8T</th><td>0.05047761</td><td>0.05540494</td><td>0.05271730</td></tr>\n",
       "\t<tr><th scope=row>CD4T</th><td>0.03625992</td><td>0.03352123</td><td>0.03486043</td></tr>\n",
       "\t<tr><th scope=row>Mono</th><td>0.04875578</td><td>0.02057682</td><td>0.03059692</td></tr>\n",
       "\t<tr><th scope=row>NK</th><td>0.05897169</td><td>0.07698768</td><td>0.06694547</td></tr>\n",
       "\t<tr><th scope=row>B</th><td>0.05446998</td><td>0.06578970</td><td>0.05962963</td></tr>\n",
       "</tbody>\n",
       "</table>\n"
      ],
      "text/latex": [
       "A matrix: 6 × 3 of type dbl\n",
       "\\begin{tabular}{r|lll}\n",
       "  & low entropy & high entropy & all\\\\\n",
       "\\hline\n",
       "\tGran & 0.02593704 & 0.01691101 & 0.02110621\\\\\n",
       "\tCD8T & 0.05047761 & 0.05540494 & 0.05271730\\\\\n",
       "\tCD4T & 0.03625992 & 0.03352123 & 0.03486043\\\\\n",
       "\tMono & 0.04875578 & 0.02057682 & 0.03059692\\\\\n",
       "\tNK & 0.05897169 & 0.07698768 & 0.06694547\\\\\n",
       "\tB & 0.05446998 & 0.06578970 & 0.05962963\\\\\n",
       "\\end{tabular}\n"
      ],
      "text/markdown": [
       "\n",
       "A matrix: 6 × 3 of type dbl\n",
       "\n",
       "| <!--/--> | low entropy | high entropy | all |\n",
       "|---|---|---|---|\n",
       "| Gran | 0.02593704 | 0.01691101 | 0.02110621 |\n",
       "| CD8T | 0.05047761 | 0.05540494 | 0.05271730 |\n",
       "| CD4T | 0.03625992 | 0.03352123 | 0.03486043 |\n",
       "| Mono | 0.04875578 | 0.02057682 | 0.03059692 |\n",
       "| NK | 0.05897169 | 0.07698768 | 0.06694547 |\n",
       "| B | 0.05446998 | 0.06578970 | 0.05962963 |\n",
       "\n"
      ],
      "text/plain": [
       "     low entropy high entropy all       \n",
       "Gran 0.02593704  0.01691101   0.02110621\n",
       "CD8T 0.05047761  0.05540494   0.05271730\n",
       "CD4T 0.03625992  0.03352123   0.03486043\n",
       "Mono 0.04875578  0.02057682   0.03059692\n",
       "NK   0.05897169  0.07698768   0.06694547\n",
       "B    0.05446998  0.06578970   0.05962963"
      ]
     },
     "metadata": {},
     "output_type": "display_data"
    }
   ],
   "source": [
    "tca.mdl$evals$metrics.list[[1]]$center.Z.RMedS"
   ]
  },
  {
   "cell_type": "code",
   "execution_count": 24,
   "metadata": {},
   "outputs": [
    {
     "data": {
      "text/html": [
       "<table class=\"dataframe\">\n",
       "<caption>A matrix: 6 × 3 of type dbl</caption>\n",
       "<thead>\n",
       "\t<tr><th></th><th scope=col>low entropy</th><th scope=col>high entropy</th><th scope=col>all</th></tr>\n",
       "</thead>\n",
       "<tbody>\n",
       "\t<tr><th scope=row>Gran</th><td>0.02365910</td><td>0.02353431</td><td>0.02362255</td></tr>\n",
       "\t<tr><th scope=row>CD8T</th><td>0.03554823</td><td>0.05303885</td><td>0.04271923</td></tr>\n",
       "\t<tr><th scope=row>CD4T</th><td>0.02855008</td><td>0.03181594</td><td>0.03006162</td></tr>\n",
       "\t<tr><th scope=row>Mono</th><td>0.03203767</td><td>0.01775542</td><td>0.02363156</td></tr>\n",
       "\t<tr><th scope=row>NK</th><td>0.04091652</td><td>0.07491251</td><td>0.05640449</td></tr>\n",
       "\t<tr><th scope=row>B</th><td>0.04716521</td><td>0.06333654</td><td>0.05422811</td></tr>\n",
       "</tbody>\n",
       "</table>\n"
      ],
      "text/latex": [
       "A matrix: 6 × 3 of type dbl\n",
       "\\begin{tabular}{r|lll}\n",
       "  & low entropy & high entropy & all\\\\\n",
       "\\hline\n",
       "\tGran & 0.02365910 & 0.02353431 & 0.02362255\\\\\n",
       "\tCD8T & 0.03554823 & 0.05303885 & 0.04271923\\\\\n",
       "\tCD4T & 0.02855008 & 0.03181594 & 0.03006162\\\\\n",
       "\tMono & 0.03203767 & 0.01775542 & 0.02363156\\\\\n",
       "\tNK & 0.04091652 & 0.07491251 & 0.05640449\\\\\n",
       "\tB & 0.04716521 & 0.06333654 & 0.05422811\\\\\n",
       "\\end{tabular}\n"
      ],
      "text/markdown": [
       "\n",
       "A matrix: 6 × 3 of type dbl\n",
       "\n",
       "| <!--/--> | low entropy | high entropy | all |\n",
       "|---|---|---|---|\n",
       "| Gran | 0.02365910 | 0.02353431 | 0.02362255 |\n",
       "| CD8T | 0.03554823 | 0.05303885 | 0.04271923 |\n",
       "| CD4T | 0.02855008 | 0.03181594 | 0.03006162 |\n",
       "| Mono | 0.03203767 | 0.01775542 | 0.02363156 |\n",
       "| NK | 0.04091652 | 0.07491251 | 0.05640449 |\n",
       "| B | 0.04716521 | 0.06333654 | 0.05422811 |\n",
       "\n"
      ],
      "text/plain": [
       "     low entropy high entropy all       \n",
       "Gran 0.02365910  0.02353431   0.02362255\n",
       "CD8T 0.03554823  0.05303885   0.04271923\n",
       "CD4T 0.02855008  0.03181594   0.03006162\n",
       "Mono 0.03203767  0.01775542   0.02363156\n",
       "NK   0.04091652  0.07491251   0.05640449\n",
       "B    0.04716521  0.06333654   0.05422811"
      ]
     },
     "metadata": {},
     "output_type": "display_data"
    }
   ],
   "source": [
    "tcax.mdl$evals$metrics.list[[1]]$center.Z.RMedS"
   ]
  },
  {
   "cell_type": "code",
   "execution_count": 25,
   "metadata": {},
   "outputs": [
    {
     "data": {
      "text/html": [
       "<table class=\"dataframe\">\n",
       "<caption>A matrix: 6 × 3 of type dbl</caption>\n",
       "<thead>\n",
       "\t<tr><th></th><th scope=col>low entropy</th><th scope=col>high entropy</th><th scope=col>all</th></tr>\n",
       "</thead>\n",
       "<tbody>\n",
       "\t<tr><th scope=row>Gran</th><td>0.02101778</td><td>0.02342611</td><td>0.02207205</td></tr>\n",
       "\t<tr><th scope=row>CD8T</th><td>0.04528549</td><td>0.05350715</td><td>0.04881377</td></tr>\n",
       "\t<tr><th scope=row>CD4T</th><td>0.03631643</td><td>0.03203074</td><td>0.03427631</td></tr>\n",
       "\t<tr><th scope=row>Mono</th><td>0.04406761</td><td>0.01678675</td><td>0.02599103</td></tr>\n",
       "\t<tr><th scope=row>NK</th><td>0.05629538</td><td>0.07618024</td><td>0.06546247</td></tr>\n",
       "\t<tr><th scope=row>B</th><td>0.05491623</td><td>0.06402816</td><td>0.05944935</td></tr>\n",
       "</tbody>\n",
       "</table>\n"
      ],
      "text/latex": [
       "A matrix: 6 × 3 of type dbl\n",
       "\\begin{tabular}{r|lll}\n",
       "  & low entropy & high entropy & all\\\\\n",
       "\\hline\n",
       "\tGran & 0.02101778 & 0.02342611 & 0.02207205\\\\\n",
       "\tCD8T & 0.04528549 & 0.05350715 & 0.04881377\\\\\n",
       "\tCD4T & 0.03631643 & 0.03203074 & 0.03427631\\\\\n",
       "\tMono & 0.04406761 & 0.01678675 & 0.02599103\\\\\n",
       "\tNK & 0.05629538 & 0.07618024 & 0.06546247\\\\\n",
       "\tB & 0.05491623 & 0.06402816 & 0.05944935\\\\\n",
       "\\end{tabular}\n"
      ],
      "text/markdown": [
       "\n",
       "A matrix: 6 × 3 of type dbl\n",
       "\n",
       "| <!--/--> | low entropy | high entropy | all |\n",
       "|---|---|---|---|\n",
       "| Gran | 0.02101778 | 0.02342611 | 0.02207205 |\n",
       "| CD8T | 0.04528549 | 0.05350715 | 0.04881377 |\n",
       "| CD4T | 0.03631643 | 0.03203074 | 0.03427631 |\n",
       "| Mono | 0.04406761 | 0.01678675 | 0.02599103 |\n",
       "| NK | 0.05629538 | 0.07618024 | 0.06546247 |\n",
       "| B | 0.05491623 | 0.06402816 | 0.05944935 |\n",
       "\n"
      ],
      "text/plain": [
       "     low entropy high entropy all       \n",
       "Gran 0.02101778  0.02342611   0.02207205\n",
       "CD8T 0.04528549  0.05350715   0.04881377\n",
       "CD4T 0.03631643  0.03203074   0.03427631\n",
       "Mono 0.04406761  0.01678675   0.02599103\n",
       "NK   0.05629538  0.07618024   0.06546247\n",
       "B    0.05491623  0.06402816   0.05944935"
      ]
     },
     "metadata": {},
     "output_type": "display_data"
    }
   ],
   "source": [
    "bMIND.mdl$evals$metrics.list[[1]]$center.Z.RMedS"
   ]
  },
  {
   "cell_type": "markdown",
   "metadata": {},
   "source": [
    "# Save"
   ]
  },
  {
   "cell_type": "code",
   "execution_count": 26,
   "metadata": {},
   "outputs": [],
   "source": [
    "saveRDS(base.mdl,       file.path(res.dir, paste0(\"base.mdl.rds\")))\n",
    "saveRDS(cibersortx.mdl, file.path(res.dir, paste0(\"cibersortx.mdl.rds\")))\n",
    "saveRDS(tca.mdl,        file.path(res.dir, paste0(\"tca.mdl.rds\")))\n",
    "saveRDS(tcax.mdl,       file.path(res.dir, paste0(\"tcax.mdl.\", pen.config, \".rds\")))\n",
    "saveRDS(bMIND.mdl,      file.path(res.dir, paste0(\"bMIND.mdl.rds\")))"
   ]
  },
  {
   "cell_type": "code",
   "execution_count": null,
   "metadata": {},
   "outputs": [],
   "source": []
  },
  {
   "cell_type": "code",
   "execution_count": null,
   "metadata": {},
   "outputs": [],
   "source": []
  }
 ],
 "metadata": {
  "kernelspec": {
   "display_name": "Seurat-V4",
   "language": "R",
   "name": "ir41"
  },
  "language_info": {
   "codemirror_mode": "r",
   "file_extension": ".r",
   "mimetype": "text/x-r-source",
   "name": "R",
   "pygments_lexer": "r",
   "version": "4.1.0"
  }
 },
 "nbformat": 4,
 "nbformat_minor": 4
}
