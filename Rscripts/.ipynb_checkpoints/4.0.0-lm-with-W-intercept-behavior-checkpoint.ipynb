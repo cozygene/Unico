{
 "cells": [
  {
   "cell_type": "raw",
   "metadata": {},
   "source": [
    "# this notebook check the behavior of p value under a model with intercept and a model without intercept\n",
    "# the model itself contains colinear terms like W"
   ]
  },
  {
   "cell_type": "markdown",
   "metadata": {},
   "source": [
    "# Load some real data"
   ]
  },
  {
   "cell_type": "code",
   "execution_count": 1,
   "metadata": {},
   "outputs": [
    {
     "name": "stderr",
     "output_type": "stream",
     "text": [
      "Warning message in readChar(con, 5L, useBytes = TRUE):\n",
      "“cannot open compressed file '/u/project/halperin/johnsonc/TCAx/TCAx-R/Data/methylation//liu.processed.RData', probable reason 'No such file or directory'”\n"
     ]
    },
    {
     "ename": "ERROR",
     "evalue": "Error in readChar(con, 5L, useBytes = TRUE): cannot open the connection\n",
     "output_type": "error",
     "traceback": [
      "Error in readChar(con, 5L, useBytes = TRUE): cannot open the connection\nTraceback:\n",
      "1. load(file.path(data.dir, \"liu.processed.RData\"))",
      "2. readChar(con, 5L, useBytes = TRUE)"
     ]
    }
   ],
   "source": [
    "data.dir = \"/u/project/halperin/johnsonc/TCAx/TCAx2023/Data/Methylation/Consistency/\"\n",
    "\n",
    "load(file.path(data.dir, \"liu.processed.RData\"))\n",
    "X  = liu$X[100:110, ]; \n",
    "W  = liu$W;\n",
    "\n",
    "# testing on gender\n",
    "y  = as.factor(liu$cov[, c(\"gender\"), drop = FALSE])\n",
    "C1 = liu$cov[, c(\"age\",  \"disease\",\"smoking\")];\n",
    "\n",
    "# cov.mod\n",
    "cov.mod = cbind(C1,liu$ctrl_pcs)"
   ]
  },
  {
   "cell_type": "code",
   "execution_count": null,
   "metadata": {
    "scrolled": true
   },
   "outputs": [],
   "source": [
    "cov.mod "
   ]
  },
  {
   "cell_type": "markdown",
   "metadata": {},
   "source": [
    "# lm"
   ]
  },
  {
   "cell_type": "code",
   "execution_count": null,
   "metadata": {},
   "outputs": [],
   "source": [
    "data.df = data.frame(x = X [1,])\n",
    "data.df = cbind(data.df, W, cov.mod)"
   ]
  },
  {
   "cell_type": "code",
   "execution_count": null,
   "metadata": {},
   "outputs": [],
   "source": [
    "data.df"
   ]
  },
  {
   "cell_type": "code",
   "execution_count": null,
   "metadata": {},
   "outputs": [],
   "source": [
    "fit1 = lm(x~., data.df)"
   ]
  },
  {
   "cell_type": "code",
   "execution_count": null,
   "metadata": {
    "scrolled": true
   },
   "outputs": [],
   "source": [
    "# R automatically droped a celltype due to colinear\n",
    "# but all celltype's coef are not super significant\n",
    "summary(fit1)$coe\n"
   ]
  },
  {
   "cell_type": "code",
   "execution_count": null,
   "metadata": {
    "scrolled": true
   },
   "outputs": [],
   "source": [
    "# all W terms present and all W's coef super significant\n",
    "# notice that rest of the terms related to actual covariates like age, disease, smoking's pvals are the same as above when fitted with intercept\n",
    "fit2 = lm(x~0+., data.df)\n",
    "summary(fit2)$coe"
   ]
  }
 ],
 "metadata": {
  "kernelspec": {
   "display_name": "Seurat-V4",
   "language": "R",
   "name": "ir41"
  },
  "language_info": {
   "codemirror_mode": "r",
   "file_extension": ".r",
   "mimetype": "text/x-r-source",
   "name": "R",
   "pygments_lexer": "r",
   "version": "4.1.0"
  }
 },
 "nbformat": 4,
 "nbformat_minor": 4
}
