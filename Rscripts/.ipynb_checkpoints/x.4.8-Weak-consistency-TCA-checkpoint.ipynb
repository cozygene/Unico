{
 "cells": [
  {
   "cell_type": "code",
   "execution_count": 1,
   "metadata": {},
   "outputs": [],
   "source": [
    "# This notebook read in the pvals from EWAS done on all 4 dataset\n",
    "# it looks for the set of CPGs that simultanesouly show strong signal (< sig.thr) in Liu and 2 Hannon datasets\n",
    "# then subsetting all 3 datasets to only include these cpgs. "
   ]
  },
  {
   "cell_type": "code",
   "execution_count": 2,
   "metadata": {},
   "outputs": [],
   "source": [
    "pheno = \"age\"\n",
    "data.names  = c(\"liu\", \"hannon1\", \"hannon2\")\n",
    "slot = \"TCA.parametric.full.joint\"\n",
    "sig.thr = 10 **(-4)\n",
    "#source.ids = c(\"Gran\", \"CD4T\", \"CD8T\", \"Mono\", \"B\", \"NK\")"
   ]
  },
  {
   "cell_type": "markdown",
   "metadata": {},
   "source": [
    "# Load pvals, coeffs"
   ]
  },
  {
   "cell_type": "code",
   "execution_count": 3,
   "metadata": {},
   "outputs": [],
   "source": [
    "results_dir = \"/u/project/halperin/johnsonc/TCAx/TCAx2023/Result/Methylation/Consistency/\"\n",
    "pval.list  = readRDS(file.path(results_dir, paste0(pheno,\".pval.list\")))\n",
    "#coeff.list = readRDS(file.path(results_dir, paste0(pheno,\".coeff.list\")))"
   ]
  },
  {
   "cell_type": "code",
   "execution_count": 4,
   "metadata": {},
   "outputs": [
    {
     "name": "stdout",
     "output_type": "stream",
     "text": [
      "List of 4\n",
      " $ liu    :List of 16\n",
      "  ..$ TCAx.parametric.full.marginal   : num [1:153155, 1:6] 0.667 0.343 0.414 0.108 0.417 ...\n",
      "  .. ..- attr(*, \"dimnames\")=List of 2\n",
      "  .. .. ..$ : chr [1:153155] \"cg00001349\" \"cg00002837\" \"cg00003287\" \"cg00008647\" ...\n",
      "  .. .. ..$ : chr [1:6] \"Gran.age\" \"CD4T.age\" \"CD8T.age\" \"Mono.age\" ...\n",
      "  ..$ TCAx.parametric.full.joint      : num [1:153155, 1] 0.52031 0.00774 0.0283 0.13981 0.92741 ...\n",
      "  .. ..- attr(*, \"dimnames\")=List of 2\n",
      "  .. .. ..$ : chr [1:153155] \"cg00001349\" \"cg00002837\" \"cg00003287\" \"cg00008647\" ...\n",
      "  .. .. ..$ : chr \"age\"\n",
      "  ..$ TCAx.parametricX2Q2.marginal    : num [1:153155, 1:6] 0.235 0.542 0.19 0.128 0.479 ...\n",
      "  .. ..- attr(*, \"dimnames\")=List of 2\n",
      "  .. .. ..$ : chr [1:153155] \"cg00001349\" \"cg00002837\" \"cg00003287\" \"cg00008647\" ...\n",
      "  .. .. ..$ : chr [1:6] \"Gran.age\" \"CD4T.age\" \"CD8T.age\" \"Mono.age\" ...\n",
      "  ..$ TCAx.parametricX2Q2.joint       : num [1:153155, 1] 0.203 0.192 0.212 0.609 0.813 ...\n",
      "  .. ..- attr(*, \"dimnames\")=List of 2\n",
      "  .. .. ..$ : chr [1:153155] \"cg00001349\" \"cg00002837\" \"cg00003287\" \"cg00008647\" ...\n",
      "  .. .. ..$ : chr \"age\"\n",
      "  ..$ TCAx.parametricXQ2.marginal     : num [1:153155, 1:6] 0.0952 0.3117 0.3788 0.1275 0.6606 ...\n",
      "  .. ..- attr(*, \"dimnames\")=List of 2\n",
      "  .. .. ..$ : chr [1:153155] \"cg00001349\" \"cg00002837\" \"cg00003287\" \"cg00008647\" ...\n",
      "  .. .. ..$ : chr [1:6] \"Gran.age\" \"CD4T.age\" \"CD8T.age\" \"Mono.age\" ...\n",
      "  ..$ TCAx.parametricXQ2.joint        : num [1:153155, 1] 0.2434 0.0736 0.037 0.2121 0.8755 ...\n",
      "  .. ..- attr(*, \"dimnames\")=List of 2\n",
      "  .. .. ..$ : chr [1:153155] \"cg00001349\" \"cg00002837\" \"cg00003287\" \"cg00008647\" ...\n",
      "  .. .. ..$ : chr \"age\"\n",
      "  ..$ TCA.parametric.full.marginal    : num [1:153155, 1:6] 0.4935 0.3348 0.4357 0.0708 0.4863 ...\n",
      "  .. ..- attr(*, \"dimnames\")=List of 2\n",
      "  .. .. ..$ : chr [1:153155] \"cg00001349\" \"cg00002837\" \"cg00003287\" \"cg00008647\" ...\n",
      "  .. .. ..$ : chr [1:6] \"Gran.age\" \"CD4T.age\" \"CD8T.age\" \"Mono.age\" ...\n",
      "  ..$ TCA.parametric.full.joint       : num [1:153155, 1] 0.58626 0.00662 0.02677 0.29886 0.92152 ...\n",
      "  .. ..- attr(*, \"dimnames\")=List of 2\n",
      "  .. .. ..$ : chr [1:153155] \"cg00001349\" \"cg00002837\" \"cg00003287\" \"cg00008647\" ...\n",
      "  .. .. ..$ : chr \"age\"\n",
      "  ..$ TCA.parametricX2.marginal       : num [1:153155, 1:6] 0.1409 0.5615 0.2093 0.0999 0.6511 ...\n",
      "  .. ..- attr(*, \"dimnames\")=List of 2\n",
      "  .. .. ..$ : chr [1:153155] \"cg00001349\" \"cg00002837\" \"cg00003287\" \"cg00008647\" ...\n",
      "  .. .. ..$ : chr [1:6] \"Gran.age\" \"CD4T.age\" \"CD8T.age\" \"Mono.age\" ...\n",
      "  ..$ TCA.parametricX2.joint          : num [1:153155, 1] 0.197 0.157 0.174 0.682 0.877 ...\n",
      "  .. ..- attr(*, \"dimnames\")=List of 2\n",
      "  .. .. ..$ : chr [1:153155] \"cg00001349\" \"cg00002837\" \"cg00003287\" \"cg00008647\" ...\n",
      "  .. .. ..$ : chr \"age\"\n",
      "  ..$ TCA.parametricXQ2.marginal      : num [1:153155, 1:6] 0.241 0.554 0.321 0.102 0.318 ...\n",
      "  .. ..- attr(*, \"dimnames\")=List of 2\n",
      "  .. .. ..$ : chr [1:153155] \"cg00001349\" \"cg00002837\" \"cg00003287\" \"cg00008647\" ...\n",
      "  .. .. ..$ : chr [1:6] \"Gran.age\" \"CD4T.age\" \"CD8T.age\" \"Mono.age\" ...\n",
      "  ..$ TCA.parametricXQ2.joint         : num [1:153155, 1] 0.5816 0.0891 0.0712 0.3667 0.7644 ...\n",
      "  .. ..- attr(*, \"dimnames\")=List of 2\n",
      "  .. .. ..$ : chr [1:153155] \"cg00001349\" \"cg00002837\" \"cg00003287\" \"cg00008647\" ...\n",
      "  .. .. ..$ : chr \"age\"\n",
      "  ..$ CellDMC.parametric.full.marginal: num [1:153155, 1:6] 0.699 0.294 0.395 0.136 0.674 ...\n",
      "  .. ..- attr(*, \"dimnames\")=List of 2\n",
      "  .. .. ..$ : chr [1:153155] \"cg00001349\" \"cg00002837\" \"cg00003287\" \"cg00008647\" ...\n",
      "  .. .. ..$ : chr [1:6] \"Gran\" \"CD4T\" \"CD8T\" \"Mono\" ...\n",
      "  ..$ CellDMC.parametric.full.joint   : num [1:153155, 1] 0.41153 0.00256 0.02159 0.04968 0.93129 ...\n",
      "  .. ..- attr(*, \"dimnames\")=List of 2\n",
      "  .. .. ..$ : chr [1:153155] \"cg00001349\" \"cg00002837\" \"cg00003287\" \"cg00008647\" ...\n",
      "  .. .. ..$ : chr \"age\"\n",
      "  ..$ CellDMC.parametricX2.marginal   : num [1:153155, 1:6] 0.171 0.471 0.174 0.241 0.883 ...\n",
      "  .. ..- attr(*, \"dimnames\")=List of 2\n",
      "  .. .. ..$ : chr [1:153155] \"cg00001349\" \"cg00002837\" \"cg00003287\" \"cg00008647\" ...\n",
      "  .. .. ..$ : chr [1:6] \"Gran\" \"CD4T\" \"CD8T\" \"Mono\" ...\n",
      "  ..$ CellDMC.parametricX2.joint      : num [1:153155, 1] 0.118 0.103 0.19 0.71 0.856 ...\n",
      "  .. ..- attr(*, \"dimnames\")=List of 2\n",
      "  .. .. ..$ : chr [1:153155] \"cg00001349\" \"cg00002837\" \"cg00003287\" \"cg00008647\" ...\n",
      "  .. .. ..$ : chr \"age\"\n",
      " $ hannum :List of 16\n",
      "  ..$ TCAx.parametric.full.marginal   : num [1:144743, 1:6] 0.00111 0.3035 0.01944 0.91023 0.51303 ...\n",
      "  .. ..- attr(*, \"dimnames\")=List of 2\n",
      "  .. .. ..$ : chr [1:144743] \"cg00000029\" \"cg00000109\" \"cg00000165\" \"cg00000236\" ...\n",
      "  .. .. ..$ : chr [1:6] \"Gran.age\" \"CD4T.age\" \"CD8T.age\" \"Mono.age\" ...\n",
      "  ..$ TCAx.parametric.full.joint      : num [1:144743, 1] 7.36e-05 2.22e-01 6.60e-02 1.98e-02 7.88e-01 ...\n",
      "  .. ..- attr(*, \"dimnames\")=List of 2\n",
      "  .. .. ..$ : chr [1:144743] \"cg00000029\" \"cg00000109\" \"cg00000165\" \"cg00000236\" ...\n",
      "  .. .. ..$ : chr \"age\"\n",
      "  ..$ TCAx.parametricX2Q2.marginal    : num [1:144743, 1:6] 0.0458 0.9878 0.136 0.6223 0.772 ...\n",
      "  .. ..- attr(*, \"dimnames\")=List of 2\n",
      "  .. .. ..$ : chr [1:144743] \"cg00000029\" \"cg00000109\" \"cg00000165\" \"cg00000236\" ...\n",
      "  .. .. ..$ : chr [1:6] \"Gran.age\" \"CD4T.age\" \"CD8T.age\" \"Mono.age\" ...\n",
      "  ..$ TCAx.parametricX2Q2.joint       : num [1:144743, 1] 0.00114 0.8496 0.06778 0.00918 0.2407 ...\n",
      "  .. ..- attr(*, \"dimnames\")=List of 2\n",
      "  .. .. ..$ : chr [1:144743] \"cg00000029\" \"cg00000109\" \"cg00000165\" \"cg00000236\" ...\n",
      "  .. .. ..$ : chr \"age\"\n",
      "  ..$ TCAx.parametricXQ2.marginal     : num [1:144743, 1:6] 0.00329 0.43704 0.35644 0.67331 0.19492 ...\n",
      "  .. ..- attr(*, \"dimnames\")=List of 2\n",
      "  .. .. ..$ : chr [1:144743] \"cg00000029\" \"cg00000109\" \"cg00000165\" \"cg00000236\" ...\n",
      "  .. .. ..$ : chr [1:6] \"Gran.age\" \"CD4T.age\" \"CD8T.age\" \"Mono.age\" ...\n",
      "  ..$ TCAx.parametricXQ2.joint        : num [1:144743, 1] 0.000151 0.702462 0.053559 0.061148 0.769106 ...\n",
      "  .. ..- attr(*, \"dimnames\")=List of 2\n",
      "  .. .. ..$ : chr [1:144743] \"cg00000029\" \"cg00000109\" \"cg00000165\" \"cg00000236\" ...\n",
      "  .. .. ..$ : chr \"age\"\n",
      "  ..$ TCA.parametric.full.marginal    : num [1:144743, 1:6] 0.000768 0.271979 0.036048 0.949334 0.379555 ...\n",
      "  .. ..- attr(*, \"dimnames\")=List of 2\n",
      "  .. .. ..$ : chr [1:144743] \"cg00000029\" \"cg00000109\" \"cg00000165\" \"cg00000236\" ...\n",
      "  .. .. ..$ : chr [1:6] \"Gran.age\" \"CD4T.age\" \"CD8T.age\" \"Mono.age\" ...\n",
      "  ..$ TCA.parametric.full.joint       : num [1:144743, 1] 0.000156 0.265875 0.052749 0.06635 0.511751 ...\n",
      "  .. ..- attr(*, \"dimnames\")=List of 2\n",
      "  .. .. ..$ : chr [1:144743] \"cg00000029\" \"cg00000109\" \"cg00000165\" \"cg00000236\" ...\n",
      "  .. .. ..$ : chr \"age\"\n",
      "  ..$ TCA.parametricX2.marginal       : num [1:144743, 1:6] 0.00625 0.49712 0.17613 0.9236 0.99884 ...\n",
      "  .. ..- attr(*, \"dimnames\")=List of 2\n",
      "  .. .. ..$ : chr [1:144743] \"cg00000029\" \"cg00000109\" \"cg00000165\" \"cg00000236\" ...\n",
      "  .. .. ..$ : chr [1:6] \"Gran.age\" \"CD4T.age\" \"CD8T.age\" \"Mono.age\" ...\n",
      "  ..$ TCA.parametricX2.joint          : num [1:144743, 1] 0.000891 0.828713 0.059216 0.036112 0.109724 ...\n",
      "  .. ..- attr(*, \"dimnames\")=List of 2\n",
      "  .. .. ..$ : chr [1:144743] \"cg00000029\" \"cg00000109\" \"cg00000165\" \"cg00000236\" ...\n",
      "  .. .. ..$ : chr \"age\"\n",
      "  ..$ TCA.parametricXQ2.marginal      : num [1:144743, 1:6] 0.0107 0.5434 0.1409 0.9545 0.6649 ...\n",
      "  .. ..- attr(*, \"dimnames\")=List of 2\n",
      "  .. .. ..$ : chr [1:144743] \"cg00000029\" \"cg00000109\" \"cg00000165\" \"cg00000236\" ...\n",
      "  .. .. ..$ : chr [1:6] \"Gran.age\" \"CD4T.age\" \"CD8T.age\" \"Mono.age\" ...\n",
      "  ..$ TCA.parametricXQ2.joint         : num [1:144743, 1] 0.000771 0.742057 0.129542 0.190813 0.600664 ...\n",
      "  .. ..- attr(*, \"dimnames\")=List of 2\n",
      "  .. .. ..$ : chr [1:144743] \"cg00000029\" \"cg00000109\" \"cg00000165\" \"cg00000236\" ...\n",
      "  .. .. ..$ : chr \"age\"\n",
      "  ..$ CellDMC.parametric.full.marginal: num [1:144743, 1:6] 0.00459 0.42986 0.01256 0.56156 0.18222 ...\n",
      "  .. ..- attr(*, \"dimnames\")=List of 2\n",
      "  .. .. ..$ : chr [1:144743] \"cg00000029\" \"cg00000109\" \"cg00000165\" \"cg00000236\" ...\n",
      "  .. .. ..$ : chr [1:6] \"Gran\" \"CD4T\" \"CD8T\" \"Mono\" ...\n",
      "  ..$ CellDMC.parametric.full.joint   : num [1:144743, 1] 0.00058 0.20684 0.0377 0.14915 0.88594 ...\n",
      "  .. ..- attr(*, \"dimnames\")=List of 2\n",
      "  .. .. ..$ : chr [1:144743] \"cg00000029\" \"cg00000109\" \"cg00000165\" \"cg00000236\" ...\n",
      "  .. .. ..$ : chr \"age\"\n",
      "  ..$ CellDMC.parametricX2.marginal   : num [1:144743, 1:6] 0.0599 0.9041 0.2919 0.839 0.6437 ...\n",
      "  .. ..- attr(*, \"dimnames\")=List of 2\n",
      "  .. .. ..$ : chr [1:144743] \"cg00000029\" \"cg00000109\" \"cg00000165\" \"cg00000236\" ...\n",
      "  .. .. ..$ : chr [1:6] \"Gran\" \"CD4T\" \"CD8T\" \"Mono\" ...\n",
      "  ..$ CellDMC.parametricX2.joint      : num [1:144743, 1] 0.00229 0.89271 0.19569 0.05707 0.51876 ...\n",
      "  .. ..- attr(*, \"dimnames\")=List of 2\n",
      "  .. .. ..$ : chr [1:144743] \"cg00000029\" \"cg00000109\" \"cg00000165\" \"cg00000236\" ...\n",
      "  .. .. ..$ : chr \"age\"\n",
      " $ hannon1:List of 16\n",
      "  ..$ TCAx.parametric.full.marginal   : num [1:134250, 1:6] 0.0166 0.9742 0.1006 0.079 0.2308 ...\n",
      "  .. ..- attr(*, \"dimnames\")=List of 2\n",
      "  .. .. ..$ : chr [1:134250] \"cg00000029\" \"cg00000109\" \"cg00000165\" \"cg00000236\" ...\n",
      "  .. .. ..$ : chr [1:6] \"Gran.age\" \"CD4T.age\" \"CD8T.age\" \"Mono.age\" ...\n",
      "  ..$ TCAx.parametric.full.joint      : num [1:134250, 1] 0.00311 0.95491 0.35584 0.04179 0.57706 ...\n",
      "  .. ..- attr(*, \"dimnames\")=List of 2\n",
      "  .. .. ..$ : chr [1:134250] \"cg00000029\" \"cg00000109\" \"cg00000165\" \"cg00000236\" ...\n",
      "  .. .. ..$ : chr \"age\"\n",
      "  ..$ TCAx.parametricX2Q2.marginal    : num [1:134250, 1:6] 0.0314 0.7483 0.0516 0.0284 0.4872 ...\n",
      "  .. ..- attr(*, \"dimnames\")=List of 2\n",
      "  .. .. ..$ : chr [1:134250] \"cg00000029\" \"cg00000109\" \"cg00000165\" \"cg00000236\" ...\n",
      "  .. .. ..$ : chr [1:6] \"Gran.age\" \"CD4T.age\" \"CD8T.age\" \"Mono.age\" ...\n",
      "  ..$ TCAx.parametricX2Q2.joint       : num [1:134250, 1] 1.09e-06 9.36e-01 1.02e-01 6.90e-02 6.25e-01 ...\n",
      "  .. ..- attr(*, \"dimnames\")=List of 2\n",
      "  .. .. ..$ : chr [1:134250] \"cg00000029\" \"cg00000109\" \"cg00000165\" \"cg00000236\" ...\n",
      "  .. .. ..$ : chr \"age\"\n",
      "  ..$ TCAx.parametricXQ2.marginal     : num [1:134250, 1:6] 0.0183 0.9418 0.0522 0.0576 0.4325 ...\n",
      "  .. ..- attr(*, \"dimnames\")=List of 2\n",
      "  .. .. ..$ : chr [1:134250] \"cg00000029\" \"cg00000109\" \"cg00000165\" \"cg00000236\" ...\n",
      "  .. .. ..$ : chr [1:6] \"Gran.age\" \"CD4T.age\" \"CD8T.age\" \"Mono.age\" ...\n",
      "  ..$ TCAx.parametricXQ2.joint        : num [1:134250, 1] 1.89e-05 6.12e-01 6.54e-02 1.38e-01 4.45e-01 ...\n",
      "  .. ..- attr(*, \"dimnames\")=List of 2\n",
      "  .. .. ..$ : chr [1:134250] \"cg00000029\" \"cg00000109\" \"cg00000165\" \"cg00000236\" ...\n",
      "  .. .. ..$ : chr \"age\"\n",
      "  ..$ TCA.parametric.full.marginal    : num [1:134250, 1:6] 0.0231 0.7492 0.1351 0.0535 0.432 ...\n",
      "  .. ..- attr(*, \"dimnames\")=List of 2\n",
      "  .. .. ..$ : chr [1:134250] \"cg00000029\" \"cg00000109\" \"cg00000165\" \"cg00000236\" ...\n",
      "  .. .. ..$ : chr [1:6] \"Gran.age\" \"CD4T.age\" \"CD8T.age\" \"Mono.age\" ...\n",
      "  ..$ TCA.parametric.full.joint       : num [1:134250, 1] 0.00692 0.96172 0.45208 0.07036 0.61987 ...\n",
      "  .. ..- attr(*, \"dimnames\")=List of 2\n",
      "  .. .. ..$ : chr [1:134250] \"cg00000029\" \"cg00000109\" \"cg00000165\" \"cg00000236\" ...\n",
      "  .. .. ..$ : chr \"age\"\n",
      "  ..$ TCA.parametricX2.marginal       : num [1:134250, 1:6] 0.0355 0.6163 0.0759 0.0815 0.7092 ...\n",
      "  .. ..- attr(*, \"dimnames\")=List of 2\n",
      "  .. .. ..$ : chr [1:134250] \"cg00000029\" \"cg00000109\" \"cg00000165\" \"cg00000236\" ...\n",
      "  .. .. ..$ : chr [1:6] \"Gran.age\" \"CD4T.age\" \"CD8T.age\" \"Mono.age\" ...\n",
      "  ..$ TCA.parametricX2.joint          : num [1:134250, 1] 5.86e-06 9.58e-01 1.18e-01 1.64e-01 5.16e-01 ...\n",
      "  .. ..- attr(*, \"dimnames\")=List of 2\n",
      "  .. .. ..$ : chr [1:134250] \"cg00000029\" \"cg00000109\" \"cg00000165\" \"cg00000236\" ...\n",
      "  .. .. ..$ : chr \"age\"\n",
      "  ..$ TCA.parametricXQ2.marginal      : num [1:134250, 1:6] 0.0138 0.7357 0.0236 0.1362 0.7521 ...\n",
      "  .. ..- attr(*, \"dimnames\")=List of 2\n",
      "  .. .. ..$ : chr [1:134250] \"cg00000029\" \"cg00000109\" \"cg00000165\" \"cg00000236\" ...\n",
      "  .. .. ..$ : chr [1:6] \"Gran.age\" \"CD4T.age\" \"CD8T.age\" \"Mono.age\" ...\n",
      "  ..$ TCA.parametricXQ2.joint         : num [1:134250, 1] 1.16e-05 8.29e-01 3.47e-02 4.15e-01 3.76e-01 ...\n",
      "  .. ..- attr(*, \"dimnames\")=List of 2\n",
      "  .. .. ..$ : chr [1:134250] \"cg00000029\" \"cg00000109\" \"cg00000165\" \"cg00000236\" ...\n",
      "  .. .. ..$ : chr \"age\"\n",
      "  ..$ CellDMC.parametric.full.marginal: num [1:134250, 1:6] 0.0181 0.7223 0.088 0.1909 0.6538 ...\n",
      "  .. ..- attr(*, \"dimnames\")=List of 2\n",
      "  .. .. ..$ : chr [1:134250] \"cg00000029\" \"cg00000109\" \"cg00000165\" \"cg00000236\" ...\n",
      "  .. .. ..$ : chr [1:6] \"Gran\" \"CD4T\" \"CD8T\" \"Mono\" ...\n",
      "  ..$ CellDMC.parametric.full.joint   : num [1:134250, 1] 0.00262 0.98453 0.17286 0.13294 0.64694 ...\n",
      "  .. ..- attr(*, \"dimnames\")=List of 2\n",
      "  .. .. ..$ : chr [1:134250] \"cg00000029\" \"cg00000109\" \"cg00000165\" \"cg00000236\" ...\n",
      "  .. .. ..$ : chr \"age\"\n",
      "  ..$ CellDMC.parametricX2.marginal   : num [1:134250, 1:6] 0.0201 0.8739 0.0494 0.1896 0.8082 ...\n",
      "  .. ..- attr(*, \"dimnames\")=List of 2\n",
      "  .. .. ..$ : chr [1:134250] \"cg00000029\" \"cg00000109\" \"cg00000165\" \"cg00000236\" ...\n",
      "  .. .. ..$ : chr [1:6] \"Gran\" \"CD4T\" \"CD8T\" \"Mono\" ...\n",
      "  ..$ CellDMC.parametricX2.joint      : num [1:134250, 1] 7.53e-07 9.41e-01 3.26e-02 3.23e-01 5.43e-01 ...\n",
      "  .. ..- attr(*, \"dimnames\")=List of 2\n",
      "  .. .. ..$ : chr [1:134250] \"cg00000029\" \"cg00000109\" \"cg00000165\" \"cg00000236\" ...\n",
      "  .. .. ..$ : chr \"age\"\n",
      " $ hannon2:List of 16\n",
      "  ..$ TCAx.parametric.full.marginal   : num [1:95360, 1:6] 0.679 0.8688 0.3812 0.0106 0.5348 ...\n",
      "  .. ..- attr(*, \"dimnames\")=List of 2\n",
      "  .. .. ..$ : chr [1:95360] \"cg00000029\" \"cg00000109\" \"cg00000236\" \"cg00000289\" ...\n",
      "  .. .. ..$ : chr [1:6] \"Gran.age\" \"CD4T.age\" \"CD8T.age\" \"Mono.age\" ...\n",
      "  ..$ TCAx.parametric.full.joint      : num [1:95360, 1] 0.000012 0.90799 0.604197 0.001855 0.1708 ...\n",
      "  .. ..- attr(*, \"dimnames\")=List of 2\n",
      "  .. .. ..$ : chr [1:95360] \"cg00000029\" \"cg00000109\" \"cg00000236\" \"cg00000289\" ...\n",
      "  .. .. ..$ : chr \"age\"\n",
      "  ..$ TCAx.parametricX2Q2.marginal    : num [1:95360, 1:6] 0.6634 0.337 0.9034 0.0362 0.0932 ...\n",
      "  .. ..- attr(*, \"dimnames\")=List of 2\n",
      "  .. .. ..$ : chr [1:95360] \"cg00000029\" \"cg00000109\" \"cg00000236\" \"cg00000289\" ...\n",
      "  .. .. ..$ : chr [1:6] \"Gran.age\" \"CD4T.age\" \"CD8T.age\" \"Mono.age\" ...\n",
      "  ..$ TCAx.parametricX2Q2.joint       : num [1:95360, 1] 7.91e-05 8.82e-01 4.17e-01 5.88e-03 4.49e-02 ...\n",
      "  .. ..- attr(*, \"dimnames\")=List of 2\n",
      "  .. .. ..$ : chr [1:95360] \"cg00000029\" \"cg00000109\" \"cg00000236\" \"cg00000289\" ...\n",
      "  .. .. ..$ : chr \"age\"\n",
      "  ..$ TCAx.parametricXQ2.marginal     : num [1:95360, 1:6] 0.9293 0.4314 0.6405 0.0272 0.2051 ...\n",
      "  .. ..- attr(*, \"dimnames\")=List of 2\n",
      "  .. .. ..$ : chr [1:95360] \"cg00000029\" \"cg00000109\" \"cg00000236\" \"cg00000289\" ...\n",
      "  .. .. ..$ : chr [1:6] \"Gran.age\" \"CD4T.age\" \"CD8T.age\" \"Mono.age\" ...\n",
      "  ..$ TCAx.parametricXQ2.joint        : num [1:95360, 1] 6.36e-05 8.33e-01 5.91e-01 1.86e-02 4.45e-02 ...\n",
      "  .. ..- attr(*, \"dimnames\")=List of 2\n",
      "  .. .. ..$ : chr [1:95360] \"cg00000029\" \"cg00000109\" \"cg00000236\" \"cg00000289\" ...\n",
      "  .. .. ..$ : chr \"age\"\n",
      "  ..$ TCA.parametric.full.marginal    : num [1:95360, 1:6] 0.72906 0.60496 0.19916 0.00799 0.4961 ...\n",
      "  .. ..- attr(*, \"dimnames\")=List of 2\n",
      "  .. .. ..$ : chr [1:95360] \"cg00000029\" \"cg00000109\" \"cg00000236\" \"cg00000289\" ...\n",
      "  .. .. ..$ : chr [1:6] \"Gran.age\" \"CD4T.age\" \"CD8T.age\" \"Mono.age\" ...\n",
      "  ..$ TCA.parametric.full.joint       : num [1:95360, 1] 1.54e-05 9.27e-01 5.43e-01 4.47e-04 1.73e-01 ...\n",
      "  .. ..- attr(*, \"dimnames\")=List of 2\n",
      "  .. .. ..$ : chr [1:95360] \"cg00000029\" \"cg00000109\" \"cg00000236\" \"cg00000289\" ...\n",
      "  .. .. ..$ : chr \"age\"\n",
      "  ..$ TCA.parametricX2.marginal       : num [1:95360, 1:6] 0.7422 0.9901 0.4349 0.0172 0.148 ...\n",
      "  .. ..- attr(*, \"dimnames\")=List of 2\n",
      "  .. .. ..$ : chr [1:95360] \"cg00000029\" \"cg00000109\" \"cg00000236\" \"cg00000289\" ...\n",
      "  .. .. ..$ : chr [1:6] \"Gran.age\" \"CD4T.age\" \"CD8T.age\" \"Mono.age\" ...\n",
      "  ..$ TCA.parametricX2.joint          : num [1:95360, 1] 0.000193 0.969706 0.712812 0.004101 0.046878 ...\n",
      "  .. ..- attr(*, \"dimnames\")=List of 2\n",
      "  .. .. ..$ : chr [1:95360] \"cg00000029\" \"cg00000109\" \"cg00000236\" \"cg00000289\" ...\n",
      "  .. .. ..$ : chr \"age\"\n",
      "  ..$ TCA.parametricXQ2.marginal      : num [1:95360, 1:6] 0.6282 0.7421 0.34 0.0159 0.1294 ...\n",
      "  .. ..- attr(*, \"dimnames\")=List of 2\n",
      "  .. .. ..$ : chr [1:95360] \"cg00000029\" \"cg00000109\" \"cg00000236\" \"cg00000289\" ...\n",
      "  .. .. ..$ : chr [1:6] \"Gran.age\" \"CD4T.age\" \"CD8T.age\" \"Mono.age\" ...\n",
      "  ..$ TCA.parametricXQ2.joint         : num [1:95360, 1] 4.81e-05 9.95e-01 8.60e-01 7.52e-03 8.82e-02 ...\n",
      "  .. ..- attr(*, \"dimnames\")=List of 2\n",
      "  .. .. ..$ : chr [1:95360] \"cg00000029\" \"cg00000109\" \"cg00000236\" \"cg00000289\" ...\n",
      "  .. .. ..$ : chr \"age\"\n",
      "  ..$ CellDMC.parametric.full.marginal: num [1:95360, 1:6] 0.6684 0.6737 0.197 0.0108 0.4832 ...\n",
      "  .. ..- attr(*, \"dimnames\")=List of 2\n",
      "  .. .. ..$ : chr [1:95360] \"cg00000029\" \"cg00000109\" \"cg00000236\" \"cg00000289\" ...\n",
      "  .. .. ..$ : chr [1:6] \"Gran\" \"CD4T\" \"CD8T\" \"Mono\" ...\n",
      "  ..$ CellDMC.parametric.full.joint   : num [1:95360, 1] 3.26e-05 8.33e-01 6.25e-01 3.44e-03 1.93e-01 ...\n",
      "  .. ..- attr(*, \"dimnames\")=List of 2\n",
      "  .. .. ..$ : chr [1:95360] \"cg00000029\" \"cg00000109\" \"cg00000236\" \"cg00000289\" ...\n",
      "  .. .. ..$ : chr \"age\"\n",
      "  ..$ CellDMC.parametricX2.marginal   : num [1:95360, 1:6] 0.7257 0.9325 0.5035 0.0129 0.1859 ...\n",
      "  .. ..- attr(*, \"dimnames\")=List of 2\n",
      "  .. .. ..$ : chr [1:95360] \"cg00000029\" \"cg00000109\" \"cg00000236\" \"cg00000289\" ...\n",
      "  .. .. ..$ : chr [1:6] \"Gran\" \"CD4T\" \"CD8T\" \"Mono\" ...\n",
      "  ..$ CellDMC.parametricX2.joint      : num [1:95360, 1] 0.000108 0.917662 0.775521 0.007445 0.060175 ...\n",
      "  .. ..- attr(*, \"dimnames\")=List of 2\n",
      "  .. .. ..$ : chr [1:95360] \"cg00000029\" \"cg00000109\" \"cg00000236\" \"cg00000289\" ...\n",
      "  .. .. ..$ : chr \"age\"\n"
     ]
    }
   ],
   "source": [
    "str(pval.list)"
   ]
  },
  {
   "cell_type": "code",
   "execution_count": 5,
   "metadata": {},
   "outputs": [],
   "source": [
    "# get shared set of Cpgs\n",
    "pvals = list()\n",
    "shared.feature.ids = c()\n",
    "for (data.name in data.names){\n",
    "    pvals[[data.name]] = pval.list[[data.name]][[slot]]\n",
    "    shared.feature.ids [[data.name]] = rownames(pvals[[data.name]])\n",
    "} \n",
    "\n",
    "shared.feature.ids = Reduce(intersect, shared.feature.ids)"
   ]
  },
  {
   "cell_type": "code",
   "execution_count": 6,
   "metadata": {
    "scrolled": true
   },
   "outputs": [
    {
     "name": "stdout",
     "output_type": "stream",
     "text": [
      "List of 3\n",
      " $ liu    : num [1:153155, 1] 0.58626 0.00662 0.02677 0.29886 0.92152 ...\n",
      "  ..- attr(*, \"dimnames\")=List of 2\n",
      "  .. ..$ : chr [1:153155] \"cg00001349\" \"cg00002837\" \"cg00003287\" \"cg00008647\" ...\n",
      "  .. ..$ : chr \"age\"\n",
      " $ hannon1: num [1:134250, 1] 0.00692 0.96172 0.45208 0.07036 0.61987 ...\n",
      "  ..- attr(*, \"dimnames\")=List of 2\n",
      "  .. ..$ : chr [1:134250] \"cg00000029\" \"cg00000109\" \"cg00000165\" \"cg00000236\" ...\n",
      "  .. ..$ : chr \"age\"\n",
      " $ hannon2: num [1:95360, 1] 1.54e-05 9.27e-01 5.43e-01 4.47e-04 1.73e-01 ...\n",
      "  ..- attr(*, \"dimnames\")=List of 2\n",
      "  .. ..$ : chr [1:95360] \"cg00000029\" \"cg00000109\" \"cg00000236\" \"cg00000289\" ...\n",
      "  .. ..$ : chr \"age\"\n"
     ]
    }
   ],
   "source": [
    "str(pvals)"
   ]
  },
  {
   "cell_type": "code",
   "execution_count": 7,
   "metadata": {},
   "outputs": [
    {
     "name": "stdout",
     "output_type": "stream",
     "text": [
      "[1] \"liu\"\n",
      "[1] 7172\n",
      "[1] \"hannon1\"\n",
      "[1] 3257\n",
      "[1] \"hannon2\"\n",
      "[1] 9377\n"
     ]
    }
   ],
   "source": [
    "sig.feature.ids = list()\n",
    "for (data.name in data.names){\n",
    "    pvals[[data.name]] = pvals[[data.name]] [shared.feature.ids, ,drop = F]\n",
    "    sig.feature.ids[[data.name]] = rownames(pvals[[data.name]][pvals[[data.name]] < sig.thr,, drop = F])\n",
    "    print(data.name)\n",
    "    print(length(sig.feature.ids[[data.name]]))\n",
    "}"
   ]
  },
  {
   "cell_type": "code",
   "execution_count": 8,
   "metadata": {},
   "outputs": [],
   "source": [
    "sig.feature.ids = Reduce(intersect, sig.feature.ids)"
   ]
  },
  {
   "cell_type": "code",
   "execution_count": 9,
   "metadata": {},
   "outputs": [
    {
     "data": {
      "text/html": [
       "2537"
      ],
      "text/latex": [
       "2537"
      ],
      "text/markdown": [
       "2537"
      ],
      "text/plain": [
       "[1] 2537"
      ]
     },
     "metadata": {},
     "output_type": "display_data"
    }
   ],
   "source": [
    "length(sig.feature.ids)"
   ]
  },
  {
   "cell_type": "markdown",
   "metadata": {},
   "source": [
    "# Check on the overlap in the lowest set of cpgs in each data"
   ]
  },
  {
   "cell_type": "code",
   "execution_count": 10,
   "metadata": {},
   "outputs": [],
   "source": [
    "# rank it\n",
    "top.feature.ids = list()\n",
    "for (data.name in data.names){\n",
    "    pvals[[data.name]] = pvals[[data.name]] [shared.feature.ids, ,drop = F]\n",
    "    top.feature.ids[[data.name]] = rownames(pvals[[data.name]][order(pvals[[data.name]][,pheno]), , drop = F])\n",
    "    \n",
    "}"
   ]
  },
  {
   "cell_type": "code",
   "execution_count": 11,
   "metadata": {},
   "outputs": [
    {
     "name": "stdout",
     "output_type": "stream",
     "text": [
      "[1] 1373\n",
      "[1] 2628\n",
      "[1] 4760\n"
     ]
    }
   ],
   "source": [
    "# check for overlap\n",
    "for (top.t in c(2500, 5000, 10000)){\n",
    "    shared.top.features = list()\n",
    "    for (data.name in data.names){\n",
    "        shared.top.features[[data.name]] = top.feature.ids[[data.name]][1:top.t]\n",
    "    }  \n",
    "    print(length(Reduce(intersect, shared.top.features)))\n",
    "}"
   ]
  },
  {
   "cell_type": "code",
   "execution_count": 12,
   "metadata": {},
   "outputs": [
    {
     "name": "stdout",
     "output_type": "stream",
     "text": [
      "List of 3\n",
      " $ liu    : chr [1:10000] \"cg16867657\" \"cg21572722\" \"cg10501210\" \"cg22454769\" ...\n",
      " $ hannon1: chr [1:10000] \"cg16867657\" \"cg10501210\" \"cg21572722\" \"cg24724428\" ...\n",
      " $ hannon2: chr [1:10000] \"cg16867657\" \"cg21572722\" \"cg06639320\" \"cg24724428\" ...\n"
     ]
    }
   ],
   "source": [
    "str(shared.top.features)"
   ]
  },
  {
   "cell_type": "markdown",
   "metadata": {},
   "source": [
    "# Back to those that simultaneously cross sig.thr"
   ]
  },
  {
   "cell_type": "code",
   "execution_count": 13,
   "metadata": {},
   "outputs": [],
   "source": [
    "data.dir = \"/u/home/j/johnsonc/project-halperin/TCAx/TCAx2023/Data/Methylation/Consistency/\"\n",
    "\n",
    "file.paths = list()\n",
    "file.paths[[\"liu\"]]        = file.path(data.dir, \"liu.processed.RData\")\n",
    "file.paths[[\"hannum\"]]     = file.path(data.dir, \"hannum.processed.RData\")\n",
    "file.paths[[\"hannon1\"]]    = file.path(data.dir, \"hannon1.processed.RData\")\n",
    "file.paths[[\"hannon2\"]]    = file.path(data.dir, \"hannon2.processed.RData\")"
   ]
  },
  {
   "cell_type": "code",
   "execution_count": null,
   "metadata": {},
   "outputs": [],
   "source": [
    "load(file.paths[[\"liu\"]])\n",
    "load(file.paths[[\"hannon1\"]])\n",
    "load(file.paths[[\"hannon2\"]])\n",
    "age.consistent.list = list(\"liu\"     = liu, \n",
    "                           \"hannon1\" = hannon1, \n",
    "                           \"hannon2\" = hannon2)"
   ]
  },
  {
   "cell_type": "code",
   "execution_count": null,
   "metadata": {},
   "outputs": [],
   "source": [
    "for (data.name in data.names){\n",
    "    age.consistent.list [[data.name]]$X = age.consistent.list [[data.name]]$X[sig.feature.ids, ]\n",
    "}"
   ]
  },
  {
   "cell_type": "code",
   "execution_count": null,
   "metadata": {},
   "outputs": [],
   "source": [
    "str(age.consistent.list)"
   ]
  },
  {
   "cell_type": "code",
   "execution_count": null,
   "metadata": {
    "scrolled": true
   },
   "outputs": [],
   "source": [
    "str(age.consistent.list)"
   ]
  },
  {
   "cell_type": "code",
   "execution_count": null,
   "metadata": {},
   "outputs": [],
   "source": [
    "saveRDS(age.consistent.list, file.path(data.dir, \"age.consistent.list.rds\"))"
   ]
  },
  {
   "cell_type": "code",
   "execution_count": null,
   "metadata": {},
   "outputs": [],
   "source": []
  },
  {
   "cell_type": "code",
   "execution_count": null,
   "metadata": {},
   "outputs": [],
   "source": []
  },
  {
   "cell_type": "code",
   "execution_count": null,
   "metadata": {},
   "outputs": [],
   "source": []
  },
  {
   "cell_type": "code",
   "execution_count": null,
   "metadata": {},
   "outputs": [],
   "source": [
    "# #https://www.statisticshowto.com/benjamini-hochberg-procedure/#:~:text=The%20Benjamini%2DHochberg%20Procedure%20is,reject%20the%20true%20null%20hypotheses.\n",
    "# hist(p.adjust(c(0.001, 0.008, 0.039, 0.041, 0.042, \n",
    "#            0.06, 0.074, 0.205, 0.234, 0.39, \n",
    "#            0.4, 0.9, 0.34, 0.67, 0.45,\n",
    "#            0.32, 0.45, 0.79, 0.89, 0.43,\n",
    "#            0.34, 0.58, 0.58, 0.97, 0.21), method = \"fdr\"), breaks = 100)\n",
    "# ?p.adjust"
   ]
  },
  {
   "cell_type": "code",
   "execution_count": null,
   "metadata": {},
   "outputs": [],
   "source": []
  },
  {
   "cell_type": "code",
   "execution_count": null,
   "metadata": {},
   "outputs": [],
   "source": []
  },
  {
   "cell_type": "code",
   "execution_count": null,
   "metadata": {},
   "outputs": [],
   "source": []
  },
  {
   "cell_type": "code",
   "execution_count": null,
   "metadata": {},
   "outputs": [],
   "source": []
  },
  {
   "cell_type": "code",
   "execution_count": null,
   "metadata": {},
   "outputs": [],
   "source": []
  },
  {
   "cell_type": "code",
   "execution_count": null,
   "metadata": {},
   "outputs": [],
   "source": []
  },
  {
   "cell_type": "code",
   "execution_count": null,
   "metadata": {},
   "outputs": [],
   "source": []
  },
  {
   "cell_type": "code",
   "execution_count": null,
   "metadata": {},
   "outputs": [],
   "source": []
  },
  {
   "cell_type": "code",
   "execution_count": null,
   "metadata": {},
   "outputs": [],
   "source": []
  },
  {
   "cell_type": "code",
   "execution_count": null,
   "metadata": {},
   "outputs": [],
   "source": []
  },
  {
   "cell_type": "code",
   "execution_count": null,
   "metadata": {},
   "outputs": [],
   "source": []
  },
  {
   "cell_type": "code",
   "execution_count": null,
   "metadata": {},
   "outputs": [],
   "source": []
  },
  {
   "cell_type": "code",
   "execution_count": null,
   "metadata": {},
   "outputs": [],
   "source": []
  }
 ],
 "metadata": {
  "kernelspec": {
   "display_name": "Seurat-V4",
   "language": "R",
   "name": "ir41"
  },
  "language_info": {
   "codemirror_mode": "r",
   "file_extension": ".r",
   "mimetype": "text/x-r-source",
   "name": "R",
   "pygments_lexer": "r",
   "version": "4.1.0"
  }
 },
 "nbformat": 4,
 "nbformat_minor": 4
}
