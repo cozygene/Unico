{
 "cells": [
  {
   "cell_type": "raw",
   "metadata": {},
   "source": [
    "# Depends on the input this notebook fits a TCA model with appropriate C1, C2 and performs association testing \n",
    "# it takes the following arguments\n",
    "# dir.version: choose from \"XY\" or \"YX\" only relavent if fit_assoc is turned on\n",
    "#              \"XY\" indicates that methylation is modeled as the response variable, phenotype as explanatory variable \n",
    "#              \"YX\" indicates that phenotype is modeled as the response variable, methylation as explanatory variable\n",
    "\n",
    "# data.version:  choose from \"liu\" \"hannum\" \"hannon1\" \"hannon2\"\n",
    "# study.version: choose from covariates namesa and \"NA\"\n",
    "#                when fitting the \"XY\" direction, explicitly set it to NA so that all covars are fitted together\n",
    "#                if set it to a specfic covar, we will test the pval calibration by shuffling that covar's sample assignment\n",
    "#                when fitting the \"YX\" direction, explcitly set it to the covar name under test. \n",
    "\n",
    "# fit_model:    boolean, whether to fit the model or not \n",
    "# fit_assoc     boolean, whether to fit association or not\n",
    "# fit_tensor    boolean, whether to perform tensor operation or not\n",
    "\n",
    "# res.dir:      character, which directory to save the result \n",
    "# additional parameters: specify the version of association test to perform \n",
    "\n",
    "# example \n",
    "# Rscript 4.4-Methylation-Association-TCA.r XY liu NA TRUE TRUE FALSE /u/project/halperin/johnsonc/TCAx/TCAx2023/Result/Methylation/Consistency/\n",
    "# Rscript 4.4-Methylation-Association-TCA.r YX hannon1 disease TRUE TRUE TRUE /u/project/halperin/johnsonc/TCAx/TCAx2023/Result/Methylation/Consistency/"
   ]
  },
  {
   "cell_type": "code",
   "execution_count": 1,
   "metadata": {
    "scrolled": true
   },
   "outputs": [
    {
     "name": "stderr",
     "output_type": "stream",
     "text": [
      "Warning message:\n",
      "“package ‘MASS’ was built under R version 4.1.3”\n",
      "\n",
      "Attaching package: ‘config’\n",
      "\n",
      "\n",
      "The following objects are masked from ‘package:base’:\n",
      "\n",
      "    get, merge\n",
      "\n",
      "\n",
      "Loading required package: nlme\n",
      "\n",
      "This is mgcv 1.8-38. For overview type 'help(\"mgcv-package\")'.\n",
      "\n",
      "\n",
      "Attaching package: ‘mgcv’\n",
      "\n",
      "\n",
      "The following object is masked from ‘package:pracma’:\n",
      "\n",
      "    magic\n",
      "\n",
      "\n",
      "\n",
      "Attaching package: ‘futile.logger’\n",
      "\n",
      "\n",
      "The following object is masked from ‘package:mgcv’:\n",
      "\n",
      "    scat\n",
      "\n",
      "\n"
     ]
    }
   ],
   "source": [
    "library(\"TCA\")\n",
    "source(\"analysis.utils.r\")\n",
    "\n",
    "source(\"Association.TCA.utils.r\") # for adding pval\n",
    "source(\"TCAx.r\")# for adding pval\n",
    "set.seed(2023)"
   ]
  },
  {
   "cell_type": "code",
   "execution_count": 2,
   "metadata": {},
   "outputs": [],
   "source": [
    "# args = commandArgs(trailingOnly=TRUE)\n",
    "\n",
    "# dir.version   = as.character(args[1]) \n",
    "# data.version  = as.character(args[2])\n",
    "# study.version = as.character(args[3])\n",
    "\n",
    "# fit_model     = as.logical(args[4])\n",
    "# fit_assoc     = as.logical(args[5])\n",
    "# fit_tensor    = as.logical(args[6])\n",
    "# res.dir       = as.character(args[7])\n",
    "\n",
    "# if (length(args) >=8){\n",
    "#     assoc_versions = as.list(args[8:length(args)])\n",
    "# }else{\n",
    "#     assoc_versions = list(\"parametric.full\", \"parametric.X2\", \"parametric.Q2\", \"parametric.XQ2\")\n",
    "# }"
   ]
  },
  {
   "cell_type": "code",
   "execution_count": 3,
   "metadata": {},
   "outputs": [],
   "source": [
    "dir.version = \"XY\"\n",
    "data.version = \"liu\" # choose from \"liu\" \"hannum\" \"hannon1\" \"hannon2\"\n",
    "study.version = \"NA\" \n",
    "\n",
    "fit_model     = F\n",
    "fit_assoc     = T\n",
    "fit_tensor    = F\n",
    "\n",
    "res.dir = \"/u/project/halperin/johnsonc/TCAx/TCAx2023/Result/Methylation/Consistency/Debug\"\n",
    "assoc_versions = list(\"parametric.full\", \"parametric.X2\", \"parametric.Q2\", \"parametric.XQ2\")"
   ]
  },
  {
   "cell_type": "code",
   "execution_count": 4,
   "metadata": {},
   "outputs": [
    {
     "name": "stdout",
     "output_type": "stream",
     "text": [
      "[1] \"dir.version: XY\"\n",
      "[1] \"data.version: liu\"\n",
      "[1] \"study.version: NA\"\n",
      "[1] \"fit_model: FALSE\"\n",
      "[1] \"fit_assoc: TRUE\"\n",
      "[1] \"fit_tensor: FALSE\"\n",
      "[1] \"res.dir: /u/project/halperin/johnsonc/TCAx/TCAx2023/Result/Methylation/Consistency/Debug\"\n",
      "[1] \"assoc_versions: parametric.full\" \"assoc_versions: parametric.X2\"  \n",
      "[3] \"assoc_versions: parametric.Q2\"   \"assoc_versions: parametric.XQ2\" \n"
     ]
    }
   ],
   "source": [
    "print(paste0(\"dir.version: \", dir.version))\n",
    "print(paste0(\"data.version: \", data.version))\n",
    "print(paste0(\"study.version: \", study.version))\n",
    "print(paste0(\"fit_model: \", fit_model))\n",
    "print(paste0(\"fit_assoc: \", fit_assoc))\n",
    "print(paste0(\"fit_tensor: \", fit_tensor))\n",
    "print(paste0(\"res.dir: \", res.dir))\n",
    "print(paste0(\"assoc_versions: \", assoc_versions))"
   ]
  },
  {
   "cell_type": "code",
   "execution_count": 5,
   "metadata": {},
   "outputs": [],
   "source": [
    "data.dir = \"/u/home/j/johnsonc/project-halperin/TCAx/TCAx2023/Data/Methylation/Consistency/\"\n",
    "\n",
    "file.paths = list()\n",
    "file.paths[[\"liu\"]]        = file.path(data.dir, \"liu.processed.RData\")\n",
    "file.paths[[\"hannum\"]]     = file.path(data.dir, \"hannum.processed.RData\")\n",
    "file.paths[[\"hannon1\"]]    = file.path(data.dir, \"hannon1.processed.RData\")\n",
    "file.paths[[\"hannon2\"]]    = file.path(data.dir, \"hannon2.processed.RData\")"
   ]
  },
  {
   "cell_type": "code",
   "execution_count": 6,
   "metadata": {},
   "outputs": [],
   "source": [
    "if (dir.version == \"XY\" & study.version == \"NA\"){\n",
    "    res.dir = file.path(res.dir, dir.version, data.version)\n",
    "}else if(dir.version == \"XY\" & study.version != \"NA\"){\n",
    "    print(\"################################### WARNING #################################\")\n",
    "    print(paste0(\"in XY direction with study version provided, running the shuffled version on: \", study.version))\n",
    "    res.dir = file.path(res.dir, dir.version, paste0(data.version, \"-\", study.version,  \"-shuffled\"))\n",
    "    print(\"################################### WARNING #################################\")\n",
    "}else if ((dir.version == \"YX\")){\n",
    "    res.dir = file.path(res.dir, dir.version, paste0(data.version, \"-\", study.version))\n",
    "}else{\n",
    "    print(\"wrong dir.version\")\n",
    "}\n",
    "\n",
    "res.file = file.path(res.dir, \n",
    "                     paste0(\"tca.mdl.rds\"))\n",
    "log.file = file.path(res.dir, \n",
    "                     paste0(\"tca.log\"))\n",
    "\n",
    "if (!file.exists(res.dir)){\n",
    "    dir.create(res.dir, recursive = T)\n",
    "}"
   ]
  },
  {
   "cell_type": "code",
   "execution_count": 7,
   "metadata": {},
   "outputs": [
    {
     "data": {
      "text/html": [
       "'/u/project/halperin/johnsonc/TCAx/TCAx2023/Result/Methylation/Consistency/Debug/XY/liu'"
      ],
      "text/latex": [
       "'/u/project/halperin/johnsonc/TCAx/TCAx2023/Result/Methylation/Consistency/Debug/XY/liu'"
      ],
      "text/markdown": [
       "'/u/project/halperin/johnsonc/TCAx/TCAx2023/Result/Methylation/Consistency/Debug/XY/liu'"
      ],
      "text/plain": [
       "[1] \"/u/project/halperin/johnsonc/TCAx/TCAx2023/Result/Methylation/Consistency/Debug/XY/liu\""
      ]
     },
     "metadata": {},
     "output_type": "display_data"
    }
   ],
   "source": [
    "res.dir"
   ]
  },
  {
   "cell_type": "markdown",
   "metadata": {},
   "source": [
    "# Load Data"
   ]
  },
  {
   "cell_type": "code",
   "execution_count": 8,
   "metadata": {},
   "outputs": [],
   "source": [
    "load(file.paths[[data.version]])"
   ]
  },
  {
   "cell_type": "code",
   "execution_count": 9,
   "metadata": {},
   "outputs": [],
   "source": [
    "# by default: for XY direction all biological covars (including study.version y) are included as C1\n",
    "if (data.version == \"liu\"){\n",
    "    X  = liu$X; \n",
    "    W  = liu$W; \n",
    "    C1 = liu$cov[, c(\"age\", \"gender\", \"disease\",\"smoking\")];\n",
    "    C2 = liu$ctrl_pcs;\n",
    "}else if(data.version == \"hannum\"){\n",
    "    X  = hannum$X; \n",
    "    W  = hannum$W; \n",
    "    C1 = hannum$cov[, c(\"age\", \"gender\", \"ethnicity\", \"smoking\")];\n",
    "    C2 = cbind(hannum$ctrl_pcs, hannum$cov[,\"plate\", drop = F])\n",
    "\n",
    "}else if(data.version == \"hannon1\"){\n",
    "    X  = hannon1$X; \n",
    "    W  = hannon1$W; \n",
    "    C1 = hannon1$cov[, c(\"age\", \"gender\", \"disease\")];\n",
    "    C2 = hannon1$ctrl_pcs\n",
    "\n",
    "}else if(data.version == \"hannon2\"){\n",
    "    X  = hannon2$X; \n",
    "    W  = hannon2$W; \n",
    "    C1 = hannon2$cov[, c(\"age\", \"gender\", \"disease\")];\n",
    "    C2 = hannon2$ctrl_pcs\n",
    "}else{\n",
    "    print(\"check your input\")    \n",
    "}\n",
    "\n",
    "\n",
    "if (dir.version == \"YX\"){\n",
    "    # C1 excludes y so each get a different directory\n",
    "    y = C1[,study.version, drop = F]\n",
    "    # TODO add conversion to binary if needed \n",
    "    C1 = C1[, setdiff(colnames(C1), c(study.version))]\n",
    "    \n",
    "    if(study.version == \"disease\"){\n",
    "        message(\"make the control 0 and case 1\")\n",
    "        y = y - 1\n",
    "        table(y)\n",
    "    }\n",
    "    if(study.version == \"smoking\"){\n",
    "        message(\"converting never smoke 0 and ever smoked 1\")\n",
    "        y[y>0,] = 1\n",
    "        table(y)\n",
    "    }\n",
    "    if(study.version == \"gender\"){\n",
    "        message(\"converting gender to 0 and 1\")\n",
    "        y = y - 1\n",
    "        table(y)\n",
    "    }\n",
    "}"
   ]
  },
  {
   "cell_type": "code",
   "execution_count": 10,
   "metadata": {},
   "outputs": [],
   "source": [
    "if (dir.version == \"XY\" & study.version != \"NA\"){\n",
    "    print(paste0(\"shuffeling the pehnotype of interest:\", study.version))\n",
    "    print(paste0(\"before shuffeling \"))\n",
    "    print(C1[1:10,])\n",
    "    C1[,study.version] = sample(as.numeric(C1[,study.version]))\n",
    "    print(paste0(\"after shuffeling \"))\n",
    "    print(C1[1:10,])\n",
    "}"
   ]
  },
  {
   "cell_type": "code",
   "execution_count": 11,
   "metadata": {},
   "outputs": [],
   "source": [
    "#reorder W by aboundance \n",
    "W = W[,order(-colMeans(W))]"
   ]
  },
  {
   "cell_type": "markdown",
   "metadata": {},
   "source": [
    "# Debug"
   ]
  },
  {
   "cell_type": "code",
   "execution_count": 12,
   "metadata": {},
   "outputs": [],
   "source": [
    "X = X[1:1000, ]"
   ]
  },
  {
   "cell_type": "code",
   "execution_count": 13,
   "metadata": {},
   "outputs": [
    {
     "data": {
      "text/html": [
       "<style>\n",
       ".list-inline {list-style: none; margin:0; padding: 0}\n",
       ".list-inline>li {display: inline-block}\n",
       ".list-inline>li:not(:last-child)::after {content: \"\\00b7\"; padding: 0 .5ex}\n",
       "</style>\n",
       "<ol class=list-inline><li>1000</li><li>687</li></ol>\n"
      ],
      "text/latex": [
       "\\begin{enumerate*}\n",
       "\\item 1000\n",
       "\\item 687\n",
       "\\end{enumerate*}\n"
      ],
      "text/markdown": [
       "1. 1000\n",
       "2. 687\n",
       "\n",
       "\n"
      ],
      "text/plain": [
       "[1] 1000  687"
      ]
     },
     "metadata": {},
     "output_type": "display_data"
    }
   ],
   "source": [
    "dim(X)"
   ]
  },
  {
   "cell_type": "markdown",
   "metadata": {},
   "source": [
    "## Run TCA"
   ]
  },
  {
   "cell_type": "code",
   "execution_count": 14,
   "metadata": {},
   "outputs": [
    {
     "name": "stdout",
     "output_type": "stream",
     "text": [
      "Time difference of 0.001693726 secs\n"
     ]
    }
   ],
   "source": [
    "start.t = Sys.time()\n",
    "if (fit_model){\n",
    "    tca.mdl = list()\n",
    "    tca.mdl$params.hat <- tca(X = X, W = W, C1 = C1, C2 = C2, verbose = TRUE, \n",
    "                              parallel = F, num_cores = 1, log_file = log.file)\n",
    "\n",
    "                                \n",
    "    #capping at interal scale\n",
    "    tca.mdl$params.hat$sigmas_hat  = cap_values(tca.mdl$params.hat$sigmas_hat,  max.val = 10 ** (4), min.val = 10**(-4))\n",
    "    #save the object with estiamted parameters\n",
    "    saveRDS(tca.mdl, res.file)\n",
    "}\n",
    "end.t = Sys.time()\n",
    "print(end.t - start.t)"
   ]
  },
  {
   "cell_type": "code",
   "execution_count": 15,
   "metadata": {},
   "outputs": [
    {
     "name": "stderr",
     "output_type": "stream",
     "text": [
      "running association\n",
      "\n"
     ]
    },
    {
     "name": "stdout",
     "output_type": "stream",
     "text": [
      "INFO [2023-07-08 15:46:26] Preparing weights for parametric pvals calculation ...\n",
      "INFO [2023-07-08 15:46:26] Starting parametric pvals calculation: parametric.full\n",
      "  |++++++++++++++++++++++++++++++++++++++++++++++++++| 100% elapsed=01m 04s\n",
      "INFO [2023-07-08 15:47:31] Finished parametric pvals calculation: parametric.full\n",
      "INFO [2023-07-08 15:47:31] Preparing weights for parametric pvals calculation ...\n",
      "INFO [2023-07-08 15:47:31] Starting parametric pvals calculation: parametric.X2\n",
      "  |++++++++++++++++++++++++++++++++++++++++++++++++++| 100% elapsed=01m 02s\n",
      "INFO [2023-07-08 15:48:34] Finished parametric pvals calculation: parametric.X2\n",
      "INFO [2023-07-08 15:48:35] Preparing weights for parametric pvals calculation ...\n",
      "INFO [2023-07-08 15:48:35] Starting parametric pvals calculation: parametric.Q2\n",
      "  |++++++++++++++++++++++++++++++++++++++++++++++++++| 100% elapsed=01m 03s\n",
      "INFO [2023-07-08 15:49:37] Finished parametric pvals calculation: parametric.Q2\n",
      "INFO [2023-07-08 15:49:39] Preparing weights for parametric pvals calculation ...\n",
      "INFO [2023-07-08 15:49:39] Starting parametric pvals calculation: parametric.XQ2\n",
      "  |++++++++++++++++++++++++++++++++++++++++++++++++++| 100% elapsed=01m 04s\n",
      "INFO [2023-07-08 15:50:42] Finished parametric pvals calculation: parametric.XQ2\n"
     ]
    }
   ],
   "source": [
    "if (dir.version == \"XY\" & fit_assoc){\n",
    "    message(\"running association\")\n",
    "    tca.mdl = readRDS(res.file)    \n",
    "                              \n",
    "    if (\"parametric.full\" %in% assoc_versions){                  \n",
    "        tca.mdl$params.hat = add_C1_C2_pvals_parametric_TCA(X = X, \n",
    "                                                            TCA.mdl = tca.mdl$params.hat, \n",
    "                                                            slot_name = \"parametric.full\", \n",
    "                                                            diag_only = F, # sigmas are already in diag format now\n",
    "                                                            intercept = T, # dont fit intercept: lm ~ 0 + .\n",
    "                                                            X_max_stds = Inf, \n",
    "                                                            Q_max_stds = Inf, \n",
    "                                                            XQ_max_stds = Inf, \n",
    "                                                            parallel = FALSE, num_cores = NULL, \n",
    "                                                            config_file = NULL, log_file = NULL, debug = FALSE, verbose = TRUE)\n",
    "    saveRDS(tca.mdl, res.file)}\n",
    "    \n",
    "\n",
    "    if (\"parametric.X2\" %in% assoc_versions){                   \n",
    "            tca.mdl$params.hat = add_C1_C2_pvals_parametric_TCA(X = X, \n",
    "                                                            TCA.mdl = tca.mdl$params.hat, \n",
    "                                                            slot_name = \"parametric.X2\", \n",
    "                                                            diag_only = F, # sigmas are already in diag format now\n",
    "                                                            intercept = T, # dont fit intercept: lm ~ 0 + .\n",
    "                                                            X_max_stds = 2, \n",
    "                                                            Q_max_stds = Inf, \n",
    "                                                            XQ_max_stds = Inf, \n",
    "                                                            parallel = FALSE, num_cores = NULL, \n",
    "                                                            config_file = NULL, log_file = NULL, debug = FALSE, verbose = TRUE)\n",
    "    saveRDS(tca.mdl, res.file)}\n",
    "    \n",
    "    if (\"parametric.Q2\" %in% assoc_versions){                   \n",
    "            tca.mdl$params.hat = add_C1_C2_pvals_parametric_TCA(X = X, \n",
    "                                                            TCA.mdl = tca.mdl$params.hat, \n",
    "                                                            slot_name = \"parametric.Q2\", \n",
    "                                                            diag_only = F, # sigmas are already in diag format now\n",
    "                                                            intercept = T, # dont fit intercept: lm ~ 0 + .\n",
    "                                                            X_max_stds = Inf, \n",
    "                                                            Q_max_stds = 2, \n",
    "                                                            XQ_max_stds = Inf, \n",
    "                                                            parallel = FALSE, num_cores = NULL, \n",
    "                                                            config_file = NULL, log_file = NULL, debug = FALSE, verbose = TRUE)\n",
    "    saveRDS(tca.mdl, res.file)}\n",
    "    \n",
    "    \n",
    "    if (\"parametric.XQ2\" %in% assoc_versions){                   \n",
    "        tca.mdl$params.hat = add_C1_C2_pvals_parametric_TCA(X = X, \n",
    "                                                            TCA.mdl = tca.mdl$params.hat, \n",
    "                                                            slot_name = \"parametric.XQ2\", \n",
    "                                                            diag_only = F, # sigmas are already in diag format now\n",
    "                                                            intercept = T, # dont fit intercept: lm ~ 0 + .\n",
    "                                                            X_max_stds = Inf, \n",
    "                                                            Q_max_stds = Inf, \n",
    "                                                            XQ_max_stds = 2, \n",
    "                                                            parallel = FALSE, num_cores = NULL, \n",
    "                                                            config_file = NULL, log_file = NULL, debug = FALSE, verbose = TRUE)\n",
    "    saveRDS(tca.mdl, res.file)}\n",
    "    \n",
    "    if (\"parametric.X2Q2\" %in% assoc_versions){                   \n",
    "        tca.mdl$params.hat = add_C1_C2_pvals_parametric_TCA(X = X, \n",
    "                                                            TCA.mdl = tca.mdl$params.hat, \n",
    "                                                            slot_name = \"parametric.X2Q2\", \n",
    "                                                            diag_only = F, # sigmas are already in diag format now\n",
    "                                                            intercept = T, # dont fit intercept: lm ~ 0 + .\n",
    "                                                            X_max_stds = 2, \n",
    "                                                            Q_max_stds = 2, \n",
    "                                                            XQ_max_stds = Inf, \n",
    "                                                            parallel = FALSE, num_cores = NULL, \n",
    "                                                            config_file = NULL, log_file = NULL, debug = FALSE, verbose = TRUE)\n",
    "    saveRDS(tca.mdl, res.file)}\n",
    "\n",
    "\n",
    "    \n",
    "    \n",
    "    \n",
    "}"
   ]
  },
  {
   "cell_type": "code",
   "execution_count": 16,
   "metadata": {},
   "outputs": [
    {
     "name": "stdout",
     "output_type": "stream",
     "text": [
      "List of 1\n",
      " $ params.hat:List of 15\n",
      "  ..$ W                     : num [1:687, 1:6] 0.683 0.727 0.846 0.733 0.626 ...\n",
      "  .. ..- attr(*, \"dimnames\")=List of 2\n",
      "  .. .. ..$ : chr [1:687] \"GSM1051525\" \"GSM1051526\" \"GSM1051527\" \"GSM1051528\" ...\n",
      "  .. .. ..$ : chr [1:6] \"Gran\" \"CD4T\" \"CD8T\" \"Mono\" ...\n",
      "  ..$ mus_hat               : num [1:1000, 1:6] 0.7277 0.3121 0.1476 0.0798 0.9016 ...\n",
      "  .. ..- attr(*, \"dimnames\")=List of 2\n",
      "  .. .. ..$ : chr [1:1000] \"cg00001349\" \"cg00002837\" \"cg00003287\" \"cg00008647\" ...\n",
      "  .. .. ..$ : chr [1:6] \"Gran\" \"CD4T\" \"CD8T\" \"Mono\" ...\n",
      "  ..$ sigmas_hat            : num [1:1000, 1:6] 0.085 0.0134 0.0124 0.01 0.0256 ...\n",
      "  .. ..- attr(*, \"dimnames\")=List of 2\n",
      "  .. .. ..$ : chr [1:1000] \"cg00001349\" \"cg00002837\" \"cg00003287\" \"cg00008647\" ...\n",
      "  .. .. ..$ : chr [1:6] \"Gran\" \"CD4T\" \"CD8T\" \"Mono\" ...\n",
      "  ..$ tau_hat               : Named num 0.027\n",
      "  .. ..- attr(*, \"names\")= chr \"\"\n",
      "  ..$ deltas_hat            : num [1:1000, 1:20] 1.35e-04 9.20e-05 9.01e-05 -6.07e-05 -2.01e-04 ...\n",
      "  .. ..- attr(*, \"dimnames\")=List of 2\n",
      "  .. .. ..$ : chr [1:1000] \"cg00001349\" \"cg00002837\" \"cg00003287\" \"cg00008647\" ...\n",
      "  .. .. ..$ : chr [1:20] \"PC1\" \"PC2\" \"PC3\" \"PC4\" ...\n",
      "  ..$ gammas_hat            : num [1:1000, 1:24] 0.000552 -0.000472 0.000285 0.000752 -0.000213 ...\n",
      "  .. ..- attr(*, \"dimnames\")=List of 2\n",
      "  .. .. ..$ : chr [1:1000] \"cg00001349\" \"cg00002837\" \"cg00003287\" \"cg00008647\" ...\n",
      "  .. .. ..$ : chr [1:24, 1] \"Gran.age\" \"Gran.gender\" \"Gran.disease\" \"Gran.smoking\" ...\n",
      "  ..$ deltas_hat_pvals      : num [1:1000, 1:20] 6.12e-03 1.04e-03 1.04e-05 2.22e-02 5.31e-24 ...\n",
      "  .. ..- attr(*, \"dimnames\")=List of 2\n",
      "  .. .. ..$ : chr [1:1000] \"cg00001349\" \"cg00002837\" \"cg00003287\" \"cg00008647\" ...\n",
      "  .. .. ..$ : chr [1:20] \"PC1\" \"PC2\" \"PC3\" \"PC4\" ...\n",
      "  ..$ gammas_hat_pvals      : num [1:1000, 1:24] 0.5434 0.3468 0.4229 0.0742 0.4637 ...\n",
      "  .. ..- attr(*, \"dimnames\")=List of 2\n",
      "  .. .. ..$ : chr [1:1000] \"cg00001349\" \"cg00002837\" \"cg00003287\" \"cg00008647\" ...\n",
      "  .. .. ..$ : chr [1:24, 1] \"Gran.age\" \"Gran.gender\" \"Gran.disease\" \"Gran.smoking\" ...\n",
      "  ..$ gammas_hat_pvals.joint: num [1:1000, 1:4] 0.5817 0.00736 0.02422 0.26417 0.9071 ...\n",
      "  .. ..- attr(*, \"dimnames\")=List of 2\n",
      "  .. .. ..$ : chr [1:1000] \"cg00001349\" \"cg00002837\" \"cg00003287\" \"cg00008647\" ...\n",
      "  .. .. ..$ : chr [1:4] \"age\" \"gender\" \"disease\" \"smoking\"\n",
      "  ..$ C1                    : num [1:687, 1:4] 50 32 36 45 16 42 49 34 38 20 ...\n",
      "  .. ..- attr(*, \"dimnames\")=List of 2\n",
      "  .. .. ..$ : chr [1:687] \"GSM1051525\" \"GSM1051526\" \"GSM1051527\" \"GSM1051528\" ...\n",
      "  .. .. ..$ : chr [1:4] \"age\" \"gender\" \"disease\" \"smoking\"\n",
      "  ..$ C2                    : num [1:687, 1:20] -47.6 -53.2 -54 -83.3 -39.5 ...\n",
      "  .. ..- attr(*, \"dimnames\")=List of 2\n",
      "  .. .. ..$ : chr [1:687] \"GSM1051525\" \"GSM1051526\" \"GSM1051527\" \"GSM1051528\" ...\n",
      "  .. .. ..$ : chr [1:20] \"PC1\" \"PC2\" \"PC3\" \"PC4\" ...\n",
      "  ..$ parametric.full       :List of 10\n",
      "  .. ..$ Q                     : num [1:1000, 1:687] 200 1139 1227 647 861 ...\n",
      "  .. .. ..- attr(*, \"dimnames\")=List of 2\n",
      "  .. .. .. ..$ : chr [1:1000] \"cg00001349\" \"cg00002837\" \"cg00003287\" \"cg00008647\" ...\n",
      "  .. .. .. ..$ : chr [1:687] \"GSM1051525\" \"GSM1051526\" \"GSM1051527\" \"GSM1051528\" ...\n",
      "  .. ..$ masks                 : num [1:1000, 1:687] 1 1 1 1 1 1 1 1 1 1 ...\n",
      "  .. .. ..- attr(*, \"dimnames\")=List of 2\n",
      "  .. .. .. ..$ : chr [1:1000] \"cg00001349\" \"cg00002837\" \"cg00003287\" \"cg00008647\" ...\n",
      "  .. .. .. ..$ : chr [1:687] \"GSM1051525\" \"GSM1051526\" \"GSM1051527\" \"GSM1051528\" ...\n",
      "  .. ..$ phi_hat               : num [1:1000, 1:50] 0.685 0.446 0.133 0.142 0.951 ...\n",
      "  .. .. ..- attr(*, \"dimnames\")=List of 2\n",
      "  .. .. .. ..$ : chr [1:1000] \"cg00001349\" \"cg00002837\" \"cg00003287\" \"cg00008647\" ...\n",
      "  .. .. .. ..$ : chr [1:50] \"Gran\" \"CD4T\" \"CD8T\" \"Mono\" ...\n",
      "  .. ..$ phi_se                : num [1:1000, 1:50] 0.1008 0.1246 0.1155 0.0411 0.0471 ...\n",
      "  .. .. ..- attr(*, \"dimnames\")=List of 2\n",
      "  .. .. .. ..$ : chr [1:1000] \"cg00001349\" \"cg00002837\" \"cg00003287\" \"cg00008647\" ...\n",
      "  .. .. .. ..$ : chr [1:50] \"Gran\" \"CD4T\" \"CD8T\" \"Mono\" ...\n",
      "  .. ..$ phi_hat_pvals         : num [1:1000, 1:50] 2.40e-11 3.69e-04 2.51e-01 6.02e-04 2.23e-70 ...\n",
      "  .. .. ..- attr(*, \"dimnames\")=List of 2\n",
      "  .. .. .. ..$ : chr [1:1000] \"cg00001349\" \"cg00002837\" \"cg00003287\" \"cg00008647\" ...\n",
      "  .. .. .. ..$ : chr [1:50] \"Gran\" \"CD4T\" \"CD8T\" \"Mono\" ...\n",
      "  .. ..$ gammas_hat            : num [1:1000, 1:24] 0.000533 -0.000471 0.000286 0.000783 -0.000247 ...\n",
      "  .. .. ..- attr(*, \"dimnames\")=List of 2\n",
      "  .. .. .. ..$ : chr [1:1000] \"cg00001349\" \"cg00002837\" \"cg00003287\" \"cg00008647\" ...\n",
      "  .. .. .. ..$ : chr [1:24] \"Gran.age\" \"Gran.gender\" \"Gran.disease\" \"Gran.smoking\" ...\n",
      "  .. ..$ betas_hat             : num [1:1000, 1:20] 1.34e-04 9.31e-05 8.99e-05 -5.74e-05 -2.01e-04 ...\n",
      "  .. .. ..- attr(*, \"dimnames\")=List of 2\n",
      "  .. .. .. ..$ : chr [1:1000] \"cg00001349\" \"cg00002837\" \"cg00003287\" \"cg00008647\" ...\n",
      "  .. .. .. ..$ : chr [1:20] \"PC1\" \"PC2\" \"PC3\" \"PC4\" ...\n",
      "  .. ..$ gammas_hat_pvals      : num [1:1000, 1:24] 0.5434 0.3468 0.4229 0.0742 0.4637 ...\n",
      "  .. .. ..- attr(*, \"dimnames\")=List of 2\n",
      "  .. .. .. ..$ : chr [1:1000] \"cg00001349\" \"cg00002837\" \"cg00003287\" \"cg00008647\" ...\n",
      "  .. .. .. ..$ : chr [1:24] \"Gran.age\" \"Gran.gender\" \"Gran.disease\" \"Gran.smoking\" ...\n",
      "  .. ..$ betas_hat_pvals       : num [1:1000, 1:20] 6.12e-03 1.04e-03 1.04e-05 2.22e-02 5.31e-24 ...\n",
      "  .. .. ..- attr(*, \"dimnames\")=List of 2\n",
      "  .. .. .. ..$ : chr [1:1000] \"cg00001349\" \"cg00002837\" \"cg00003287\" \"cg00008647\" ...\n",
      "  .. .. .. ..$ : chr [1:20] \"PC1\" \"PC2\" \"PC3\" \"PC4\" ...\n",
      "  .. ..$ gammas_hat_pvals.joint: num [1:1000, 1:4] 0.5817 0.00736 0.02422 0.26417 0.9071 ...\n",
      "  .. .. ..- attr(*, \"dimnames\")=List of 2\n",
      "  .. .. .. ..$ : chr [1:1000] \"cg00001349\" \"cg00002837\" \"cg00003287\" \"cg00008647\" ...\n",
      "  .. .. .. ..$ : chr [1:4] \"age\" \"gender\" \"disease\" \"smoking\"\n",
      "  ..$ parametric.X2         :List of 10\n",
      "  .. ..$ Q                     : num [1:1000, 1:687] 200 1139 1227 647 861 ...\n",
      "  .. .. ..- attr(*, \"dimnames\")=List of 2\n",
      "  .. .. .. ..$ : chr [1:1000] \"cg00001349\" \"cg00002837\" \"cg00003287\" \"cg00008647\" ...\n",
      "  .. .. .. ..$ : chr [1:687] \"GSM1051525\" \"GSM1051526\" \"GSM1051527\" \"GSM1051528\" ...\n",
      "  .. ..$ masks                 : num [1:1000, 1:687] 1 1 1 1 1 1 1 0 1 1 ...\n",
      "  .. .. ..- attr(*, \"dimnames\")=List of 2\n",
      "  .. .. .. ..$ : chr [1:1000] \"cg00001349\" \"cg00002837\" \"cg00003287\" \"cg00008647\" ...\n",
      "  .. .. .. ..$ : chr [1:687] \"GSM1051525\" \"GSM1051526\" \"GSM1051527\" \"GSM1051528\" ...\n",
      "  .. ..$ phi_hat               : num [1:1000, 1:50] 0.732 0.3471 0.0703 0.1561 0.9467 ...\n",
      "  .. .. ..- attr(*, \"dimnames\")=List of 2\n",
      "  .. .. .. ..$ : chr [1:1000] \"cg00001349\" \"cg00002837\" \"cg00003287\" \"cg00008647\" ...\n",
      "  .. .. .. ..$ : chr [1:50] \"Gran\" \"CD4T\" \"CD8T\" \"Mono\" ...\n",
      "  .. ..$ phi_se                : num [1:1000, 1:50] 0.0595 0.1131 0.0988 0.0415 0.0423 ...\n",
      "  .. .. ..- attr(*, \"dimnames\")=List of 2\n",
      "  .. .. .. ..$ : chr [1:1000] \"cg00001349\" \"cg00002837\" \"cg00003287\" \"cg00008647\" ...\n",
      "  .. .. .. ..$ : chr [1:50] \"Gran\" \"CD4T\" \"CD8T\" \"Mono\" ...\n",
      "  .. ..$ phi_hat_pvals         : num [1:1000, 1:50] 2.65e-31 2.24e-03 4.77e-01 1.83e-04 2.87e-81 ...\n",
      "  .. .. ..- attr(*, \"dimnames\")=List of 2\n",
      "  .. .. .. ..$ : chr [1:1000] \"cg00001349\" \"cg00002837\" \"cg00003287\" \"cg00008647\" ...\n",
      "  .. .. .. ..$ : chr [1:50] \"Gran\" \"CD4T\" \"CD8T\" \"Mono\" ...\n",
      "  .. ..$ gammas_hat            : num [1:1000, 1:24] 0.000734 -0.000247 0.000392 0.000685 -0.000141 ...\n",
      "  .. .. ..- attr(*, \"dimnames\")=List of 2\n",
      "  .. .. .. ..$ : chr [1:1000] \"cg00001349\" \"cg00002837\" \"cg00003287\" \"cg00008647\" ...\n",
      "  .. .. .. ..$ : chr [1:24] \"Gran.age\" \"Gran.gender\" \"Gran.disease\" \"Gran.smoking\" ...\n",
      "  .. ..$ betas_hat             : num [1:1000, 1:20] 1.38e-04 5.13e-05 9.72e-05 -4.65e-05 -1.54e-04 ...\n",
      "  .. .. ..- attr(*, \"dimnames\")=List of 2\n",
      "  .. .. .. ..$ : chr [1:1000] \"cg00001349\" \"cg00002837\" \"cg00003287\" \"cg00008647\" ...\n",
      "  .. .. .. ..$ : chr [1:20] \"PC1\" \"PC2\" \"PC3\" \"PC4\" ...\n",
      "  .. ..$ gammas_hat_pvals      : num [1:1000, 1:24] 0.156 0.583 0.2 0.105 0.63 ...\n",
      "  .. .. ..- attr(*, \"dimnames\")=List of 2\n",
      "  .. .. .. ..$ : chr [1:1000] \"cg00001349\" \"cg00002837\" \"cg00003287\" \"cg00008647\" ...\n",
      "  .. .. .. ..$ : chr [1:24] \"Gran.age\" \"Gran.gender\" \"Gran.disease\" \"Gran.smoking\" ...\n",
      "  .. ..$ betas_hat_pvals       : num [1:1000, 1:20] 2.05e-06 4.40e-02 3.21e-07 5.21e-02 5.92e-19 ...\n",
      "  .. .. ..- attr(*, \"dimnames\")=List of 2\n",
      "  .. .. .. ..$ : chr [1:1000] \"cg00001349\" \"cg00002837\" \"cg00003287\" \"cg00008647\" ...\n",
      "  .. .. .. ..$ : chr [1:20] \"PC1\" \"PC2\" \"PC3\" \"PC4\" ...\n",
      "  .. ..$ gammas_hat_pvals.joint: num [1:1000, 1:4] 0.219 0.166 0.157 0.674 0.864 ...\n",
      "  .. .. ..- attr(*, \"dimnames\")=List of 2\n",
      "  .. .. .. ..$ : chr [1:1000] \"cg00001349\" \"cg00002837\" \"cg00003287\" \"cg00008647\" ...\n",
      "  .. .. .. ..$ : chr [1:4] \"age\" \"gender\" \"disease\" \"smoking\"\n",
      "  ..$ parametric.Q2         :List of 10\n",
      "  .. ..$ Q                     : num [1:1000, 1:687] 200 1139 1227 647 861 ...\n",
      "  .. .. ..- attr(*, \"dimnames\")=List of 2\n",
      "  .. .. .. ..$ : chr [1:1000] \"cg00001349\" \"cg00002837\" \"cg00003287\" \"cg00008647\" ...\n",
      "  .. .. .. ..$ : chr [1:687] \"GSM1051525\" \"GSM1051526\" \"GSM1051527\" \"GSM1051528\" ...\n",
      "  .. ..$ masks                 : num [1:1000, 1:687] 1 1 1 1 1 1 1 1 1 1 ...\n",
      "  .. .. ..- attr(*, \"dimnames\")=List of 2\n",
      "  .. .. .. ..$ : chr [1:1000] \"cg00001349\" \"cg00002837\" \"cg00003287\" \"cg00008647\" ...\n",
      "  .. .. .. ..$ : chr [1:687] \"GSM1051525\" \"GSM1051526\" \"GSM1051527\" \"GSM1051528\" ...\n",
      "  .. ..$ phi_hat               : num [1:1000, 1:50] 0.743 0.474 0.289 0.124 0.958 ...\n",
      "  .. .. ..- attr(*, \"dimnames\")=List of 2\n",
      "  .. .. .. ..$ : chr [1:1000] \"cg00001349\" \"cg00002837\" \"cg00003287\" \"cg00008647\" ...\n",
      "  .. .. .. ..$ : chr [1:50] \"Gran\" \"CD4T\" \"CD8T\" \"Mono\" ...\n",
      "  .. ..$ phi_se                : num [1:1000, 1:50] 0.1156 0.185 0.1849 0.0468 0.061 ...\n",
      "  .. .. ..- attr(*, \"dimnames\")=List of 2\n",
      "  .. .. .. ..$ : chr [1:1000] \"cg00001349\" \"cg00002837\" \"cg00003287\" \"cg00008647\" ...\n",
      "  .. .. .. ..$ : chr [1:50] \"Gran\" \"CD4T\" \"CD8T\" \"Mono\" ...\n",
      "  .. ..$ phi_hat_pvals         : num [1:1000, 1:50] 2.61e-10 1.06e-02 1.18e-01 8.13e-03 8.34e-47 ...\n",
      "  .. .. ..- attr(*, \"dimnames\")=List of 2\n",
      "  .. .. .. ..$ : chr [1:1000] \"cg00001349\" \"cg00002837\" \"cg00003287\" \"cg00008647\" ...\n",
      "  .. .. .. ..$ : chr [1:50] \"Gran\" \"CD4T\" \"CD8T\" \"Mono\" ...\n",
      "  .. ..$ gammas_hat            : num [1:1000, 1:24] 0.000735 -0.000619 0.000379 0.000718 -0.000345 ...\n",
      "  .. .. ..- attr(*, \"dimnames\")=List of 2\n",
      "  .. .. .. ..$ : chr [1:1000] \"cg00001349\" \"cg00002837\" \"cg00003287\" \"cg00008647\" ...\n",
      "  .. .. .. ..$ : chr [1:24] \"Gran.age\" \"Gran.gender\" \"Gran.disease\" \"Gran.smoking\" ...\n",
      "  .. ..$ betas_hat             : num [1:1000, 1:20] 1.36e-04 9.46e-05 1.05e-04 -5.43e-05 -2.04e-04 ...\n",
      "  .. .. ..- attr(*, \"dimnames\")=List of 2\n",
      "  .. .. .. ..$ : chr [1:1000] \"cg00001349\" \"cg00002837\" \"cg00003287\" \"cg00008647\" ...\n",
      "  .. .. .. ..$ : chr [1:20] \"PC1\" \"PC2\" \"PC3\" \"PC4\" ...\n",
      "  .. ..$ gammas_hat_pvals      : num [1:1000, 1:24] 0.433 0.231 0.284 0.105 0.336 ...\n",
      "  .. .. ..- attr(*, \"dimnames\")=List of 2\n",
      "  .. .. .. ..$ : chr [1:1000] \"cg00001349\" \"cg00002837\" \"cg00003287\" \"cg00008647\" ...\n",
      "  .. .. .. ..$ : chr [1:24] \"Gran.age\" \"Gran.gender\" \"Gran.disease\" \"Gran.smoking\" ...\n",
      "  .. ..$ betas_hat_pvals       : num [1:1000, 1:20] 8.82e-03 1.13e-03 1.61e-06 2.97e-02 1.47e-23 ...\n",
      "  .. .. ..- attr(*, \"dimnames\")=List of 2\n",
      "  .. .. .. ..$ : chr [1:1000] \"cg00001349\" \"cg00002837\" \"cg00003287\" \"cg00008647\" ...\n",
      "  .. .. .. ..$ : chr [1:20] \"PC1\" \"PC2\" \"PC3\" \"PC4\" ...\n",
      "  .. ..$ gammas_hat_pvals.joint: num [1:1000, 1:4] 0.4965 0.0122 0.0364 0.5575 0.8362 ...\n",
      "  .. .. ..- attr(*, \"dimnames\")=List of 2\n",
      "  .. .. .. ..$ : chr [1:1000] \"cg00001349\" \"cg00002837\" \"cg00003287\" \"cg00008647\" ...\n",
      "  .. .. .. ..$ : chr [1:4] \"age\" \"gender\" \"disease\" \"smoking\"\n",
      "  ..$ parametric.XQ2        :List of 10\n",
      "  .. ..$ Q                     : num [1:1000, 1:687] 200 1139 1227 647 861 ...\n",
      "  .. .. ..- attr(*, \"dimnames\")=List of 2\n",
      "  .. .. .. ..$ : chr [1:1000] \"cg00001349\" \"cg00002837\" \"cg00003287\" \"cg00008647\" ...\n",
      "  .. .. .. ..$ : chr [1:687] \"GSM1051525\" \"GSM1051526\" \"GSM1051527\" \"GSM1051528\" ...\n",
      "  .. ..$ masks                 : num [1:1000, 1:687] 1 1 1 1 1 1 1 1 1 1 ...\n",
      "  .. .. ..- attr(*, \"dimnames\")=List of 2\n",
      "  .. .. .. ..$ : chr [1:1000] \"cg00001349\" \"cg00002837\" \"cg00003287\" \"cg00008647\" ...\n",
      "  .. .. .. ..$ : chr [1:687] \"GSM1051525\" \"GSM1051526\" \"GSM1051527\" \"GSM1051528\" ...\n",
      "  .. ..$ phi_hat               : num [1:1000, 1:50] 0.765 0.3074 0.0376 0.1124 0.9362 ...\n",
      "  .. .. ..- attr(*, \"dimnames\")=List of 2\n",
      "  .. .. .. ..$ : chr [1:1000] \"cg00001349\" \"cg00002837\" \"cg00003287\" \"cg00008647\" ...\n",
      "  .. .. .. ..$ : chr [1:50] \"Gran\" \"CD4T\" \"CD8T\" \"Mono\" ...\n",
      "  .. ..$ phi_se                : num [1:1000, 1:50] 0.0638 0.1096 0.102 0.0381 0.0542 ...\n",
      "  .. .. ..- attr(*, \"dimnames\")=List of 2\n",
      "  .. .. .. ..$ : chr [1:1000] \"cg00001349\" \"cg00002837\" \"cg00003287\" \"cg00008647\" ...\n",
      "  .. .. .. ..$ : chr [1:50] \"Gran\" \"CD4T\" \"CD8T\" \"Mono\" ...\n",
      "  .. ..$ phi_hat_pvals         : num [1:1000, 1:50] 7.09e-30 5.22e-03 7.12e-01 3.29e-03 1.25e-54 ...\n",
      "  .. .. ..- attr(*, \"dimnames\")=List of 2\n",
      "  .. .. .. ..$ : chr [1:1000] \"cg00001349\" \"cg00002837\" \"cg00003287\" \"cg00008647\" ...\n",
      "  .. .. .. ..$ : chr [1:50] \"Gran\" \"CD4T\" \"CD8T\" \"Mono\" ...\n",
      "  .. ..$ gammas_hat            : num [1:1000, 1:24] 0.000584 -0.000245 0.000398 0.000668 -0.000337 ...\n",
      "  .. .. ..- attr(*, \"dimnames\")=List of 2\n",
      "  .. .. .. ..$ : chr [1:1000] \"cg00001349\" \"cg00002837\" \"cg00003287\" \"cg00008647\" ...\n",
      "  .. .. .. ..$ : chr [1:24] \"Gran.age\" \"Gran.gender\" \"Gran.disease\" \"Gran.smoking\" ...\n",
      "  .. ..$ betas_hat             : num [1:1000, 1:20] 1.32e-04 5.23e-05 9.52e-05 -4.97e-05 -1.94e-04 ...\n",
      "  .. .. ..- attr(*, \"dimnames\")=List of 2\n",
      "  .. .. .. ..$ : chr [1:1000] \"cg00001349\" \"cg00002837\" \"cg00003287\" \"cg00008647\" ...\n",
      "  .. .. .. ..$ : chr [1:20] \"PC1\" \"PC2\" \"PC3\" \"PC4\" ...\n",
      "  .. ..$ gammas_hat_pvals      : num [1:1000, 1:24] 0.2902 0.5726 0.1984 0.0976 0.3038 ...\n",
      "  .. .. ..- attr(*, \"dimnames\")=List of 2\n",
      "  .. .. .. ..$ : chr [1:1000] \"cg00001349\" \"cg00002837\" \"cg00003287\" \"cg00008647\" ...\n",
      "  .. .. .. ..$ : chr [1:24] \"Gran.age\" \"Gran.gender\" \"Gran.disease\" \"Gran.smoking\" ...\n",
      "  .. ..$ betas_hat_pvals       : num [1:1000, 1:20] 1.96e-05 3.64e-02 7.06e-07 3.18e-02 6.30e-24 ...\n",
      "  .. .. ..- attr(*, \"dimnames\")=List of 2\n",
      "  .. .. .. ..$ : chr [1:1000] \"cg00001349\" \"cg00002837\" \"cg00003287\" \"cg00008647\" ...\n",
      "  .. .. .. ..$ : chr [1:20] \"PC1\" \"PC2\" \"PC3\" \"PC4\" ...\n",
      "  .. ..$ gammas_hat_pvals.joint: num [1:1000, 1:4] 0.429 0.099 0.188 0.338 0.782 ...\n",
      "  .. .. ..- attr(*, \"dimnames\")=List of 2\n",
      "  .. .. .. ..$ : chr [1:1000] \"cg00001349\" \"cg00002837\" \"cg00003287\" \"cg00008647\" ...\n",
      "  .. .. .. ..$ : chr [1:4] \"age\" \"gender\" \"disease\" \"smoking\"\n"
     ]
    }
   ],
   "source": [
    "str(tca.mdl)"
   ]
  },
  {
   "cell_type": "code",
   "execution_count": 17,
   "metadata": {},
   "outputs": [
    {
     "data": {
      "text/html": [
       "<table class=\"dataframe\">\n",
       "<caption>A matrix: 6 × 24 of type dbl</caption>\n",
       "<thead>\n",
       "\t<tr><th></th><th scope=col>Gran.age</th><th scope=col>Gran.gender</th><th scope=col>Gran.disease</th><th scope=col>Gran.smoking</th><th scope=col>CD4T.age</th><th scope=col>CD4T.gender</th><th scope=col>CD4T.disease</th><th scope=col>CD4T.smoking</th><th scope=col>CD8T.age</th><th scope=col>CD8T.gender</th><th scope=col>⋯</th><th scope=col>Mono.disease</th><th scope=col>Mono.smoking</th><th scope=col>NK.age</th><th scope=col>NK.gender</th><th scope=col>NK.disease</th><th scope=col>NK.smoking</th><th scope=col>B.age</th><th scope=col>B.gender</th><th scope=col>B.disease</th><th scope=col>B.smoking</th></tr>\n",
       "</thead>\n",
       "<tbody>\n",
       "\t<tr><th scope=row>cg00001349</th><td>0.54336153</td><td>0.6658385</td><td>0.7821051</td><td>0.7067071</td><td>0.9388375</td><td>0.6323022</td><td>0.8734438068</td><td>0.90852930</td><td>0.8709128</td><td>0.219144055</td><td>⋯</td><td>0.5110823</td><td>0.4893590</td><td>0.5389212</td><td>0.38698338</td><td>0.71450190</td><td>0.4804215</td><td>0.1993251</td><td>0.43674034</td><td>0.992139010</td><td>0.45829153</td></tr>\n",
       "\t<tr><th scope=row>cg00002837</th><td>0.34683011</td><td>0.0985877</td><td>0.2776412</td><td>0.1477224</td><td>0.5691925</td><td>0.7106448</td><td>0.0671506926</td><td>0.98739029</td><td>0.2372861</td><td>0.332408375</td><td>⋯</td><td>0.6458872</td><td>0.1439277</td><td>0.4015235</td><td>0.10022742</td><td>0.55912111</td><td>0.9789613</td><td>0.2339649</td><td>0.57030326</td><td>0.009501754</td><td>0.65299736</td></tr>\n",
       "\t<tr><th scope=row>cg00003287</th><td>0.42286668</td><td>0.8568804</td><td>0.1812482</td><td>0.8564867</td><td>0.6180686</td><td>0.4582380</td><td>0.0006718904</td><td>0.41651626</td><td>0.4881405</td><td>0.147172449</td><td>⋯</td><td>0.2164603</td><td>0.7888529</td><td>0.8935937</td><td>0.14687561</td><td>0.91750039</td><td>0.7110477</td><td>0.7292421</td><td>0.03201514</td><td>0.042239818</td><td>0.42283266</td></tr>\n",
       "\t<tr><th scope=row>cg00008647</th><td>0.07423226</td><td>0.1053725</td><td>0.4807461</td><td>0.8459535</td><td>0.6498994</td><td>0.3812989</td><td>0.7717248389</td><td>0.63368882</td><td>0.1113453</td><td>0.728842772</td><td>⋯</td><td>0.4314241</td><td>0.7894053</td><td>0.2390799</td><td>0.08004998</td><td>0.02503817</td><td>0.4344422</td><td>0.6561543</td><td>0.42432502</td><td>0.888585395</td><td>0.45644800</td></tr>\n",
       "\t<tr><th scope=row>cg00016238</th><td>0.46372517</td><td>0.4579304</td><td>0.6117024</td><td>0.2901219</td><td>0.6093697</td><td>0.3369869</td><td>0.3245285226</td><td>0.51424156</td><td>0.9128275</td><td>0.008551668</td><td>⋯</td><td>0.2104179</td><td>0.8712299</td><td>0.4770061</td><td>0.95632858</td><td>0.09877702</td><td>0.5359818</td><td>0.8890422</td><td>0.46300821</td><td>0.532341565</td><td>0.93399916</td></tr>\n",
       "\t<tr><th scope=row>cg00034101</th><td>0.48322197</td><td>0.5234056</td><td>0.3811728</td><td>0.5661536</td><td>0.6842540</td><td>0.7143409</td><td>0.0652552140</td><td>0.06139222</td><td>0.9846984</td><td>0.166056386</td><td>⋯</td><td>0.9019417</td><td>0.2450838</td><td>0.2149125</td><td>0.75402997</td><td>0.19293764</td><td>0.8864497</td><td>0.8515513</td><td>0.33734323</td><td>0.061116083</td><td>0.01430649</td></tr>\n",
       "</tbody>\n",
       "</table>\n"
      ],
      "text/latex": [
       "A matrix: 6 × 24 of type dbl\n",
       "\\begin{tabular}{r|lllllllllllllllllllll}\n",
       "  & Gran.age & Gran.gender & Gran.disease & Gran.smoking & CD4T.age & CD4T.gender & CD4T.disease & CD4T.smoking & CD8T.age & CD8T.gender & ⋯ & Mono.disease & Mono.smoking & NK.age & NK.gender & NK.disease & NK.smoking & B.age & B.gender & B.disease & B.smoking\\\\\n",
       "\\hline\n",
       "\tcg00001349 & 0.54336153 & 0.6658385 & 0.7821051 & 0.7067071 & 0.9388375 & 0.6323022 & 0.8734438068 & 0.90852930 & 0.8709128 & 0.219144055 & ⋯ & 0.5110823 & 0.4893590 & 0.5389212 & 0.38698338 & 0.71450190 & 0.4804215 & 0.1993251 & 0.43674034 & 0.992139010 & 0.45829153\\\\\n",
       "\tcg00002837 & 0.34683011 & 0.0985877 & 0.2776412 & 0.1477224 & 0.5691925 & 0.7106448 & 0.0671506926 & 0.98739029 & 0.2372861 & 0.332408375 & ⋯ & 0.6458872 & 0.1439277 & 0.4015235 & 0.10022742 & 0.55912111 & 0.9789613 & 0.2339649 & 0.57030326 & 0.009501754 & 0.65299736\\\\\n",
       "\tcg00003287 & 0.42286668 & 0.8568804 & 0.1812482 & 0.8564867 & 0.6180686 & 0.4582380 & 0.0006718904 & 0.41651626 & 0.4881405 & 0.147172449 & ⋯ & 0.2164603 & 0.7888529 & 0.8935937 & 0.14687561 & 0.91750039 & 0.7110477 & 0.7292421 & 0.03201514 & 0.042239818 & 0.42283266\\\\\n",
       "\tcg00008647 & 0.07423226 & 0.1053725 & 0.4807461 & 0.8459535 & 0.6498994 & 0.3812989 & 0.7717248389 & 0.63368882 & 0.1113453 & 0.728842772 & ⋯ & 0.4314241 & 0.7894053 & 0.2390799 & 0.08004998 & 0.02503817 & 0.4344422 & 0.6561543 & 0.42432502 & 0.888585395 & 0.45644800\\\\\n",
       "\tcg00016238 & 0.46372517 & 0.4579304 & 0.6117024 & 0.2901219 & 0.6093697 & 0.3369869 & 0.3245285226 & 0.51424156 & 0.9128275 & 0.008551668 & ⋯ & 0.2104179 & 0.8712299 & 0.4770061 & 0.95632858 & 0.09877702 & 0.5359818 & 0.8890422 & 0.46300821 & 0.532341565 & 0.93399916\\\\\n",
       "\tcg00034101 & 0.48322197 & 0.5234056 & 0.3811728 & 0.5661536 & 0.6842540 & 0.7143409 & 0.0652552140 & 0.06139222 & 0.9846984 & 0.166056386 & ⋯ & 0.9019417 & 0.2450838 & 0.2149125 & 0.75402997 & 0.19293764 & 0.8864497 & 0.8515513 & 0.33734323 & 0.061116083 & 0.01430649\\\\\n",
       "\\end{tabular}\n"
      ],
      "text/markdown": [
       "\n",
       "A matrix: 6 × 24 of type dbl\n",
       "\n",
       "| <!--/--> | Gran.age | Gran.gender | Gran.disease | Gran.smoking | CD4T.age | CD4T.gender | CD4T.disease | CD4T.smoking | CD8T.age | CD8T.gender | ⋯ | Mono.disease | Mono.smoking | NK.age | NK.gender | NK.disease | NK.smoking | B.age | B.gender | B.disease | B.smoking |\n",
       "|---|---|---|---|---|---|---|---|---|---|---|---|---|---|---|---|---|---|---|---|---|---|\n",
       "| cg00001349 | 0.54336153 | 0.6658385 | 0.7821051 | 0.7067071 | 0.9388375 | 0.6323022 | 0.8734438068 | 0.90852930 | 0.8709128 | 0.219144055 | ⋯ | 0.5110823 | 0.4893590 | 0.5389212 | 0.38698338 | 0.71450190 | 0.4804215 | 0.1993251 | 0.43674034 | 0.992139010 | 0.45829153 |\n",
       "| cg00002837 | 0.34683011 | 0.0985877 | 0.2776412 | 0.1477224 | 0.5691925 | 0.7106448 | 0.0671506926 | 0.98739029 | 0.2372861 | 0.332408375 | ⋯ | 0.6458872 | 0.1439277 | 0.4015235 | 0.10022742 | 0.55912111 | 0.9789613 | 0.2339649 | 0.57030326 | 0.009501754 | 0.65299736 |\n",
       "| cg00003287 | 0.42286668 | 0.8568804 | 0.1812482 | 0.8564867 | 0.6180686 | 0.4582380 | 0.0006718904 | 0.41651626 | 0.4881405 | 0.147172449 | ⋯ | 0.2164603 | 0.7888529 | 0.8935937 | 0.14687561 | 0.91750039 | 0.7110477 | 0.7292421 | 0.03201514 | 0.042239818 | 0.42283266 |\n",
       "| cg00008647 | 0.07423226 | 0.1053725 | 0.4807461 | 0.8459535 | 0.6498994 | 0.3812989 | 0.7717248389 | 0.63368882 | 0.1113453 | 0.728842772 | ⋯ | 0.4314241 | 0.7894053 | 0.2390799 | 0.08004998 | 0.02503817 | 0.4344422 | 0.6561543 | 0.42432502 | 0.888585395 | 0.45644800 |\n",
       "| cg00016238 | 0.46372517 | 0.4579304 | 0.6117024 | 0.2901219 | 0.6093697 | 0.3369869 | 0.3245285226 | 0.51424156 | 0.9128275 | 0.008551668 | ⋯ | 0.2104179 | 0.8712299 | 0.4770061 | 0.95632858 | 0.09877702 | 0.5359818 | 0.8890422 | 0.46300821 | 0.532341565 | 0.93399916 |\n",
       "| cg00034101 | 0.48322197 | 0.5234056 | 0.3811728 | 0.5661536 | 0.6842540 | 0.7143409 | 0.0652552140 | 0.06139222 | 0.9846984 | 0.166056386 | ⋯ | 0.9019417 | 0.2450838 | 0.2149125 | 0.75402997 | 0.19293764 | 0.8864497 | 0.8515513 | 0.33734323 | 0.061116083 | 0.01430649 |\n",
       "\n"
      ],
      "text/plain": [
       "           Gran.age   Gran.gender Gran.disease Gran.smoking CD4T.age \n",
       "cg00001349 0.54336153 0.6658385   0.7821051    0.7067071    0.9388375\n",
       "cg00002837 0.34683011 0.0985877   0.2776412    0.1477224    0.5691925\n",
       "cg00003287 0.42286668 0.8568804   0.1812482    0.8564867    0.6180686\n",
       "cg00008647 0.07423226 0.1053725   0.4807461    0.8459535    0.6498994\n",
       "cg00016238 0.46372517 0.4579304   0.6117024    0.2901219    0.6093697\n",
       "cg00034101 0.48322197 0.5234056   0.3811728    0.5661536    0.6842540\n",
       "           CD4T.gender CD4T.disease CD4T.smoking CD8T.age  CD8T.gender ⋯\n",
       "cg00001349 0.6323022   0.8734438068 0.90852930   0.8709128 0.219144055 ⋯\n",
       "cg00002837 0.7106448   0.0671506926 0.98739029   0.2372861 0.332408375 ⋯\n",
       "cg00003287 0.4582380   0.0006718904 0.41651626   0.4881405 0.147172449 ⋯\n",
       "cg00008647 0.3812989   0.7717248389 0.63368882   0.1113453 0.728842772 ⋯\n",
       "cg00016238 0.3369869   0.3245285226 0.51424156   0.9128275 0.008551668 ⋯\n",
       "cg00034101 0.7143409   0.0652552140 0.06139222   0.9846984 0.166056386 ⋯\n",
       "           Mono.disease Mono.smoking NK.age    NK.gender  NK.disease NK.smoking\n",
       "cg00001349 0.5110823    0.4893590    0.5389212 0.38698338 0.71450190 0.4804215 \n",
       "cg00002837 0.6458872    0.1439277    0.4015235 0.10022742 0.55912111 0.9789613 \n",
       "cg00003287 0.2164603    0.7888529    0.8935937 0.14687561 0.91750039 0.7110477 \n",
       "cg00008647 0.4314241    0.7894053    0.2390799 0.08004998 0.02503817 0.4344422 \n",
       "cg00016238 0.2104179    0.8712299    0.4770061 0.95632858 0.09877702 0.5359818 \n",
       "cg00034101 0.9019417    0.2450838    0.2149125 0.75402997 0.19293764 0.8864497 \n",
       "           B.age     B.gender   B.disease   B.smoking \n",
       "cg00001349 0.1993251 0.43674034 0.992139010 0.45829153\n",
       "cg00002837 0.2339649 0.57030326 0.009501754 0.65299736\n",
       "cg00003287 0.7292421 0.03201514 0.042239818 0.42283266\n",
       "cg00008647 0.6561543 0.42432502 0.888585395 0.45644800\n",
       "cg00016238 0.8890422 0.46300821 0.532341565 0.93399916\n",
       "cg00034101 0.8515513 0.33734323 0.061116083 0.01430649"
      ]
     },
     "metadata": {},
     "output_type": "display_data"
    }
   ],
   "source": [
    "head(tca.mdl$params.hat$gammas_hat_pvals)"
   ]
  },
  {
   "cell_type": "code",
   "execution_count": 18,
   "metadata": {},
   "outputs": [
    {
     "data": {
      "text/html": [
       "<table class=\"dataframe\">\n",
       "<caption>A matrix: 6 × 24 of type dbl</caption>\n",
       "<thead>\n",
       "\t<tr><th></th><th scope=col>Gran.age</th><th scope=col>Gran.gender</th><th scope=col>Gran.disease</th><th scope=col>Gran.smoking</th><th scope=col>CD4T.age</th><th scope=col>CD4T.gender</th><th scope=col>CD4T.disease</th><th scope=col>CD4T.smoking</th><th scope=col>CD8T.age</th><th scope=col>CD8T.gender</th><th scope=col>⋯</th><th scope=col>Mono.disease</th><th scope=col>Mono.smoking</th><th scope=col>NK.age</th><th scope=col>NK.gender</th><th scope=col>NK.disease</th><th scope=col>NK.smoking</th><th scope=col>B.age</th><th scope=col>B.gender</th><th scope=col>B.disease</th><th scope=col>B.smoking</th></tr>\n",
       "</thead>\n",
       "<tbody>\n",
       "\t<tr><th scope=row>cg00001349</th><td>0.54336153</td><td>0.6658385</td><td>0.7821051</td><td>0.7067071</td><td>0.9388375</td><td>0.6323022</td><td>0.8734438068</td><td>0.90852930</td><td>0.8709128</td><td>0.219144055</td><td>⋯</td><td>0.5110823</td><td>0.4893590</td><td>0.5389212</td><td>0.38698338</td><td>0.71450190</td><td>0.4804215</td><td>0.1993251</td><td>0.43674034</td><td>0.992139010</td><td>0.45829153</td></tr>\n",
       "\t<tr><th scope=row>cg00002837</th><td>0.34683011</td><td>0.0985877</td><td>0.2776412</td><td>0.1477224</td><td>0.5691925</td><td>0.7106448</td><td>0.0671506926</td><td>0.98739029</td><td>0.2372861</td><td>0.332408375</td><td>⋯</td><td>0.6458872</td><td>0.1439277</td><td>0.4015235</td><td>0.10022742</td><td>0.55912111</td><td>0.9789613</td><td>0.2339649</td><td>0.57030326</td><td>0.009501754</td><td>0.65299736</td></tr>\n",
       "\t<tr><th scope=row>cg00003287</th><td>0.42286668</td><td>0.8568804</td><td>0.1812482</td><td>0.8564867</td><td>0.6180686</td><td>0.4582380</td><td>0.0006718904</td><td>0.41651626</td><td>0.4881405</td><td>0.147172449</td><td>⋯</td><td>0.2164603</td><td>0.7888529</td><td>0.8935937</td><td>0.14687561</td><td>0.91750039</td><td>0.7110477</td><td>0.7292421</td><td>0.03201514</td><td>0.042239818</td><td>0.42283266</td></tr>\n",
       "\t<tr><th scope=row>cg00008647</th><td>0.07423226</td><td>0.1053725</td><td>0.4807461</td><td>0.8459535</td><td>0.6498994</td><td>0.3812989</td><td>0.7717248389</td><td>0.63368882</td><td>0.1113453</td><td>0.728842772</td><td>⋯</td><td>0.4314241</td><td>0.7894053</td><td>0.2390799</td><td>0.08004998</td><td>0.02503817</td><td>0.4344422</td><td>0.6561543</td><td>0.42432502</td><td>0.888585395</td><td>0.45644800</td></tr>\n",
       "\t<tr><th scope=row>cg00016238</th><td>0.46372517</td><td>0.4579304</td><td>0.6117024</td><td>0.2901219</td><td>0.6093697</td><td>0.3369869</td><td>0.3245285226</td><td>0.51424156</td><td>0.9128275</td><td>0.008551668</td><td>⋯</td><td>0.2104179</td><td>0.8712299</td><td>0.4770061</td><td>0.95632858</td><td>0.09877702</td><td>0.5359818</td><td>0.8890422</td><td>0.46300821</td><td>0.532341565</td><td>0.93399916</td></tr>\n",
       "\t<tr><th scope=row>cg00034101</th><td>0.48322197</td><td>0.5234056</td><td>0.3811728</td><td>0.5661536</td><td>0.6842540</td><td>0.7143409</td><td>0.0652552140</td><td>0.06139222</td><td>0.9846984</td><td>0.166056386</td><td>⋯</td><td>0.9019417</td><td>0.2450838</td><td>0.2149125</td><td>0.75402997</td><td>0.19293764</td><td>0.8864497</td><td>0.8515513</td><td>0.33734323</td><td>0.061116083</td><td>0.01430649</td></tr>\n",
       "</tbody>\n",
       "</table>\n"
      ],
      "text/latex": [
       "A matrix: 6 × 24 of type dbl\n",
       "\\begin{tabular}{r|lllllllllllllllllllll}\n",
       "  & Gran.age & Gran.gender & Gran.disease & Gran.smoking & CD4T.age & CD4T.gender & CD4T.disease & CD4T.smoking & CD8T.age & CD8T.gender & ⋯ & Mono.disease & Mono.smoking & NK.age & NK.gender & NK.disease & NK.smoking & B.age & B.gender & B.disease & B.smoking\\\\\n",
       "\\hline\n",
       "\tcg00001349 & 0.54336153 & 0.6658385 & 0.7821051 & 0.7067071 & 0.9388375 & 0.6323022 & 0.8734438068 & 0.90852930 & 0.8709128 & 0.219144055 & ⋯ & 0.5110823 & 0.4893590 & 0.5389212 & 0.38698338 & 0.71450190 & 0.4804215 & 0.1993251 & 0.43674034 & 0.992139010 & 0.45829153\\\\\n",
       "\tcg00002837 & 0.34683011 & 0.0985877 & 0.2776412 & 0.1477224 & 0.5691925 & 0.7106448 & 0.0671506926 & 0.98739029 & 0.2372861 & 0.332408375 & ⋯ & 0.6458872 & 0.1439277 & 0.4015235 & 0.10022742 & 0.55912111 & 0.9789613 & 0.2339649 & 0.57030326 & 0.009501754 & 0.65299736\\\\\n",
       "\tcg00003287 & 0.42286668 & 0.8568804 & 0.1812482 & 0.8564867 & 0.6180686 & 0.4582380 & 0.0006718904 & 0.41651626 & 0.4881405 & 0.147172449 & ⋯ & 0.2164603 & 0.7888529 & 0.8935937 & 0.14687561 & 0.91750039 & 0.7110477 & 0.7292421 & 0.03201514 & 0.042239818 & 0.42283266\\\\\n",
       "\tcg00008647 & 0.07423226 & 0.1053725 & 0.4807461 & 0.8459535 & 0.6498994 & 0.3812989 & 0.7717248389 & 0.63368882 & 0.1113453 & 0.728842772 & ⋯ & 0.4314241 & 0.7894053 & 0.2390799 & 0.08004998 & 0.02503817 & 0.4344422 & 0.6561543 & 0.42432502 & 0.888585395 & 0.45644800\\\\\n",
       "\tcg00016238 & 0.46372517 & 0.4579304 & 0.6117024 & 0.2901219 & 0.6093697 & 0.3369869 & 0.3245285226 & 0.51424156 & 0.9128275 & 0.008551668 & ⋯ & 0.2104179 & 0.8712299 & 0.4770061 & 0.95632858 & 0.09877702 & 0.5359818 & 0.8890422 & 0.46300821 & 0.532341565 & 0.93399916\\\\\n",
       "\tcg00034101 & 0.48322197 & 0.5234056 & 0.3811728 & 0.5661536 & 0.6842540 & 0.7143409 & 0.0652552140 & 0.06139222 & 0.9846984 & 0.166056386 & ⋯ & 0.9019417 & 0.2450838 & 0.2149125 & 0.75402997 & 0.19293764 & 0.8864497 & 0.8515513 & 0.33734323 & 0.061116083 & 0.01430649\\\\\n",
       "\\end{tabular}\n"
      ],
      "text/markdown": [
       "\n",
       "A matrix: 6 × 24 of type dbl\n",
       "\n",
       "| <!--/--> | Gran.age | Gran.gender | Gran.disease | Gran.smoking | CD4T.age | CD4T.gender | CD4T.disease | CD4T.smoking | CD8T.age | CD8T.gender | ⋯ | Mono.disease | Mono.smoking | NK.age | NK.gender | NK.disease | NK.smoking | B.age | B.gender | B.disease | B.smoking |\n",
       "|---|---|---|---|---|---|---|---|---|---|---|---|---|---|---|---|---|---|---|---|---|---|\n",
       "| cg00001349 | 0.54336153 | 0.6658385 | 0.7821051 | 0.7067071 | 0.9388375 | 0.6323022 | 0.8734438068 | 0.90852930 | 0.8709128 | 0.219144055 | ⋯ | 0.5110823 | 0.4893590 | 0.5389212 | 0.38698338 | 0.71450190 | 0.4804215 | 0.1993251 | 0.43674034 | 0.992139010 | 0.45829153 |\n",
       "| cg00002837 | 0.34683011 | 0.0985877 | 0.2776412 | 0.1477224 | 0.5691925 | 0.7106448 | 0.0671506926 | 0.98739029 | 0.2372861 | 0.332408375 | ⋯ | 0.6458872 | 0.1439277 | 0.4015235 | 0.10022742 | 0.55912111 | 0.9789613 | 0.2339649 | 0.57030326 | 0.009501754 | 0.65299736 |\n",
       "| cg00003287 | 0.42286668 | 0.8568804 | 0.1812482 | 0.8564867 | 0.6180686 | 0.4582380 | 0.0006718904 | 0.41651626 | 0.4881405 | 0.147172449 | ⋯ | 0.2164603 | 0.7888529 | 0.8935937 | 0.14687561 | 0.91750039 | 0.7110477 | 0.7292421 | 0.03201514 | 0.042239818 | 0.42283266 |\n",
       "| cg00008647 | 0.07423226 | 0.1053725 | 0.4807461 | 0.8459535 | 0.6498994 | 0.3812989 | 0.7717248389 | 0.63368882 | 0.1113453 | 0.728842772 | ⋯ | 0.4314241 | 0.7894053 | 0.2390799 | 0.08004998 | 0.02503817 | 0.4344422 | 0.6561543 | 0.42432502 | 0.888585395 | 0.45644800 |\n",
       "| cg00016238 | 0.46372517 | 0.4579304 | 0.6117024 | 0.2901219 | 0.6093697 | 0.3369869 | 0.3245285226 | 0.51424156 | 0.9128275 | 0.008551668 | ⋯ | 0.2104179 | 0.8712299 | 0.4770061 | 0.95632858 | 0.09877702 | 0.5359818 | 0.8890422 | 0.46300821 | 0.532341565 | 0.93399916 |\n",
       "| cg00034101 | 0.48322197 | 0.5234056 | 0.3811728 | 0.5661536 | 0.6842540 | 0.7143409 | 0.0652552140 | 0.06139222 | 0.9846984 | 0.166056386 | ⋯ | 0.9019417 | 0.2450838 | 0.2149125 | 0.75402997 | 0.19293764 | 0.8864497 | 0.8515513 | 0.33734323 | 0.061116083 | 0.01430649 |\n",
       "\n"
      ],
      "text/plain": [
       "           Gran.age   Gran.gender Gran.disease Gran.smoking CD4T.age \n",
       "cg00001349 0.54336153 0.6658385   0.7821051    0.7067071    0.9388375\n",
       "cg00002837 0.34683011 0.0985877   0.2776412    0.1477224    0.5691925\n",
       "cg00003287 0.42286668 0.8568804   0.1812482    0.8564867    0.6180686\n",
       "cg00008647 0.07423226 0.1053725   0.4807461    0.8459535    0.6498994\n",
       "cg00016238 0.46372517 0.4579304   0.6117024    0.2901219    0.6093697\n",
       "cg00034101 0.48322197 0.5234056   0.3811728    0.5661536    0.6842540\n",
       "           CD4T.gender CD4T.disease CD4T.smoking CD8T.age  CD8T.gender ⋯\n",
       "cg00001349 0.6323022   0.8734438068 0.90852930   0.8709128 0.219144055 ⋯\n",
       "cg00002837 0.7106448   0.0671506926 0.98739029   0.2372861 0.332408375 ⋯\n",
       "cg00003287 0.4582380   0.0006718904 0.41651626   0.4881405 0.147172449 ⋯\n",
       "cg00008647 0.3812989   0.7717248389 0.63368882   0.1113453 0.728842772 ⋯\n",
       "cg00016238 0.3369869   0.3245285226 0.51424156   0.9128275 0.008551668 ⋯\n",
       "cg00034101 0.7143409   0.0652552140 0.06139222   0.9846984 0.166056386 ⋯\n",
       "           Mono.disease Mono.smoking NK.age    NK.gender  NK.disease NK.smoking\n",
       "cg00001349 0.5110823    0.4893590    0.5389212 0.38698338 0.71450190 0.4804215 \n",
       "cg00002837 0.6458872    0.1439277    0.4015235 0.10022742 0.55912111 0.9789613 \n",
       "cg00003287 0.2164603    0.7888529    0.8935937 0.14687561 0.91750039 0.7110477 \n",
       "cg00008647 0.4314241    0.7894053    0.2390799 0.08004998 0.02503817 0.4344422 \n",
       "cg00016238 0.2104179    0.8712299    0.4770061 0.95632858 0.09877702 0.5359818 \n",
       "cg00034101 0.9019417    0.2450838    0.2149125 0.75402997 0.19293764 0.8864497 \n",
       "           B.age     B.gender   B.disease   B.smoking \n",
       "cg00001349 0.1993251 0.43674034 0.992139010 0.45829153\n",
       "cg00002837 0.2339649 0.57030326 0.009501754 0.65299736\n",
       "cg00003287 0.7292421 0.03201514 0.042239818 0.42283266\n",
       "cg00008647 0.6561543 0.42432502 0.888585395 0.45644800\n",
       "cg00016238 0.8890422 0.46300821 0.532341565 0.93399916\n",
       "cg00034101 0.8515513 0.33734323 0.061116083 0.01430649"
      ]
     },
     "metadata": {},
     "output_type": "display_data"
    }
   ],
   "source": [
    "head(tca.mdl$params.hat$parametric.full$gammas_hat_pvals)"
   ]
  },
  {
   "cell_type": "code",
   "execution_count": 19,
   "metadata": {},
   "outputs": [
    {
     "data": {
      "text/html": [
       "<table class=\"dataframe\">\n",
       "<caption>A matrix: 6 × 4 of type dbl</caption>\n",
       "<thead>\n",
       "\t<tr><th></th><th scope=col>age</th><th scope=col>gender</th><th scope=col>disease</th><th scope=col>smoking</th></tr>\n",
       "</thead>\n",
       "<tbody>\n",
       "\t<tr><th scope=row>cg00001349</th><td>0.5816957236</td><td>0.5803122257</td><td>0.99320730</td><td>0.9146739</td></tr>\n",
       "\t<tr><th scope=row>cg00002837</th><td>0.0073616362</td><td>0.0420130964</td><td>0.09064257</td><td>0.3447317</td></tr>\n",
       "\t<tr><th scope=row>cg00003287</th><td>0.0242209586</td><td>0.0008338504</td><td>0.01735935</td><td>0.7740116</td></tr>\n",
       "\t<tr><th scope=row>cg00008647</th><td>0.2641713986</td><td>0.2403709984</td><td>0.40218425</td><td>0.3405444</td></tr>\n",
       "\t<tr><th scope=row>cg00016238</th><td>0.9070954891</td><td>0.0874758420</td><td>0.54179986</td><td>0.7727619</td></tr>\n",
       "\t<tr><th scope=row>cg00034101</th><td>0.0003338202</td><td>0.2877422503</td><td>0.30031088</td><td>0.2517910</td></tr>\n",
       "</tbody>\n",
       "</table>\n"
      ],
      "text/latex": [
       "A matrix: 6 × 4 of type dbl\n",
       "\\begin{tabular}{r|llll}\n",
       "  & age & gender & disease & smoking\\\\\n",
       "\\hline\n",
       "\tcg00001349 & 0.5816957236 & 0.5803122257 & 0.99320730 & 0.9146739\\\\\n",
       "\tcg00002837 & 0.0073616362 & 0.0420130964 & 0.09064257 & 0.3447317\\\\\n",
       "\tcg00003287 & 0.0242209586 & 0.0008338504 & 0.01735935 & 0.7740116\\\\\n",
       "\tcg00008647 & 0.2641713986 & 0.2403709984 & 0.40218425 & 0.3405444\\\\\n",
       "\tcg00016238 & 0.9070954891 & 0.0874758420 & 0.54179986 & 0.7727619\\\\\n",
       "\tcg00034101 & 0.0003338202 & 0.2877422503 & 0.30031088 & 0.2517910\\\\\n",
       "\\end{tabular}\n"
      ],
      "text/markdown": [
       "\n",
       "A matrix: 6 × 4 of type dbl\n",
       "\n",
       "| <!--/--> | age | gender | disease | smoking |\n",
       "|---|---|---|---|---|\n",
       "| cg00001349 | 0.5816957236 | 0.5803122257 | 0.99320730 | 0.9146739 |\n",
       "| cg00002837 | 0.0073616362 | 0.0420130964 | 0.09064257 | 0.3447317 |\n",
       "| cg00003287 | 0.0242209586 | 0.0008338504 | 0.01735935 | 0.7740116 |\n",
       "| cg00008647 | 0.2641713986 | 0.2403709984 | 0.40218425 | 0.3405444 |\n",
       "| cg00016238 | 0.9070954891 | 0.0874758420 | 0.54179986 | 0.7727619 |\n",
       "| cg00034101 | 0.0003338202 | 0.2877422503 | 0.30031088 | 0.2517910 |\n",
       "\n"
      ],
      "text/plain": [
       "           age          gender       disease    smoking  \n",
       "cg00001349 0.5816957236 0.5803122257 0.99320730 0.9146739\n",
       "cg00002837 0.0073616362 0.0420130964 0.09064257 0.3447317\n",
       "cg00003287 0.0242209586 0.0008338504 0.01735935 0.7740116\n",
       "cg00008647 0.2641713986 0.2403709984 0.40218425 0.3405444\n",
       "cg00016238 0.9070954891 0.0874758420 0.54179986 0.7727619\n",
       "cg00034101 0.0003338202 0.2877422503 0.30031088 0.2517910"
      ]
     },
     "metadata": {},
     "output_type": "display_data"
    }
   ],
   "source": [
    "head(tca.mdl$params.hat$gammas_hat_pvals.joint)"
   ]
  },
  {
   "cell_type": "code",
   "execution_count": 20,
   "metadata": {},
   "outputs": [
    {
     "data": {
      "text/html": [
       "<table class=\"dataframe\">\n",
       "<caption>A matrix: 6 × 4 of type dbl</caption>\n",
       "<thead>\n",
       "\t<tr><th></th><th scope=col>age</th><th scope=col>gender</th><th scope=col>disease</th><th scope=col>smoking</th></tr>\n",
       "</thead>\n",
       "<tbody>\n",
       "\t<tr><th scope=row>cg00001349</th><td>0.5816957236</td><td>0.5803122257</td><td>0.99320730</td><td>0.9146739</td></tr>\n",
       "\t<tr><th scope=row>cg00002837</th><td>0.0073616362</td><td>0.0420130964</td><td>0.09064257</td><td>0.3447317</td></tr>\n",
       "\t<tr><th scope=row>cg00003287</th><td>0.0242209586</td><td>0.0008338504</td><td>0.01735935</td><td>0.7740116</td></tr>\n",
       "\t<tr><th scope=row>cg00008647</th><td>0.2641713986</td><td>0.2403709984</td><td>0.40218425</td><td>0.3405444</td></tr>\n",
       "\t<tr><th scope=row>cg00016238</th><td>0.9070954891</td><td>0.0874758420</td><td>0.54179986</td><td>0.7727619</td></tr>\n",
       "\t<tr><th scope=row>cg00034101</th><td>0.0003338202</td><td>0.2877422503</td><td>0.30031088</td><td>0.2517910</td></tr>\n",
       "</tbody>\n",
       "</table>\n"
      ],
      "text/latex": [
       "A matrix: 6 × 4 of type dbl\n",
       "\\begin{tabular}{r|llll}\n",
       "  & age & gender & disease & smoking\\\\\n",
       "\\hline\n",
       "\tcg00001349 & 0.5816957236 & 0.5803122257 & 0.99320730 & 0.9146739\\\\\n",
       "\tcg00002837 & 0.0073616362 & 0.0420130964 & 0.09064257 & 0.3447317\\\\\n",
       "\tcg00003287 & 0.0242209586 & 0.0008338504 & 0.01735935 & 0.7740116\\\\\n",
       "\tcg00008647 & 0.2641713986 & 0.2403709984 & 0.40218425 & 0.3405444\\\\\n",
       "\tcg00016238 & 0.9070954891 & 0.0874758420 & 0.54179986 & 0.7727619\\\\\n",
       "\tcg00034101 & 0.0003338202 & 0.2877422503 & 0.30031088 & 0.2517910\\\\\n",
       "\\end{tabular}\n"
      ],
      "text/markdown": [
       "\n",
       "A matrix: 6 × 4 of type dbl\n",
       "\n",
       "| <!--/--> | age | gender | disease | smoking |\n",
       "|---|---|---|---|---|\n",
       "| cg00001349 | 0.5816957236 | 0.5803122257 | 0.99320730 | 0.9146739 |\n",
       "| cg00002837 | 0.0073616362 | 0.0420130964 | 0.09064257 | 0.3447317 |\n",
       "| cg00003287 | 0.0242209586 | 0.0008338504 | 0.01735935 | 0.7740116 |\n",
       "| cg00008647 | 0.2641713986 | 0.2403709984 | 0.40218425 | 0.3405444 |\n",
       "| cg00016238 | 0.9070954891 | 0.0874758420 | 0.54179986 | 0.7727619 |\n",
       "| cg00034101 | 0.0003338202 | 0.2877422503 | 0.30031088 | 0.2517910 |\n",
       "\n"
      ],
      "text/plain": [
       "           age          gender       disease    smoking  \n",
       "cg00001349 0.5816957236 0.5803122257 0.99320730 0.9146739\n",
       "cg00002837 0.0073616362 0.0420130964 0.09064257 0.3447317\n",
       "cg00003287 0.0242209586 0.0008338504 0.01735935 0.7740116\n",
       "cg00008647 0.2641713986 0.2403709984 0.40218425 0.3405444\n",
       "cg00016238 0.9070954891 0.0874758420 0.54179986 0.7727619\n",
       "cg00034101 0.0003338202 0.2877422503 0.30031088 0.2517910"
      ]
     },
     "metadata": {},
     "output_type": "display_data"
    }
   ],
   "source": [
    "head(tca.mdl$params.hat$parametric.full$gammas_hat_pvals.joint)"
   ]
  },
  {
   "cell_type": "code",
   "execution_count": null,
   "metadata": {},
   "outputs": [],
   "source": []
  },
  {
   "cell_type": "code",
   "execution_count": null,
   "metadata": {},
   "outputs": [],
   "source": []
  }
 ],
 "metadata": {
  "kernelspec": {
   "display_name": "Seurat-V4",
   "language": "R",
   "name": "ir41"
  },
  "language_info": {
   "codemirror_mode": "r",
   "file_extension": ".r",
   "mimetype": "text/x-r-source",
   "name": "R",
   "pygments_lexer": "r",
   "version": "4.1.0"
  }
 },
 "nbformat": 4,
 "nbformat_minor": 4
}
