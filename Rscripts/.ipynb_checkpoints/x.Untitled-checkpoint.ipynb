{
 "cells": [
  {
   "cell_type": "code",
   "execution_count": 15,
   "metadata": {},
   "outputs": [],
   "source": [
    "# read in all TCAx\n",
    "# delet all association\n",
    "# save "
   ]
  },
  {
   "cell_type": "code",
   "execution_count": 16,
   "metadata": {},
   "outputs": [],
   "source": [
    "data.names  = c(\"liu\", \"hannum\", \"hannon1\", \"hannon2\")\n",
    "source.ids = c(\"Gran\", \"CD4T\", \"CD8T\", \"Mono\", \"B\", \"NK\")\n",
    "\n",
    "results_dir = \"/u/project/halperin/johnsonc/TCAx/TCAx2023/Result/Methylation/Consistency/XY/\"\n",
    "if (!file.exists(results_dir)){\n",
    "     print(\"check results_dir\")\n",
    "}"
   ]
  },
  {
   "cell_type": "code",
   "execution_count": null,
   "metadata": {},
   "outputs": [],
   "source": [
    "for (data.name in data.names){\n",
    "    celldmc.mdl = readRDS(file.path(results_dir, data.name, \"CellDMC.mdl.rds\"))\n",
    "    celldmc.mdl$age$parametric.X2    = celldmc.mdl$age$parametricX2\n",
    "    celldmc.mdl$gender$parametric.X2 = celldmc.mdl$gender$parametricX2\n",
    "\n",
    "    celldmc.mdl$age$parametricX2    = NULL\n",
    "    celldmc.mdl$gender$parametricX2 = NULL\n",
    "    saveRDS(celldmc.mdl, file.path(results_dir, data.name, \"CellDMC.mdl.rds\"))\n",
    "}"
   ]
  },
  {
   "cell_type": "code",
   "execution_count": null,
   "metadata": {},
   "outputs": [],
   "source": [
    "str(celldmc.mdl)"
   ]
  }
 ],
 "metadata": {
  "kernelspec": {
   "display_name": "Seurat-V4",
   "language": "R",
   "name": "ir41"
  },
  "language_info": {
   "codemirror_mode": "r",
   "file_extension": ".r",
   "mimetype": "text/x-r-source",
   "name": "R",
   "pygments_lexer": "r",
   "version": "4.1.0"
  }
 },
 "nbformat": 4,
 "nbformat_minor": 4
}
