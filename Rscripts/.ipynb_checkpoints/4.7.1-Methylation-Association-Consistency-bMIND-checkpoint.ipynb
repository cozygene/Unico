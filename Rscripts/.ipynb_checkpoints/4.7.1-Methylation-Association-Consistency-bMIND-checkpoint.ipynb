{
 "cells": [
  {
   "cell_type": "code",
   "execution_count": 1,
   "metadata": {},
   "outputs": [
    {
     "name": "stderr",
     "output_type": "stream",
     "text": [
      "\n",
      "Attaching package: ‘data.table’\n",
      "\n",
      "\n",
      "The following object is masked from ‘package:rlang’:\n",
      "\n",
      "    :=\n",
      "\n",
      "\n"
     ]
    }
   ],
   "source": [
    "library(\"rlang\") #duplicate\n",
    "library(data.table)\n",
    "\n",
    "set.seed(2023)"
   ]
  },
  {
   "cell_type": "code",
   "execution_count": 2,
   "metadata": {},
   "outputs": [],
   "source": [
    "pheno = \"gender\""
   ]
  },
  {
   "cell_type": "code",
   "execution_count": 3,
   "metadata": {},
   "outputs": [],
   "source": [
    "data.names = c(\"liu\", \"hannum\", \"hannon1\", \"hannon2\")\n",
    "source.ids = c(\"Gran\", \"CD4T\", \"CD8T\", \"Mono\", \"B\", \"NK\")\n",
    "\n",
    "results_dir = \"/u/project/halperin/johnsonc/TCAx/TCAx2023/Result/Methylation/Consistency/XY/\"\n",
    "if (!file.exists(results_dir)){\n",
    "     print(\"check results_dir\")\n",
    "}"
   ]
  },
  {
   "cell_type": "markdown",
   "metadata": {},
   "source": [
    "# Load pvals, coeffs"
   ]
  },
  {
   "cell_type": "code",
   "execution_count": null,
   "metadata": {},
   "outputs": [],
   "source": [
    "# load \n",
    "pval.list.file = file.path(results_dir, paste0(pheno,\".bMIND.pval.list\"))\n",
    "if (!file.exists(pval.list.file)){\n",
    "    pval.list  = list()\n",
    "    for (data.name in data.names){\n",
    "        pval  = list()\n",
    "        bMIND.mdl = readRDS(file.path(results_dir, data.name, \"bMIND.mdl.rds\"))\n",
    "\n",
    "        pval$bMIND.XY.joint    = bMIND.mdl$manova.pvals$joint.unadjust.pvals\n",
    "        pval$bMIND.XY.marginal = t(bMIND.mdl$manova.pvals$marginal.unadjust.pvals)[,source.ids]\n",
    "        pval$bMIND.YX.marginal = t(bMIND.mdl$glm.pvals)[,source.ids]\n",
    "        pval.list[[data.name]] = pval\n",
    "   }\n",
    "   saveRDS(pval.list,   pval.list.file)\n",
    "}else{\n",
    "   pval.list = readRDS(pval.list.file)\n",
    "}"
   ]
  },
  {
   "cell_type": "code",
   "execution_count": null,
   "metadata": {},
   "outputs": [],
   "source": [
    "# fix some NAs in the test \n",
    "for (data.name in names(pval.list)){\n",
    "    for (key in names(pval.list[[data.name]])){\n",
    "        pval.list[[data.name]][[key]] [is.na(pval.list[[data.name]][[key]])] = 1\n",
    "    }\n",
    "}"
   ]
  },
  {
   "cell_type": "code",
   "execution_count": null,
   "metadata": {},
   "outputs": [],
   "source": [
    "str(pval.list[[\"liu\"]])"
   ]
  },
  {
   "cell_type": "markdown",
   "metadata": {},
   "source": [
    "# Consistency"
   ]
  },
  {
   "cell_type": "code",
   "execution_count": null,
   "metadata": {},
   "outputs": [],
   "source": [
    "get_confusion_df = function(dis_pvals_mat, val_pvals_mat,\n",
    "                            #dis_coeffs_mat, val_coeffs_mat,\n",
    "                            sig_thr,  dis_sig_mode,  val_sig_mode,\n",
    "                            null_thr, dis_null_mode, val_null_mode, verbose = F){\n",
    "    \n",
    "    message(paste(\"discovery shape: \", dim(dis_pvals_mat)[1], dim(dis_pvals_mat)[2]))\n",
    "    message(paste(\"validation shape: \", dim(val_pvals_mat)[1], dim(val_pvals_mat)[2])) \n",
    "     \n",
    "    keep.probs     = intersect(rownames(dis_pvals_mat), rownames(val_pvals_mat))\n",
    "    dis_pvals_mat  = duplicate(dis_pvals_mat)[keep.probs, , drop = F]\n",
    "    #dis_coeffs_mat = duplicate(dis_coeffs_mat)[keep.probs, , drop = F]\n",
    "    val_pvals_mat  = duplicate(val_pvals_mat)[keep.probs, , drop = F]\n",
    "    #val_coeffs_mat = duplicate(val_coeffs_mat)[keep.probs, , drop = F]\n",
    "    \n",
    "    message(\"after\")\n",
    "    message(paste(\"discovery shape: \", dim(dis_pvals_mat)[1], dim(dis_pvals_mat)[2]))\n",
    "    message(paste(\"validation shape: \", dim(val_pvals_mat)[1], dim(val_pvals_mat)[2])) \n",
    "    message(\"###################\")\n",
    "    \n",
    "    #Positive\n",
    "    if (dis_sig_mode == \"strict\"){\n",
    "        dis_sig_thr = sig_thr/(dim(dis_pvals_mat)[1] * dim(dis_pvals_mat)[2])\n",
    "    }else if (dis_sig_mode == \"unadjust\"){\n",
    "        dis_sig_thr = sig_thr\n",
    "    }else{\n",
    "        print(\"error\")\n",
    "    }\n",
    "    if(verbose){print(paste0(\"dis_sig_thr: \",  dis_sig_thr))}\n",
    "\n",
    "    dis_sig_mask = dis_pvals_mat < dis_sig_thr\n",
    "    n_ds = sum(dis_sig_mask)\n",
    "    if(verbose){print(paste0(\"n_ds: \",  n_ds))}\n",
    "\n",
    "    if (val_sig_mode == \"strict\"){\n",
    "        val_sig_thr = sig_thr/(dim(val_pvals_mat)[1] * dim(val_pvals_mat)[2])\n",
    "    }else if (val_sig_mode == \"loose\"){\n",
    "        val_sig_thr = sig_thr/n_ds\n",
    "    }else if (val_sig_mode == \"unadjust\"){\n",
    "        val_sig_thr = sig_thr\n",
    "    }else{\n",
    "        print(\"error\")\n",
    "    }\n",
    "    if(verbose){print(paste0(\"val_sig_thr: \",  val_sig_thr))}\n",
    "    \n",
    "    val_sig_mask_pvals = val_pvals_mat[dis_sig_mask] < val_sig_thr\n",
    "    print(\"val_sig_mask_pvals\")\n",
    "    print(sum(val_sig_mask_pvals))\n",
    "    \n",
    "    #val_sig_mask_ceoffs = sign(val_coeffs_mat[dis_sig_mask]) == sign(dis_coeffs_mat[dis_sig_mask]) \n",
    "    #print(\"val_sig_mask_ceoffs\")\n",
    "    #print(sum(val_sig_mask_ceoffs))\n",
    "    #val_sig_mask = val_sig_mask_pvals & val_sig_mask_ceoffs\n",
    "    val_sig_mask = val_sig_mask_pvals\n",
    "    TP = sum(val_sig_mask)\n",
    "    FN = sum(!val_sig_mask)\n",
    "\n",
    "\n",
    "    # Negative\n",
    "    if (dis_null_mode == \"strict\"){\n",
    "        print(\"error\")\n",
    "    }else if (dis_null_mode == \"unadjust\"){\n",
    "        dis_null_thr = null_thr\n",
    "    }else{\n",
    "        print(\"error\")\n",
    "    }\n",
    "    if(verbose){print(paste0(\"dis_null_thr: \",  dis_null_thr))}\n",
    "\n",
    "    dis_null_mask = dis_pvals_mat > dis_null_thr\n",
    "\n",
    "    n_dn = sum(dis_null_mask)\n",
    "    if(verbose){print(paste0(\"n_dn: \",  n_dn))}\n",
    "\n",
    "    if (val_null_mode == \"strict\"){\n",
    "        print(\"error\")\n",
    "    }else if (val_null_mode == \"loose\"){\n",
    "        val_null_thr = sig_thr/n_dn\n",
    "    }else if (val_null_mode == \"unadjust\"){\n",
    "        val_null_thr = sig_thr\n",
    "    }else{\n",
    "        print(\"error\")\n",
    "    }\n",
    "    if(verbose){print(paste0(\"val_null_thr: \",  val_null_thr))}\n",
    "\n",
    "    val_null_mask = val_pvals_mat[dis_null_mask] > val_null_thr \n",
    "\n",
    "    FP = sum(!val_null_mask)\n",
    "    TN = sum(val_null_mask)   \n",
    "    \n",
    "    recall    = TP/(TP + FN)\n",
    "    precision = TP/(TP + FP)\n",
    "    specificity = TN/(TN + FP)\n",
    "    F1        = 1/(0.5 * (1/recall + 1/precision))\n",
    "    accuracy = (TP + TN)/(TP + FP + TN + FN)\n",
    "    TP = as.numeric(TP)\n",
    "    TN = as.numeric(TN)\n",
    "    FP = as.numeric(FP)\n",
    "    FN = as.numeric(FN)\n",
    "    MCC = as.numeric((TP*TN) - (FP*FN))/ sqrt((TP+FP)*(TP+FN)*(TN+FP)*(TN+FN))\n",
    "    \n",
    "    confusion_df = data.frame(TP = TP, \n",
    "                              FN = FN, \n",
    "                              FP = FP, \n",
    "                              TN = TN, \n",
    "                              recall = recall, \n",
    "                              precision = precision, \n",
    "                              F1 = F1,\n",
    "                              specificity = specificity,\n",
    "                              accuracy = accuracy,\n",
    "                              MCC = MCC)\n",
    "    return(confusion_df)\n",
    "}\n",
    "\n",
    "#loop through each method\n",
    "get_confusion_dfs =function(methods, \n",
    "                            dis_pvals_mats, val_pvals_mats,\n",
    "                            #dis_coeffs_mats, val_coeffs_mats,\n",
    "                            sig_thr,  dis_sig_mode,  val_sig_mode,\n",
    "                            null_thr, dis_null_mode, val_null_mode, verbose = F){\n",
    "    confusion_dfs = c()\n",
    "    for (method in methods){\n",
    "        print(method)\n",
    "        confusion_df = get_confusion_df(dis_pvals_mats[[method]], val_pvals_mats[[method]],\n",
    "                                        #dis_coeffs_mats[[method]], val_coeffs_mats[[method]],\n",
    "                                        sig_thr,  dis_sig_mode,  val_sig_mode,\n",
    "                            null_thr, dis_null_mode, val_null_mode, verbose = verbose)\n",
    "        rownames(confusion_df) = c(method)\n",
    "        confusion_dfs = rbind(confusion_dfs, confusion_df)\n",
    "    }\n",
    "    return(confusion_dfs)\n",
    "}\n",
    "\n",
    "#loop through both direction \n",
    "get_bidir_confusion_dfs = function(methods, \n",
    "                                   pvals_mats, #coeffs_mats, \n",
    "                                   sig_thr,  dis_sig_mode,  val_sig_mode,\n",
    "                                   null_thr, dis_null_mode, val_null_mode, verbose = F){\n",
    "    \n",
    "    \n",
    "    \n",
    "    bidir_confusion_dfs = list()\n",
    "\n",
    "    bidir_confusion_dfs[[\"forward\"]] = get_confusion_dfs(methods,\n",
    "                                                         #dataset 1.      # dataset 2\n",
    "                                                         pvals_mats[[1]], pvals_mats[[2]],\n",
    "                                                         #coeffs_mats[[1]], coeffs_mats[[2]],\n",
    "                                                         sig_thr,  dis_sig_mode,  val_sig_mode,\n",
    "                                                         null_thr, dis_null_mode, val_null_mode, verbose = verbose)\n",
    "    bidir_confusion_dfs[[\"backward\"]] = get_confusion_dfs(methods,\n",
    "                                                          pvals_mats[[2]], pvals_mats[[1]],\n",
    "                                                          #coeffs_mats[[2]], coeffs_mats[[1]],\n",
    "                                                          sig_thr,  dis_sig_mode,  val_sig_mode,\n",
    "                                                          null_thr, dis_null_mode, val_null_mode, verbose = verbose)\n",
    "    return(bidir_confusion_dfs)\n",
    "}"
   ]
  },
  {
   "cell_type": "code",
   "execution_count": null,
   "metadata": {},
   "outputs": [],
   "source": [
    "methods = c(\"bMIND.YX.marginal\", \"bMIND.XY.joint\", \"bMIND.XY.marginal\")\n",
    "\n",
    "bidir_confusion_dfs_list = list()\n",
    "for (i in 1:length(data.names)){\n",
    "    for(j in i:length(data.names)){\n",
    "        print(paste0(data.names[i],\".\", data.names[j]))\n",
    "        bidir_confusion_dfs = get_bidir_confusion_dfs(methods = methods,\n",
    "                                                      pvals_mats = list(pval.list[[i]], pval.list[[j]]),\n",
    "                                                      #coeffs_mats = list(pval.list[[i]], pval.list[[j]]),\n",
    "                                                      sig_thr  = 0.05, dis_sig_mode  = \"strict\", val_sig_mode = \"loose\",\n",
    "                                                      null_thr = 0.95, dis_null_mode = \"unadjust\", val_null_mode = \"loose\", verbose = T)\n",
    "        bidir_confusion_dfs_list[[paste0(data.names[i],\".\", data.names[j])]] = bidir_confusion_dfs\n",
    "    }\n",
    "}"
   ]
  },
  {
   "cell_type": "code",
   "execution_count": null,
   "metadata": {},
   "outputs": [],
   "source": [
    "bidir_confusion_dfs_list"
   ]
  },
  {
   "cell_type": "code",
   "execution_count": null,
   "metadata": {},
   "outputs": [],
   "source": [
    "get_meta_mats = function(bidir_confusion_dfs, key){\n",
    "    \n",
    "    meta.mats = list()\n",
    "    for (method in methods){\n",
    "        meta.mats[[method]] = matrix(0,length(data.names),length(data.names))\n",
    "        rownames(meta.mats[[method]]) = data.names\n",
    "        colnames(meta.mats[[method]]) = data.names\n",
    "    }\n",
    "\n",
    "    for (i in 1:length(data.names)){\n",
    "        for(j in i:length(data.names)){\n",
    "            #print(paste0(data.names[i],\".\", data.names[j]))\n",
    "            bidir_confusion_dfs = bidir_confusion_dfs_list[[paste0(data.names[i],\".\", data.names[j])]]\n",
    "            for (method in methods){\n",
    "                meta.mats[[method]][i,j] = bidir_confusion_dfs$forward[method, key]\n",
    "                meta.mats[[method]][j,i] = bidir_confusion_dfs$backward[method, key]\n",
    "            }\n",
    "        }\n",
    "    }\n",
    "    return(meta.mats)\n",
    "}"
   ]
  },
  {
   "cell_type": "code",
   "execution_count": null,
   "metadata": {},
   "outputs": [],
   "source": [
    "meta.mats.MCC = get_meta_mats(bidir_confusion_dfs_list, key = 'MCC')\n",
    "meta.mats.F1  = get_meta_mats(bidir_confusion_dfs_list, key = 'F1')"
   ]
  },
  {
   "cell_type": "code",
   "execution_count": null,
   "metadata": {},
   "outputs": [],
   "source": [
    "meta.mats.MCC"
   ]
  },
  {
   "cell_type": "code",
   "execution_count": null,
   "metadata": {},
   "outputs": [],
   "source": [
    "meta.mats = meta.mats.MCC\n",
    "for (method in methods){\n",
    "    print(method)\n",
    "    #print(meta.mats[[method]])\n",
    "    d = length(data.names)\n",
    "    print((sum(meta.mats[[method]]) - d)/(d*(d-1)))\n",
    "}"
   ]
  },
  {
   "cell_type": "code",
   "execution_count": null,
   "metadata": {},
   "outputs": [],
   "source": [
    "meta.mats.F1"
   ]
  },
  {
   "cell_type": "code",
   "execution_count": null,
   "metadata": {},
   "outputs": [],
   "source": [
    "meta.mats = meta.mats.F1\n",
    "for (method in methods){\n",
    "    print(method)\n",
    "    #print(meta.mats[[method]])\n",
    "    d = length(data.names)\n",
    "    print((sum(meta.mats[[method]]) - d)/(d*(d-1)))\n",
    "}"
   ]
  },
  {
   "cell_type": "code",
   "execution_count": null,
   "metadata": {},
   "outputs": [],
   "source": [
    "saveRDS(bidir_confusion_dfs_list, file.path(results_dir, paste0(pheno,\".bMIND.bidir_confusion_dfs_list\",\".rds\")))\n",
    "saveRDS(meta.mats.F1,  file.path(results_dir, paste0(pheno,\".bMIND.meta.mats.F1\",\".rds\")))\n",
    "saveRDS(meta.mats.MCC, file.path(results_dir, paste0(pheno,\".bMIND.meta.mats.MCC\",\".rds\")))"
   ]
  }
 ],
 "metadata": {
  "kernelspec": {
   "display_name": "Seurat-V4",
   "language": "R",
   "name": "ir41"
  },
  "language_info": {
   "codemirror_mode": "r",
   "file_extension": ".r",
   "mimetype": "text/x-r-source",
   "name": "R",
   "pygments_lexer": "r",
   "version": "4.1.0"
  }
 },
 "nbformat": 4,
 "nbformat_minor": 4
}
