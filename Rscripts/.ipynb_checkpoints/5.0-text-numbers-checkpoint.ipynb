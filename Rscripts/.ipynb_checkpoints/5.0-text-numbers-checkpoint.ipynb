{
 "cells": [
  {
   "cell_type": "code",
   "execution_count": 1,
   "metadata": {},
   "outputs": [
    {
     "name": "stderr",
     "output_type": "stream",
     "text": [
      "Attaching SeuratObject\n",
      "\n"
     ]
    }
   ],
   "source": [
    "library(Seurat)\n",
    "set.seed(2023)"
   ]
  },
  {
   "cell_type": "code",
   "execution_count": 3,
   "metadata": {},
   "outputs": [],
   "source": [
    "partial.W  = FALSE\n",
    "source.col = \"decon.L1\"\n",
    "\n",
    "pbmc.pb = readRDS(file.path(\"../Data/RNA/Simulation-PBMC/\", \n",
    "                            paste0(\"pbmc.pseudobulk.\",\n",
    "                                    source.col, \".\",\n",
    "                                    if (partial.W) \"partial.W.\" else \"all.W.\",\n",
    "                                    \"rds\")))"
   ]
  },
  {
   "cell_type": "code",
   "execution_count": 12,
   "metadata": {},
   "outputs": [
    {
     "data": {
      "text/html": [
       "<style>\n",
       ".dl-inline {width: auto; margin:0; padding: 0}\n",
       ".dl-inline>dt, .dl-inline>dd {float: none; width: auto; display: inline-block}\n",
       ".dl-inline>dt::after {content: \":\\0020\"; padding-right: .5ex}\n",
       ".dl-inline>dt:not(:first-of-type) {padding-left: .5ex}\n",
       "</style><dl class=dl-inline><dt>CD4</dt><dd>31.8</dd><dt>NK</dt><dd>19.5</dd><dt>CD8</dt><dd>17.7</dd><dt>Mono</dt><dd>16.7</dd><dt>B</dt><dd>14.2</dd></dl>\n"
      ],
      "text/latex": [
       "\\begin{description*}\n",
       "\\item[CD4] 31.8\n",
       "\\item[NK] 19.5\n",
       "\\item[CD8] 17.7\n",
       "\\item[Mono] 16.7\n",
       "\\item[B] 14.2\n",
       "\\end{description*}\n"
      ],
      "text/markdown": [
       "CD4\n",
       ":   31.8NK\n",
       ":   19.5CD8\n",
       ":   17.7Mono\n",
       ":   16.7B\n",
       ":   14.2\n",
       "\n"
      ],
      "text/plain": [
       " CD4   NK  CD8 Mono    B \n",
       "31.8 19.5 17.7 16.7 14.2 "
      ]
     },
     "metadata": {},
     "output_type": "display_data"
    }
   ],
   "source": [
    "round(colMeans(pbmc.pb$W)[order (-colMeans(pbmc.pb$W))], 3) * 100"
   ]
  },
  {
   "cell_type": "code",
   "execution_count": 13,
   "metadata": {},
   "outputs": [],
   "source": [
    "partial.W  = FALSE\n",
    "source.col = \"decon.L2\"\n",
    "\n",
    "pbmc.pb = readRDS(file.path(\"../Data/RNA/Simulation-PBMC/\", \n",
    "                            paste0(\"pbmc.pseudobulk.\",\n",
    "                                    source.col, \".\",\n",
    "                                    if (partial.W) \"partial.W.\" else \"all.W.\",\n",
    "                                    \"rds\")))"
   ]
  },
  {
   "cell_type": "code",
   "execution_count": 14,
   "metadata": {},
   "outputs": [
    {
     "data": {
      "text/html": [
       "<style>\n",
       ".dl-inline {width: auto; margin:0; padding: 0}\n",
       ".dl-inline>dt, .dl-inline>dd {float: none; width: auto; display: inline-block}\n",
       ".dl-inline>dt::after {content: \":\\0020\"; padding-right: .5ex}\n",
       ".dl-inline>dt:not(:first-of-type) {padding-left: .5ex}\n",
       "</style><dl class=dl-inline><dt>CD4</dt><dd>31.8</dd><dt>NK</dt><dd>19.5</dd><dt>CD8</dt><dd>17.7</dd><dt>Mono.CD14</dt><dd>14.7</dd><dt>B</dt><dd>13.4</dd><dt>Mono.CD16</dt><dd>2</dd><dt>Plasma</dt><dd>0.8</dd></dl>\n"
      ],
      "text/latex": [
       "\\begin{description*}\n",
       "\\item[CD4] 31.8\n",
       "\\item[NK] 19.5\n",
       "\\item[CD8] 17.7\n",
       "\\item[Mono.CD14] 14.7\n",
       "\\item[B] 13.4\n",
       "\\item[Mono.CD16] 2\n",
       "\\item[Plasma] 0.8\n",
       "\\end{description*}\n"
      ],
      "text/markdown": [
       "CD4\n",
       ":   31.8NK\n",
       ":   19.5CD8\n",
       ":   17.7Mono.CD14\n",
       ":   14.7B\n",
       ":   13.4Mono.CD16\n",
       ":   2Plasma\n",
       ":   0.8\n",
       "\n"
      ],
      "text/plain": [
       "      CD4        NK       CD8 Mono.CD14         B Mono.CD16    Plasma \n",
       "     31.8      19.5      17.7      14.7      13.4       2.0       0.8 "
      ]
     },
     "metadata": {},
     "output_type": "display_data"
    }
   ],
   "source": [
    "round(colMeans(pbmc.pb$W)[order (-colMeans(pbmc.pb$W))], 3) * 100"
   ]
  },
  {
   "cell_type": "code",
   "execution_count": 17,
   "metadata": {},
   "outputs": [],
   "source": [
    "partial.W  = FALSE\n",
    "source.col = \"decon.L1\"\n",
    "\n",
    "HLCA.pb = readRDS(file.path(\"../Data/RNA/Simulation-Lung/\", \n",
    "                            paste0(\"HLCA.pseudobulk.\",\n",
    "                                    source.col, \".\",\n",
    "                                    if (partial.W) \"partial.W.\" else \"all.W.\",\n",
    "                                    \"rds\")))"
   ]
  },
  {
   "cell_type": "code",
   "execution_count": 18,
   "metadata": {},
   "outputs": [
    {
     "data": {
      "text/html": [
       "<style>\n",
       ".dl-inline {width: auto; margin:0; padding: 0}\n",
       ".dl-inline>dt, .dl-inline>dd {float: none; width: auto; display: inline-block}\n",
       ".dl-inline>dt::after {content: \":\\0020\"; padding-right: .5ex}\n",
       ".dl-inline>dt:not(:first-of-type) {padding-left: .5ex}\n",
       "</style><dl class=dl-inline><dt>Immune</dt><dd>62.5</dd><dt>Epithelial</dt><dd>23.8</dd><dt>Endothelial</dt><dd>8.4</dd><dt>Stroma</dt><dd>5.4</dd></dl>\n"
      ],
      "text/latex": [
       "\\begin{description*}\n",
       "\\item[Immune] 62.5\n",
       "\\item[Epithelial] 23.8\n",
       "\\item[Endothelial] 8.4\n",
       "\\item[Stroma] 5.4\n",
       "\\end{description*}\n"
      ],
      "text/markdown": [
       "Immune\n",
       ":   62.5Epithelial\n",
       ":   23.8Endothelial\n",
       ":   8.4Stroma\n",
       ":   5.4\n",
       "\n"
      ],
      "text/plain": [
       "     Immune  Epithelial Endothelial      Stroma \n",
       "       62.5        23.8         8.4         5.4 "
      ]
     },
     "metadata": {},
     "output_type": "display_data"
    }
   ],
   "source": [
    "round(colMeans(HLCA.pb$W)[order (-colMeans(HLCA.pb$W))], 3) * 100"
   ]
  },
  {
   "cell_type": "code",
   "execution_count": null,
   "metadata": {},
   "outputs": [],
   "source": [
    "partial.W  = FALSE\n",
    "source.col = \"decon.L2\"\n",
    "\n",
    "HLCA.pb = readRDS(file.path(\"../Data/RNA/Simulation-Lung/\", \n",
    "                            paste0(\"HLCA.pseudobulk.\",\n",
    "                                    source.col, \".\",\n",
    "                                    if (partial.W) \"partial.W.\" else \"all.W.\",\n",
    "                                    \"rds\")))"
   ]
  },
  {
   "cell_type": "code",
   "execution_count": null,
   "metadata": {},
   "outputs": [],
   "source": [
    "round(colMeans(HLCA.pb$W)[order (-colMeans(HLCA.pb$W))], 3) * 100"
   ]
  },
  {
   "cell_type": "code",
   "execution_count": null,
   "metadata": {},
   "outputs": [],
   "source": []
  },
  {
   "cell_type": "code",
   "execution_count": null,
   "metadata": {},
   "outputs": [],
   "source": []
  },
  {
   "cell_type": "code",
   "execution_count": null,
   "metadata": {},
   "outputs": [],
   "source": []
  },
  {
   "cell_type": "code",
   "execution_count": null,
   "metadata": {},
   "outputs": [],
   "source": [
    "# Numbers\n",
    "\n",
    "median.corr           = matrix(0, length(methods), length(source.ids))\n",
    "rownames(median.corr) = methods\n",
    "colnames(median.corr) = source.ids\n",
    "low.entropy.median.corr  = copy(median.corr)\n",
    "high.entropy.median.corr = copy(median.corr)\n",
    "\n",
    "for (method in methods){\n",
    "    median.corr[method, ] = colMedians(Z.corrs.list[[method]], na.rm = T)\n",
    "    low.entropy.median.corr[method, ]  = colMedians(Z.corrs.list[[method]][Z.corrs.list[[\"eval.entropies\"]] == 'Low Entropy', ], na.rm = T)\n",
    "    high.entropy.median.corr[method, ] = colMedians(Z.corrs.list[[method]][Z.corrs.list[[\"eval.entropies\"]] == 'High Entropy', ], na.rm = T)\n",
    "}\n",
    "\n",
    "median.corr\n",
    "\n",
    "low.entropy.median.corr\n",
    "\n",
    "high.entropy.median.corr\n",
    "\n",
    "low.entropy.median.corr[\"TCAx\", ]/low.entropy.median.corr[\"TCA\", ]\n",
    "\n",
    "high.entropy.median.corr[\"TCAx\", ]/high.entropy.median.corr[\"TCA\", ]\n",
    "\n",
    "median.corr\n",
    "\n"
   ]
  }
 ],
 "metadata": {
  "kernelspec": {
   "display_name": "Seurat-V4",
   "language": "R",
   "name": "ir41"
  },
  "language_info": {
   "codemirror_mode": "r",
   "file_extension": ".r",
   "mimetype": "text/x-r-source",
   "name": "R",
   "pygments_lexer": "r",
   "version": "4.1.0"
  }
 },
 "nbformat": 4,
 "nbformat_minor": 4
}
