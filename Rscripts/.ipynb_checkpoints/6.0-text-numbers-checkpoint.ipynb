{
 "cells": [
  {
   "cell_type": "code",
   "execution_count": 1,
   "metadata": {},
   "outputs": [
    {
     "name": "stderr",
     "output_type": "stream",
     "text": [
      "Attaching SeuratObject\n",
      "\n"
     ]
    }
   ],
   "source": [
    "library(Seurat)\n",
    "library(xtable)\n",
    "library(matrixStats)\n",
    "set.seed(2023)"
   ]
  },
  {
   "cell_type": "markdown",
   "metadata": {},
   "source": [
    "# improvement simulation"
   ]
  },
  {
   "cell_type": "code",
   "execution_count": 2,
   "metadata": {},
   "outputs": [],
   "source": [
    "sim.pbmc.stats = readRDS(\"../Figure//Simulation-PBMC/decon.L1.max_stds.2/RNA_Simulation-PBMC_decon.L1_500_stats.list.rds\")\n",
    "sim.lung.stats = readRDS(\"../Figure//Simulation-Lung/decon.L1.max_stds.2/RNA_Simulation-Lung_decon.L1_500_stats.list.rds\")"
   ]
  },
  {
   "cell_type": "code",
   "execution_count": 3,
   "metadata": {},
   "outputs": [
    {
     "name": "stdout",
     "output_type": "stream",
     "text": [
      "List of 6\n",
      " $ covar.barplot.df:'data.frame':\t50 obs. of  5 variables:\n",
      "  ..$ method: Factor w/ 5 levels \"Baseline\",\"CIBERSORTx\",..: 1 1 1 1 1 1 1 1 1 1 ...\n",
      "  ..$ source: Factor w/ 10 levels \"NK-CD8\",\"CD4-CD8\",..: 4 2 9 3 1 5 8 7 6 10 ...\n",
      "  ..$ mean  : num [1:50] -0.359 0.787 -0.441 0.627 0.777 ...\n",
      "  ..$ lb_sd : num [1:50] -0.44 0.766 -0.473 0.561 0.745 ...\n",
      "  ..$ ub_sd : num [1:50] -0.277 0.808 -0.408 0.693 0.808 ...\n",
      " $ mean.barplot.df :'data.frame':\t25 obs. of  5 variables:\n",
      "  ..$ method: Factor w/ 5 levels \"Baseline\",\"CIBERSORTx\",..: 1 1 1 1 1 2 2 2 2 2 ...\n",
      "  ..$ source: Factor w/ 5 levels \"CD4\",\"NK\",\"CD8\",..: 1 2 3 4 5 1 2 3 4 5 ...\n",
      "  ..$ mean  : num [1:25] 0.921 0.887 0.951 0.504 0.787 ...\n",
      "  ..$ lb_sd : num [1:25] 0.914 0.879 0.946 0.444 0.763 ...\n",
      "  ..$ ub_sd : num [1:25] 0.927 0.895 0.957 0.565 0.81 ...\n",
      " $ var.barplot.df  :'data.frame':\t25 obs. of  5 variables:\n",
      "  ..$ method: Factor w/ 5 levels \"Baseline\",\"CIBERSORTx\",..: 1 1 1 1 1 2 2 2 2 2 ...\n",
      "  ..$ source: Factor w/ 5 levels \"CD4\",\"NK\",\"CD8\",..: 1 2 3 4 5 1 2 3 4 5 ...\n",
      "  ..$ mean  : num [1:25] 0.69 0.62 0.57 0.412 0.489 ...\n",
      "  ..$ lb_sd : num [1:25] 0.656 0.58 0.522 0.366 0.442 ...\n",
      "  ..$ ub_sd : num [1:25] 0.725 0.661 0.618 0.459 0.536 ...\n",
      " $ boxplot.meta    :List of 5\n",
      "  ..$ CD4 :List of 5\n",
      "  .. ..$ median.mat      : num [1:2, 1:5] 0.372 0.408 0.739 0.866 0.731 ...\n",
      "  .. .. ..- attr(*, \"dimnames\")=List of 2\n",
      "  .. .. .. ..$ : chr [1:2] \"High Entropy\" \"Low Entropy\"\n",
      "  .. .. .. ..$ : chr [1:5] \"Baseline\" \"CIBERSORTx\" \"TCA\" \"bMIND\" ...\n",
      "  .. ..$ whitney.pval.mat: num [1:2, 1:5] 0 0 0 0 0 0 0 0 1 1\n",
      "  .. .. ..- attr(*, \"dimnames\")=List of 2\n",
      "  .. .. .. ..$ : chr [1:2] \"High Entropy\" \"Low Entropy\"\n",
      "  .. .. .. ..$ : chr [1:5] \"Baseline\" \"CIBERSORTx\" \"TCA\" \"bMIND\" ...\n",
      "  .. ..$ binom.pval.mat  : num [1:2, 1:5] 0 0 0 0 0 0 0 0 1 1\n",
      "  .. .. ..- attr(*, \"dimnames\")=List of 2\n",
      "  .. .. .. ..$ : chr [1:2] \"High Entropy\" \"Low Entropy\"\n",
      "  .. .. .. ..$ : chr [1:5] \"Baseline\" \"CIBERSORTx\" \"TCA\" \"bMIND\" ...\n",
      "  .. ..$ n.success.mat   : num [1:2, 1:5] 4961 5748 4592 5259 4739 ...\n",
      "  .. .. ..- attr(*, \"dimnames\")=List of 2\n",
      "  .. .. .. ..$ : chr [1:2] \"High Entropy\" \"Low Entropy\"\n",
      "  .. .. .. ..$ : chr [1:5] \"Baseline\" \"CIBERSORTx\" \"TCA\" \"bMIND\" ...\n",
      "  .. ..$ p.success.mat   : num [1:2, 1:5] 0.999 1 0.925 0.915 0.955 ...\n",
      "  .. .. ..- attr(*, \"dimnames\")=List of 2\n",
      "  .. .. .. ..$ : chr [1:2] \"High Entropy\" \"Low Entropy\"\n",
      "  .. .. .. ..$ : chr [1:5] \"Baseline\" \"CIBERSORTx\" \"TCA\" \"bMIND\" ...\n",
      "  ..$ NK  :List of 5\n",
      "  .. ..$ median.mat      : num [1:2, 1:5] 0.292 0.338 0 0 0.622 ...\n",
      "  .. .. ..- attr(*, \"dimnames\")=List of 2\n",
      "  .. .. .. ..$ : chr [1:2] \"High Entropy\" \"Low Entropy\"\n",
      "  .. .. .. ..$ : chr [1:5] \"Baseline\" \"CIBERSORTx\" \"TCA\" \"bMIND\" ...\n",
      "  .. ..$ whitney.pval.mat: num [1:2, 1:5] 0 0 0 0 0 0 0 0 1 1\n",
      "  .. .. ..- attr(*, \"dimnames\")=List of 2\n",
      "  .. .. .. ..$ : chr [1:2] \"High Entropy\" \"Low Entropy\"\n",
      "  .. .. .. ..$ : chr [1:5] \"Baseline\" \"CIBERSORTx\" \"TCA\" \"bMIND\" ...\n",
      "  .. ..$ binom.pval.mat  : num [1:2, 1:5] 0 0 0 0 0 0 0 0 1 1\n",
      "  .. .. ..- attr(*, \"dimnames\")=List of 2\n",
      "  .. .. .. ..$ : chr [1:2] \"High Entropy\" \"Low Entropy\"\n",
      "  .. .. .. ..$ : chr [1:5] \"Baseline\" \"CIBERSORTx\" \"TCA\" \"bMIND\" ...\n",
      "  .. ..$ n.success.mat   : num [1:2, 1:5] 5135 5785 5041 5580 4855 ...\n",
      "  .. .. ..- attr(*, \"dimnames\")=List of 2\n",
      "  .. .. .. ..$ : chr [1:2] \"High Entropy\" \"Low Entropy\"\n",
      "  .. .. .. ..$ : chr [1:5] \"Baseline\" \"CIBERSORTx\" \"TCA\" \"bMIND\" ...\n",
      "  .. ..$ p.success.mat   : num [1:2, 1:5] 1 1 0.981 0.965 0.945 ...\n",
      "  .. .. ..- attr(*, \"dimnames\")=List of 2\n",
      "  .. .. .. ..$ : chr [1:2] \"High Entropy\" \"Low Entropy\"\n",
      "  .. .. .. ..$ : chr [1:5] \"Baseline\" \"CIBERSORTx\" \"TCA\" \"bMIND\" ...\n",
      "  ..$ CD8 :List of 5\n",
      "  .. ..$ median.mat      : num [1:2, 1:5] 0.306 0.353 0 0 0.637 ...\n",
      "  .. .. ..- attr(*, \"dimnames\")=List of 2\n",
      "  .. .. .. ..$ : chr [1:2] \"High Entropy\" \"Low Entropy\"\n",
      "  .. .. .. ..$ : chr [1:5] \"Baseline\" \"CIBERSORTx\" \"TCA\" \"bMIND\" ...\n",
      "  .. ..$ whitney.pval.mat: num [1:2, 1:5] 0 0 0 0 0 0 0 0 1 1\n",
      "  .. .. ..- attr(*, \"dimnames\")=List of 2\n",
      "  .. .. .. ..$ : chr [1:2] \"High Entropy\" \"Low Entropy\"\n",
      "  .. .. .. ..$ : chr [1:5] \"Baseline\" \"CIBERSORTx\" \"TCA\" \"bMIND\" ...\n",
      "  .. ..$ binom.pval.mat  : num [1:2, 1:5] 0 0 0 0 0 0 0 0 1 1\n",
      "  .. .. ..- attr(*, \"dimnames\")=List of 2\n",
      "  .. .. .. ..$ : chr [1:2] \"High Entropy\" \"Low Entropy\"\n",
      "  .. .. .. ..$ : chr [1:5] \"Baseline\" \"CIBERSORTx\" \"TCA\" \"bMIND\" ...\n",
      "  .. ..$ n.success.mat   : num [1:2, 1:5] 5262 5788 5213 5698 5015 ...\n",
      "  .. .. ..- attr(*, \"dimnames\")=List of 2\n",
      "  .. .. .. ..$ : chr [1:2] \"High Entropy\" \"Low Entropy\"\n",
      "  .. .. .. ..$ : chr [1:5] \"Baseline\" \"CIBERSORTx\" \"TCA\" \"bMIND\" ...\n",
      "  .. ..$ p.success.mat   : num [1:2, 1:5] 1 1 0.99 0.984 0.953 ...\n",
      "  .. .. ..- attr(*, \"dimnames\")=List of 2\n",
      "  .. .. .. ..$ : chr [1:2] \"High Entropy\" \"Low Entropy\"\n",
      "  .. .. .. ..$ : chr [1:5] \"Baseline\" \"CIBERSORTx\" \"TCA\" \"bMIND\" ...\n",
      "  ..$ Mono:List of 5\n",
      "  .. ..$ median.mat      : num [1:2, 1:5] 0.143 0.159 0.46 0.584 0.449 ...\n",
      "  .. .. ..- attr(*, \"dimnames\")=List of 2\n",
      "  .. .. .. ..$ : chr [1:2] \"High Entropy\" \"Low Entropy\"\n",
      "  .. .. .. ..$ : chr [1:5] \"Baseline\" \"CIBERSORTx\" \"TCA\" \"bMIND\" ...\n",
      "  .. ..$ whitney.pval.mat: num [1:2, 1:5] 0 0 0 0 0 0 0 0 1 1\n",
      "  .. .. ..- attr(*, \"dimnames\")=List of 2\n",
      "  .. .. .. ..$ : chr [1:2] \"High Entropy\" \"Low Entropy\"\n",
      "  .. .. .. ..$ : chr [1:5] \"Baseline\" \"CIBERSORTx\" \"TCA\" \"bMIND\" ...\n",
      "  .. ..$ binom.pval.mat  : num [1:2, 1:5] 0 0 0 0 0 0 0 0 1 1\n",
      "  .. .. ..- attr(*, \"dimnames\")=List of 2\n",
      "  .. .. .. ..$ : chr [1:2] \"High Entropy\" \"Low Entropy\"\n",
      "  .. .. .. ..$ : chr [1:5] \"Baseline\" \"CIBERSORTx\" \"TCA\" \"bMIND\" ...\n",
      "  .. ..$ n.success.mat   : num [1:2, 1:5] 5041 5715 4337 4555 4541 ...\n",
      "  .. .. ..- attr(*, \"dimnames\")=List of 2\n",
      "  .. .. .. ..$ : chr [1:2] \"High Entropy\" \"Low Entropy\"\n",
      "  .. .. .. ..$ : chr [1:5] \"Baseline\" \"CIBERSORTx\" \"TCA\" \"bMIND\" ...\n",
      "  .. ..$ p.success.mat   : num [1:2, 1:5] 0.996 1 0.857 0.797 0.897 ...\n",
      "  .. .. ..- attr(*, \"dimnames\")=List of 2\n",
      "  .. .. .. ..$ : chr [1:2] \"High Entropy\" \"Low Entropy\"\n",
      "  .. .. .. ..$ : chr [1:5] \"Baseline\" \"CIBERSORTx\" \"TCA\" \"bMIND\" ...\n",
      "  ..$ B   :List of 5\n",
      "  .. ..$ median.mat      : num [1:2, 1:5] 0.189 0.248 0 0 0.48 ...\n",
      "  .. .. ..- attr(*, \"dimnames\")=List of 2\n",
      "  .. .. .. ..$ : chr [1:2] \"High Entropy\" \"Low Entropy\"\n",
      "  .. .. .. ..$ : chr [1:5] \"Baseline\" \"CIBERSORTx\" \"TCA\" \"bMIND\" ...\n",
      "  .. ..$ whitney.pval.mat: num [1:2, 1:5] 0 0 0 0 0 0 0 0 1 1\n",
      "  .. .. ..- attr(*, \"dimnames\")=List of 2\n",
      "  .. .. .. ..$ : chr [1:2] \"High Entropy\" \"Low Entropy\"\n",
      "  .. .. .. ..$ : chr [1:5] \"Baseline\" \"CIBERSORTx\" \"TCA\" \"bMIND\" ...\n",
      "  .. ..$ binom.pval.mat  : num [1:2, 1:5] 0 0 0 0 0 0 0 0 1 1\n",
      "  .. .. ..- attr(*, \"dimnames\")=List of 2\n",
      "  .. .. .. ..$ : chr [1:2] \"High Entropy\" \"Low Entropy\"\n",
      "  .. .. .. ..$ : chr [1:5] \"Baseline\" \"CIBERSORTx\" \"TCA\" \"bMIND\" ...\n",
      "  .. ..$ n.success.mat   : num [1:2, 1:5] 4964 5753 4630 5420 4618 ...\n",
      "  .. .. ..- attr(*, \"dimnames\")=List of 2\n",
      "  .. .. .. ..$ : chr [1:2] \"High Entropy\" \"Low Entropy\"\n",
      "  .. .. .. ..$ : chr [1:5] \"Baseline\" \"CIBERSORTx\" \"TCA\" \"bMIND\" ...\n",
      "  .. ..$ p.success.mat   : num [1:2, 1:5] 0.997 1 0.93 0.942 0.927 ...\n",
      "  .. .. ..- attr(*, \"dimnames\")=List of 2\n",
      "  .. .. .. ..$ : chr [1:2] \"High Entropy\" \"Low Entropy\"\n",
      "  .. .. .. ..$ : chr [1:5] \"Baseline\" \"CIBERSORTx\" \"TCA\" \"bMIND\" ...\n",
      " $ Z.corrs.list    :List of 7\n",
      "  ..$ Baseline      : num [1:12000, 1:5] 0.422 NA 0.356 0.333 0.526 ...\n",
      "  .. ..- attr(*, \"dimnames\")=List of 2\n",
      "  .. .. ..$ : chr [1:12000] \"AP2M1\" \"RASGRP4\" \"KIAA0319L\" \"IFT22\" ...\n",
      "  .. .. ..$ : chr [1:5] \"CD4\" \"NK\" \"CD8\" \"Mono\" ...\n",
      "  ..$ CIBERSORTx    : num [1:12000, 1:5] 0.932 NA 0.828 0.703 0.933 ...\n",
      "  .. ..- attr(*, \"dimnames\")=List of 2\n",
      "  .. .. ..$ : chr [1:12000] \"AP2M1\" \"RASGRP4\" \"KIAA0319L\" \"IFT22\" ...\n",
      "  .. .. ..$ : chr [1:5] \"CD4\" \"NK\" \"CD8\" \"Mono\" ...\n",
      "  ..$ TCA           : num [1:12000, 1:5] 0.838 NA 0.794 0.664 0.836 ...\n",
      "  .. ..- attr(*, \"dimnames\")=List of 2\n",
      "  .. .. ..$ : chr [1:12000] \"AP2M1\" \"RASGRP4\" \"KIAA0319L\" \"IFT22\" ...\n",
      "  .. .. ..$ : chr [1:5] \"CD4\" \"NK\" \"CD8\" \"Mono\" ...\n",
      "  ..$ TCAx          : num [1:12000, 1:5] 0.942 NA 0.865 0.734 0.934 ...\n",
      "  .. ..- attr(*, \"dimnames\")=List of 2\n",
      "  .. .. ..$ : chr [1:12000] \"AP2M1\" \"RASGRP4\" \"KIAA0319L\" \"IFT22\" ...\n",
      "  .. .. ..$ : chr [1:5] \"CD4\" \"NK\" \"CD8\" \"Mono\" ...\n",
      "  ..$ bMIND         : num [1:12000, 1:5] 0.828 NA 0.783 0.648 0.831 ...\n",
      "  .. ..- attr(*, \"dimnames\")=List of 2\n",
      "  .. .. ..$ : chr [1:12000] \"AP2M1\" \"RASGRP4\" \"KIAA0319L\" \"IFT22\" ...\n",
      "  .. .. ..$ : chr [1:5] \"CD4\" \"NK\" \"CD8\" \"Mono\" ...\n",
      "  ..$ mask          : logi [1:12000, 1:5] TRUE FALSE TRUE TRUE TRUE TRUE ...\n",
      "  .. ..- attr(*, \"dimnames\")=List of 2\n",
      "  .. .. ..$ : chr [1:12000] \"AP2M1\" \"RASGRP4\" \"KIAA0319L\" \"IFT22\" ...\n",
      "  .. .. ..$ : chr [1:5] \"CD4\" \"NK\" \"CD8\" \"Mono\" ...\n",
      "  ..$ eval.entropies: chr [1:12000, 1] \"Low Entropy\" \"High Entropy\" \"High Entropy\" \"High Entropy\" ...\n",
      " $ addition.box.dfs:'data.frame':\t270990 obs. of  5 variables:\n",
      "  ..$ source.id: Factor w/ 5 levels \"CD4 T Cells (32%)\",..: 1 1 1 1 1 1 1 1 1 1 ...\n",
      "  ..$ y        : num [1:270990] -13.65 -11.4 -8.02 -6.35 -18.31 ...\n",
      "  ..$ mask     : logi [1:270990] TRUE TRUE TRUE TRUE TRUE TRUE ...\n",
      "  ..$ entropy  : Factor w/ 2 levels \"High Entropy\",..: 2 1 1 2 1 1 2 1 2 1 ...\n",
      "  ..$ method   : Factor w/ 5 levels \"Baseline\",\"CIBERSORTx\",..: 1 1 1 1 1 1 1 1 1 1 ...\n"
     ]
    }
   ],
   "source": [
    "str(sim.pbmc.stats)"
   ]
  },
  {
   "cell_type": "code",
   "execution_count": 4,
   "metadata": {
    "scrolled": true
   },
   "outputs": [],
   "source": [
    "Unico.pbmc.covar = sim.pbmc.stats$covar.barplot.df[sim.pbmc.stats$covar.barplot.df$method == \"Unico\",]\n",
    "bMIND.pbmc.covar = sim.pbmc.stats$covar.barplot.df[sim.pbmc.stats$covar.barplot.df$method == \"bMIND\",]\n",
    "\n",
    "Unico.lung.covar = sim.lung.stats$covar.barplot.df[sim.lung.stats$covar.barplot.df$method == \"Unico\",]\n",
    "bMIND.lung.covar = sim.lung.stats$covar.barplot.df[sim.lung.stats$covar.barplot.df$method == \"bMIND\",]"
   ]
  },
  {
   "cell_type": "code",
   "execution_count": 5,
   "metadata": {
    "scrolled": true
   },
   "outputs": [
    {
     "data": {
      "text/html": [
       "<table class=\"dataframe\">\n",
       "<caption>A data.frame: 10 × 5</caption>\n",
       "<thead>\n",
       "\t<tr><th></th><th scope=col>method</th><th scope=col>source</th><th scope=col>mean</th><th scope=col>lb_sd</th><th scope=col>ub_sd</th></tr>\n",
       "\t<tr><th></th><th scope=col>&lt;fct&gt;</th><th scope=col>&lt;fct&gt;</th><th scope=col>&lt;dbl&gt;</th><th scope=col>&lt;dbl&gt;</th><th scope=col>&lt;dbl&gt;</th></tr>\n",
       "</thead>\n",
       "<tbody>\n",
       "\t<tr><th scope=row>41</th><td>Unico</td><td>CD4-NK  </td><td>0.7997952</td><td>0.7708231</td><td>0.8287674</td></tr>\n",
       "\t<tr><th scope=row>42</th><td>Unico</td><td>CD4-CD8 </td><td>0.8060463</td><td>0.7824778</td><td>0.8296147</td></tr>\n",
       "\t<tr><th scope=row>43</th><td>Unico</td><td>CD4-Mono</td><td>0.6789415</td><td>0.6196820</td><td>0.7382011</td></tr>\n",
       "\t<tr><th scope=row>44</th><td>Unico</td><td>CD4-B   </td><td>0.6956528</td><td>0.6517774</td><td>0.7395282</td></tr>\n",
       "\t<tr><th scope=row>45</th><td>Unico</td><td>NK-CD8  </td><td>0.7378061</td><td>0.7048429</td><td>0.7707692</td></tr>\n",
       "\t<tr><th scope=row>46</th><td>Unico</td><td>NK-Mono </td><td>0.6049978</td><td>0.5581345</td><td>0.6518610</td></tr>\n",
       "\t<tr><th scope=row>47</th><td>Unico</td><td>NK-B    </td><td>0.6574268</td><td>0.6035194</td><td>0.7113342</td></tr>\n",
       "\t<tr><th scope=row>48</th><td>Unico</td><td>CD8-Mono</td><td>0.6010827</td><td>0.5499493</td><td>0.6522161</td></tr>\n",
       "\t<tr><th scope=row>49</th><td>Unico</td><td>CD8-B   </td><td>0.6188579</td><td>0.5586280</td><td>0.6790878</td></tr>\n",
       "\t<tr><th scope=row>50</th><td>Unico</td><td>Mono-B  </td><td>0.5104706</td><td>0.4441269</td><td>0.5768144</td></tr>\n",
       "</tbody>\n",
       "</table>\n"
      ],
      "text/latex": [
       "A data.frame: 10 × 5\n",
       "\\begin{tabular}{r|lllll}\n",
       "  & method & source & mean & lb\\_sd & ub\\_sd\\\\\n",
       "  & <fct> & <fct> & <dbl> & <dbl> & <dbl>\\\\\n",
       "\\hline\n",
       "\t41 & Unico & CD4-NK   & 0.7997952 & 0.7708231 & 0.8287674\\\\\n",
       "\t42 & Unico & CD4-CD8  & 0.8060463 & 0.7824778 & 0.8296147\\\\\n",
       "\t43 & Unico & CD4-Mono & 0.6789415 & 0.6196820 & 0.7382011\\\\\n",
       "\t44 & Unico & CD4-B    & 0.6956528 & 0.6517774 & 0.7395282\\\\\n",
       "\t45 & Unico & NK-CD8   & 0.7378061 & 0.7048429 & 0.7707692\\\\\n",
       "\t46 & Unico & NK-Mono  & 0.6049978 & 0.5581345 & 0.6518610\\\\\n",
       "\t47 & Unico & NK-B     & 0.6574268 & 0.6035194 & 0.7113342\\\\\n",
       "\t48 & Unico & CD8-Mono & 0.6010827 & 0.5499493 & 0.6522161\\\\\n",
       "\t49 & Unico & CD8-B    & 0.6188579 & 0.5586280 & 0.6790878\\\\\n",
       "\t50 & Unico & Mono-B   & 0.5104706 & 0.4441269 & 0.5768144\\\\\n",
       "\\end{tabular}\n"
      ],
      "text/markdown": [
       "\n",
       "A data.frame: 10 × 5\n",
       "\n",
       "| <!--/--> | method &lt;fct&gt; | source &lt;fct&gt; | mean &lt;dbl&gt; | lb_sd &lt;dbl&gt; | ub_sd &lt;dbl&gt; |\n",
       "|---|---|---|---|---|---|\n",
       "| 41 | Unico | CD4-NK   | 0.7997952 | 0.7708231 | 0.8287674 |\n",
       "| 42 | Unico | CD4-CD8  | 0.8060463 | 0.7824778 | 0.8296147 |\n",
       "| 43 | Unico | CD4-Mono | 0.6789415 | 0.6196820 | 0.7382011 |\n",
       "| 44 | Unico | CD4-B    | 0.6956528 | 0.6517774 | 0.7395282 |\n",
       "| 45 | Unico | NK-CD8   | 0.7378061 | 0.7048429 | 0.7707692 |\n",
       "| 46 | Unico | NK-Mono  | 0.6049978 | 0.5581345 | 0.6518610 |\n",
       "| 47 | Unico | NK-B     | 0.6574268 | 0.6035194 | 0.7113342 |\n",
       "| 48 | Unico | CD8-Mono | 0.6010827 | 0.5499493 | 0.6522161 |\n",
       "| 49 | Unico | CD8-B    | 0.6188579 | 0.5586280 | 0.6790878 |\n",
       "| 50 | Unico | Mono-B   | 0.5104706 | 0.4441269 | 0.5768144 |\n",
       "\n"
      ],
      "text/plain": [
       "   method source   mean      lb_sd     ub_sd    \n",
       "41 Unico  CD4-NK   0.7997952 0.7708231 0.8287674\n",
       "42 Unico  CD4-CD8  0.8060463 0.7824778 0.8296147\n",
       "43 Unico  CD4-Mono 0.6789415 0.6196820 0.7382011\n",
       "44 Unico  CD4-B    0.6956528 0.6517774 0.7395282\n",
       "45 Unico  NK-CD8   0.7378061 0.7048429 0.7707692\n",
       "46 Unico  NK-Mono  0.6049978 0.5581345 0.6518610\n",
       "47 Unico  NK-B     0.6574268 0.6035194 0.7113342\n",
       "48 Unico  CD8-Mono 0.6010827 0.5499493 0.6522161\n",
       "49 Unico  CD8-B    0.6188579 0.5586280 0.6790878\n",
       "50 Unico  Mono-B   0.5104706 0.4441269 0.5768144"
      ]
     },
     "metadata": {},
     "output_type": "display_data"
    }
   ],
   "source": [
    "Unico.pbmc.covar"
   ]
  },
  {
   "cell_type": "code",
   "execution_count": 6,
   "metadata": {},
   "outputs": [
    {
     "data": {
      "text/html": [
       "<table class=\"dataframe\">\n",
       "<caption>A data.frame: 10 × 5</caption>\n",
       "<thead>\n",
       "\t<tr><th></th><th scope=col>method</th><th scope=col>source</th><th scope=col>mean</th><th scope=col>lb_sd</th><th scope=col>ub_sd</th></tr>\n",
       "\t<tr><th></th><th scope=col>&lt;fct&gt;</th><th scope=col>&lt;fct&gt;</th><th scope=col>&lt;dbl&gt;</th><th scope=col>&lt;dbl&gt;</th><th scope=col>&lt;dbl&gt;</th></tr>\n",
       "</thead>\n",
       "<tbody>\n",
       "\t<tr><th scope=row>31</th><td>bMIND</td><td>CD4-NK  </td><td>0.5774318</td><td>0.5013166</td><td>0.6535470</td></tr>\n",
       "\t<tr><th scope=row>32</th><td>bMIND</td><td>CD4-CD8 </td><td>0.6264984</td><td>0.5583060</td><td>0.6946909</td></tr>\n",
       "\t<tr><th scope=row>33</th><td>bMIND</td><td>CD4-Mono</td><td>0.3193830</td><td>0.2118803</td><td>0.4268857</td></tr>\n",
       "\t<tr><th scope=row>34</th><td>bMIND</td><td>CD4-B   </td><td>0.5808011</td><td>0.4816751</td><td>0.6799270</td></tr>\n",
       "\t<tr><th scope=row>35</th><td>bMIND</td><td>NK-CD8  </td><td>0.6457368</td><td>0.5542620</td><td>0.7372115</td></tr>\n",
       "\t<tr><th scope=row>36</th><td>bMIND</td><td>NK-Mono </td><td>0.5415382</td><td>0.4858351</td><td>0.5972413</td></tr>\n",
       "\t<tr><th scope=row>37</th><td>bMIND</td><td>NK-B    </td><td>0.3620979</td><td>0.2972943</td><td>0.4269016</td></tr>\n",
       "\t<tr><th scope=row>38</th><td>bMIND</td><td>CD8-Mono</td><td>0.4423757</td><td>0.3565763</td><td>0.5281751</td></tr>\n",
       "\t<tr><th scope=row>39</th><td>bMIND</td><td>CD8-B   </td><td>0.5250030</td><td>0.4379717</td><td>0.6120342</td></tr>\n",
       "\t<tr><th scope=row>40</th><td>bMIND</td><td>Mono-B  </td><td>0.2985271</td><td>0.1889593</td><td>0.4080949</td></tr>\n",
       "</tbody>\n",
       "</table>\n"
      ],
      "text/latex": [
       "A data.frame: 10 × 5\n",
       "\\begin{tabular}{r|lllll}\n",
       "  & method & source & mean & lb\\_sd & ub\\_sd\\\\\n",
       "  & <fct> & <fct> & <dbl> & <dbl> & <dbl>\\\\\n",
       "\\hline\n",
       "\t31 & bMIND & CD4-NK   & 0.5774318 & 0.5013166 & 0.6535470\\\\\n",
       "\t32 & bMIND & CD4-CD8  & 0.6264984 & 0.5583060 & 0.6946909\\\\\n",
       "\t33 & bMIND & CD4-Mono & 0.3193830 & 0.2118803 & 0.4268857\\\\\n",
       "\t34 & bMIND & CD4-B    & 0.5808011 & 0.4816751 & 0.6799270\\\\\n",
       "\t35 & bMIND & NK-CD8   & 0.6457368 & 0.5542620 & 0.7372115\\\\\n",
       "\t36 & bMIND & NK-Mono  & 0.5415382 & 0.4858351 & 0.5972413\\\\\n",
       "\t37 & bMIND & NK-B     & 0.3620979 & 0.2972943 & 0.4269016\\\\\n",
       "\t38 & bMIND & CD8-Mono & 0.4423757 & 0.3565763 & 0.5281751\\\\\n",
       "\t39 & bMIND & CD8-B    & 0.5250030 & 0.4379717 & 0.6120342\\\\\n",
       "\t40 & bMIND & Mono-B   & 0.2985271 & 0.1889593 & 0.4080949\\\\\n",
       "\\end{tabular}\n"
      ],
      "text/markdown": [
       "\n",
       "A data.frame: 10 × 5\n",
       "\n",
       "| <!--/--> | method &lt;fct&gt; | source &lt;fct&gt; | mean &lt;dbl&gt; | lb_sd &lt;dbl&gt; | ub_sd &lt;dbl&gt; |\n",
       "|---|---|---|---|---|---|\n",
       "| 31 | bMIND | CD4-NK   | 0.5774318 | 0.5013166 | 0.6535470 |\n",
       "| 32 | bMIND | CD4-CD8  | 0.6264984 | 0.5583060 | 0.6946909 |\n",
       "| 33 | bMIND | CD4-Mono | 0.3193830 | 0.2118803 | 0.4268857 |\n",
       "| 34 | bMIND | CD4-B    | 0.5808011 | 0.4816751 | 0.6799270 |\n",
       "| 35 | bMIND | NK-CD8   | 0.6457368 | 0.5542620 | 0.7372115 |\n",
       "| 36 | bMIND | NK-Mono  | 0.5415382 | 0.4858351 | 0.5972413 |\n",
       "| 37 | bMIND | NK-B     | 0.3620979 | 0.2972943 | 0.4269016 |\n",
       "| 38 | bMIND | CD8-Mono | 0.4423757 | 0.3565763 | 0.5281751 |\n",
       "| 39 | bMIND | CD8-B    | 0.5250030 | 0.4379717 | 0.6120342 |\n",
       "| 40 | bMIND | Mono-B   | 0.2985271 | 0.1889593 | 0.4080949 |\n",
       "\n"
      ],
      "text/plain": [
       "   method source   mean      lb_sd     ub_sd    \n",
       "31 bMIND  CD4-NK   0.5774318 0.5013166 0.6535470\n",
       "32 bMIND  CD4-CD8  0.6264984 0.5583060 0.6946909\n",
       "33 bMIND  CD4-Mono 0.3193830 0.2118803 0.4268857\n",
       "34 bMIND  CD4-B    0.5808011 0.4816751 0.6799270\n",
       "35 bMIND  NK-CD8   0.6457368 0.5542620 0.7372115\n",
       "36 bMIND  NK-Mono  0.5415382 0.4858351 0.5972413\n",
       "37 bMIND  NK-B     0.3620979 0.2972943 0.4269016\n",
       "38 bMIND  CD8-Mono 0.4423757 0.3565763 0.5281751\n",
       "39 bMIND  CD8-B    0.5250030 0.4379717 0.6120342\n",
       "40 bMIND  Mono-B   0.2985271 0.1889593 0.4080949"
      ]
     },
     "metadata": {},
     "output_type": "display_data"
    }
   ],
   "source": [
    "bMIND.pbmc.covar"
   ]
  },
  {
   "cell_type": "code",
   "execution_count": 7,
   "metadata": {},
   "outputs": [
    {
     "data": {
      "text/html": [
       "<table class=\"dataframe\">\n",
       "<caption>A data.frame: 6 × 5</caption>\n",
       "<thead>\n",
       "\t<tr><th></th><th scope=col>method</th><th scope=col>source</th><th scope=col>mean</th><th scope=col>lb_sd</th><th scope=col>ub_sd</th></tr>\n",
       "\t<tr><th></th><th scope=col>&lt;fct&gt;</th><th scope=col>&lt;fct&gt;</th><th scope=col>&lt;dbl&gt;</th><th scope=col>&lt;dbl&gt;</th><th scope=col>&lt;dbl&gt;</th></tr>\n",
       "</thead>\n",
       "<tbody>\n",
       "\t<tr><th scope=row>25</th><td>Unico</td><td>Immune-Epithelial     </td><td>0.6955476</td><td>0.6525796</td><td>0.7385155</td></tr>\n",
       "\t<tr><th scope=row>26</th><td>Unico</td><td>Immune-Endothelial    </td><td>0.6537858</td><td>0.6233061</td><td>0.6842656</td></tr>\n",
       "\t<tr><th scope=row>27</th><td>Unico</td><td>Immune-Stroma         </td><td>0.4307446</td><td>0.3524537</td><td>0.5090355</td></tr>\n",
       "\t<tr><th scope=row>28</th><td>Unico</td><td>Epithelial-Endothelial</td><td>0.6327316</td><td>0.5856689</td><td>0.6797943</td></tr>\n",
       "\t<tr><th scope=row>29</th><td>Unico</td><td>Epithelial-Stroma     </td><td>0.3953936</td><td>0.3379668</td><td>0.4528203</td></tr>\n",
       "\t<tr><th scope=row>30</th><td>Unico</td><td>Endothelial-Stroma    </td><td>0.4172140</td><td>0.3633406</td><td>0.4710875</td></tr>\n",
       "</tbody>\n",
       "</table>\n"
      ],
      "text/latex": [
       "A data.frame: 6 × 5\n",
       "\\begin{tabular}{r|lllll}\n",
       "  & method & source & mean & lb\\_sd & ub\\_sd\\\\\n",
       "  & <fct> & <fct> & <dbl> & <dbl> & <dbl>\\\\\n",
       "\\hline\n",
       "\t25 & Unico & Immune-Epithelial      & 0.6955476 & 0.6525796 & 0.7385155\\\\\n",
       "\t26 & Unico & Immune-Endothelial     & 0.6537858 & 0.6233061 & 0.6842656\\\\\n",
       "\t27 & Unico & Immune-Stroma          & 0.4307446 & 0.3524537 & 0.5090355\\\\\n",
       "\t28 & Unico & Epithelial-Endothelial & 0.6327316 & 0.5856689 & 0.6797943\\\\\n",
       "\t29 & Unico & Epithelial-Stroma      & 0.3953936 & 0.3379668 & 0.4528203\\\\\n",
       "\t30 & Unico & Endothelial-Stroma     & 0.4172140 & 0.3633406 & 0.4710875\\\\\n",
       "\\end{tabular}\n"
      ],
      "text/markdown": [
       "\n",
       "A data.frame: 6 × 5\n",
       "\n",
       "| <!--/--> | method &lt;fct&gt; | source &lt;fct&gt; | mean &lt;dbl&gt; | lb_sd &lt;dbl&gt; | ub_sd &lt;dbl&gt; |\n",
       "|---|---|---|---|---|---|\n",
       "| 25 | Unico | Immune-Epithelial      | 0.6955476 | 0.6525796 | 0.7385155 |\n",
       "| 26 | Unico | Immune-Endothelial     | 0.6537858 | 0.6233061 | 0.6842656 |\n",
       "| 27 | Unico | Immune-Stroma          | 0.4307446 | 0.3524537 | 0.5090355 |\n",
       "| 28 | Unico | Epithelial-Endothelial | 0.6327316 | 0.5856689 | 0.6797943 |\n",
       "| 29 | Unico | Epithelial-Stroma      | 0.3953936 | 0.3379668 | 0.4528203 |\n",
       "| 30 | Unico | Endothelial-Stroma     | 0.4172140 | 0.3633406 | 0.4710875 |\n",
       "\n"
      ],
      "text/plain": [
       "   method source                 mean      lb_sd     ub_sd    \n",
       "25 Unico  Immune-Epithelial      0.6955476 0.6525796 0.7385155\n",
       "26 Unico  Immune-Endothelial     0.6537858 0.6233061 0.6842656\n",
       "27 Unico  Immune-Stroma          0.4307446 0.3524537 0.5090355\n",
       "28 Unico  Epithelial-Endothelial 0.6327316 0.5856689 0.6797943\n",
       "29 Unico  Epithelial-Stroma      0.3953936 0.3379668 0.4528203\n",
       "30 Unico  Endothelial-Stroma     0.4172140 0.3633406 0.4710875"
      ]
     },
     "metadata": {},
     "output_type": "display_data"
    }
   ],
   "source": [
    "Unico.lung.covar"
   ]
  },
  {
   "cell_type": "code",
   "execution_count": 8,
   "metadata": {},
   "outputs": [
    {
     "data": {
      "text/html": [
       "<table class=\"dataframe\">\n",
       "<caption>A data.frame: 6 × 5</caption>\n",
       "<thead>\n",
       "\t<tr><th></th><th scope=col>method</th><th scope=col>source</th><th scope=col>mean</th><th scope=col>lb_sd</th><th scope=col>ub_sd</th></tr>\n",
       "\t<tr><th></th><th scope=col>&lt;fct&gt;</th><th scope=col>&lt;fct&gt;</th><th scope=col>&lt;dbl&gt;</th><th scope=col>&lt;dbl&gt;</th><th scope=col>&lt;dbl&gt;</th></tr>\n",
       "</thead>\n",
       "<tbody>\n",
       "\t<tr><th scope=row>19</th><td>bMIND</td><td>Immune-Epithelial     </td><td>0.4733487</td><td>0.3998663</td><td>0.5468312</td></tr>\n",
       "\t<tr><th scope=row>20</th><td>bMIND</td><td>Immune-Endothelial    </td><td>0.5505532</td><td>0.4992879</td><td>0.6018185</td></tr>\n",
       "\t<tr><th scope=row>21</th><td>bMIND</td><td>Immune-Stroma         </td><td>0.2943216</td><td>0.2084121</td><td>0.3802311</td></tr>\n",
       "\t<tr><th scope=row>22</th><td>bMIND</td><td>Epithelial-Endothelial</td><td>0.4189630</td><td>0.3355913</td><td>0.5023347</td></tr>\n",
       "\t<tr><th scope=row>23</th><td>bMIND</td><td>Epithelial-Stroma     </td><td>0.3016744</td><td>0.2289444</td><td>0.3744045</td></tr>\n",
       "\t<tr><th scope=row>24</th><td>bMIND</td><td>Endothelial-Stroma    </td><td>0.3312196</td><td>0.2605111</td><td>0.4019281</td></tr>\n",
       "</tbody>\n",
       "</table>\n"
      ],
      "text/latex": [
       "A data.frame: 6 × 5\n",
       "\\begin{tabular}{r|lllll}\n",
       "  & method & source & mean & lb\\_sd & ub\\_sd\\\\\n",
       "  & <fct> & <fct> & <dbl> & <dbl> & <dbl>\\\\\n",
       "\\hline\n",
       "\t19 & bMIND & Immune-Epithelial      & 0.4733487 & 0.3998663 & 0.5468312\\\\\n",
       "\t20 & bMIND & Immune-Endothelial     & 0.5505532 & 0.4992879 & 0.6018185\\\\\n",
       "\t21 & bMIND & Immune-Stroma          & 0.2943216 & 0.2084121 & 0.3802311\\\\\n",
       "\t22 & bMIND & Epithelial-Endothelial & 0.4189630 & 0.3355913 & 0.5023347\\\\\n",
       "\t23 & bMIND & Epithelial-Stroma      & 0.3016744 & 0.2289444 & 0.3744045\\\\\n",
       "\t24 & bMIND & Endothelial-Stroma     & 0.3312196 & 0.2605111 & 0.4019281\\\\\n",
       "\\end{tabular}\n"
      ],
      "text/markdown": [
       "\n",
       "A data.frame: 6 × 5\n",
       "\n",
       "| <!--/--> | method &lt;fct&gt; | source &lt;fct&gt; | mean &lt;dbl&gt; | lb_sd &lt;dbl&gt; | ub_sd &lt;dbl&gt; |\n",
       "|---|---|---|---|---|---|\n",
       "| 19 | bMIND | Immune-Epithelial      | 0.4733487 | 0.3998663 | 0.5468312 |\n",
       "| 20 | bMIND | Immune-Endothelial     | 0.5505532 | 0.4992879 | 0.6018185 |\n",
       "| 21 | bMIND | Immune-Stroma          | 0.2943216 | 0.2084121 | 0.3802311 |\n",
       "| 22 | bMIND | Epithelial-Endothelial | 0.4189630 | 0.3355913 | 0.5023347 |\n",
       "| 23 | bMIND | Epithelial-Stroma      | 0.3016744 | 0.2289444 | 0.3744045 |\n",
       "| 24 | bMIND | Endothelial-Stroma     | 0.3312196 | 0.2605111 | 0.4019281 |\n",
       "\n"
      ],
      "text/plain": [
       "   method source                 mean      lb_sd     ub_sd    \n",
       "19 bMIND  Immune-Epithelial      0.4733487 0.3998663 0.5468312\n",
       "20 bMIND  Immune-Endothelial     0.5505532 0.4992879 0.6018185\n",
       "21 bMIND  Immune-Stroma          0.2943216 0.2084121 0.3802311\n",
       "22 bMIND  Epithelial-Endothelial 0.4189630 0.3355913 0.5023347\n",
       "23 bMIND  Epithelial-Stroma      0.3016744 0.2289444 0.3744045\n",
       "24 bMIND  Endothelial-Stroma     0.3312196 0.2605111 0.4019281"
      ]
     },
     "metadata": {},
     "output_type": "display_data"
    }
   ],
   "source": [
    "bMIND.lung.covar"
   ]
  },
  {
   "cell_type": "code",
   "execution_count": 9,
   "metadata": {},
   "outputs": [
    {
     "data": {
      "text/html": [
       "0.36420850164216"
      ],
      "text/latex": [
       "0.36420850164216"
      ],
      "text/markdown": [
       "0.36420850164216"
      ],
      "text/plain": [
       "[1] 0.3642085"
      ]
     },
     "metadata": {},
     "output_type": "display_data"
    },
    {
     "data": {
      "text/html": [
       "0.360889250823791"
      ],
      "text/latex": [
       "0.360889250823791"
      ],
      "text/markdown": [
       "0.360889250823791"
      ],
      "text/plain": [
       "[1] 0.3608893"
      ]
     },
     "metadata": {},
     "output_type": "display_data"
    }
   ],
   "source": [
    "pbmc.improve = (mean(Unico.pbmc.covar$mean) - mean(bMIND.pbmc.covar$mean))/(mean(bMIND.pbmc.covar$mean))\n",
    "lung.improve = (mean(Unico.lung.covar$mean) - mean(bMIND.lung.covar$mean))/(mean(bMIND.lung.covar$mean))\n",
    "\n",
    "pbmc.improve\n",
    "lung.improve"
   ]
  },
  {
   "cell_type": "code",
   "execution_count": 10,
   "metadata": {},
   "outputs": [
    {
     "data": {
      "text/html": [
       "0.362548876232976"
      ],
      "text/latex": [
       "0.362548876232976"
      ],
      "text/markdown": [
       "0.362548876232976"
      ],
      "text/plain": [
       "[1] 0.3625489"
      ]
     },
     "metadata": {},
     "output_type": "display_data"
    }
   ],
   "source": [
    "(pbmc.improve + lung.improve)/2"
   ]
  },
  {
   "cell_type": "code",
   "execution_count": null,
   "metadata": {},
   "outputs": [],
   "source": []
  },
  {
   "cell_type": "markdown",
   "metadata": {},
   "source": [
    "# tensor correlation overall improvement"
   ]
  },
  {
   "cell_type": "code",
   "execution_count": 11,
   "metadata": {},
   "outputs": [],
   "source": [
    "Unico.pbmc.Z.corr = sim.pbmc.stats$ Z.corrs.list$ TCAx\n",
    "TCA.pbmc.Z.corr   = sim.pbmc.stats$ Z.corrs.list$ TCA\n",
    "\n",
    "Unico.lung.Z.corr = sim.lung.stats$ Z.corrs.list$ TCAx\n",
    "TCA.lung.Z.corr   = sim.lung.stats$ Z.corrs.list$ TCA"
   ]
  },
  {
   "cell_type": "code",
   "execution_count": 12,
   "metadata": {
    "scrolled": true
   },
   "outputs": [
    {
     "data": {
      "text/html": [
       "<style>\n",
       ".list-inline {list-style: none; margin:0; padding: 0}\n",
       ".list-inline>li {display: inline-block}\n",
       ".list-inline>li:not(:last-child)::after {content: \"\\00b7\"; padding: 0 .5ex}\n",
       "</style>\n",
       "<ol class=list-inline><li>0.87147596490362</li><li>0.798659414612574</li><li>0.80677409838172</li><li>0.620321108043248</li><li>0.688092219833667</li></ol>\n"
      ],
      "text/latex": [
       "\\begin{enumerate*}\n",
       "\\item 0.87147596490362\n",
       "\\item 0.798659414612574\n",
       "\\item 0.80677409838172\n",
       "\\item 0.620321108043248\n",
       "\\item 0.688092219833667\n",
       "\\end{enumerate*}\n"
      ],
      "text/markdown": [
       "1. 0.87147596490362\n",
       "2. 0.798659414612574\n",
       "3. 0.80677409838172\n",
       "4. 0.620321108043248\n",
       "5. 0.688092219833667\n",
       "\n",
       "\n"
      ],
      "text/plain": [
       "[1] 0.8714760 0.7986594 0.8067741 0.6203211 0.6880922"
      ]
     },
     "metadata": {},
     "output_type": "display_data"
    }
   ],
   "source": [
    "colMedians(Unico.pbmc.Z.corr, na.rm = T)"
   ]
  },
  {
   "cell_type": "code",
   "execution_count": 13,
   "metadata": {},
   "outputs": [
    {
     "data": {
      "text/html": [
       "<style>\n",
       ".list-inline {list-style: none; margin:0; padding: 0}\n",
       ".list-inline>li {display: inline-block}\n",
       ".list-inline>li:not(:last-child)::after {content: \"\\00b7\"; padding: 0 .5ex}\n",
       "</style>\n",
       "<ol class=list-inline><li>0.789030698392095</li><li>0.698682733952674</li><li>0.718771775199931</li><li>0.477337111876378</li><li>0.562710818449793</li></ol>\n"
      ],
      "text/latex": [
       "\\begin{enumerate*}\n",
       "\\item 0.789030698392095\n",
       "\\item 0.698682733952674\n",
       "\\item 0.718771775199931\n",
       "\\item 0.477337111876378\n",
       "\\item 0.562710818449793\n",
       "\\end{enumerate*}\n"
      ],
      "text/markdown": [
       "1. 0.789030698392095\n",
       "2. 0.698682733952674\n",
       "3. 0.718771775199931\n",
       "4. 0.477337111876378\n",
       "5. 0.562710818449793\n",
       "\n",
       "\n"
      ],
      "text/plain": [
       "[1] 0.7890307 0.6986827 0.7187718 0.4773371 0.5627108"
      ]
     },
     "metadata": {},
     "output_type": "display_data"
    }
   ],
   "source": [
    "colMedians(TCA.pbmc.Z.corr, na.rm = T)"
   ]
  },
  {
   "cell_type": "code",
   "execution_count": 14,
   "metadata": {},
   "outputs": [
    {
     "data": {
      "text/html": [
       "<style>\n",
       ".list-inline {list-style: none; margin:0; padding: 0}\n",
       ".list-inline>li {display: inline-block}\n",
       ".list-inline>li:not(:last-child)::after {content: \"\\00b7\"; padding: 0 .5ex}\n",
       "</style>\n",
       "<ol class=list-inline><li>0.892681179600579</li><li>0.652962993512793</li><li>0.514704497389098</li><li>0.33605153981006</li></ol>\n"
      ],
      "text/latex": [
       "\\begin{enumerate*}\n",
       "\\item 0.892681179600579\n",
       "\\item 0.652962993512793\n",
       "\\item 0.514704497389098\n",
       "\\item 0.33605153981006\n",
       "\\end{enumerate*}\n"
      ],
      "text/markdown": [
       "1. 0.892681179600579\n",
       "2. 0.652962993512793\n",
       "3. 0.514704497389098\n",
       "4. 0.33605153981006\n",
       "\n",
       "\n"
      ],
      "text/plain": [
       "[1] 0.8926812 0.6529630 0.5147045 0.3360515"
      ]
     },
     "metadata": {},
     "output_type": "display_data"
    }
   ],
   "source": [
    "colMedians(Unico.lung.Z.corr, na.rm = T)"
   ]
  },
  {
   "cell_type": "code",
   "execution_count": 15,
   "metadata": {},
   "outputs": [
    {
     "data": {
      "text/html": [
       "<style>\n",
       ".list-inline {list-style: none; margin:0; padding: 0}\n",
       ".list-inline>li {display: inline-block}\n",
       ".list-inline>li:not(:last-child)::after {content: \"\\00b7\"; padding: 0 .5ex}\n",
       "</style>\n",
       "<ol class=list-inline><li>0.857395001161905</li><li>0.53029296595888</li><li>0.37410892498326</li><li>0.251741139231549</li></ol>\n"
      ],
      "text/latex": [
       "\\begin{enumerate*}\n",
       "\\item 0.857395001161905\n",
       "\\item 0.53029296595888\n",
       "\\item 0.37410892498326\n",
       "\\item 0.251741139231549\n",
       "\\end{enumerate*}\n"
      ],
      "text/markdown": [
       "1. 0.857395001161905\n",
       "2. 0.53029296595888\n",
       "3. 0.37410892498326\n",
       "4. 0.251741139231549\n",
       "\n",
       "\n"
      ],
      "text/plain": [
       "[1] 0.8573950 0.5302930 0.3741089 0.2517411"
      ]
     },
     "metadata": {},
     "output_type": "display_data"
    }
   ],
   "source": [
    "colMedians(TCA.lung.Z.corr, na.rm = T)"
   ]
  },
  {
   "cell_type": "code",
   "execution_count": 16,
   "metadata": {},
   "outputs": [],
   "source": [
    "pbmc.improve = (mean(colMedians(Unico.pbmc.Z.corr, na.rm = T)) - mean(colMedians(TCA.pbmc.Z.corr, na.rm = T)))/mean(colMedians(TCA.pbmc.Z.corr, na.rm = T))"
   ]
  },
  {
   "cell_type": "code",
   "execution_count": 17,
   "metadata": {},
   "outputs": [],
   "source": [
    "lung.improve = (mean(colMedians(Unico.lung.Z.corr, na.rm = T)) - mean(colMedians(TCA.lung.Z.corr, na.rm = T)))/mean(colMedians(TCA.lung.Z.corr, na.rm = T))"
   ]
  },
  {
   "cell_type": "code",
   "execution_count": 18,
   "metadata": {},
   "outputs": [
    {
     "data": {
      "text/html": [
       "0.165958468625798"
      ],
      "text/latex": [
       "0.165958468625798"
      ],
      "text/markdown": [
       "0.165958468625798"
      ],
      "text/plain": [
       "[1] 0.1659585"
      ]
     },
     "metadata": {},
     "output_type": "display_data"
    }
   ],
   "source": [
    "pbmc.improve"
   ]
  },
  {
   "cell_type": "code",
   "execution_count": 19,
   "metadata": {},
   "outputs": [
    {
     "data": {
      "text/html": [
       "0.190144001761407"
      ],
      "text/latex": [
       "0.190144001761407"
      ],
      "text/markdown": [
       "0.190144001761407"
      ],
      "text/plain": [
       "[1] 0.190144"
      ]
     },
     "metadata": {},
     "output_type": "display_data"
    }
   ],
   "source": [
    "lung.improve"
   ]
  },
  {
   "cell_type": "code",
   "execution_count": 20,
   "metadata": {},
   "outputs": [
    {
     "data": {
      "text/html": [
       "0.178051235193603"
      ],
      "text/latex": [
       "0.178051235193603"
      ],
      "text/markdown": [
       "0.178051235193603"
      ],
      "text/plain": [
       "[1] 0.1780512"
      ]
     },
     "metadata": {},
     "output_type": "display_data"
    }
   ],
   "source": [
    "(pbmc.improve + lung.improve)/2"
   ]
  },
  {
   "cell_type": "markdown",
   "metadata": {},
   "source": [
    "# tensor correlation improvement to low and high entro"
   ]
  },
  {
   "cell_type": "code",
   "execution_count": 21,
   "metadata": {},
   "outputs": [],
   "source": [
    "Unico.pbmc.low.corr = mean(c(sim.pbmc.stats$boxplot.meta$CD4 $median.mat[\"Low Entropy\", \"TCAx\"],\n",
    "                             sim.pbmc.stats$boxplot.meta$NK  $median.mat[\"Low Entropy\", \"TCAx\"],\n",
    "                             sim.pbmc.stats$boxplot.meta$CD8 $median.mat[\"Low Entropy\", \"TCAx\"],\n",
    "                             sim.pbmc.stats$boxplot.meta$Mono$median.mat[\"Low Entropy\", \"TCAx\"],\n",
    "                             sim.pbmc.stats$boxplot.meta$B   $median.mat[\"Low Entropy\", \"TCAx\"]))\n",
    "\n",
    "TCA.pbmc.low.corr = mean(c(sim.pbmc.stats$boxplot.meta$CD4 $median.mat[\"Low Entropy\", \"TCA\"],\n",
    "                           sim.pbmc.stats$boxplot.meta$NK  $median.mat[\"Low Entropy\", \"TCA\"],\n",
    "                           sim.pbmc.stats$boxplot.meta$CD8 $median.mat[\"Low Entropy\", \"TCA\"],\n",
    "                           sim.pbmc.stats$boxplot.meta$Mono$median.mat[\"Low Entropy\", \"TCA\"],\n",
    "                           sim.pbmc.stats$boxplot.meta$B   $median.mat[\"Low Entropy\", \"TCA\"]))\n",
    "\n",
    "\n",
    "Unico.pbmc.high.corr = mean(c(sim.pbmc.stats$boxplot.meta$CD4 $median.mat[\"High Entropy\", \"TCAx\"],\n",
    "                              sim.pbmc.stats$boxplot.meta$NK  $median.mat[\"High Entropy\", \"TCAx\"],\n",
    "                              sim.pbmc.stats$boxplot.meta$CD8 $median.mat[\"High Entropy\", \"TCAx\"],\n",
    "                              sim.pbmc.stats$boxplot.meta$Mono$median.mat[\"High Entropy\", \"TCAx\"],\n",
    "                              sim.pbmc.stats$boxplot.meta$B   $median.mat[\"High Entropy\", \"TCAx\"]))\n",
    "\n",
    "TCA.pbmc.high.corr = mean(c(sim.pbmc.stats$boxplot.meta$CD4 $median.mat[\"High Entropy\", \"TCA\"],\n",
    "                            sim.pbmc.stats$boxplot.meta$NK  $median.mat[\"High Entropy\", \"TCA\"],\n",
    "                            sim.pbmc.stats$boxplot.meta$CD8 $median.mat[\"High Entropy\", \"TCA\"],\n",
    "                            sim.pbmc.stats$boxplot.meta$Mono$median.mat[\"High Entropy\", \"TCA\"],\n",
    "                            sim.pbmc.stats$boxplot.meta$B   $median.mat[\"High Entropy\", \"TCA\"]))"
   ]
  },
  {
   "cell_type": "code",
   "execution_count": 22,
   "metadata": {},
   "outputs": [
    {
     "data": {
      "text/html": [
       "0.179819114744545"
      ],
      "text/latex": [
       "0.179819114744545"
      ],
      "text/markdown": [
       "0.179819114744545"
      ],
      "text/plain": [
       "[1] 0.1798191"
      ]
     },
     "metadata": {},
     "output_type": "display_data"
    }
   ],
   "source": [
    "pbmc.low.improve = (Unico.pbmc.low.corr - TCA.pbmc.low.corr)/TCA.pbmc.low.corr\n",
    "pbmc.low.improve"
   ]
  },
  {
   "cell_type": "code",
   "execution_count": 23,
   "metadata": {},
   "outputs": [
    {
     "data": {
      "text/html": [
       "0.145969054019597"
      ],
      "text/latex": [
       "0.145969054019597"
      ],
      "text/markdown": [
       "0.145969054019597"
      ],
      "text/plain": [
       "[1] 0.1459691"
      ]
     },
     "metadata": {},
     "output_type": "display_data"
    }
   ],
   "source": [
    "pbmc.high.improve = (Unico.pbmc.high.corr - TCA.pbmc.high.corr)/TCA.pbmc.high.corr\n",
    "pbmc.high.improve"
   ]
  },
  {
   "cell_type": "code",
   "execution_count": 24,
   "metadata": {},
   "outputs": [],
   "source": [
    "Unico.lung.low.corr = mean(c(sim.lung.stats$boxplot.meta$Immune     $median.mat[\"Low Entropy\", \"TCAx\"],\n",
    "                             sim.lung.stats$boxplot.meta$Epithelial $median.mat[\"Low Entropy\", \"TCAx\"],\n",
    "                             sim.lung.stats$boxplot.meta$Endothelial$median.mat[\"Low Entropy\", \"TCAx\"],\n",
    "                             sim.lung.stats$boxplot.meta$Stroma     $median.mat[\"Low Entropy\", \"TCAx\"]))\n",
    "\n",
    "TCA.lung.low.corr = mean(c(sim.lung.stats$boxplot.meta$Immune     $median.mat[\"Low Entropy\", \"TCA\"],\n",
    "                           sim.lung.stats$boxplot.meta$Epithelial $median.mat[\"Low Entropy\", \"TCA\"],\n",
    "                           sim.lung.stats$boxplot.meta$Endothelial$median.mat[\"Low Entropy\", \"TCA\"],\n",
    "                           sim.lung.stats$boxplot.meta$Stroma     $median.mat[\"Low Entropy\", \"TCA\"]))\n",
    "\n",
    "\n",
    "Unico.lung.high.corr = mean(c(sim.lung.stats$boxplot.meta$Immune     $median.mat[\"High Entropy\", \"TCAx\"],\n",
    "                              sim.lung.stats$boxplot.meta$Epithelial $median.mat[\"High Entropy\", \"TCAx\"],\n",
    "                              sim.lung.stats$boxplot.meta$Endothelial$median.mat[\"High Entropy\", \"TCAx\"],\n",
    "                              sim.lung.stats$boxplot.meta$Stroma     $median.mat[\"High Entropy\", \"TCAx\"]))\n",
    "\n",
    "TCA.lung.high.corr = mean(c(sim.lung.stats$boxplot.meta$Immune     $median.mat[\"High Entropy\", \"TCA\"],\n",
    "                            sim.lung.stats$boxplot.meta$Epithelial $median.mat[\"High Entropy\", \"TCA\"],\n",
    "                            sim.lung.stats$boxplot.meta$Endothelial$median.mat[\"High Entropy\", \"TCA\"],\n",
    "                            sim.lung.stats$boxplot.meta$Stroma     $median.mat[\"High Entropy\", \"TCA\"]))"
   ]
  },
  {
   "cell_type": "code",
   "execution_count": 25,
   "metadata": {},
   "outputs": [
    {
     "data": {
      "text/html": [
       "0.2209300237857"
      ],
      "text/latex": [
       "0.2209300237857"
      ],
      "text/markdown": [
       "0.2209300237857"
      ],
      "text/plain": [
       "[1] 0.22093"
      ]
     },
     "metadata": {},
     "output_type": "display_data"
    }
   ],
   "source": [
    "lung.low.improve = (Unico.lung.low.corr - TCA.lung.low.corr)/TCA.lung.low.corr\n",
    "lung.low.improve"
   ]
  },
  {
   "cell_type": "code",
   "execution_count": 26,
   "metadata": {},
   "outputs": [
    {
     "data": {
      "text/html": [
       "0.151266581763734"
      ],
      "text/latex": [
       "0.151266581763734"
      ],
      "text/markdown": [
       "0.151266581763734"
      ],
      "text/plain": [
       "[1] 0.1512666"
      ]
     },
     "metadata": {},
     "output_type": "display_data"
    }
   ],
   "source": [
    "lung.high.improve = (Unico.lung.high.corr - TCA.lung.high.corr)/TCA.lung.high.corr\n",
    "lung.high.improve"
   ]
  },
  {
   "cell_type": "code",
   "execution_count": 27,
   "metadata": {},
   "outputs": [
    {
     "data": {
      "text/html": [
       "0.200374569265122"
      ],
      "text/latex": [
       "0.200374569265122"
      ],
      "text/markdown": [
       "0.200374569265122"
      ],
      "text/plain": [
       "[1] 0.2003746"
      ]
     },
     "metadata": {},
     "output_type": "display_data"
    }
   ],
   "source": [
    "mean(c(lung.low.improve, pbmc.low.improve))"
   ]
  },
  {
   "cell_type": "code",
   "execution_count": 28,
   "metadata": {},
   "outputs": [
    {
     "data": {
      "text/html": [
       "0.148617817891666"
      ],
      "text/latex": [
       "0.148617817891666"
      ],
      "text/markdown": [
       "0.148617817891666"
      ],
      "text/plain": [
       "[1] 0.1486178"
      ]
     },
     "metadata": {},
     "output_type": "display_data"
    }
   ],
   "source": [
    "mean(c(lung.high.improve, pbmc.high.improve))"
   ]
  },
  {
   "cell_type": "markdown",
   "metadata": {},
   "source": [
    "# Methylation "
   ]
  },
  {
   "cell_type": "code",
   "execution_count": 29,
   "metadata": {},
   "outputs": [],
   "source": [
    "reinius.meth.stats = readRDS(\"../Figure/Purified-Reinius/hvf.10k/Reinius_eval_hvf.10k_stats.list.rds\")"
   ]
  },
  {
   "cell_type": "code",
   "execution_count": 30,
   "metadata": {
    "scrolled": true
   },
   "outputs": [],
   "source": [
    "Unico.meth.RMedS = reinius.meth.stats$ RMedS.bar.dfs$all[reinius.meth.stats$ RMedS.bar.dfs$all$method == \"Unico\", ] \n",
    "bMIND.meth.RMedS = reinius.meth.stats$ RMedS.bar.dfs$all[reinius.meth.stats$ RMedS.bar.dfs$all$method == \"bMIND\", ] "
   ]
  },
  {
   "cell_type": "code",
   "execution_count": 31,
   "metadata": {},
   "outputs": [
    {
     "data": {
      "text/html": [
       "<table class=\"dataframe\">\n",
       "<caption>A data.frame: 6 × 5</caption>\n",
       "<thead>\n",
       "\t<tr><th></th><th scope=col>source</th><th scope=col>mean</th><th scope=col>lb_sd</th><th scope=col>ub_sd</th><th scope=col>method</th></tr>\n",
       "\t<tr><th></th><th scope=col>&lt;fct&gt;</th><th scope=col>&lt;dbl&gt;</th><th scope=col>&lt;dbl&gt;</th><th scope=col>&lt;dbl&gt;</th><th scope=col>&lt;fct&gt;</th></tr>\n",
       "</thead>\n",
       "<tbody>\n",
       "\t<tr><th scope=row>25</th><td>Gran</td><td>0.02369553</td><td>0.02320884</td><td>0.02418222</td><td>Unico</td></tr>\n",
       "\t<tr><th scope=row>26</th><td>CD8T</td><td>0.04310235</td><td>0.04215349</td><td>0.04405120</td><td>Unico</td></tr>\n",
       "\t<tr><th scope=row>27</th><td>CD4T</td><td>0.03074526</td><td>0.03031778</td><td>0.03117273</td><td>Unico</td></tr>\n",
       "\t<tr><th scope=row>28</th><td>Mono</td><td>0.02294387</td><td>0.02245964</td><td>0.02342810</td><td>Unico</td></tr>\n",
       "\t<tr><th scope=row>29</th><td>NK  </td><td>0.05794088</td><td>0.05681196</td><td>0.05906981</td><td>Unico</td></tr>\n",
       "\t<tr><th scope=row>30</th><td>B   </td><td>0.05532898</td><td>0.05451546</td><td>0.05614250</td><td>Unico</td></tr>\n",
       "</tbody>\n",
       "</table>\n"
      ],
      "text/latex": [
       "A data.frame: 6 × 5\n",
       "\\begin{tabular}{r|lllll}\n",
       "  & source & mean & lb\\_sd & ub\\_sd & method\\\\\n",
       "  & <fct> & <dbl> & <dbl> & <dbl> & <fct>\\\\\n",
       "\\hline\n",
       "\t25 & Gran & 0.02369553 & 0.02320884 & 0.02418222 & Unico\\\\\n",
       "\t26 & CD8T & 0.04310235 & 0.04215349 & 0.04405120 & Unico\\\\\n",
       "\t27 & CD4T & 0.03074526 & 0.03031778 & 0.03117273 & Unico\\\\\n",
       "\t28 & Mono & 0.02294387 & 0.02245964 & 0.02342810 & Unico\\\\\n",
       "\t29 & NK   & 0.05794088 & 0.05681196 & 0.05906981 & Unico\\\\\n",
       "\t30 & B    & 0.05532898 & 0.05451546 & 0.05614250 & Unico\\\\\n",
       "\\end{tabular}\n"
      ],
      "text/markdown": [
       "\n",
       "A data.frame: 6 × 5\n",
       "\n",
       "| <!--/--> | source &lt;fct&gt; | mean &lt;dbl&gt; | lb_sd &lt;dbl&gt; | ub_sd &lt;dbl&gt; | method &lt;fct&gt; |\n",
       "|---|---|---|---|---|---|\n",
       "| 25 | Gran | 0.02369553 | 0.02320884 | 0.02418222 | Unico |\n",
       "| 26 | CD8T | 0.04310235 | 0.04215349 | 0.04405120 | Unico |\n",
       "| 27 | CD4T | 0.03074526 | 0.03031778 | 0.03117273 | Unico |\n",
       "| 28 | Mono | 0.02294387 | 0.02245964 | 0.02342810 | Unico |\n",
       "| 29 | NK   | 0.05794088 | 0.05681196 | 0.05906981 | Unico |\n",
       "| 30 | B    | 0.05532898 | 0.05451546 | 0.05614250 | Unico |\n",
       "\n"
      ],
      "text/plain": [
       "   source mean       lb_sd      ub_sd      method\n",
       "25 Gran   0.02369553 0.02320884 0.02418222 Unico \n",
       "26 CD8T   0.04310235 0.04215349 0.04405120 Unico \n",
       "27 CD4T   0.03074526 0.03031778 0.03117273 Unico \n",
       "28 Mono   0.02294387 0.02245964 0.02342810 Unico \n",
       "29 NK     0.05794088 0.05681196 0.05906981 Unico \n",
       "30 B      0.05532898 0.05451546 0.05614250 Unico "
      ]
     },
     "metadata": {},
     "output_type": "display_data"
    }
   ],
   "source": [
    "Unico.meth.RMedS"
   ]
  },
  {
   "cell_type": "code",
   "execution_count": 32,
   "metadata": {},
   "outputs": [
    {
     "data": {
      "text/html": [
       "<table class=\"dataframe\">\n",
       "<caption>A data.frame: 6 × 5</caption>\n",
       "<thead>\n",
       "\t<tr><th></th><th scope=col>source</th><th scope=col>mean</th><th scope=col>lb_sd</th><th scope=col>ub_sd</th><th scope=col>method</th></tr>\n",
       "\t<tr><th></th><th scope=col>&lt;fct&gt;</th><th scope=col>&lt;dbl&gt;</th><th scope=col>&lt;dbl&gt;</th><th scope=col>&lt;dbl&gt;</th><th scope=col>&lt;fct&gt;</th></tr>\n",
       "</thead>\n",
       "<tbody>\n",
       "\t<tr><th scope=row>19</th><td>Gran</td><td>0.02174853</td><td>0.02120969</td><td>0.02228737</td><td>bMIND</td></tr>\n",
       "\t<tr><th scope=row>20</th><td>CD8T</td><td>0.04833182</td><td>0.04758924</td><td>0.04907440</td><td>bMIND</td></tr>\n",
       "\t<tr><th scope=row>21</th><td>CD4T</td><td>0.03447151</td><td>0.03398569</td><td>0.03495732</td><td>bMIND</td></tr>\n",
       "\t<tr><th scope=row>22</th><td>Mono</td><td>0.02503504</td><td>0.02431480</td><td>0.02575527</td><td>bMIND</td></tr>\n",
       "\t<tr><th scope=row>23</th><td>NK  </td><td>0.06643602</td><td>0.06542422</td><td>0.06744782</td><td>bMIND</td></tr>\n",
       "\t<tr><th scope=row>24</th><td>B   </td><td>0.06020325</td><td>0.05939131</td><td>0.06101518</td><td>bMIND</td></tr>\n",
       "</tbody>\n",
       "</table>\n"
      ],
      "text/latex": [
       "A data.frame: 6 × 5\n",
       "\\begin{tabular}{r|lllll}\n",
       "  & source & mean & lb\\_sd & ub\\_sd & method\\\\\n",
       "  & <fct> & <dbl> & <dbl> & <dbl> & <fct>\\\\\n",
       "\\hline\n",
       "\t19 & Gran & 0.02174853 & 0.02120969 & 0.02228737 & bMIND\\\\\n",
       "\t20 & CD8T & 0.04833182 & 0.04758924 & 0.04907440 & bMIND\\\\\n",
       "\t21 & CD4T & 0.03447151 & 0.03398569 & 0.03495732 & bMIND\\\\\n",
       "\t22 & Mono & 0.02503504 & 0.02431480 & 0.02575527 & bMIND\\\\\n",
       "\t23 & NK   & 0.06643602 & 0.06542422 & 0.06744782 & bMIND\\\\\n",
       "\t24 & B    & 0.06020325 & 0.05939131 & 0.06101518 & bMIND\\\\\n",
       "\\end{tabular}\n"
      ],
      "text/markdown": [
       "\n",
       "A data.frame: 6 × 5\n",
       "\n",
       "| <!--/--> | source &lt;fct&gt; | mean &lt;dbl&gt; | lb_sd &lt;dbl&gt; | ub_sd &lt;dbl&gt; | method &lt;fct&gt; |\n",
       "|---|---|---|---|---|---|\n",
       "| 19 | Gran | 0.02174853 | 0.02120969 | 0.02228737 | bMIND |\n",
       "| 20 | CD8T | 0.04833182 | 0.04758924 | 0.04907440 | bMIND |\n",
       "| 21 | CD4T | 0.03447151 | 0.03398569 | 0.03495732 | bMIND |\n",
       "| 22 | Mono | 0.02503504 | 0.02431480 | 0.02575527 | bMIND |\n",
       "| 23 | NK   | 0.06643602 | 0.06542422 | 0.06744782 | bMIND |\n",
       "| 24 | B    | 0.06020325 | 0.05939131 | 0.06101518 | bMIND |\n",
       "\n"
      ],
      "text/plain": [
       "   source mean       lb_sd      ub_sd      method\n",
       "19 Gran   0.02174853 0.02120969 0.02228737 bMIND \n",
       "20 CD8T   0.04833182 0.04758924 0.04907440 bMIND \n",
       "21 CD4T   0.03447151 0.03398569 0.03495732 bMIND \n",
       "22 Mono   0.02503504 0.02431480 0.02575527 bMIND \n",
       "23 NK     0.06643602 0.06542422 0.06744782 bMIND \n",
       "24 B      0.06020325 0.05939131 0.06101518 bMIND "
      ]
     },
     "metadata": {},
     "output_type": "display_data"
    }
   ],
   "source": [
    "bMIND.meth.RMedS"
   ]
  },
  {
   "cell_type": "code",
   "execution_count": 33,
   "metadata": {},
   "outputs": [
    {
     "data": {
      "text/html": [
       "0.0876931987293286"
      ],
      "text/latex": [
       "0.0876931987293286"
      ],
      "text/markdown": [
       "0.0876931987293286"
      ],
      "text/plain": [
       "[1] 0.0876932"
      ]
     },
     "metadata": {},
     "output_type": "display_data"
    }
   ],
   "source": [
    "(mean(bMIND.meth.RMedS$mean) - mean(Unico.meth.RMedS$mean))/mean(bMIND.meth.RMedS$mean)"
   ]
  },
  {
   "cell_type": "code",
   "execution_count": 34,
   "metadata": {},
   "outputs": [],
   "source": [
    "Unico.meth.corr = reinius.meth.stats$cor.bar.dfs$all[reinius.meth.stats$ cor.bar.dfs$all$method == \"Unico\", ] \n",
    "bMIND.meth.corr = reinius.meth.stats$cor.bar.dfs$all[reinius.meth.stats$ cor.bar.dfs$all$method == \"bMIND\", ] "
   ]
  },
  {
   "cell_type": "code",
   "execution_count": 35,
   "metadata": {},
   "outputs": [
    {
     "data": {
      "text/html": [
       "<table class=\"dataframe\">\n",
       "<caption>A data.frame: 6 × 5</caption>\n",
       "<thead>\n",
       "\t<tr><th></th><th scope=col>source</th><th scope=col>mean</th><th scope=col>lb_sd</th><th scope=col>ub_sd</th><th scope=col>method</th></tr>\n",
       "\t<tr><th></th><th scope=col>&lt;fct&gt;</th><th scope=col>&lt;dbl&gt;</th><th scope=col>&lt;dbl&gt;</th><th scope=col>&lt;dbl&gt;</th><th scope=col>&lt;fct&gt;</th></tr>\n",
       "</thead>\n",
       "<tbody>\n",
       "\t<tr><th scope=row>25</th><td>Gran</td><td>0.8566948</td><td>0.8473628</td><td>0.8660268</td><td>Unico</td></tr>\n",
       "\t<tr><th scope=row>26</th><td>CD8T</td><td>0.5042141</td><td>0.4933295</td><td>0.5150987</td><td>Unico</td></tr>\n",
       "\t<tr><th scope=row>27</th><td>CD4T</td><td>0.6468887</td><td>0.6320634</td><td>0.6617141</td><td>Unico</td></tr>\n",
       "\t<tr><th scope=row>28</th><td>Mono</td><td>0.7440430</td><td>0.7293081</td><td>0.7587779</td><td>Unico</td></tr>\n",
       "\t<tr><th scope=row>29</th><td>NK  </td><td>0.5007283</td><td>0.4852281</td><td>0.5162285</td><td>Unico</td></tr>\n",
       "\t<tr><th scope=row>30</th><td>B   </td><td>0.3860897</td><td>0.3670235</td><td>0.4051559</td><td>Unico</td></tr>\n",
       "</tbody>\n",
       "</table>\n"
      ],
      "text/latex": [
       "A data.frame: 6 × 5\n",
       "\\begin{tabular}{r|lllll}\n",
       "  & source & mean & lb\\_sd & ub\\_sd & method\\\\\n",
       "  & <fct> & <dbl> & <dbl> & <dbl> & <fct>\\\\\n",
       "\\hline\n",
       "\t25 & Gran & 0.8566948 & 0.8473628 & 0.8660268 & Unico\\\\\n",
       "\t26 & CD8T & 0.5042141 & 0.4933295 & 0.5150987 & Unico\\\\\n",
       "\t27 & CD4T & 0.6468887 & 0.6320634 & 0.6617141 & Unico\\\\\n",
       "\t28 & Mono & 0.7440430 & 0.7293081 & 0.7587779 & Unico\\\\\n",
       "\t29 & NK   & 0.5007283 & 0.4852281 & 0.5162285 & Unico\\\\\n",
       "\t30 & B    & 0.3860897 & 0.3670235 & 0.4051559 & Unico\\\\\n",
       "\\end{tabular}\n"
      ],
      "text/markdown": [
       "\n",
       "A data.frame: 6 × 5\n",
       "\n",
       "| <!--/--> | source &lt;fct&gt; | mean &lt;dbl&gt; | lb_sd &lt;dbl&gt; | ub_sd &lt;dbl&gt; | method &lt;fct&gt; |\n",
       "|---|---|---|---|---|---|\n",
       "| 25 | Gran | 0.8566948 | 0.8473628 | 0.8660268 | Unico |\n",
       "| 26 | CD8T | 0.5042141 | 0.4933295 | 0.5150987 | Unico |\n",
       "| 27 | CD4T | 0.6468887 | 0.6320634 | 0.6617141 | Unico |\n",
       "| 28 | Mono | 0.7440430 | 0.7293081 | 0.7587779 | Unico |\n",
       "| 29 | NK   | 0.5007283 | 0.4852281 | 0.5162285 | Unico |\n",
       "| 30 | B    | 0.3860897 | 0.3670235 | 0.4051559 | Unico |\n",
       "\n"
      ],
      "text/plain": [
       "   source mean      lb_sd     ub_sd     method\n",
       "25 Gran   0.8566948 0.8473628 0.8660268 Unico \n",
       "26 CD8T   0.5042141 0.4933295 0.5150987 Unico \n",
       "27 CD4T   0.6468887 0.6320634 0.6617141 Unico \n",
       "28 Mono   0.7440430 0.7293081 0.7587779 Unico \n",
       "29 NK     0.5007283 0.4852281 0.5162285 Unico \n",
       "30 B      0.3860897 0.3670235 0.4051559 Unico "
      ]
     },
     "metadata": {},
     "output_type": "display_data"
    }
   ],
   "source": [
    "Unico.meth.corr"
   ]
  },
  {
   "cell_type": "code",
   "execution_count": 36,
   "metadata": {},
   "outputs": [
    {
     "data": {
      "text/html": [
       "<table class=\"dataframe\">\n",
       "<caption>A data.frame: 6 × 5</caption>\n",
       "<thead>\n",
       "\t<tr><th></th><th scope=col>source</th><th scope=col>mean</th><th scope=col>lb_sd</th><th scope=col>ub_sd</th><th scope=col>method</th></tr>\n",
       "\t<tr><th></th><th scope=col>&lt;fct&gt;</th><th scope=col>&lt;dbl&gt;</th><th scope=col>&lt;dbl&gt;</th><th scope=col>&lt;dbl&gt;</th><th scope=col>&lt;fct&gt;</th></tr>\n",
       "</thead>\n",
       "<tbody>\n",
       "\t<tr><th scope=row>19</th><td>Gran</td><td>0.8560412</td><td>0.8467177</td><td>0.8653646</td><td>bMIND</td></tr>\n",
       "\t<tr><th scope=row>20</th><td>CD8T</td><td>0.4395385</td><td>0.4199566</td><td>0.4591204</td><td>bMIND</td></tr>\n",
       "\t<tr><th scope=row>21</th><td>CD4T</td><td>0.5918999</td><td>0.5773106</td><td>0.6064893</td><td>bMIND</td></tr>\n",
       "\t<tr><th scope=row>22</th><td>Mono</td><td>0.6776367</td><td>0.6633153</td><td>0.6919581</td><td>bMIND</td></tr>\n",
       "\t<tr><th scope=row>23</th><td>NK  </td><td>0.4321875</td><td>0.4129479</td><td>0.4514271</td><td>bMIND</td></tr>\n",
       "\t<tr><th scope=row>24</th><td>B   </td><td>0.3699748</td><td>0.3524639</td><td>0.3874858</td><td>bMIND</td></tr>\n",
       "</tbody>\n",
       "</table>\n"
      ],
      "text/latex": [
       "A data.frame: 6 × 5\n",
       "\\begin{tabular}{r|lllll}\n",
       "  & source & mean & lb\\_sd & ub\\_sd & method\\\\\n",
       "  & <fct> & <dbl> & <dbl> & <dbl> & <fct>\\\\\n",
       "\\hline\n",
       "\t19 & Gran & 0.8560412 & 0.8467177 & 0.8653646 & bMIND\\\\\n",
       "\t20 & CD8T & 0.4395385 & 0.4199566 & 0.4591204 & bMIND\\\\\n",
       "\t21 & CD4T & 0.5918999 & 0.5773106 & 0.6064893 & bMIND\\\\\n",
       "\t22 & Mono & 0.6776367 & 0.6633153 & 0.6919581 & bMIND\\\\\n",
       "\t23 & NK   & 0.4321875 & 0.4129479 & 0.4514271 & bMIND\\\\\n",
       "\t24 & B    & 0.3699748 & 0.3524639 & 0.3874858 & bMIND\\\\\n",
       "\\end{tabular}\n"
      ],
      "text/markdown": [
       "\n",
       "A data.frame: 6 × 5\n",
       "\n",
       "| <!--/--> | source &lt;fct&gt; | mean &lt;dbl&gt; | lb_sd &lt;dbl&gt; | ub_sd &lt;dbl&gt; | method &lt;fct&gt; |\n",
       "|---|---|---|---|---|---|\n",
       "| 19 | Gran | 0.8560412 | 0.8467177 | 0.8653646 | bMIND |\n",
       "| 20 | CD8T | 0.4395385 | 0.4199566 | 0.4591204 | bMIND |\n",
       "| 21 | CD4T | 0.5918999 | 0.5773106 | 0.6064893 | bMIND |\n",
       "| 22 | Mono | 0.6776367 | 0.6633153 | 0.6919581 | bMIND |\n",
       "| 23 | NK   | 0.4321875 | 0.4129479 | 0.4514271 | bMIND |\n",
       "| 24 | B    | 0.3699748 | 0.3524639 | 0.3874858 | bMIND |\n",
       "\n"
      ],
      "text/plain": [
       "   source mean      lb_sd     ub_sd     method\n",
       "19 Gran   0.8560412 0.8467177 0.8653646 bMIND \n",
       "20 CD8T   0.4395385 0.4199566 0.4591204 bMIND \n",
       "21 CD4T   0.5918999 0.5773106 0.6064893 bMIND \n",
       "22 Mono   0.6776367 0.6633153 0.6919581 bMIND \n",
       "23 NK     0.4321875 0.4129479 0.4514271 bMIND \n",
       "24 B      0.3699748 0.3524639 0.3874858 bMIND "
      ]
     },
     "metadata": {},
     "output_type": "display_data"
    }
   ],
   "source": [
    "bMIND.meth.corr"
   ]
  },
  {
   "cell_type": "code",
   "execution_count": 37,
   "metadata": {},
   "outputs": [
    {
     "data": {
      "text/html": [
       "0.0805932942469762"
      ],
      "text/latex": [
       "0.0805932942469762"
      ],
      "text/markdown": [
       "0.0805932942469762"
      ],
      "text/plain": [
       "[1] 0.08059329"
      ]
     },
     "metadata": {},
     "output_type": "display_data"
    }
   ],
   "source": [
    "(mean(Unico.meth.corr$mean) - mean(bMIND.meth.corr$mean))/mean(bMIND.meth.corr$mean)"
   ]
  },
  {
   "cell_type": "markdown",
   "metadata": {},
   "source": [
    "# EWAS"
   ]
  },
  {
   "cell_type": "code",
   "execution_count": 38,
   "metadata": {},
   "outputs": [],
   "source": [
    "load(\"../Data//Methylation//Consistency//hannon1.processed.RData\")\n",
    "hannon1.feature.ids = rownames(hannon1$X)\n",
    "rm(hannon1)\n",
    "load(\"../Data//Methylation//Consistency//hannon2.processed.RData\")\n",
    "hannon2.feature.ids = rownames(hannon2$X)\n",
    "rm(hannon2)\n",
    "load(\"../Data//Methylation//Consistency//liu.processed.RData\")\n",
    "liu.feature.ids = rownames(liu$X)\n",
    "rm(liu)\n",
    "load(\"../Data//Methylation//Consistency//hannum.processed.RData\")\n",
    "hannum.feature.ids = rownames(hannum$X)\n",
    "rm(hannum)"
   ]
  },
  {
   "cell_type": "code",
   "execution_count": 39,
   "metadata": {},
   "outputs": [],
   "source": [
    "union.features.ids = union(union(hannon1.feature.ids, hannon2.feature.ids), \n",
    "                           union(liu.feature.ids, hannum.feature.ids))"
   ]
  },
  {
   "cell_type": "code",
   "execution_count": 40,
   "metadata": {},
   "outputs": [
    {
     "name": "stdout",
     "output_type": "stream",
     "text": [
      "[1] 177207\n"
     ]
    }
   ],
   "source": [
    "print(length(union.features.ids))"
   ]
  },
  {
   "cell_type": "markdown",
   "metadata": {},
   "source": [
    "# consistency improvement "
   ]
  },
  {
   "cell_type": "code",
   "execution_count": 41,
   "metadata": {},
   "outputs": [],
   "source": [
    "# readRDS(\"../Result//Methylation/Consistency/XY/gender.meta.mats.F1.rds\")\n",
    "# readRDS(\"../Result//Methylation/Consistency/XY/gsex.meta.mats.F1.rds\")\n",
    "\n",
    "gender.meta.mats.MCC = readRDS(\"../Result//Methylation/Consistency/XY/gender.meta.mats.MCC.rds\")\n",
    "age.meta.mats.MCC    = readRDS(\"../Result//Methylation/Consistency/XY/age.meta.mats.MCC.rds\")"
   ]
  },
  {
   "cell_type": "code",
   "execution_count": 42,
   "metadata": {},
   "outputs": [
    {
     "data": {
      "text/html": [
       "<table class=\"dataframe\">\n",
       "<caption>A matrix: 4 × 4 of type dbl</caption>\n",
       "<thead>\n",
       "\t<tr><th></th><th scope=col>liu</th><th scope=col>hannum</th><th scope=col>hannon1</th><th scope=col>hannon2</th></tr>\n",
       "</thead>\n",
       "<tbody>\n",
       "\t<tr><th scope=row>liu</th><td>1.0000000</td><td>0.9308494</td><td>0.8850817</td><td>0.9127518</td></tr>\n",
       "\t<tr><th scope=row>hannum</th><td>0.9635842</td><td>1.0000000</td><td>0.9109133</td><td>0.9228870</td></tr>\n",
       "\t<tr><th scope=row>hannon1</th><td>0.9870821</td><td>0.9486283</td><td>1.0000000</td><td>0.9413019</td></tr>\n",
       "\t<tr><th scope=row>hannon2</th><td>0.9561303</td><td>0.9210462</td><td>0.9732923</td><td>1.0000000</td></tr>\n",
       "</tbody>\n",
       "</table>\n"
      ],
      "text/latex": [
       "A matrix: 4 × 4 of type dbl\n",
       "\\begin{tabular}{r|llll}\n",
       "  & liu & hannum & hannon1 & hannon2\\\\\n",
       "\\hline\n",
       "\tliu & 1.0000000 & 0.9308494 & 0.8850817 & 0.9127518\\\\\n",
       "\thannum & 0.9635842 & 1.0000000 & 0.9109133 & 0.9228870\\\\\n",
       "\thannon1 & 0.9870821 & 0.9486283 & 1.0000000 & 0.9413019\\\\\n",
       "\thannon2 & 0.9561303 & 0.9210462 & 0.9732923 & 1.0000000\\\\\n",
       "\\end{tabular}\n"
      ],
      "text/markdown": [
       "\n",
       "A matrix: 4 × 4 of type dbl\n",
       "\n",
       "| <!--/--> | liu | hannum | hannon1 | hannon2 |\n",
       "|---|---|---|---|---|\n",
       "| liu | 1.0000000 | 0.9308494 | 0.8850817 | 0.9127518 |\n",
       "| hannum | 0.9635842 | 1.0000000 | 0.9109133 | 0.9228870 |\n",
       "| hannon1 | 0.9870821 | 0.9486283 | 1.0000000 | 0.9413019 |\n",
       "| hannon2 | 0.9561303 | 0.9210462 | 0.9732923 | 1.0000000 |\n",
       "\n"
      ],
      "text/plain": [
       "        liu       hannum    hannon1   hannon2  \n",
       "liu     1.0000000 0.9308494 0.8850817 0.9127518\n",
       "hannum  0.9635842 1.0000000 0.9109133 0.9228870\n",
       "hannon1 0.9870821 0.9486283 1.0000000 0.9413019\n",
       "hannon2 0.9561303 0.9210462 0.9732923 1.0000000"
      ]
     },
     "metadata": {},
     "output_type": "display_data"
    }
   ],
   "source": [
    "gender.meta.mats.MCC$TCAx.parametric.X2.marginal"
   ]
  },
  {
   "cell_type": "code",
   "execution_count": 43,
   "metadata": {},
   "outputs": [
    {
     "data": {
      "text/html": [
       "<table class=\"dataframe\">\n",
       "<caption>A matrix: 4 × 4 of type dbl</caption>\n",
       "<thead>\n",
       "\t<tr><th></th><th scope=col>liu</th><th scope=col>hannum</th><th scope=col>hannon1</th><th scope=col>hannon2</th></tr>\n",
       "</thead>\n",
       "<tbody>\n",
       "\t<tr><th scope=row>liu</th><td>1.0000000</td><td>0.7676367</td><td>0.5046758</td><td>0.5831165</td></tr>\n",
       "\t<tr><th scope=row>hannum</th><td>0.6954822</td><td>1.0000000</td><td>0.3472611</td><td>0.4618761</td></tr>\n",
       "\t<tr><th scope=row>hannon1</th><td>0.2701800</td><td>0.2254738</td><td>1.0000000</td><td>0.7897861</td></tr>\n",
       "\t<tr><th scope=row>hannon2</th><td>0.1961427</td><td>0.1838459</td><td>0.3975296</td><td>1.0000000</td></tr>\n",
       "</tbody>\n",
       "</table>\n"
      ],
      "text/latex": [
       "A matrix: 4 × 4 of type dbl\n",
       "\\begin{tabular}{r|llll}\n",
       "  & liu & hannum & hannon1 & hannon2\\\\\n",
       "\\hline\n",
       "\tliu & 1.0000000 & 0.7676367 & 0.5046758 & 0.5831165\\\\\n",
       "\thannum & 0.6954822 & 1.0000000 & 0.3472611 & 0.4618761\\\\\n",
       "\thannon1 & 0.2701800 & 0.2254738 & 1.0000000 & 0.7897861\\\\\n",
       "\thannon2 & 0.1961427 & 0.1838459 & 0.3975296 & 1.0000000\\\\\n",
       "\\end{tabular}\n"
      ],
      "text/markdown": [
       "\n",
       "A matrix: 4 × 4 of type dbl\n",
       "\n",
       "| <!--/--> | liu | hannum | hannon1 | hannon2 |\n",
       "|---|---|---|---|---|\n",
       "| liu | 1.0000000 | 0.7676367 | 0.5046758 | 0.5831165 |\n",
       "| hannum | 0.6954822 | 1.0000000 | 0.3472611 | 0.4618761 |\n",
       "| hannon1 | 0.2701800 | 0.2254738 | 1.0000000 | 0.7897861 |\n",
       "| hannon2 | 0.1961427 | 0.1838459 | 0.3975296 | 1.0000000 |\n",
       "\n"
      ],
      "text/plain": [
       "        liu       hannum    hannon1   hannon2  \n",
       "liu     1.0000000 0.7676367 0.5046758 0.5831165\n",
       "hannum  0.6954822 1.0000000 0.3472611 0.4618761\n",
       "hannon1 0.2701800 0.2254738 1.0000000 0.7897861\n",
       "hannon2 0.1961427 0.1838459 0.3975296 1.0000000"
      ]
     },
     "metadata": {},
     "output_type": "display_data"
    }
   ],
   "source": [
    "gender.meta.mats.MCC$Baseline.parametric.full.joint"
   ]
  },
  {
   "cell_type": "code",
   "execution_count": 44,
   "metadata": {},
   "outputs": [],
   "source": [
    "d = 4\n",
    "Unico.gender.mcc = (sum(gender.meta.mats.MCC$TCAx.parametric.X2.marginal) - d)/(d*(d-1))\n",
    "bulk.gender.mcc  = (sum(gender.meta.mats.MCC$Baseline.parametric.full.joint) - d)/(d*(d-1))\n",
    "\n",
    "Unico.age.mcc    = (sum(age.meta.mats.MCC$TCAx.parametric.X2.marginal) - d)/(d*(d-1))\n",
    "bulk.age.mcc     = (sum(age.meta.mats.MCC$Baseline.parametric.full.joint) - d)/(d*(d-1))"
   ]
  },
  {
   "cell_type": "code",
   "execution_count": 45,
   "metadata": {},
   "outputs": [
    {
     "data": {
      "text/html": [
       "0.937795700053024"
      ],
      "text/latex": [
       "0.937795700053024"
      ],
      "text/markdown": [
       "0.937795700053024"
      ],
      "text/plain": [
       "[1] 0.9377957"
      ]
     },
     "metadata": {},
     "output_type": "display_data"
    }
   ],
   "source": [
    "Unico.gender.mcc"
   ]
  },
  {
   "cell_type": "code",
   "execution_count": 46,
   "metadata": {},
   "outputs": [
    {
     "data": {
      "text/html": [
       "0.451917209866879"
      ],
      "text/latex": [
       "0.451917209866879"
      ],
      "text/markdown": [
       "0.451917209866879"
      ],
      "text/plain": [
       "[1] 0.4519172"
      ]
     },
     "metadata": {},
     "output_type": "display_data"
    }
   ],
   "source": [
    "bulk.gender.mcc"
   ]
  },
  {
   "cell_type": "code",
   "execution_count": 47,
   "metadata": {},
   "outputs": [
    {
     "data": {
      "text/html": [
       "<table class=\"dataframe\">\n",
       "<caption>A matrix: 4 × 4 of type dbl</caption>\n",
       "<thead>\n",
       "\t<tr><th></th><th scope=col>liu</th><th scope=col>hannum</th><th scope=col>hannon1</th><th scope=col>hannon2</th></tr>\n",
       "</thead>\n",
       "<tbody>\n",
       "\t<tr><th scope=row>liu</th><td>1.0000000</td><td>0.7676367</td><td>0.5046758</td><td>0.5831165</td></tr>\n",
       "\t<tr><th scope=row>hannum</th><td>0.6954822</td><td>1.0000000</td><td>0.3472611</td><td>0.4618761</td></tr>\n",
       "\t<tr><th scope=row>hannon1</th><td>0.2701800</td><td>0.2254738</td><td>1.0000000</td><td>0.7897861</td></tr>\n",
       "\t<tr><th scope=row>hannon2</th><td>0.1961427</td><td>0.1838459</td><td>0.3975296</td><td>1.0000000</td></tr>\n",
       "</tbody>\n",
       "</table>\n"
      ],
      "text/latex": [
       "A matrix: 4 × 4 of type dbl\n",
       "\\begin{tabular}{r|llll}\n",
       "  & liu & hannum & hannon1 & hannon2\\\\\n",
       "\\hline\n",
       "\tliu & 1.0000000 & 0.7676367 & 0.5046758 & 0.5831165\\\\\n",
       "\thannum & 0.6954822 & 1.0000000 & 0.3472611 & 0.4618761\\\\\n",
       "\thannon1 & 0.2701800 & 0.2254738 & 1.0000000 & 0.7897861\\\\\n",
       "\thannon2 & 0.1961427 & 0.1838459 & 0.3975296 & 1.0000000\\\\\n",
       "\\end{tabular}\n"
      ],
      "text/markdown": [
       "\n",
       "A matrix: 4 × 4 of type dbl\n",
       "\n",
       "| <!--/--> | liu | hannum | hannon1 | hannon2 |\n",
       "|---|---|---|---|---|\n",
       "| liu | 1.0000000 | 0.7676367 | 0.5046758 | 0.5831165 |\n",
       "| hannum | 0.6954822 | 1.0000000 | 0.3472611 | 0.4618761 |\n",
       "| hannon1 | 0.2701800 | 0.2254738 | 1.0000000 | 0.7897861 |\n",
       "| hannon2 | 0.1961427 | 0.1838459 | 0.3975296 | 1.0000000 |\n",
       "\n"
      ],
      "text/plain": [
       "        liu       hannum    hannon1   hannon2  \n",
       "liu     1.0000000 0.7676367 0.5046758 0.5831165\n",
       "hannum  0.6954822 1.0000000 0.3472611 0.4618761\n",
       "hannon1 0.2701800 0.2254738 1.0000000 0.7897861\n",
       "hannon2 0.1961427 0.1838459 0.3975296 1.0000000"
      ]
     },
     "metadata": {},
     "output_type": "display_data"
    }
   ],
   "source": [
    "gender.meta.mats.MCC$Baseline.parametric.full.joint"
   ]
  },
  {
   "cell_type": "code",
   "execution_count": 48,
   "metadata": {},
   "outputs": [
    {
     "data": {
      "text/html": [
       "1.07514934058225"
      ],
      "text/latex": [
       "1.07514934058225"
      ],
      "text/markdown": [
       "1.07514934058225"
      ],
      "text/plain": [
       "[1] 1.075149"
      ]
     },
     "metadata": {},
     "output_type": "display_data"
    }
   ],
   "source": [
    "(Unico.gender.mcc - bulk.gender.mcc)/bulk.gender.mcc"
   ]
  },
  {
   "cell_type": "code",
   "execution_count": 49,
   "metadata": {},
   "outputs": [
    {
     "data": {
      "text/html": [
       "0.867282303505398"
      ],
      "text/latex": [
       "0.867282303505398"
      ],
      "text/markdown": [
       "0.867282303505398"
      ],
      "text/plain": [
       "[1] 0.8672823"
      ]
     },
     "metadata": {},
     "output_type": "display_data"
    }
   ],
   "source": [
    "Unico.age.mcc "
   ]
  },
  {
   "cell_type": "code",
   "execution_count": 50,
   "metadata": {},
   "outputs": [
    {
     "data": {
      "text/html": [
       "0.616473994441238"
      ],
      "text/latex": [
       "0.616473994441238"
      ],
      "text/markdown": [
       "0.616473994441238"
      ],
      "text/plain": [
       "[1] 0.616474"
      ]
     },
     "metadata": {},
     "output_type": "display_data"
    }
   ],
   "source": [
    "bulk.age.mcc"
   ]
  },
  {
   "cell_type": "code",
   "execution_count": 51,
   "metadata": {},
   "outputs": [
    {
     "data": {
      "text/html": [
       "0.406843291567373"
      ],
      "text/latex": [
       "0.406843291567373"
      ],
      "text/markdown": [
       "0.406843291567373"
      ],
      "text/plain": [
       "[1] 0.4068433"
      ]
     },
     "metadata": {},
     "output_type": "display_data"
    }
   ],
   "source": [
    "(Unico.age.mcc - bulk.age.mcc)/bulk.age.mcc"
   ]
  },
  {
   "cell_type": "markdown",
   "metadata": {},
   "source": [
    "# Main Method"
   ]
  },
  {
   "cell_type": "code",
   "execution_count": 52,
   "metadata": {},
   "outputs": [],
   "source": [
    "reinius = readRDS(\"../Data/Methylation/Purified-Reinius/reinius.rds\")"
   ]
  },
  {
   "cell_type": "code",
   "execution_count": 53,
   "metadata": {},
   "outputs": [],
   "source": [
    "#reinius = readRDS(\"../Data/Methylation/Purified-Reinius/\")"
   ]
  },
  {
   "cell_type": "code",
   "execution_count": 54,
   "metadata": {},
   "outputs": [
    {
     "name": "stdout",
     "output_type": "stream",
     "text": [
      "List of 4\n",
      " $ X  : num [1:459227, 1:6] 0.541 0.964 0.794 0.22 0.829 ...\n",
      "  ..- attr(*, \"dimnames\")=List of 2\n",
      "  .. ..$ : chr [1:459227] \"cg00000029\" \"cg00000108\" \"cg00000109\" \"cg00000165\" ...\n",
      "  .. ..$ : chr [1:6] \"sample.1\" \"sample.2\" \"sample.3\" \"sample.4\" ...\n",
      " $ cov: chr [1:6, 1] \"Male\" \"Male\" \"Male\" \"Male\" ...\n",
      "  ..- attr(*, \"dimnames\")=List of 2\n",
      "  .. ..$ : chr [1:6] \"GSM861635\" \"GSM861636\" \"GSM861637\" \"GSM861638\" ...\n",
      "  .. ..$ : chr \"gender\"\n",
      " $ W  : num [1:6, 1:6] 0.532 0.59 0.665 0.617 0.775 ...\n",
      "  ..- attr(*, \"dimnames\")=List of 2\n",
      "  .. ..$ : chr [1:6] \"sample.1\" \"sample.2\" \"sample.3\" \"sample.4\" ...\n",
      "  .. ..$ : chr [1:6] \"Gran\" \"CD4T\" \"CD8T\" \"Mono\" ...\n",
      " $ Z  : num [1:6, 1:459227, 1:6] 0.45 0.654 0.701 0.472 0.615 ...\n",
      "  ..- attr(*, \"dimnames\")=List of 3\n",
      "  .. ..$ : chr [1:6] \"Gran\" \"CD4T\" \"CD8T\" \"Mono\" ...\n",
      "  .. ..$ : chr [1:459227] \"cg00000029\" \"cg00000108\" \"cg00000109\" \"cg00000165\" ...\n",
      "  .. ..$ : chr [1:6] \"sample.1\" \"sample.2\" \"sample.3\" \"sample.4\" ...\n"
     ]
    }
   ],
   "source": [
    "str(reinius)"
   ]
  },
  {
   "cell_type": "code",
   "execution_count": 55,
   "metadata": {},
   "outputs": [
    {
     "data": {
      "text/html": [
       "153155"
      ],
      "text/latex": [
       "153155"
      ],
      "text/markdown": [
       "153155"
      ],
      "text/plain": [
       "[1] 153155"
      ]
     },
     "metadata": {},
     "output_type": "display_data"
    }
   ],
   "source": [
    "length(liu.feature.ids)"
   ]
  },
  {
   "cell_type": "code",
   "execution_count": 56,
   "metadata": {},
   "outputs": [
    {
     "data": {
      "text/html": [
       "144743"
      ],
      "text/latex": [
       "144743"
      ],
      "text/markdown": [
       "144743"
      ],
      "text/plain": [
       "[1] 144743"
      ]
     },
     "metadata": {},
     "output_type": "display_data"
    }
   ],
   "source": [
    "length(hannum.feature.ids)"
   ]
  },
  {
   "cell_type": "code",
   "execution_count": 57,
   "metadata": {},
   "outputs": [
    {
     "data": {
      "text/html": [
       "134250"
      ],
      "text/latex": [
       "134250"
      ],
      "text/markdown": [
       "134250"
      ],
      "text/plain": [
       "[1] 134250"
      ]
     },
     "metadata": {},
     "output_type": "display_data"
    }
   ],
   "source": [
    "length(hannon1.feature.ids)"
   ]
  },
  {
   "cell_type": "code",
   "execution_count": 58,
   "metadata": {},
   "outputs": [
    {
     "data": {
      "text/html": [
       "95360"
      ],
      "text/latex": [
       "95360"
      ],
      "text/markdown": [
       "95360"
      ],
      "text/plain": [
       "[1] 95360"
      ]
     },
     "metadata": {},
     "output_type": "display_data"
    }
   ],
   "source": [
    "length(hannon2.feature.ids)"
   ]
  },
  {
   "cell_type": "markdown",
   "metadata": {},
   "source": [
    "# Lineage"
   ]
  },
  {
   "cell_type": "code",
   "execution_count": 59,
   "metadata": {},
   "outputs": [],
   "source": [
    "pbmc.pb = readRDS(\"../Data/RNA/Simulation-PBMC/pbmc.pseudobulk.decon.L1.all.W.rds\")"
   ]
  },
  {
   "cell_type": "code",
   "execution_count": 60,
   "metadata": {
    "scrolled": true
   },
   "outputs": [
    {
     "name": "stdout",
     "output_type": "stream",
     "text": [
      "List of 6\n",
      " $ Z      : num [1:5, 1:22806, 1:118] 0 0 0 0 0 ...\n",
      "  ..- attr(*, \"dimnames\")=List of 3\n",
      "  .. ..$ : chr [1:5] \"CD8\" \"CD4\" \"Mono\" \"B\" ...\n",
      "  .. ..$ : chr [1:22806] \"MIR1302-2HG\" \"AL627309.1\" \"AL627309.3\" \"AL627309.2\" ...\n",
      "  .. ..$ : chr [1:118] \"MH9179824\" \"newcastle65\" \"MH9143327\" \"MH9143326\" ...\n",
      " $ W      : num [1:118, 1:5] 0.13 0.259 0.116 0.102 0.134 ...\n",
      "  ..- attr(*, \"dimnames\")=List of 2\n",
      "  .. ..$ : chr [1:118] \"MH9179824\" \"newcastle65\" \"MH9143327\" \"MH9143326\" ...\n",
      "  .. ..$ : chr [1:5] \"CD8\" \"CD4\" \"Mono\" \"B\" ...\n",
      " $ params :List of 4\n",
      "  ..$ sigmas   : num [1:22806, 1:5, 1:5] 0 0.04138 0 0 0.00568 ...\n",
      "  .. ..- attr(*, \"dimnames\")=List of 3\n",
      "  .. .. ..$ : chr [1:22806] \"MIR1302-2HG\" \"AL627309.1\" \"AL627309.3\" \"AL627309.2\" ...\n",
      "  .. .. ..$ : chr [1:5] \"CD8\" \"CD4\" \"Mono\" \"B\" ...\n",
      "  .. .. ..$ : chr [1:5] \"CD8\" \"CD4\" \"Mono\" \"B\" ...\n",
      "  ..$ corrs    : num [1:22806, 1:5, 1:5] 0 1 0 0 1 1 1 1 0 1 ...\n",
      "  .. ..- attr(*, \"dimnames\")=List of 3\n",
      "  .. .. ..$ : chr [1:22806] \"MIR1302-2HG\" \"AL627309.1\" \"AL627309.3\" \"AL627309.2\" ...\n",
      "  .. .. ..$ : chr [1:5] \"CD8\" \"CD4\" \"Mono\" \"B\" ...\n",
      "  .. .. ..$ : chr [1:5] \"CD8\" \"CD4\" \"Mono\" \"B\" ...\n",
      "  ..$ mus      : num [1:22806, 1:5] 0 0.091 0 0 0.0247 ...\n",
      "  .. ..- attr(*, \"dimnames\")=List of 2\n",
      "  .. .. ..$ : chr [1:22806] \"MIR1302-2HG\" \"AL627309.1\" \"AL627309.3\" \"AL627309.2\" ...\n",
      "  .. .. ..$ : chr [1:5] \"CD8\" \"CD4\" \"Mono\" \"B\" ...\n",
      "  ..$ entropies: num [1:22806, 1] 1.61 1.59 1.61 1.61 1.6 ...\n",
      "  .. ..- attr(*, \"dimnames\")=List of 2\n",
      "  .. .. ..$ : chr [1:22806] \"MIR1302-2HG\" \"AL627309.1\" \"AL627309.3\" \"AL627309.2\" ...\n",
      "  .. .. ..$ : chr \"entropy\"\n",
      " $ entropy: num [1:22806, 1] 1.61 1.59 1.61 1.61 1.6 ...\n",
      "  ..- attr(*, \"dimnames\")=List of 2\n",
      "  .. ..$ : chr [1:22806] \"MIR1302-2HG\" \"AL627309.1\" \"AL627309.3\" \"AL627309.2\" ...\n",
      "  .. ..$ : chr \"entropy\"\n",
      " $ HVF    : chr [1:10000] \"IGHG1\" \"IGHA1\" \"IGKV3-20\" \"IGKC\" ...\n",
      " $ HEF    : chr [1:10000] \"MALAT1\" \"AB-ITGA2B\" \"AB-podoplanin\" \"AB-CD45RA\" ...\n"
     ]
    }
   ],
   "source": [
    "str(pbmc.pb)"
   ]
  },
  {
   "cell_type": "code",
   "execution_count": 61,
   "metadata": {},
   "outputs": [
    {
     "data": {
      "text/html": [
       "<style>\n",
       ".dl-inline {width: auto; margin:0; padding: 0}\n",
       ".dl-inline>dt, .dl-inline>dd {float: none; width: auto; display: inline-block}\n",
       ".dl-inline>dt::after {content: \":\\0020\"; padding-right: .5ex}\n",
       ".dl-inline>dt:not(:first-of-type) {padding-left: .5ex}\n",
       "</style><dl class=dl-inline><dt>0%</dt><dd>-0.286590232417608</dd><dt>25%</dt><dd>0.176155124093908</dd><dt>50%</dt><dd>0.296844855538898</dd><dt>75%</dt><dd>0.430692663478034</dd><dt>100%</dt><dd>0.952212647325838</dd></dl>\n"
      ],
      "text/latex": [
       "\\begin{description*}\n",
       "\\item[0\\textbackslash{}\\%] -0.286590232417608\n",
       "\\item[25\\textbackslash{}\\%] 0.176155124093908\n",
       "\\item[50\\textbackslash{}\\%] 0.296844855538898\n",
       "\\item[75\\textbackslash{}\\%] 0.430692663478034\n",
       "\\item[100\\textbackslash{}\\%] 0.952212647325838\n",
       "\\end{description*}\n"
      ],
      "text/markdown": [
       "0%\n",
       ":   -0.28659023241760825%\n",
       ":   0.17615512409390850%\n",
       ":   0.29684485553889875%\n",
       ":   0.430692663478034100%\n",
       ":   0.952212647325838\n",
       "\n"
      ],
      "text/plain": [
       "        0%        25%        50%        75%       100% \n",
       "-0.2865902  0.1761551  0.2968449  0.4306927  0.9522126 "
      ]
     },
     "metadata": {},
     "output_type": "display_data"
    }
   ],
   "source": [
    "quantile(pbmc.pb$params$corrs[pbmc.pb$HEF, \"Mono\", \"B\"])"
   ]
  },
  {
   "cell_type": "code",
   "execution_count": 62,
   "metadata": {},
   "outputs": [
    {
     "data": {
      "text/html": [
       "<style>\n",
       ".dl-inline {width: auto; margin:0; padding: 0}\n",
       ".dl-inline>dt, .dl-inline>dd {float: none; width: auto; display: inline-block}\n",
       ".dl-inline>dt::after {content: \":\\0020\"; padding-right: .5ex}\n",
       ".dl-inline>dt:not(:first-of-type) {padding-left: .5ex}\n",
       "</style><dl class=dl-inline><dt>0%</dt><dd>-0.344825070473684</dd><dt>25%</dt><dd>0.160620950385032</dd><dt>50%</dt><dd>0.269705208191646</dd><dt>75%</dt><dd>0.392773050484819</dd><dt>100%</dt><dd>0.928930369611492</dd></dl>\n"
      ],
      "text/latex": [
       "\\begin{description*}\n",
       "\\item[0\\textbackslash{}\\%] -0.344825070473684\n",
       "\\item[25\\textbackslash{}\\%] 0.160620950385032\n",
       "\\item[50\\textbackslash{}\\%] 0.269705208191646\n",
       "\\item[75\\textbackslash{}\\%] 0.392773050484819\n",
       "\\item[100\\textbackslash{}\\%] 0.928930369611492\n",
       "\\end{description*}\n"
      ],
      "text/markdown": [
       "0%\n",
       ":   -0.34482507047368425%\n",
       ":   0.16062095038503250%\n",
       ":   0.26970520819164675%\n",
       ":   0.392773050484819100%\n",
       ":   0.928930369611492\n",
       "\n"
      ],
      "text/plain": [
       "        0%        25%        50%        75%       100% \n",
       "-0.3448251  0.1606210  0.2697052  0.3927731  0.9289304 "
      ]
     },
     "metadata": {},
     "output_type": "display_data"
    }
   ],
   "source": [
    "quantile(pbmc.pb$params$corrs[pbmc.pb$HEF, \"Mono\", \"CD4\"])"
   ]
  },
  {
   "cell_type": "code",
   "execution_count": 63,
   "metadata": {},
   "outputs": [
    {
     "data": {
      "text/html": [
       "<style>\n",
       ".dl-inline {width: auto; margin:0; padding: 0}\n",
       ".dl-inline>dt, .dl-inline>dd {float: none; width: auto; display: inline-block}\n",
       ".dl-inline>dt::after {content: \":\\0020\"; padding-right: .5ex}\n",
       ".dl-inline>dt:not(:first-of-type) {padding-left: .5ex}\n",
       "</style><dl class=dl-inline><dt>0%</dt><dd>-0.282950879131294</dd><dt>25%</dt><dd>0.143617402318011</dd><dt>50%</dt><dd>0.250874826153533</dd><dt>75%</dt><dd>0.373735805413845</dd><dt>100%</dt><dd>0.926602588937133</dd></dl>\n"
      ],
      "text/latex": [
       "\\begin{description*}\n",
       "\\item[0\\textbackslash{}\\%] -0.282950879131294\n",
       "\\item[25\\textbackslash{}\\%] 0.143617402318011\n",
       "\\item[50\\textbackslash{}\\%] 0.250874826153533\n",
       "\\item[75\\textbackslash{}\\%] 0.373735805413845\n",
       "\\item[100\\textbackslash{}\\%] 0.926602588937133\n",
       "\\end{description*}\n"
      ],
      "text/markdown": [
       "0%\n",
       ":   -0.28295087913129425%\n",
       ":   0.14361740231801150%\n",
       ":   0.25087482615353375%\n",
       ":   0.373735805413845100%\n",
       ":   0.926602588937133\n",
       "\n"
      ],
      "text/plain": [
       "        0%        25%        50%        75%       100% \n",
       "-0.2829509  0.1436174  0.2508748  0.3737358  0.9266026 "
      ]
     },
     "metadata": {},
     "output_type": "display_data"
    }
   ],
   "source": [
    "quantile(pbmc.pb$params$corrs[pbmc.pb$HEF, \"Mono\", \"CD8\"])"
   ]
  },
  {
   "cell_type": "code",
   "execution_count": 64,
   "metadata": {},
   "outputs": [
    {
     "data": {
      "text/html": [
       "<style>\n",
       ".dl-inline {width: auto; margin:0; padding: 0}\n",
       ".dl-inline>dt, .dl-inline>dd {float: none; width: auto; display: inline-block}\n",
       ".dl-inline>dt::after {content: \":\\0020\"; padding-right: .5ex}\n",
       ".dl-inline>dt:not(:first-of-type) {padding-left: .5ex}\n",
       "</style><dl class=dl-inline><dt>0%</dt><dd>-0.282375895659497</dd><dt>25%</dt><dd>0.237400018750894</dd><dt>50%</dt><dd>0.367056312727856</dd><dt>75%</dt><dd>0.508232032428728</dd><dt>100%</dt><dd>0.957740025350129</dd></dl>\n"
      ],
      "text/latex": [
       "\\begin{description*}\n",
       "\\item[0\\textbackslash{}\\%] -0.282375895659497\n",
       "\\item[25\\textbackslash{}\\%] 0.237400018750894\n",
       "\\item[50\\textbackslash{}\\%] 0.367056312727856\n",
       "\\item[75\\textbackslash{}\\%] 0.508232032428728\n",
       "\\item[100\\textbackslash{}\\%] 0.957740025350129\n",
       "\\end{description*}\n"
      ],
      "text/markdown": [
       "0%\n",
       ":   -0.28237589565949725%\n",
       ":   0.23740001875089450%\n",
       ":   0.36705631272785675%\n",
       ":   0.508232032428728100%\n",
       ":   0.957740025350129\n",
       "\n"
      ],
      "text/plain": [
       "        0%        25%        50%        75%       100% \n",
       "-0.2823759  0.2374000  0.3670563  0.5082320  0.9577400 "
      ]
     },
     "metadata": {},
     "output_type": "display_data"
    }
   ],
   "source": [
    "quantile(pbmc.pb$params$corrs[pbmc.pb$HEF, \"Mono\", \"NK\"])"
   ]
  },
  {
   "cell_type": "code",
   "execution_count": 65,
   "metadata": {},
   "outputs": [
    {
     "data": {
      "text/html": [
       "<style>\n",
       ".dl-inline {width: auto; margin:0; padding: 0}\n",
       ".dl-inline>dt, .dl-inline>dd {float: none; width: auto; display: inline-block}\n",
       ".dl-inline>dt::after {content: \":\\0020\"; padding-right: .5ex}\n",
       ".dl-inline>dt:not(:first-of-type) {padding-left: .5ex}\n",
       "</style><dl class=dl-inline><dt>0%</dt><dd>-0.345454626040473</dd><dt>25%</dt><dd>0.270751382074379</dd><dt>50%</dt><dd>0.397363948770186</dd><dt>75%</dt><dd>0.527956320037142</dd><dt>100%</dt><dd>0.974846225885119</dd></dl>\n"
      ],
      "text/latex": [
       "\\begin{description*}\n",
       "\\item[0\\textbackslash{}\\%] -0.345454626040473\n",
       "\\item[25\\textbackslash{}\\%] 0.270751382074379\n",
       "\\item[50\\textbackslash{}\\%] 0.397363948770186\n",
       "\\item[75\\textbackslash{}\\%] 0.527956320037142\n",
       "\\item[100\\textbackslash{}\\%] 0.974846225885119\n",
       "\\end{description*}\n"
      ],
      "text/markdown": [
       "0%\n",
       ":   -0.34545462604047325%\n",
       ":   0.27075138207437950%\n",
       ":   0.39736394877018675%\n",
       ":   0.527956320037142100%\n",
       ":   0.974846225885119\n",
       "\n"
      ],
      "text/plain": [
       "        0%        25%        50%        75%       100% \n",
       "-0.3454546  0.2707514  0.3973639  0.5279563  0.9748462 "
      ]
     },
     "metadata": {},
     "output_type": "display_data"
    }
   ],
   "source": [
    "quantile(pbmc.pb$params$corrs[pbmc.pb$HEF, \"B\", \"CD4\"])"
   ]
  },
  {
   "cell_type": "code",
   "execution_count": 66,
   "metadata": {},
   "outputs": [
    {
     "data": {
      "text/html": [
       "<style>\n",
       ".dl-inline {width: auto; margin:0; padding: 0}\n",
       ".dl-inline>dt, .dl-inline>dd {float: none; width: auto; display: inline-block}\n",
       ".dl-inline>dt::after {content: \":\\0020\"; padding-right: .5ex}\n",
       ".dl-inline>dt:not(:first-of-type) {padding-left: .5ex}\n",
       "</style><dl class=dl-inline><dt>0%</dt><dd>-0.321716458930885</dd><dt>25%</dt><dd>0.235520638623106</dd><dt>50%</dt><dd>0.358744503249048</dd><dt>75%</dt><dd>0.490659021994202</dd><dt>100%</dt><dd>0.990918238066248</dd></dl>\n"
      ],
      "text/latex": [
       "\\begin{description*}\n",
       "\\item[0\\textbackslash{}\\%] -0.321716458930885\n",
       "\\item[25\\textbackslash{}\\%] 0.235520638623106\n",
       "\\item[50\\textbackslash{}\\%] 0.358744503249048\n",
       "\\item[75\\textbackslash{}\\%] 0.490659021994202\n",
       "\\item[100\\textbackslash{}\\%] 0.990918238066248\n",
       "\\end{description*}\n"
      ],
      "text/markdown": [
       "0%\n",
       ":   -0.32171645893088525%\n",
       ":   0.23552063862310650%\n",
       ":   0.35874450324904875%\n",
       ":   0.490659021994202100%\n",
       ":   0.990918238066248\n",
       "\n"
      ],
      "text/plain": [
       "        0%        25%        50%        75%       100% \n",
       "-0.3217165  0.2355206  0.3587445  0.4906590  0.9909182 "
      ]
     },
     "metadata": {},
     "output_type": "display_data"
    }
   ],
   "source": [
    "quantile(pbmc.pb$params$corrs[pbmc.pb$HEF, \"B\", \"CD8\"])"
   ]
  },
  {
   "cell_type": "code",
   "execution_count": 67,
   "metadata": {},
   "outputs": [
    {
     "data": {
      "text/html": [
       "<style>\n",
       ".dl-inline {width: auto; margin:0; padding: 0}\n",
       ".dl-inline>dt, .dl-inline>dd {float: none; width: auto; display: inline-block}\n",
       ".dl-inline>dt::after {content: \":\\0020\"; padding-right: .5ex}\n",
       ".dl-inline>dt:not(:first-of-type) {padding-left: .5ex}\n",
       "</style><dl class=dl-inline><dt>0%</dt><dd>-0.182319429702971</dd><dt>25%</dt><dd>0.298047066338296</dd><dt>50%</dt><dd>0.454132902345084</dd><dt>75%</dt><dd>0.61022429778351</dd><dt>100%</dt><dd>0.988490791349941</dd></dl>\n"
      ],
      "text/latex": [
       "\\begin{description*}\n",
       "\\item[0\\textbackslash{}\\%] -0.182319429702971\n",
       "\\item[25\\textbackslash{}\\%] 0.298047066338296\n",
       "\\item[50\\textbackslash{}\\%] 0.454132902345084\n",
       "\\item[75\\textbackslash{}\\%] 0.61022429778351\n",
       "\\item[100\\textbackslash{}\\%] 0.988490791349941\n",
       "\\end{description*}\n"
      ],
      "text/markdown": [
       "0%\n",
       ":   -0.18231942970297125%\n",
       ":   0.29804706633829650%\n",
       ":   0.45413290234508475%\n",
       ":   0.61022429778351100%\n",
       ":   0.988490791349941\n",
       "\n"
      ],
      "text/plain": [
       "        0%        25%        50%        75%       100% \n",
       "-0.1823194  0.2980471  0.4541329  0.6102243  0.9884908 "
      ]
     },
     "metadata": {},
     "output_type": "display_data"
    }
   ],
   "source": [
    "quantile(pbmc.pb$params$corrs[pbmc.pb$HEF, \"B\", \"NK\"])"
   ]
  },
  {
   "cell_type": "code",
   "execution_count": 68,
   "metadata": {},
   "outputs": [
    {
     "data": {
      "text/html": [
       "<style>\n",
       ".dl-inline {width: auto; margin:0; padding: 0}\n",
       ".dl-inline>dt, .dl-inline>dd {float: none; width: auto; display: inline-block}\n",
       ".dl-inline>dt::after {content: \":\\0020\"; padding-right: .5ex}\n",
       ".dl-inline>dt:not(:first-of-type) {padding-left: .5ex}\n",
       "</style><dl class=dl-inline><dt>0%</dt><dd>-0.0796107699586004</dd><dt>25%</dt><dd>0.571181188613827</dd><dt>50%</dt><dd>0.710895411191333</dd><dt>75%</dt><dd>0.819031327954284</dd><dt>100%</dt><dd>0.992078441831733</dd></dl>\n"
      ],
      "text/latex": [
       "\\begin{description*}\n",
       "\\item[0\\textbackslash{}\\%] -0.0796107699586004\n",
       "\\item[25\\textbackslash{}\\%] 0.571181188613827\n",
       "\\item[50\\textbackslash{}\\%] 0.710895411191333\n",
       "\\item[75\\textbackslash{}\\%] 0.819031327954284\n",
       "\\item[100\\textbackslash{}\\%] 0.992078441831733\n",
       "\\end{description*}\n"
      ],
      "text/markdown": [
       "0%\n",
       ":   -0.079610769958600425%\n",
       ":   0.57118118861382750%\n",
       ":   0.71089541119133375%\n",
       ":   0.819031327954284100%\n",
       ":   0.992078441831733\n",
       "\n"
      ],
      "text/plain": [
       "         0%         25%         50%         75%        100% \n",
       "-0.07961077  0.57118119  0.71089541  0.81903133  0.99207844 "
      ]
     },
     "metadata": {},
     "output_type": "display_data"
    }
   ],
   "source": [
    "quantile(pbmc.pb$params$corrs[pbmc.pb$HEF, \"CD4\", \"CD8\"])"
   ]
  },
  {
   "cell_type": "code",
   "execution_count": 69,
   "metadata": {},
   "outputs": [
    {
     "data": {
      "text/html": [
       "<style>\n",
       ".dl-inline {width: auto; margin:0; padding: 0}\n",
       ".dl-inline>dt, .dl-inline>dd {float: none; width: auto; display: inline-block}\n",
       ".dl-inline>dt::after {content: \":\\0020\"; padding-right: .5ex}\n",
       ".dl-inline>dt:not(:first-of-type) {padding-left: .5ex}\n",
       "</style><dl class=dl-inline><dt>0%</dt><dd>-0.130687834022829</dd><dt>25%</dt><dd>0.349298567819236</dd><dt>50%</dt><dd>0.478713366369861</dd><dt>75%</dt><dd>0.604662718820333</dd><dt>100%</dt><dd>0.984237376582906</dd></dl>\n"
      ],
      "text/latex": [
       "\\begin{description*}\n",
       "\\item[0\\textbackslash{}\\%] -0.130687834022829\n",
       "\\item[25\\textbackslash{}\\%] 0.349298567819236\n",
       "\\item[50\\textbackslash{}\\%] 0.478713366369861\n",
       "\\item[75\\textbackslash{}\\%] 0.604662718820333\n",
       "\\item[100\\textbackslash{}\\%] 0.984237376582906\n",
       "\\end{description*}\n"
      ],
      "text/markdown": [
       "0%\n",
       ":   -0.13068783402282925%\n",
       ":   0.34929856781923650%\n",
       ":   0.47871336636986175%\n",
       ":   0.604662718820333100%\n",
       ":   0.984237376582906\n",
       "\n"
      ],
      "text/plain": [
       "        0%        25%        50%        75%       100% \n",
       "-0.1306878  0.3492986  0.4787134  0.6046627  0.9842374 "
      ]
     },
     "metadata": {},
     "output_type": "display_data"
    }
   ],
   "source": [
    "quantile(pbmc.pb$params$corrs[pbmc.pb$HEF, \"CD4\", \"NK\"])"
   ]
  },
  {
   "cell_type": "code",
   "execution_count": 70,
   "metadata": {},
   "outputs": [
    {
     "data": {
      "text/html": [
       "<style>\n",
       ".dl-inline {width: auto; margin:0; padding: 0}\n",
       ".dl-inline>dt, .dl-inline>dd {float: none; width: auto; display: inline-block}\n",
       ".dl-inline>dt::after {content: \":\\0020\"; padding-right: .5ex}\n",
       ".dl-inline>dt:not(:first-of-type) {padding-left: .5ex}\n",
       "</style><dl class=dl-inline><dt>0%</dt><dd>-0.149204184408318</dd><dt>25%</dt><dd>0.334089312506222</dd><dt>50%</dt><dd>0.461605095189956</dd><dt>75%</dt><dd>0.588886321694553</dd><dt>100%</dt><dd>0.985350743958953</dd></dl>\n"
      ],
      "text/latex": [
       "\\begin{description*}\n",
       "\\item[0\\textbackslash{}\\%] -0.149204184408318\n",
       "\\item[25\\textbackslash{}\\%] 0.334089312506222\n",
       "\\item[50\\textbackslash{}\\%] 0.461605095189956\n",
       "\\item[75\\textbackslash{}\\%] 0.588886321694553\n",
       "\\item[100\\textbackslash{}\\%] 0.985350743958953\n",
       "\\end{description*}\n"
      ],
      "text/markdown": [
       "0%\n",
       ":   -0.14920418440831825%\n",
       ":   0.33408931250622250%\n",
       ":   0.46160509518995675%\n",
       ":   0.588886321694553100%\n",
       ":   0.985350743958953\n",
       "\n"
      ],
      "text/plain": [
       "        0%        25%        50%        75%       100% \n",
       "-0.1492042  0.3340893  0.4616051  0.5888863  0.9853507 "
      ]
     },
     "metadata": {},
     "output_type": "display_data"
    }
   ],
   "source": [
    "quantile(pbmc.pb$params$corrs[pbmc.pb$HEF, \"CD8\", \"NK\"])"
   ]
  },
  {
   "cell_type": "markdown",
   "metadata": {},
   "source": [
    "# EWAS table"
   ]
  },
  {
   "cell_type": "markdown",
   "metadata": {},
   "source": [
    "## gender"
   ]
  },
  {
   "cell_type": "code",
   "execution_count": 71,
   "metadata": {},
   "outputs": [],
   "source": [
    "data.names = c(\"liu\", \"hannon1\", \"hannon2\", \"hannum\")\n",
    "\n",
    "marg.method.names.full = c(\"TCAx.parametric.X2.marginal\", \"TCA.parametric.full.marginal\", \n",
    "                           \"CellDMC.parametric.full.marginal\", \"Baseline.parametric.full.marginal\", \n",
    "                           \"bMIND.YX.marginal\") \n",
    "# marg.method.names.full = c(\"TCAx.parametric.full.marginal\", \"TCA.parametric.full.marginal\", \n",
    "#                            \"CellDMC.parametric.full.marginal\", \"Baseline.parametric.full.marginal\", \n",
    "#                            \"bMIND.YX.marginal\") \n",
    "\n",
    "\n",
    "marg.method.names = c(\"Unico\", \"TCA\", \"CellDMC\", \"Baseline\", \"bMIND\")\n",
    "\n",
    "joint.method.names.full = c(\"TCAx.parametric.X2.joint\", \"TCA.parametric.full.joint\", \n",
    "                            \"CellDMC.parametric.full.joint\", \"Baseline.parametric.full.joint\", \n",
    "                            \"bMIND.XY.joint\") \n",
    "# joint.method.names.full = c(\"TCAx.parametric.full.joint\", \"TCA.parametric.full.joint\", \n",
    "#                             \"CellDMC.parametric.full.joint\", \"Baseline.parametric.full.joint\", \n",
    "#                             \"bMIND.XY.joint\") \n",
    "\n",
    "joint.method.names = c(\"Unico\", \"TCA\", \"CellDMC\", \"Bulk\", \"bMIND\")\n",
    "\n"
   ]
  },
  {
   "cell_type": "code",
   "execution_count": 72,
   "metadata": {},
   "outputs": [],
   "source": [
    "assoc.df = data.frame()\n",
    "for (pheno in c(\"gender\", \"age\")){\n",
    "    if (pheno == \"gender\"){\n",
    "       bMIND.confusion = readRDS(paste0(\"../Result/Methylation/Consistency/XY/\", pheno ,\".bMIND.bidir_confusion_dfs_list.rds\"))\n",
    "    }\n",
    "    confusion = readRDS(paste0(\"../Result/Methylation/Consistency/XY/\", pheno, \".bidir_confusion_dfs_list.rds\"))\n",
    "    \n",
    "    \n",
    "    marg.mat = as.data.frame(matrix(0, length(marg.method.names), 4))\n",
    "    rownames(marg.mat) = marg.method.names\n",
    "    colnames(marg.mat) = data.names\n",
    "\n",
    "    joint.mat = as.data.frame(matrix(0, length(joint.method.names), 4))\n",
    "    rownames(joint.mat) = joint.method.names\n",
    "    colnames(joint.mat) = data.names\n",
    "    \n",
    "    for (data.name in data.names){\n",
    "        if (pheno == \"gender\"){\n",
    "            bMIND.data.confusion = bMIND.confusion[[paste0(data.name,\".\", data.name)]]$forward\n",
    "        }else{\n",
    "            bMIND.data.confusion = matrix(NA, 3, ncol(confusion[[paste0(data.name,\".\", data.name)]]$forward))\n",
    "            colnames(bMIND.data.confusion) = colnames(confusion[[paste0(data.name,\".\", data.name)]]$forward)\n",
    "            rownames(bMIND.data.confusion) = c(\"bMIND.YX.marginal\", \"bMIND.XY.joint\", \"bMIND.XY.marginal\")\n",
    "\n",
    "\n",
    "\n",
    "        }\n",
    "        data.confusion = rbind(confusion[[paste0(data.name,\".\", data.name)]]$forward,\n",
    "                               bMIND.data.confusion)\n",
    "\n",
    "        marg.mat[marg.method.names, data.name]   = data.confusion[marg.method.names.full,\"TP\"]\n",
    "        joint.mat[joint.method.names, data.name] = data.confusion[joint.method.names.full,\"TP\"]\n",
    "    }\n",
    "    \n",
    "    marg.mat$\"Method\" = rownames(marg.mat) \n",
    "    joint.mat$\"Method\"= rownames(joint.mat) \n",
    "    marg.mat$\"Type\"  = \"Cell-type level\"\n",
    "    joint.mat$\"Type\" = \"Tissue level\"\n",
    "    assoc.mat  = rbind(marg.mat, joint.mat)\n",
    "    assoc.mat$\"Phenotype\" = if (pheno == \"age\") \"Age\" else \"Sex\"\n",
    "    assoc.mat = assoc.mat[,c(\"Phenotype\", \"Type\", \"Method\", data.names)]\n",
    "    \n",
    "    assoc.df  = rbind(assoc.df, assoc.mat)\n",
    "    #joint.mat.df = rbind(joint.mat.df, joint.mat)\n",
    "    #marg.mat.list[[\"pheno\"]]  = marg.mat\n",
    "    #joint.mat.list[[\"pheno\"]] = joint.mat\n",
    "\n",
    "}\n"
   ]
  },
  {
   "cell_type": "code",
   "execution_count": 73,
   "metadata": {
    "scrolled": true
   },
   "outputs": [
    {
     "data": {
      "text/html": [
       "<table class=\"dataframe\">\n",
       "<caption>A data.frame: 20 × 7</caption>\n",
       "<thead>\n",
       "\t<tr><th scope=col>Phenotype</th><th scope=col>Type</th><th scope=col>Method</th><th scope=col>Liu et al. (n= 687)</th><th scope=col>Hannon et al. I (n= 675)</th><th scope=col>Hannon et al. II (n= 665)</th><th scope=col>Hannum et al. (n= 590)</th></tr>\n",
       "\t<tr><th scope=col>&lt;chr&gt;</th><th scope=col>&lt;chr&gt;</th><th scope=col>&lt;chr&gt;</th><th scope=col>&lt;dbl&gt;</th><th scope=col>&lt;dbl&gt;</th><th scope=col>&lt;dbl&gt;</th><th scope=col>&lt;dbl&gt;</th></tr>\n",
       "</thead>\n",
       "<tbody>\n",
       "\t<tr><td>Sex</td><td>Cell-type level</td><td>Unico   </td><td>   62</td><td>   45</td><td>   39</td><td>   43</td></tr>\n",
       "\t<tr><td>Sex</td><td>Cell-type level</td><td>TCA     </td><td>  108</td><td>   45</td><td>   38</td><td>   46</td></tr>\n",
       "\t<tr><td>Sex</td><td>Cell-type level</td><td>CellDMC </td><td>  607</td><td>   52</td><td>   40</td><td>   46</td></tr>\n",
       "\t<tr><td>Sex</td><td>Cell-type level</td><td>Baseline</td><td> 4757</td><td>14880</td><td>18159</td><td> 6907</td></tr>\n",
       "\t<tr><td>Sex</td><td>Cell-type level</td><td>bMIND   </td><td>   89</td><td>   65</td><td>  273</td><td>  117</td></tr>\n",
       "\t<tr><td>Sex</td><td>Tissue level   </td><td>Unico   </td><td>  992</td><td> 1952</td><td> 3076</td><td> 1486</td></tr>\n",
       "\t<tr><td>Sex</td><td>Tissue level   </td><td>TCA     </td><td> 1200</td><td> 2657</td><td> 3949</td><td> 1603</td></tr>\n",
       "\t<tr><td>Sex</td><td>Tissue level   </td><td>CellDMC </td><td> 1730</td><td> 2917</td><td> 4453</td><td> 1648</td></tr>\n",
       "\t<tr><td>Sex</td><td>Tissue level   </td><td>Bulk    </td><td> 2288</td><td> 4925</td><td> 7153</td><td> 2989</td></tr>\n",
       "\t<tr><td>Sex</td><td>Tissue level   </td><td>bMIND   </td><td> 3203</td><td> 1141</td><td> 6605</td><td> 2599</td></tr>\n",
       "\t<tr><td>Age</td><td>Cell-type level</td><td>Unico   </td><td>  107</td><td>   43</td><td>   21</td><td>   23</td></tr>\n",
       "\t<tr><td>Age</td><td>Cell-type level</td><td>TCA     </td><td>  131</td><td>  119</td><td>   42</td><td>   16</td></tr>\n",
       "\t<tr><td>Age</td><td>Cell-type level</td><td>CellDMC </td><td>  165</td><td>  190</td><td>   59</td><td>  112</td></tr>\n",
       "\t<tr><td>Age</td><td>Cell-type level</td><td>Baseline</td><td>18000</td><td> 5649</td><td>29354</td><td>39014</td></tr>\n",
       "\t<tr><td>Age</td><td>Cell-type level</td><td>bMIND   </td><td>   NA</td><td>   NA</td><td>   NA</td><td>   NA</td></tr>\n",
       "\t<tr><td>Age</td><td>Tissue level   </td><td>Unico   </td><td> 6109</td><td> 1352</td><td> 4485</td><td>10463</td></tr>\n",
       "\t<tr><td>Age</td><td>Tissue level   </td><td>TCA     </td><td> 6082</td><td> 1941</td><td> 5852</td><td>10228</td></tr>\n",
       "\t<tr><td>Age</td><td>Tissue level   </td><td>CellDMC </td><td> 5932</td><td> 2119</td><td> 6259</td><td>11731</td></tr>\n",
       "\t<tr><td>Age</td><td>Tissue level   </td><td>Bulk    </td><td> 8448</td><td> 2775</td><td> 7978</td><td>16091</td></tr>\n",
       "\t<tr><td>Age</td><td>Tissue level   </td><td>bMIND   </td><td>   NA</td><td>   NA</td><td>   NA</td><td>   NA</td></tr>\n",
       "</tbody>\n",
       "</table>\n"
      ],
      "text/latex": [
       "A data.frame: 20 × 7\n",
       "\\begin{tabular}{lllllll}\n",
       " Phenotype & Type & Method & Liu et al. (n= 687) & Hannon et al. I (n= 675) & Hannon et al. II (n= 665) & Hannum et al. (n= 590)\\\\\n",
       " <chr> & <chr> & <chr> & <dbl> & <dbl> & <dbl> & <dbl>\\\\\n",
       "\\hline\n",
       "\t Sex & Cell-type level & Unico    &    62 &    45 &    39 &    43\\\\\n",
       "\t Sex & Cell-type level & TCA      &   108 &    45 &    38 &    46\\\\\n",
       "\t Sex & Cell-type level & CellDMC  &   607 &    52 &    40 &    46\\\\\n",
       "\t Sex & Cell-type level & Baseline &  4757 & 14880 & 18159 &  6907\\\\\n",
       "\t Sex & Cell-type level & bMIND    &    89 &    65 &   273 &   117\\\\\n",
       "\t Sex & Tissue level    & Unico    &   992 &  1952 &  3076 &  1486\\\\\n",
       "\t Sex & Tissue level    & TCA      &  1200 &  2657 &  3949 &  1603\\\\\n",
       "\t Sex & Tissue level    & CellDMC  &  1730 &  2917 &  4453 &  1648\\\\\n",
       "\t Sex & Tissue level    & Bulk     &  2288 &  4925 &  7153 &  2989\\\\\n",
       "\t Sex & Tissue level    & bMIND    &  3203 &  1141 &  6605 &  2599\\\\\n",
       "\t Age & Cell-type level & Unico    &   107 &    43 &    21 &    23\\\\\n",
       "\t Age & Cell-type level & TCA      &   131 &   119 &    42 &    16\\\\\n",
       "\t Age & Cell-type level & CellDMC  &   165 &   190 &    59 &   112\\\\\n",
       "\t Age & Cell-type level & Baseline & 18000 &  5649 & 29354 & 39014\\\\\n",
       "\t Age & Cell-type level & bMIND    &    NA &    NA &    NA &    NA\\\\\n",
       "\t Age & Tissue level    & Unico    &  6109 &  1352 &  4485 & 10463\\\\\n",
       "\t Age & Tissue level    & TCA      &  6082 &  1941 &  5852 & 10228\\\\\n",
       "\t Age & Tissue level    & CellDMC  &  5932 &  2119 &  6259 & 11731\\\\\n",
       "\t Age & Tissue level    & Bulk     &  8448 &  2775 &  7978 & 16091\\\\\n",
       "\t Age & Tissue level    & bMIND    &    NA &    NA &    NA &    NA\\\\\n",
       "\\end{tabular}\n"
      ],
      "text/markdown": [
       "\n",
       "A data.frame: 20 × 7\n",
       "\n",
       "| Phenotype &lt;chr&gt; | Type &lt;chr&gt; | Method &lt;chr&gt; | Liu et al. (n= 687) &lt;dbl&gt; | Hannon et al. I (n= 675) &lt;dbl&gt; | Hannon et al. II (n= 665) &lt;dbl&gt; | Hannum et al. (n= 590) &lt;dbl&gt; |\n",
       "|---|---|---|---|---|---|---|\n",
       "| Sex | Cell-type level | Unico    |    62 |    45 |    39 |    43 |\n",
       "| Sex | Cell-type level | TCA      |   108 |    45 |    38 |    46 |\n",
       "| Sex | Cell-type level | CellDMC  |   607 |    52 |    40 |    46 |\n",
       "| Sex | Cell-type level | Baseline |  4757 | 14880 | 18159 |  6907 |\n",
       "| Sex | Cell-type level | bMIND    |    89 |    65 |   273 |   117 |\n",
       "| Sex | Tissue level    | Unico    |   992 |  1952 |  3076 |  1486 |\n",
       "| Sex | Tissue level    | TCA      |  1200 |  2657 |  3949 |  1603 |\n",
       "| Sex | Tissue level    | CellDMC  |  1730 |  2917 |  4453 |  1648 |\n",
       "| Sex | Tissue level    | Bulk     |  2288 |  4925 |  7153 |  2989 |\n",
       "| Sex | Tissue level    | bMIND    |  3203 |  1141 |  6605 |  2599 |\n",
       "| Age | Cell-type level | Unico    |   107 |    43 |    21 |    23 |\n",
       "| Age | Cell-type level | TCA      |   131 |   119 |    42 |    16 |\n",
       "| Age | Cell-type level | CellDMC  |   165 |   190 |    59 |   112 |\n",
       "| Age | Cell-type level | Baseline | 18000 |  5649 | 29354 | 39014 |\n",
       "| Age | Cell-type level | bMIND    |    NA |    NA |    NA |    NA |\n",
       "| Age | Tissue level    | Unico    |  6109 |  1352 |  4485 | 10463 |\n",
       "| Age | Tissue level    | TCA      |  6082 |  1941 |  5852 | 10228 |\n",
       "| Age | Tissue level    | CellDMC  |  5932 |  2119 |  6259 | 11731 |\n",
       "| Age | Tissue level    | Bulk     |  8448 |  2775 |  7978 | 16091 |\n",
       "| Age | Tissue level    | bMIND    |    NA |    NA |    NA |    NA |\n",
       "\n"
      ],
      "text/plain": [
       "   Phenotype Type            Method   Liu et al. (n= 687)\n",
       "1  Sex       Cell-type level Unico       62              \n",
       "2  Sex       Cell-type level TCA        108              \n",
       "3  Sex       Cell-type level CellDMC    607              \n",
       "4  Sex       Cell-type level Baseline  4757              \n",
       "5  Sex       Cell-type level bMIND       89              \n",
       "6  Sex       Tissue level    Unico      992              \n",
       "7  Sex       Tissue level    TCA       1200              \n",
       "8  Sex       Tissue level    CellDMC   1730              \n",
       "9  Sex       Tissue level    Bulk      2288              \n",
       "10 Sex       Tissue level    bMIND     3203              \n",
       "11 Age       Cell-type level Unico      107              \n",
       "12 Age       Cell-type level TCA        131              \n",
       "13 Age       Cell-type level CellDMC    165              \n",
       "14 Age       Cell-type level Baseline 18000              \n",
       "15 Age       Cell-type level bMIND       NA              \n",
       "16 Age       Tissue level    Unico     6109              \n",
       "17 Age       Tissue level    TCA       6082              \n",
       "18 Age       Tissue level    CellDMC   5932              \n",
       "19 Age       Tissue level    Bulk      8448              \n",
       "20 Age       Tissue level    bMIND       NA              \n",
       "   Hannon et al. I (n= 675) Hannon et al. II (n= 665) Hannum et al. (n= 590)\n",
       "1     45                       39                        43                 \n",
       "2     45                       38                        46                 \n",
       "3     52                       40                        46                 \n",
       "4  14880                    18159                      6907                 \n",
       "5     65                      273                       117                 \n",
       "6   1952                     3076                      1486                 \n",
       "7   2657                     3949                      1603                 \n",
       "8   2917                     4453                      1648                 \n",
       "9   4925                     7153                      2989                 \n",
       "10  1141                     6605                      2599                 \n",
       "11    43                       21                        23                 \n",
       "12   119                       42                        16                 \n",
       "13   190                       59                       112                 \n",
       "14  5649                    29354                     39014                 \n",
       "15    NA                       NA                        NA                 \n",
       "16  1352                     4485                     10463                 \n",
       "17  1941                     5852                     10228                 \n",
       "18  2119                     6259                     11731                 \n",
       "19  2775                     7978                     16091                 \n",
       "20    NA                       NA                        NA                 "
      ]
     },
     "metadata": {},
     "output_type": "display_data"
    }
   ],
   "source": [
    "rownames(assoc.df) <- NULL\n",
    "colnames(assoc.df) = c(colnames(assoc.df)[1:3],\n",
    "                       \"Liu et al. (n= 687)\", \n",
    "                       \"Hannon et al. I (n= 675)\", \n",
    "                       \"Hannon et al. II (n= 665)\", \n",
    "                       \"Hannum et al. (n= 590)\")\n",
    "assoc.df"
   ]
  },
  {
   "cell_type": "code",
   "execution_count": 74,
   "metadata": {},
   "outputs": [],
   "source": [
    "print(xtable(assoc.df, type = \"latex\"), file = \"../Figure/EWAS.hits.tex\")"
   ]
  },
  {
   "cell_type": "markdown",
   "metadata": {},
   "source": [
    "# Others"
   ]
  },
  {
   "cell_type": "code",
   "execution_count": 75,
   "metadata": {},
   "outputs": [],
   "source": [
    "partial.W  = FALSE\n",
    "source.col = \"decon.L1\"\n",
    "\n",
    "pbmc.pb = readRDS(file.path(\"../Data/RNA/Simulation-PBMC/\", \n",
    "                            paste0(\"pbmc.pseudobulk.\",\n",
    "                                    source.col, \".\",\n",
    "                                    if (partial.W) \"partial.W.\" else \"all.W.\",\n",
    "                                    \"rds\")))"
   ]
  },
  {
   "cell_type": "code",
   "execution_count": 76,
   "metadata": {},
   "outputs": [
    {
     "data": {
      "text/html": [
       "<style>\n",
       ".dl-inline {width: auto; margin:0; padding: 0}\n",
       ".dl-inline>dt, .dl-inline>dd {float: none; width: auto; display: inline-block}\n",
       ".dl-inline>dt::after {content: \":\\0020\"; padding-right: .5ex}\n",
       ".dl-inline>dt:not(:first-of-type) {padding-left: .5ex}\n",
       "</style><dl class=dl-inline><dt>CD4</dt><dd>31.8</dd><dt>NK</dt><dd>19.5</dd><dt>CD8</dt><dd>17.7</dd><dt>Mono</dt><dd>16.7</dd><dt>B</dt><dd>14.2</dd></dl>\n"
      ],
      "text/latex": [
       "\\begin{description*}\n",
       "\\item[CD4] 31.8\n",
       "\\item[NK] 19.5\n",
       "\\item[CD8] 17.7\n",
       "\\item[Mono] 16.7\n",
       "\\item[B] 14.2\n",
       "\\end{description*}\n"
      ],
      "text/markdown": [
       "CD4\n",
       ":   31.8NK\n",
       ":   19.5CD8\n",
       ":   17.7Mono\n",
       ":   16.7B\n",
       ":   14.2\n",
       "\n"
      ],
      "text/plain": [
       " CD4   NK  CD8 Mono    B \n",
       "31.8 19.5 17.7 16.7 14.2 "
      ]
     },
     "metadata": {},
     "output_type": "display_data"
    }
   ],
   "source": [
    "round(colMeans(pbmc.pb$W)[order (-colMeans(pbmc.pb$W))], 3) * 100"
   ]
  },
  {
   "cell_type": "code",
   "execution_count": 77,
   "metadata": {},
   "outputs": [],
   "source": [
    "partial.W  = FALSE\n",
    "source.col = \"decon.L2\"\n",
    "\n",
    "pbmc.pb = readRDS(file.path(\"../Data/RNA/Simulation-PBMC/\", \n",
    "                            paste0(\"pbmc.pseudobulk.\",\n",
    "                                    source.col, \".\",\n",
    "                                    if (partial.W) \"partial.W.\" else \"all.W.\",\n",
    "                                    \"rds\")))"
   ]
  },
  {
   "cell_type": "code",
   "execution_count": 78,
   "metadata": {},
   "outputs": [
    {
     "data": {
      "text/html": [
       "<style>\n",
       ".dl-inline {width: auto; margin:0; padding: 0}\n",
       ".dl-inline>dt, .dl-inline>dd {float: none; width: auto; display: inline-block}\n",
       ".dl-inline>dt::after {content: \":\\0020\"; padding-right: .5ex}\n",
       ".dl-inline>dt:not(:first-of-type) {padding-left: .5ex}\n",
       "</style><dl class=dl-inline><dt>CD4</dt><dd>31.8</dd><dt>NK</dt><dd>19.5</dd><dt>CD8</dt><dd>17.7</dd><dt>Mono.CD14</dt><dd>14.7</dd><dt>B</dt><dd>13.4</dd><dt>Mono.CD16</dt><dd>2</dd><dt>Plasma</dt><dd>0.8</dd></dl>\n"
      ],
      "text/latex": [
       "\\begin{description*}\n",
       "\\item[CD4] 31.8\n",
       "\\item[NK] 19.5\n",
       "\\item[CD8] 17.7\n",
       "\\item[Mono.CD14] 14.7\n",
       "\\item[B] 13.4\n",
       "\\item[Mono.CD16] 2\n",
       "\\item[Plasma] 0.8\n",
       "\\end{description*}\n"
      ],
      "text/markdown": [
       "CD4\n",
       ":   31.8NK\n",
       ":   19.5CD8\n",
       ":   17.7Mono.CD14\n",
       ":   14.7B\n",
       ":   13.4Mono.CD16\n",
       ":   2Plasma\n",
       ":   0.8\n",
       "\n"
      ],
      "text/plain": [
       "      CD4        NK       CD8 Mono.CD14         B Mono.CD16    Plasma \n",
       "     31.8      19.5      17.7      14.7      13.4       2.0       0.8 "
      ]
     },
     "metadata": {},
     "output_type": "display_data"
    }
   ],
   "source": [
    "round(colMeans(pbmc.pb$W)[order (-colMeans(pbmc.pb$W))], 3) * 100"
   ]
  },
  {
   "cell_type": "code",
   "execution_count": 79,
   "metadata": {},
   "outputs": [],
   "source": [
    "partial.W  = FALSE\n",
    "source.col = \"decon.L1\"\n",
    "\n",
    "HLCA.pb = readRDS(file.path(\"../Data/RNA/Simulation-Lung/\", \n",
    "                            paste0(\"HLCA.pseudobulk.\",\n",
    "                                    source.col, \".\",\n",
    "                                    if (partial.W) \"partial.W.\" else \"all.W.\",\n",
    "                                    \"rds\")))"
   ]
  },
  {
   "cell_type": "code",
   "execution_count": 80,
   "metadata": {},
   "outputs": [
    {
     "data": {
      "text/html": [
       "<style>\n",
       ".dl-inline {width: auto; margin:0; padding: 0}\n",
       ".dl-inline>dt, .dl-inline>dd {float: none; width: auto; display: inline-block}\n",
       ".dl-inline>dt::after {content: \":\\0020\"; padding-right: .5ex}\n",
       ".dl-inline>dt:not(:first-of-type) {padding-left: .5ex}\n",
       "</style><dl class=dl-inline><dt>Immune</dt><dd>62.5</dd><dt>Epithelial</dt><dd>23.8</dd><dt>Endothelial</dt><dd>8.4</dd><dt>Stroma</dt><dd>5.4</dd></dl>\n"
      ],
      "text/latex": [
       "\\begin{description*}\n",
       "\\item[Immune] 62.5\n",
       "\\item[Epithelial] 23.8\n",
       "\\item[Endothelial] 8.4\n",
       "\\item[Stroma] 5.4\n",
       "\\end{description*}\n"
      ],
      "text/markdown": [
       "Immune\n",
       ":   62.5Epithelial\n",
       ":   23.8Endothelial\n",
       ":   8.4Stroma\n",
       ":   5.4\n",
       "\n"
      ],
      "text/plain": [
       "     Immune  Epithelial Endothelial      Stroma \n",
       "       62.5        23.8         8.4         5.4 "
      ]
     },
     "metadata": {},
     "output_type": "display_data"
    }
   ],
   "source": [
    "round(colMeans(HLCA.pb$W)[order (-colMeans(HLCA.pb$W))], 3) * 100"
   ]
  },
  {
   "cell_type": "code",
   "execution_count": 81,
   "metadata": {},
   "outputs": [],
   "source": [
    "partial.W  = FALSE\n",
    "source.col = \"decon.L2\"\n",
    "\n",
    "HLCA.pb = readRDS(file.path(\"../Data/RNA/Simulation-Lung/\", \n",
    "                            paste0(\"HLCA.pseudobulk.\",\n",
    "                                    source.col, \".\",\n",
    "                                    if (partial.W) \"partial.W.\" else \"all.W.\",\n",
    "                                    \"rds\")))"
   ]
  },
  {
   "cell_type": "code",
   "execution_count": 82,
   "metadata": {},
   "outputs": [
    {
     "data": {
      "text/html": [
       "<style>\n",
       ".dl-inline {width: auto; margin:0; padding: 0}\n",
       ".dl-inline>dt, .dl-inline>dd {float: none; width: auto; display: inline-block}\n",
       ".dl-inline>dt::after {content: \":\\0020\"; padding-right: .5ex}\n",
       ".dl-inline>dt:not(:first-of-type) {padding-left: .5ex}\n",
       "</style><dl class=dl-inline><dt>Myeloid</dt><dd>43.5</dd><dt>Alveolar Epithelium</dt><dd>18.8</dd><dt>Lymphoid</dt><dd>17.4</dd><dt>Endothelial</dt><dd>8.9</dd><dt>Stroma</dt><dd>5.8</dd><dt>Airway Epithelium</dt><dd>5.6</dd></dl>\n"
      ],
      "text/latex": [
       "\\begin{description*}\n",
       "\\item[Myeloid] 43.5\n",
       "\\item[Alveolar Epithelium] 18.8\n",
       "\\item[Lymphoid] 17.4\n",
       "\\item[Endothelial] 8.9\n",
       "\\item[Stroma] 5.8\n",
       "\\item[Airway Epithelium] 5.6\n",
       "\\end{description*}\n"
      ],
      "text/markdown": [
       "Myeloid\n",
       ":   43.5Alveolar Epithelium\n",
       ":   18.8Lymphoid\n",
       ":   17.4Endothelial\n",
       ":   8.9Stroma\n",
       ":   5.8Airway Epithelium\n",
       ":   5.6\n",
       "\n"
      ],
      "text/plain": [
       "            Myeloid Alveolar Epithelium            Lymphoid         Endothelial \n",
       "               43.5                18.8                17.4                 8.9 \n",
       "             Stroma   Airway Epithelium \n",
       "                5.8                 5.6 "
      ]
     },
     "metadata": {},
     "output_type": "display_data"
    }
   ],
   "source": [
    "round(colMeans(HLCA.pb$W)[order (-colMeans(HLCA.pb$W))], 3) * 100"
   ]
  },
  {
   "cell_type": "code",
   "execution_count": 83,
   "metadata": {
    "scrolled": true
   },
   "outputs": [],
   "source": [
    "HLCA.pb$W = data.frame(HLCA.pb$W)\n",
    "HLCA.pb$W$Immune = HLCA.pb$W$Myeloid + HLCA.pb$W$Lymphoid\n",
    "HLCA.pb$W$\"Epithelial\" =  HLCA.pb$W$\"Alveolar.Epithelium\" + HLCA.pb$W$\"Airway.Epithelium\"\n",
    "HLCA.pb$W = HLCA.pb$W[,c(\"Epithelial\",\"Immune\",\"Endothelial\", \"Stroma\")]"
   ]
  },
  {
   "cell_type": "code",
   "execution_count": 84,
   "metadata": {},
   "outputs": [
    {
     "data": {
      "text/html": [
       "<style>\n",
       ".dl-inline {width: auto; margin:0; padding: 0}\n",
       ".dl-inline>dt, .dl-inline>dd {float: none; width: auto; display: inline-block}\n",
       ".dl-inline>dt::after {content: \":\\0020\"; padding-right: .5ex}\n",
       ".dl-inline>dt:not(:first-of-type) {padding-left: .5ex}\n",
       "</style><dl class=dl-inline><dt>Epithelial</dt><dd>0.243871409893387</dd><dt>Immune</dt><dd>0.608609076432269</dd><dt>Endothelial</dt><dd>0.0892739240513995</dd><dt>Stroma</dt><dd>0.0582455896229439</dd></dl>\n"
      ],
      "text/latex": [
       "\\begin{description*}\n",
       "\\item[Epithelial] 0.243871409893387\n",
       "\\item[Immune] 0.608609076432269\n",
       "\\item[Endothelial] 0.0892739240513995\n",
       "\\item[Stroma] 0.0582455896229439\n",
       "\\end{description*}\n"
      ],
      "text/markdown": [
       "Epithelial\n",
       ":   0.243871409893387Immune\n",
       ":   0.608609076432269Endothelial\n",
       ":   0.0892739240513995Stroma\n",
       ":   0.0582455896229439\n",
       "\n"
      ],
      "text/plain": [
       " Epithelial      Immune Endothelial      Stroma \n",
       " 0.24387141  0.60860908  0.08927392  0.05824559 "
      ]
     },
     "metadata": {},
     "output_type": "display_data"
    }
   ],
   "source": [
    "colMeans(HLCA.pb$W)"
   ]
  },
  {
   "cell_type": "code",
   "execution_count": 85,
   "metadata": {
    "scrolled": true
   },
   "outputs": [
    {
     "data": {
      "text/html": [
       "<table class=\"dataframe\">\n",
       "<caption>A data.frame: 90 × 4</caption>\n",
       "<thead>\n",
       "\t<tr><th></th><th scope=col>Epithelial</th><th scope=col>Immune</th><th scope=col>Endothelial</th><th scope=col>Stroma</th></tr>\n",
       "\t<tr><th></th><th scope=col>&lt;dbl&gt;</th><th scope=col>&lt;dbl&gt;</th><th scope=col>&lt;dbl&gt;</th><th scope=col>&lt;dbl&gt;</th></tr>\n",
       "</thead>\n",
       "<tbody>\n",
       "\t<tr><th scope=row>SC22</th><td>0.616811814</td><td>0.373343431</td><td>0.0073835668</td><td>0.002461189</td></tr>\n",
       "\t<tr><th scope=row>distal 2</th><td>0.075404531</td><td>0.421898598</td><td>0.4557173679</td><td>0.046979504</td></tr>\n",
       "\t<tr><th scope=row>SC27</th><td>0.662721893</td><td>0.299435806</td><td>0.0304114490</td><td>0.007430852</td></tr>\n",
       "\t<tr><th scope=row>distal 1a</th><td>0.113415769</td><td>0.627177237</td><td>0.1987767584</td><td>0.060630235</td></tr>\n",
       "\t<tr><th scope=row>F02617</th><td>0.442410049</td><td>0.286352991</td><td>0.2091760698</td><td>0.062060890</td></tr>\n",
       "\t<tr><th scope=row>SC18</th><td>0.420879334</td><td>0.560333140</td><td>0.0137516948</td><td>0.005035832</td></tr>\n",
       "\t<tr><th scope=row>VUHD68</th><td>0.017961783</td><td>0.696178344</td><td>0.2524840764</td><td>0.033375796</td></tr>\n",
       "\t<tr><th scope=row>SC142</th><td>0.002119461</td><td>0.995183044</td><td>0.0001926782</td><td>0.002504817</td></tr>\n",
       "\t<tr><th scope=row>F02526</th><td>0.310970343</td><td>0.536711777</td><td>0.1186294270</td><td>0.033688454</td></tr>\n",
       "\t<tr><th scope=row>VUHD67</th><td>0.224137931</td><td>0.688862465</td><td>0.0617320650</td><td>0.025267539</td></tr>\n",
       "\t<tr><th scope=row>SC24</th><td>0.480660377</td><td>0.492452830</td><td>0.0200471698</td><td>0.006839623</td></tr>\n",
       "\t<tr><th scope=row>7185212</th><td>0.355731225</td><td>0.573122530</td><td>0.0268774704</td><td>0.044268775</td></tr>\n",
       "\t<tr><th scope=row>SC14</th><td>0.012784091</td><td>0.954545455</td><td>0.0127840909</td><td>0.019886364</td></tr>\n",
       "\t<tr><th scope=row>F01394</th><td>0.058606832</td><td>0.932853315</td><td>0.0073677160</td><td>0.001172137</td></tr>\n",
       "\t<tr><th scope=row>7239217</th><td>0.223118280</td><td>0.706451613</td><td>0.0005376344</td><td>0.069892473</td></tr>\n",
       "\t<tr><th scope=row>SC141</th><td>0.986434109</td><td>0.009905254</td><td>0.0008613264</td><td>0.002799311</td></tr>\n",
       "\t<tr><th scope=row>F01874</th><td>0.287356322</td><td>0.640543365</td><td>0.0689655172</td><td>0.003134796</td></tr>\n",
       "\t<tr><th scope=row>SC156</th><td>0.144690191</td><td>0.634306939</td><td>0.1485733581</td><td>0.072429512</td></tr>\n",
       "\t<tr><th scope=row>distal 3</th><td>0.161685506</td><td>0.575782683</td><td>0.1780789489</td><td>0.084452861</td></tr>\n",
       "\t<tr><th scope=row>368C_12h</th><td>0.017283202</td><td>0.821710127</td><td>0.0115221346</td><td>0.149484536</td></tr>\n",
       "\t<tr><th scope=row>SC84</th><td>0.000000000</td><td>1.000000000</td><td>0.0000000000</td><td>0.000000000</td></tr>\n",
       "\t<tr><th scope=row>SC85</th><td>0.996029006</td><td>0.000000000</td><td>0.0001726519</td><td>0.003798343</td></tr>\n",
       "\t<tr><th scope=row>F02524</th><td>0.233388248</td><td>0.469522241</td><td>0.2294069193</td><td>0.067682592</td></tr>\n",
       "\t<tr><th scope=row>390C_12h</th><td>0.186234022</td><td>0.658800393</td><td>0.0509341200</td><td>0.104031465</td></tr>\n",
       "\t<tr><th scope=row>F01641</th><td>0.247843588</td><td>0.701552616</td><td>0.0414031052</td><td>0.009200690</td></tr>\n",
       "\t<tr><th scope=row>VUHD70</th><td>0.220499569</td><td>0.328165375</td><td>0.4457364341</td><td>0.005598622</td></tr>\n",
       "\t<tr><th scope=row>F01365</th><td>0.072171254</td><td>0.732110092</td><td>0.1834862385</td><td>0.012232416</td></tr>\n",
       "\t<tr><th scope=row>7135920</th><td>0.108728943</td><td>0.865237366</td><td>0.0000000000</td><td>0.026033691</td></tr>\n",
       "\t<tr><th scope=row>356C_72h</th><td>0.083492915</td><td>0.882037534</td><td>0.0114898506</td><td>0.022979701</td></tr>\n",
       "\t<tr><th scope=row>SC20</th><td>0.684353215</td><td>0.303059644</td><td>0.0104570101</td><td>0.002130132</td></tr>\n",
       "\t<tr><th scope=row>⋮</th><td>⋮</td><td>⋮</td><td>⋮</td><td>⋮</td></tr>\n",
       "\t<tr><th scope=row>F01513</th><td>0.07500000</td><td>0.8900000</td><td>0.032500000</td><td>0.002500000</td></tr>\n",
       "\t<tr><th scope=row>7239213</th><td>0.39622642</td><td>0.5363881</td><td>0.000000000</td><td>0.067385445</td></tr>\n",
       "\t<tr><th scope=row>7185213</th><td>0.44390638</td><td>0.4269572</td><td>0.043583535</td><td>0.085552865</td></tr>\n",
       "\t<tr><th scope=row>390C_72h</th><td>0.01841402</td><td>0.9263439</td><td>0.012474012</td><td>0.042768043</td></tr>\n",
       "\t<tr><th scope=row>7135919</th><td>0.08893871</td><td>0.8871450</td><td>0.000000000</td><td>0.023916293</td></tr>\n",
       "\t<tr><th scope=row>368C_24h</th><td>0.08052709</td><td>0.5729624</td><td>0.090775988</td><td>0.255734505</td></tr>\n",
       "\t<tr><th scope=row>SC59</th><td>0.06845966</td><td>0.8157090</td><td>0.092603912</td><td>0.023227384</td></tr>\n",
       "\t<tr><th scope=row>390C_24h</th><td>0.05226093</td><td>0.8747220</td><td>0.036693847</td><td>0.036323202</td></tr>\n",
       "\t<tr><th scope=row>368C_0h</th><td>0.03960396</td><td>0.6396040</td><td>0.019801980</td><td>0.300990099</td></tr>\n",
       "\t<tr><th scope=row>SC31D</th><td>0.13169074</td><td>0.8334749</td><td>0.029736619</td><td>0.005097706</td></tr>\n",
       "\t<tr><th scope=row>F02092</th><td>0.52371027</td><td>0.3819698</td><td>0.041167275</td><td>0.053152684</td></tr>\n",
       "\t<tr><th scope=row>F02609</th><td>0.62142857</td><td>0.2285714</td><td>0.107142857</td><td>0.042857143</td></tr>\n",
       "\t<tr><th scope=row>F01366</th><td>0.04704387</td><td>0.7139224</td><td>0.221869040</td><td>0.017164654</td></tr>\n",
       "\t<tr><th scope=row>7239219</th><td>0.18881119</td><td>0.5824176</td><td>0.099900100</td><td>0.128871129</td></tr>\n",
       "\t<tr><th scope=row>7239220</th><td>0.16151685</td><td>0.7366573</td><td>0.049157303</td><td>0.052668539</td></tr>\n",
       "\t<tr><th scope=row>F01692</th><td>0.27139037</td><td>0.6631016</td><td>0.045454545</td><td>0.020053476</td></tr>\n",
       "\t<tr><th scope=row>F02613</th><td>0.14800389</td><td>0.7779942</td><td>0.007789679</td><td>0.066212269</td></tr>\n",
       "\t<tr><th scope=row>F01494</th><td>0.12676056</td><td>0.5352113</td><td>0.316901408</td><td>0.021126761</td></tr>\n",
       "\t<tr><th scope=row>F01508</th><td>0.05305040</td><td>0.8355438</td><td>0.108753316</td><td>0.002652520</td></tr>\n",
       "\t<tr><th scope=row>F00409</th><td>0.02980132</td><td>0.7930464</td><td>0.159768212</td><td>0.017384106</td></tr>\n",
       "\t<tr><th scope=row>F01483</th><td>0.28286190</td><td>0.5906822</td><td>0.113144759</td><td>0.013311148</td></tr>\n",
       "\t<tr><th scope=row>7239218</th><td>0.27530364</td><td>0.6943320</td><td>0.007422402</td><td>0.022941970</td></tr>\n",
       "\t<tr><th scope=row>F01853</th><td>0.10827068</td><td>0.2624060</td><td>0.598496241</td><td>0.030827068</td></tr>\n",
       "\t<tr><th scope=row>7119452</th><td>0.10738255</td><td>0.6711409</td><td>0.214765101</td><td>0.006711409</td></tr>\n",
       "\t<tr><th scope=row>7119453</th><td>0.07142857</td><td>0.6648352</td><td>0.230769231</td><td>0.032967033</td></tr>\n",
       "\t<tr><th scope=row>SC31</th><td>0.15110683</td><td>0.7959577</td><td>0.043310876</td><td>0.009624639</td></tr>\n",
       "\t<tr><th scope=row>F01495</th><td>0.07352941</td><td>0.8161765</td><td>0.088235294</td><td>0.022058824</td></tr>\n",
       "\t<tr><th scope=row>F01511</th><td>0.15137615</td><td>0.7844037</td><td>0.061926606</td><td>0.002293578</td></tr>\n",
       "\t<tr><th scope=row>F01506</th><td>0.63829787</td><td>0.3191489</td><td>0.021276596</td><td>0.021276596</td></tr>\n",
       "\t<tr><th scope=row>F01869</th><td>1.00000000</td><td>0.0000000</td><td>0.000000000</td><td>0.000000000</td></tr>\n",
       "</tbody>\n",
       "</table>\n"
      ],
      "text/latex": [
       "A data.frame: 90 × 4\n",
       "\\begin{tabular}{r|llll}\n",
       "  & Epithelial & Immune & Endothelial & Stroma\\\\\n",
       "  & <dbl> & <dbl> & <dbl> & <dbl>\\\\\n",
       "\\hline\n",
       "\tSC22 & 0.616811814 & 0.373343431 & 0.0073835668 & 0.002461189\\\\\n",
       "\tdistal 2 & 0.075404531 & 0.421898598 & 0.4557173679 & 0.046979504\\\\\n",
       "\tSC27 & 0.662721893 & 0.299435806 & 0.0304114490 & 0.007430852\\\\\n",
       "\tdistal 1a & 0.113415769 & 0.627177237 & 0.1987767584 & 0.060630235\\\\\n",
       "\tF02617 & 0.442410049 & 0.286352991 & 0.2091760698 & 0.062060890\\\\\n",
       "\tSC18 & 0.420879334 & 0.560333140 & 0.0137516948 & 0.005035832\\\\\n",
       "\tVUHD68 & 0.017961783 & 0.696178344 & 0.2524840764 & 0.033375796\\\\\n",
       "\tSC142 & 0.002119461 & 0.995183044 & 0.0001926782 & 0.002504817\\\\\n",
       "\tF02526 & 0.310970343 & 0.536711777 & 0.1186294270 & 0.033688454\\\\\n",
       "\tVUHD67 & 0.224137931 & 0.688862465 & 0.0617320650 & 0.025267539\\\\\n",
       "\tSC24 & 0.480660377 & 0.492452830 & 0.0200471698 & 0.006839623\\\\\n",
       "\t7185212 & 0.355731225 & 0.573122530 & 0.0268774704 & 0.044268775\\\\\n",
       "\tSC14 & 0.012784091 & 0.954545455 & 0.0127840909 & 0.019886364\\\\\n",
       "\tF01394 & 0.058606832 & 0.932853315 & 0.0073677160 & 0.001172137\\\\\n",
       "\t7239217 & 0.223118280 & 0.706451613 & 0.0005376344 & 0.069892473\\\\\n",
       "\tSC141 & 0.986434109 & 0.009905254 & 0.0008613264 & 0.002799311\\\\\n",
       "\tF01874 & 0.287356322 & 0.640543365 & 0.0689655172 & 0.003134796\\\\\n",
       "\tSC156 & 0.144690191 & 0.634306939 & 0.1485733581 & 0.072429512\\\\\n",
       "\tdistal 3 & 0.161685506 & 0.575782683 & 0.1780789489 & 0.084452861\\\\\n",
       "\t368C\\_12h & 0.017283202 & 0.821710127 & 0.0115221346 & 0.149484536\\\\\n",
       "\tSC84 & 0.000000000 & 1.000000000 & 0.0000000000 & 0.000000000\\\\\n",
       "\tSC85 & 0.996029006 & 0.000000000 & 0.0001726519 & 0.003798343\\\\\n",
       "\tF02524 & 0.233388248 & 0.469522241 & 0.2294069193 & 0.067682592\\\\\n",
       "\t390C\\_12h & 0.186234022 & 0.658800393 & 0.0509341200 & 0.104031465\\\\\n",
       "\tF01641 & 0.247843588 & 0.701552616 & 0.0414031052 & 0.009200690\\\\\n",
       "\tVUHD70 & 0.220499569 & 0.328165375 & 0.4457364341 & 0.005598622\\\\\n",
       "\tF01365 & 0.072171254 & 0.732110092 & 0.1834862385 & 0.012232416\\\\\n",
       "\t7135920 & 0.108728943 & 0.865237366 & 0.0000000000 & 0.026033691\\\\\n",
       "\t356C\\_72h & 0.083492915 & 0.882037534 & 0.0114898506 & 0.022979701\\\\\n",
       "\tSC20 & 0.684353215 & 0.303059644 & 0.0104570101 & 0.002130132\\\\\n",
       "\t⋮ & ⋮ & ⋮ & ⋮ & ⋮\\\\\n",
       "\tF01513 & 0.07500000 & 0.8900000 & 0.032500000 & 0.002500000\\\\\n",
       "\t7239213 & 0.39622642 & 0.5363881 & 0.000000000 & 0.067385445\\\\\n",
       "\t7185213 & 0.44390638 & 0.4269572 & 0.043583535 & 0.085552865\\\\\n",
       "\t390C\\_72h & 0.01841402 & 0.9263439 & 0.012474012 & 0.042768043\\\\\n",
       "\t7135919 & 0.08893871 & 0.8871450 & 0.000000000 & 0.023916293\\\\\n",
       "\t368C\\_24h & 0.08052709 & 0.5729624 & 0.090775988 & 0.255734505\\\\\n",
       "\tSC59 & 0.06845966 & 0.8157090 & 0.092603912 & 0.023227384\\\\\n",
       "\t390C\\_24h & 0.05226093 & 0.8747220 & 0.036693847 & 0.036323202\\\\\n",
       "\t368C\\_0h & 0.03960396 & 0.6396040 & 0.019801980 & 0.300990099\\\\\n",
       "\tSC31D & 0.13169074 & 0.8334749 & 0.029736619 & 0.005097706\\\\\n",
       "\tF02092 & 0.52371027 & 0.3819698 & 0.041167275 & 0.053152684\\\\\n",
       "\tF02609 & 0.62142857 & 0.2285714 & 0.107142857 & 0.042857143\\\\\n",
       "\tF01366 & 0.04704387 & 0.7139224 & 0.221869040 & 0.017164654\\\\\n",
       "\t7239219 & 0.18881119 & 0.5824176 & 0.099900100 & 0.128871129\\\\\n",
       "\t7239220 & 0.16151685 & 0.7366573 & 0.049157303 & 0.052668539\\\\\n",
       "\tF01692 & 0.27139037 & 0.6631016 & 0.045454545 & 0.020053476\\\\\n",
       "\tF02613 & 0.14800389 & 0.7779942 & 0.007789679 & 0.066212269\\\\\n",
       "\tF01494 & 0.12676056 & 0.5352113 & 0.316901408 & 0.021126761\\\\\n",
       "\tF01508 & 0.05305040 & 0.8355438 & 0.108753316 & 0.002652520\\\\\n",
       "\tF00409 & 0.02980132 & 0.7930464 & 0.159768212 & 0.017384106\\\\\n",
       "\tF01483 & 0.28286190 & 0.5906822 & 0.113144759 & 0.013311148\\\\\n",
       "\t7239218 & 0.27530364 & 0.6943320 & 0.007422402 & 0.022941970\\\\\n",
       "\tF01853 & 0.10827068 & 0.2624060 & 0.598496241 & 0.030827068\\\\\n",
       "\t7119452 & 0.10738255 & 0.6711409 & 0.214765101 & 0.006711409\\\\\n",
       "\t7119453 & 0.07142857 & 0.6648352 & 0.230769231 & 0.032967033\\\\\n",
       "\tSC31 & 0.15110683 & 0.7959577 & 0.043310876 & 0.009624639\\\\\n",
       "\tF01495 & 0.07352941 & 0.8161765 & 0.088235294 & 0.022058824\\\\\n",
       "\tF01511 & 0.15137615 & 0.7844037 & 0.061926606 & 0.002293578\\\\\n",
       "\tF01506 & 0.63829787 & 0.3191489 & 0.021276596 & 0.021276596\\\\\n",
       "\tF01869 & 1.00000000 & 0.0000000 & 0.000000000 & 0.000000000\\\\\n",
       "\\end{tabular}\n"
      ],
      "text/markdown": [
       "\n",
       "A data.frame: 90 × 4\n",
       "\n",
       "| <!--/--> | Epithelial &lt;dbl&gt; | Immune &lt;dbl&gt; | Endothelial &lt;dbl&gt; | Stroma &lt;dbl&gt; |\n",
       "|---|---|---|---|---|\n",
       "| SC22 | 0.616811814 | 0.373343431 | 0.0073835668 | 0.002461189 |\n",
       "| distal 2 | 0.075404531 | 0.421898598 | 0.4557173679 | 0.046979504 |\n",
       "| SC27 | 0.662721893 | 0.299435806 | 0.0304114490 | 0.007430852 |\n",
       "| distal 1a | 0.113415769 | 0.627177237 | 0.1987767584 | 0.060630235 |\n",
       "| F02617 | 0.442410049 | 0.286352991 | 0.2091760698 | 0.062060890 |\n",
       "| SC18 | 0.420879334 | 0.560333140 | 0.0137516948 | 0.005035832 |\n",
       "| VUHD68 | 0.017961783 | 0.696178344 | 0.2524840764 | 0.033375796 |\n",
       "| SC142 | 0.002119461 | 0.995183044 | 0.0001926782 | 0.002504817 |\n",
       "| F02526 | 0.310970343 | 0.536711777 | 0.1186294270 | 0.033688454 |\n",
       "| VUHD67 | 0.224137931 | 0.688862465 | 0.0617320650 | 0.025267539 |\n",
       "| SC24 | 0.480660377 | 0.492452830 | 0.0200471698 | 0.006839623 |\n",
       "| 7185212 | 0.355731225 | 0.573122530 | 0.0268774704 | 0.044268775 |\n",
       "| SC14 | 0.012784091 | 0.954545455 | 0.0127840909 | 0.019886364 |\n",
       "| F01394 | 0.058606832 | 0.932853315 | 0.0073677160 | 0.001172137 |\n",
       "| 7239217 | 0.223118280 | 0.706451613 | 0.0005376344 | 0.069892473 |\n",
       "| SC141 | 0.986434109 | 0.009905254 | 0.0008613264 | 0.002799311 |\n",
       "| F01874 | 0.287356322 | 0.640543365 | 0.0689655172 | 0.003134796 |\n",
       "| SC156 | 0.144690191 | 0.634306939 | 0.1485733581 | 0.072429512 |\n",
       "| distal 3 | 0.161685506 | 0.575782683 | 0.1780789489 | 0.084452861 |\n",
       "| 368C_12h | 0.017283202 | 0.821710127 | 0.0115221346 | 0.149484536 |\n",
       "| SC84 | 0.000000000 | 1.000000000 | 0.0000000000 | 0.000000000 |\n",
       "| SC85 | 0.996029006 | 0.000000000 | 0.0001726519 | 0.003798343 |\n",
       "| F02524 | 0.233388248 | 0.469522241 | 0.2294069193 | 0.067682592 |\n",
       "| 390C_12h | 0.186234022 | 0.658800393 | 0.0509341200 | 0.104031465 |\n",
       "| F01641 | 0.247843588 | 0.701552616 | 0.0414031052 | 0.009200690 |\n",
       "| VUHD70 | 0.220499569 | 0.328165375 | 0.4457364341 | 0.005598622 |\n",
       "| F01365 | 0.072171254 | 0.732110092 | 0.1834862385 | 0.012232416 |\n",
       "| 7135920 | 0.108728943 | 0.865237366 | 0.0000000000 | 0.026033691 |\n",
       "| 356C_72h | 0.083492915 | 0.882037534 | 0.0114898506 | 0.022979701 |\n",
       "| SC20 | 0.684353215 | 0.303059644 | 0.0104570101 | 0.002130132 |\n",
       "| ⋮ | ⋮ | ⋮ | ⋮ | ⋮ |\n",
       "| F01513 | 0.07500000 | 0.8900000 | 0.032500000 | 0.002500000 |\n",
       "| 7239213 | 0.39622642 | 0.5363881 | 0.000000000 | 0.067385445 |\n",
       "| 7185213 | 0.44390638 | 0.4269572 | 0.043583535 | 0.085552865 |\n",
       "| 390C_72h | 0.01841402 | 0.9263439 | 0.012474012 | 0.042768043 |\n",
       "| 7135919 | 0.08893871 | 0.8871450 | 0.000000000 | 0.023916293 |\n",
       "| 368C_24h | 0.08052709 | 0.5729624 | 0.090775988 | 0.255734505 |\n",
       "| SC59 | 0.06845966 | 0.8157090 | 0.092603912 | 0.023227384 |\n",
       "| 390C_24h | 0.05226093 | 0.8747220 | 0.036693847 | 0.036323202 |\n",
       "| 368C_0h | 0.03960396 | 0.6396040 | 0.019801980 | 0.300990099 |\n",
       "| SC31D | 0.13169074 | 0.8334749 | 0.029736619 | 0.005097706 |\n",
       "| F02092 | 0.52371027 | 0.3819698 | 0.041167275 | 0.053152684 |\n",
       "| F02609 | 0.62142857 | 0.2285714 | 0.107142857 | 0.042857143 |\n",
       "| F01366 | 0.04704387 | 0.7139224 | 0.221869040 | 0.017164654 |\n",
       "| 7239219 | 0.18881119 | 0.5824176 | 0.099900100 | 0.128871129 |\n",
       "| 7239220 | 0.16151685 | 0.7366573 | 0.049157303 | 0.052668539 |\n",
       "| F01692 | 0.27139037 | 0.6631016 | 0.045454545 | 0.020053476 |\n",
       "| F02613 | 0.14800389 | 0.7779942 | 0.007789679 | 0.066212269 |\n",
       "| F01494 | 0.12676056 | 0.5352113 | 0.316901408 | 0.021126761 |\n",
       "| F01508 | 0.05305040 | 0.8355438 | 0.108753316 | 0.002652520 |\n",
       "| F00409 | 0.02980132 | 0.7930464 | 0.159768212 | 0.017384106 |\n",
       "| F01483 | 0.28286190 | 0.5906822 | 0.113144759 | 0.013311148 |\n",
       "| 7239218 | 0.27530364 | 0.6943320 | 0.007422402 | 0.022941970 |\n",
       "| F01853 | 0.10827068 | 0.2624060 | 0.598496241 | 0.030827068 |\n",
       "| 7119452 | 0.10738255 | 0.6711409 | 0.214765101 | 0.006711409 |\n",
       "| 7119453 | 0.07142857 | 0.6648352 | 0.230769231 | 0.032967033 |\n",
       "| SC31 | 0.15110683 | 0.7959577 | 0.043310876 | 0.009624639 |\n",
       "| F01495 | 0.07352941 | 0.8161765 | 0.088235294 | 0.022058824 |\n",
       "| F01511 | 0.15137615 | 0.7844037 | 0.061926606 | 0.002293578 |\n",
       "| F01506 | 0.63829787 | 0.3191489 | 0.021276596 | 0.021276596 |\n",
       "| F01869 | 1.00000000 | 0.0000000 | 0.000000000 | 0.000000000 |\n",
       "\n"
      ],
      "text/plain": [
       "          Epithelial  Immune      Endothelial  Stroma     \n",
       "SC22      0.616811814 0.373343431 0.0073835668 0.002461189\n",
       "distal 2  0.075404531 0.421898598 0.4557173679 0.046979504\n",
       "SC27      0.662721893 0.299435806 0.0304114490 0.007430852\n",
       "distal 1a 0.113415769 0.627177237 0.1987767584 0.060630235\n",
       "F02617    0.442410049 0.286352991 0.2091760698 0.062060890\n",
       "SC18      0.420879334 0.560333140 0.0137516948 0.005035832\n",
       "VUHD68    0.017961783 0.696178344 0.2524840764 0.033375796\n",
       "SC142     0.002119461 0.995183044 0.0001926782 0.002504817\n",
       "F02526    0.310970343 0.536711777 0.1186294270 0.033688454\n",
       "VUHD67    0.224137931 0.688862465 0.0617320650 0.025267539\n",
       "SC24      0.480660377 0.492452830 0.0200471698 0.006839623\n",
       "7185212   0.355731225 0.573122530 0.0268774704 0.044268775\n",
       "SC14      0.012784091 0.954545455 0.0127840909 0.019886364\n",
       "F01394    0.058606832 0.932853315 0.0073677160 0.001172137\n",
       "7239217   0.223118280 0.706451613 0.0005376344 0.069892473\n",
       "SC141     0.986434109 0.009905254 0.0008613264 0.002799311\n",
       "F01874    0.287356322 0.640543365 0.0689655172 0.003134796\n",
       "SC156     0.144690191 0.634306939 0.1485733581 0.072429512\n",
       "distal 3  0.161685506 0.575782683 0.1780789489 0.084452861\n",
       "368C_12h  0.017283202 0.821710127 0.0115221346 0.149484536\n",
       "SC84      0.000000000 1.000000000 0.0000000000 0.000000000\n",
       "SC85      0.996029006 0.000000000 0.0001726519 0.003798343\n",
       "F02524    0.233388248 0.469522241 0.2294069193 0.067682592\n",
       "390C_12h  0.186234022 0.658800393 0.0509341200 0.104031465\n",
       "F01641    0.247843588 0.701552616 0.0414031052 0.009200690\n",
       "VUHD70    0.220499569 0.328165375 0.4457364341 0.005598622\n",
       "F01365    0.072171254 0.732110092 0.1834862385 0.012232416\n",
       "7135920   0.108728943 0.865237366 0.0000000000 0.026033691\n",
       "356C_72h  0.083492915 0.882037534 0.0114898506 0.022979701\n",
       "SC20      0.684353215 0.303059644 0.0104570101 0.002130132\n",
       "⋮         ⋮           ⋮           ⋮            ⋮          \n",
       "F01513    0.07500000  0.8900000   0.032500000  0.002500000\n",
       "7239213   0.39622642  0.5363881   0.000000000  0.067385445\n",
       "7185213   0.44390638  0.4269572   0.043583535  0.085552865\n",
       "390C_72h  0.01841402  0.9263439   0.012474012  0.042768043\n",
       "7135919   0.08893871  0.8871450   0.000000000  0.023916293\n",
       "368C_24h  0.08052709  0.5729624   0.090775988  0.255734505\n",
       "SC59      0.06845966  0.8157090   0.092603912  0.023227384\n",
       "390C_24h  0.05226093  0.8747220   0.036693847  0.036323202\n",
       "368C_0h   0.03960396  0.6396040   0.019801980  0.300990099\n",
       "SC31D     0.13169074  0.8334749   0.029736619  0.005097706\n",
       "F02092    0.52371027  0.3819698   0.041167275  0.053152684\n",
       "F02609    0.62142857  0.2285714   0.107142857  0.042857143\n",
       "F01366    0.04704387  0.7139224   0.221869040  0.017164654\n",
       "7239219   0.18881119  0.5824176   0.099900100  0.128871129\n",
       "7239220   0.16151685  0.7366573   0.049157303  0.052668539\n",
       "F01692    0.27139037  0.6631016   0.045454545  0.020053476\n",
       "F02613    0.14800389  0.7779942   0.007789679  0.066212269\n",
       "F01494    0.12676056  0.5352113   0.316901408  0.021126761\n",
       "F01508    0.05305040  0.8355438   0.108753316  0.002652520\n",
       "F00409    0.02980132  0.7930464   0.159768212  0.017384106\n",
       "F01483    0.28286190  0.5906822   0.113144759  0.013311148\n",
       "7239218   0.27530364  0.6943320   0.007422402  0.022941970\n",
       "F01853    0.10827068  0.2624060   0.598496241  0.030827068\n",
       "7119452   0.10738255  0.6711409   0.214765101  0.006711409\n",
       "7119453   0.07142857  0.6648352   0.230769231  0.032967033\n",
       "SC31      0.15110683  0.7959577   0.043310876  0.009624639\n",
       "F01495    0.07352941  0.8161765   0.088235294  0.022058824\n",
       "F01511    0.15137615  0.7844037   0.061926606  0.002293578\n",
       "F01506    0.63829787  0.3191489   0.021276596  0.021276596\n",
       "F01869    1.00000000  0.0000000   0.000000000  0.000000000"
      ]
     },
     "metadata": {},
     "output_type": "display_data"
    }
   ],
   "source": [
    "HLCA.pb$W"
   ]
  },
  {
   "cell_type": "code",
   "execution_count": 86,
   "metadata": {},
   "outputs": [],
   "source": [
    "# # Numbers\n",
    "\n",
    "# median.corr           = matrix(0, length(methods), length(source.ids))\n",
    "# rownames(median.corr) = methods\n",
    "# colnames(median.corr) = source.ids\n",
    "# low.entropy.median.corr  = copy(median.corr)\n",
    "# high.entropy.median.corr = copy(median.corr)\n",
    "\n",
    "# for (method in methods){\n",
    "#     median.corr[method, ] = colMedians(Z.corrs.list[[method]], na.rm = T)\n",
    "#     low.entropy.median.corr[method, ]  = colMedians(Z.corrs.list[[method]][Z.corrs.list[[\"eval.entropies\"]] == 'Low Entropy', ], na.rm = T)\n",
    "#     high.entropy.median.corr[method, ] = colMedians(Z.corrs.list[[method]][Z.corrs.list[[\"eval.entropies\"]] == 'High Entropy', ], na.rm = T)\n",
    "# }\n",
    "\n",
    "# median.corr\n",
    "\n",
    "# low.entropy.median.corr\n",
    "\n",
    "# high.entropy.median.corr\n",
    "\n",
    "# low.entropy.median.corr[\"TCAx\", ]/low.entropy.median.corr[\"TCA\", ]\n",
    "\n",
    "# high.entropy.median.corr[\"TCAx\", ]/high.entropy.median.corr[\"TCA\", ]\n",
    "\n",
    "# median.corr\n",
    "\n"
   ]
  }
 ],
 "metadata": {
  "kernelspec": {
   "display_name": "Seurat-V4",
   "language": "R",
   "name": "ir41"
  },
  "language_info": {
   "codemirror_mode": "r",
   "file_extension": ".r",
   "mimetype": "text/x-r-source",
   "name": "R",
   "pygments_lexer": "r",
   "version": "4.1.0"
  }
 },
 "nbformat": 4,
 "nbformat_minor": 4
}
