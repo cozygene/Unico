{
 "cells": [
  {
   "cell_type": "code",
   "execution_count": 1,
   "metadata": {},
   "outputs": [],
   "source": [
    "set.seed(2023)"
   ]
  },
  {
   "cell_type": "code",
   "execution_count": 2,
   "metadata": {},
   "outputs": [],
   "source": [
    "permute.size = 5\n",
    "res.dir    = \"../Result/Runtime/mdl/\""
   ]
  },
  {
   "cell_type": "code",
   "execution_count": 3,
   "metadata": {},
   "outputs": [],
   "source": [
    "time.df = c()\n",
    "for (t in 1:permute.size){\n",
    "    bMIND.mdl = readRDS(file.path(res.dir, paste0(\"bMIND.mcmck_6.m_1000.n_500.t_\", t, \".rds\")))\n",
    "    time.df = rbind(time.df, c(as.numeric(bMIND.mdl$mcmc.assoc.time), sum(1/bMIND.mdl$mcmc.deconv$pval)))\n",
    "}"
   ]
  },
  {
   "cell_type": "code",
   "execution_count": 4,
   "metadata": {},
   "outputs": [],
   "source": [
    "time.df = as.data.frame(time.df)\n",
    "rownames(time.df) = paste0(\"iteration.\", 1:permute.size)\n",
    "colnames(time.df) = c(\"time\", \"nsamples\")"
   ]
  },
  {
   "cell_type": "code",
   "execution_count": 5,
   "metadata": {},
   "outputs": [],
   "source": [
    "time.df$per.sample = time.df$time/ time.df$nsamples"
   ]
  },
  {
   "cell_type": "code",
   "execution_count": 6,
   "metadata": {},
   "outputs": [
    {
     "data": {
      "text/html": [
       "<table class=\"dataframe\">\n",
       "<caption>A data.frame: 5 × 3</caption>\n",
       "<thead>\n",
       "\t<tr><th></th><th scope=col>time</th><th scope=col>nsamples</th><th scope=col>per.sample</th></tr>\n",
       "\t<tr><th></th><th scope=col>&lt;dbl&gt;</th><th scope=col>&lt;dbl&gt;</th><th scope=col>&lt;dbl&gt;</th></tr>\n",
       "</thead>\n",
       "<tbody>\n",
       "\t<tr><th scope=row>iteration.1</th><td> 862.7530</td><td>172750.08</td><td>0.004994226</td></tr>\n",
       "\t<tr><th scope=row>iteration.2</th><td> 771.2521</td><td> 86830.46</td><td>0.008882275</td></tr>\n",
       "\t<tr><th scope=row>iteration.3</th><td>3201.3418</td><td> 93182.81</td><td>0.034355499</td></tr>\n",
       "\t<tr><th scope=row>iteration.4</th><td> 829.8109</td><td> 86046.25</td><td>0.009643777</td></tr>\n",
       "\t<tr><th scope=row>iteration.5</th><td>3400.8970</td><td>327838.16</td><td>0.010373707</td></tr>\n",
       "</tbody>\n",
       "</table>\n"
      ],
      "text/latex": [
       "A data.frame: 5 × 3\n",
       "\\begin{tabular}{r|lll}\n",
       "  & time & nsamples & per.sample\\\\\n",
       "  & <dbl> & <dbl> & <dbl>\\\\\n",
       "\\hline\n",
       "\titeration.1 &  862.7530 & 172750.08 & 0.004994226\\\\\n",
       "\titeration.2 &  771.2521 &  86830.46 & 0.008882275\\\\\n",
       "\titeration.3 & 3201.3418 &  93182.81 & 0.034355499\\\\\n",
       "\titeration.4 &  829.8109 &  86046.25 & 0.009643777\\\\\n",
       "\titeration.5 & 3400.8970 & 327838.16 & 0.010373707\\\\\n",
       "\\end{tabular}\n"
      ],
      "text/markdown": [
       "\n",
       "A data.frame: 5 × 3\n",
       "\n",
       "| <!--/--> | time &lt;dbl&gt; | nsamples &lt;dbl&gt; | per.sample &lt;dbl&gt; |\n",
       "|---|---|---|---|\n",
       "| iteration.1 |  862.7530 | 172750.08 | 0.004994226 |\n",
       "| iteration.2 |  771.2521 |  86830.46 | 0.008882275 |\n",
       "| iteration.3 | 3201.3418 |  93182.81 | 0.034355499 |\n",
       "| iteration.4 |  829.8109 |  86046.25 | 0.009643777 |\n",
       "| iteration.5 | 3400.8970 | 327838.16 | 0.010373707 |\n",
       "\n"
      ],
      "text/plain": [
       "            time      nsamples  per.sample \n",
       "iteration.1  862.7530 172750.08 0.004994226\n",
       "iteration.2  771.2521  86830.46 0.008882275\n",
       "iteration.3 3201.3418  93182.81 0.034355499\n",
       "iteration.4  829.8109  86046.25 0.009643777\n",
       "iteration.5 3400.8970 327838.16 0.010373707"
      ]
     },
     "metadata": {},
     "output_type": "display_data"
    }
   ],
   "source": [
    "time.df"
   ]
  },
  {
   "cell_type": "markdown",
   "metadata": {},
   "source": [
    "# Estimate time hours (under the assumption of 30 nodes)"
   ]
  },
  {
   "cell_type": "code",
   "execution_count": 7,
   "metadata": {},
   "outputs": [],
   "source": [
    "bon.cor.p = 0.05/(150000 * 6)\n",
    "sig.nsamples = round(1/bon.cor.p)"
   ]
  },
  {
   "cell_type": "code",
   "execution_count": 8,
   "metadata": {},
   "outputs": [
    {
     "data": {
      "text/html": [
       "24.9711308561827"
      ],
      "text/latex": [
       "24.9711308561827"
      ],
      "text/markdown": [
       "24.9711308561827"
      ],
      "text/plain": [
       "[1] 24.97113"
      ]
     },
     "metadata": {},
     "output_type": "display_data"
    }
   ],
   "source": [
    "min(time.df$per.sample) * sig.nsamples/3600"
   ]
  },
  {
   "cell_type": "code",
   "execution_count": 9,
   "metadata": {},
   "outputs": [
    {
     "data": {
      "text/html": [
       "171.777494728415"
      ],
      "text/latex": [
       "171.777494728415"
      ],
      "text/markdown": [
       "171.777494728415"
      ],
      "text/plain": [
       "[1] 171.7775"
      ]
     },
     "metadata": {},
     "output_type": "display_data"
    }
   ],
   "source": [
    "max(time.df$per.sample) * sig.nsamples/3600"
   ]
  },
  {
   "cell_type": "code",
   "execution_count": 10,
   "metadata": {},
   "outputs": [
    {
     "data": {
      "text/html": [
       "48.218884896393"
      ],
      "text/latex": [
       "48.218884896393"
      ],
      "text/markdown": [
       "48.218884896393"
      ],
      "text/plain": [
       "[1] 48.21888"
      ]
     },
     "metadata": {},
     "output_type": "display_data"
    }
   ],
   "source": [
    "median(time.df$per.sample) * sig.nsamples/3600"
   ]
  }
 ],
 "metadata": {
  "kernelspec": {
   "display_name": "Seurat-V4",
   "language": "R",
   "name": "ir41"
  },
  "language_info": {
   "codemirror_mode": "r",
   "file_extension": ".r",
   "mimetype": "text/x-r-source",
   "name": "R",
   "pygments_lexer": "r",
   "version": "4.1.0"
  }
 },
 "nbformat": 4,
 "nbformat_minor": 4
}
