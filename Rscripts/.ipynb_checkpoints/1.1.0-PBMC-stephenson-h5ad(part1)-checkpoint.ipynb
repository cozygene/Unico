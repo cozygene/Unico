{
 "cells": [
  {
   "cell_type": "raw",
   "metadata": {},
   "source": [
    "#https://www.ebi.ac.uk/biostudies/arrayexpress/studies/E-MTAB-10026"
   ]
  },
  {
   "cell_type": "code",
   "execution_count": 1,
   "metadata": {},
   "outputs": [],
   "source": [
    "import os\n",
    "import scanpy as sc\n",
    "import numpy as np\n",
    "import pandas as pd\n",
    "\n",
    "np.random.seed(2023)"
   ]
  },
  {
   "cell_type": "code",
   "execution_count": 2,
   "metadata": {},
   "outputs": [],
   "source": [
    "source_file = \"../Data/RNA/Simulation-PBMC/covid_portal_210320_with_raw.h5ad\"\n",
    "res_dir = \"../Data/RNA/Simulation-PBMC\""
   ]
  },
  {
   "cell_type": "code",
   "execution_count": 3,
   "metadata": {},
   "outputs": [],
   "source": [
    "adata = sc.read_h5ad(source_file)"
   ]
  },
  {
   "cell_type": "code",
   "execution_count": 4,
   "metadata": {},
   "outputs": [
    {
     "data": {
      "text/plain": [
       "AnnData object with n_obs × n_vars = 647366 × 24929\n",
       "    obs: 'sample_id', 'n_genes', 'n_genes_by_counts', 'total_counts', 'total_counts_mt', 'pct_counts_mt', 'full_clustering', 'initial_clustering', 'Resample', 'Collection_Day', 'Sex', 'Age_interval', 'Swab_result', 'Status', 'Smoker', 'Status_on_day_collection', 'Status_on_day_collection_summary', 'Days_from_onset', 'Site', 'time_after_LPS', 'Worst_Clinical_Status', 'Outcome', 'patient_id'\n",
       "    var: 'feature_types'\n",
       "    uns: 'hvg', 'leiden', 'neighbors', 'pca', 'umap'\n",
       "    obsm: 'X_pca', 'X_pca_harmony', 'X_umap'\n",
       "    layers: 'raw'"
      ]
     },
     "execution_count": 4,
     "metadata": {},
     "output_type": "execute_result"
    }
   ],
   "source": [
    "adata"
   ]
  },
  {
   "cell_type": "code",
   "execution_count": 5,
   "metadata": {},
   "outputs": [],
   "source": [
    "# Remove LPS_10hours and LPS_90mins samples\n",
    "cells = (adata.obs[\"Status_on_day_collection_summary\"] != \"LPS_10hours\") & (adata.obs[\"Status_on_day_collection_summary\"] != \"LPS_90mins\")\n",
    "adata = adata[cells,]"
   ]
  },
  {
   "cell_type": "code",
   "execution_count": 6,
   "metadata": {},
   "outputs": [
    {
     "data": {
      "text/plain": [
       "View of AnnData object with n_obs × n_vars = 639482 × 24929\n",
       "    obs: 'sample_id', 'n_genes', 'n_genes_by_counts', 'total_counts', 'total_counts_mt', 'pct_counts_mt', 'full_clustering', 'initial_clustering', 'Resample', 'Collection_Day', 'Sex', 'Age_interval', 'Swab_result', 'Status', 'Smoker', 'Status_on_day_collection', 'Status_on_day_collection_summary', 'Days_from_onset', 'Site', 'time_after_LPS', 'Worst_Clinical_Status', 'Outcome', 'patient_id'\n",
       "    var: 'feature_types'\n",
       "    uns: 'hvg', 'leiden', 'neighbors', 'pca', 'umap'\n",
       "    obsm: 'X_pca', 'X_pca_harmony', 'X_umap'\n",
       "    layers: 'raw'"
      ]
     },
     "execution_count": 6,
     "metadata": {},
     "output_type": "execute_result"
    }
   ],
   "source": [
    "adata"
   ]
  },
  {
   "cell_type": "code",
   "execution_count": 7,
   "metadata": {},
   "outputs": [],
   "source": [
    "# Exclude samples that are resampling of the same patient; arbitrarily take the first sample.\n",
    "keep_samples = []\n",
    "patients = np.unique(adata.obs[\"patient_id\"])\n",
    "for patient in patients:\n",
    "    keep_samples.append(np.unique(adata.obs[\"sample_id\"][adata.obs[\"patient_id\"] == patient])[0])"
   ]
  },
  {
   "cell_type": "code",
   "execution_count": 8,
   "metadata": {},
   "outputs": [
    {
     "name": "stdout",
     "output_type": "stream",
     "text": [
      "118\n"
     ]
    },
    {
     "data": {
      "text/plain": [
       "['AP1', 'AP10', 'AP11', 'AP12', 'AP2', 'AP3', 'AP4', 'AP5', 'AP6', 'AP8']"
      ]
     },
     "execution_count": 8,
     "metadata": {},
     "output_type": "execute_result"
    }
   ],
   "source": [
    "print(len(keep_samples))\n",
    "keep_samples[0:10]"
   ]
  },
  {
   "cell_type": "code",
   "execution_count": 9,
   "metadata": {},
   "outputs": [],
   "source": [
    "adata = adata[np.isin(adata.obs[\"sample_id\"], keep_samples),:]\n",
    "assert(len(np.unique(adata.obs[\"patient_id\"])) == len(np.unique(adata.obs[\"sample_id\"])))"
   ]
  },
  {
   "cell_type": "code",
   "execution_count": 10,
   "metadata": {},
   "outputs": [
    {
     "data": {
      "text/plain": [
       "View of AnnData object with n_obs × n_vars = 614473 × 24929\n",
       "    obs: 'sample_id', 'n_genes', 'n_genes_by_counts', 'total_counts', 'total_counts_mt', 'pct_counts_mt', 'full_clustering', 'initial_clustering', 'Resample', 'Collection_Day', 'Sex', 'Age_interval', 'Swab_result', 'Status', 'Smoker', 'Status_on_day_collection', 'Status_on_day_collection_summary', 'Days_from_onset', 'Site', 'time_after_LPS', 'Worst_Clinical_Status', 'Outcome', 'patient_id'\n",
       "    var: 'feature_types'\n",
       "    uns: 'hvg', 'leiden', 'neighbors', 'pca', 'umap'\n",
       "    obsm: 'X_pca', 'X_pca_harmony', 'X_umap'\n",
       "    layers: 'raw'"
      ]
     },
     "execution_count": 10,
     "metadata": {},
     "output_type": "execute_result"
    }
   ],
   "source": [
    "adata"
   ]
  },
  {
   "cell_type": "code",
   "execution_count": 11,
   "metadata": {},
   "outputs": [],
   "source": [
    "adata.write_h5ad(f\"{res_dir}/stephenson.h5ad\")"
   ]
  },
  {
   "cell_type": "code",
   "execution_count": null,
   "metadata": {},
   "outputs": [],
   "source": []
  },
  {
   "cell_type": "code",
   "execution_count": null,
   "metadata": {},
   "outputs": [],
   "source": []
  },
  {
   "cell_type": "code",
   "execution_count": null,
   "metadata": {},
   "outputs": [],
   "source": []
  },
  {
   "cell_type": "code",
   "execution_count": null,
   "metadata": {},
   "outputs": [],
   "source": []
  },
  {
   "cell_type": "code",
   "execution_count": null,
   "metadata": {},
   "outputs": [],
   "source": []
  },
  {
   "cell_type": "code",
   "execution_count": null,
   "metadata": {},
   "outputs": [],
   "source": []
  },
  {
   "cell_type": "code",
   "execution_count": null,
   "metadata": {},
   "outputs": [],
   "source": []
  },
  {
   "cell_type": "code",
   "execution_count": 12,
   "metadata": {},
   "outputs": [],
   "source": [
    "\n",
    "\n",
    "# outfile = \"/Users/erahmani/Dropbox/TCAx/code/TCAx-R/Stephenson_raw.h5ad\"\n",
    "# ## (1) Stephenson et al. data (https://pubmed.ncbi.nlm.nih.gov/33879890/) (downloaded from https://www.ebi.ac.uk/arrayexpress/experiments/E-MTAB-10026/)\n",
    "# filename = \"/Users/erahmani/Dropbox/keris/data/E-MTAB-10026/covid_portal_210320_with_raw.h5ad\"\n",
    "\n",
    "# # read data\n",
    "# adata = sc.read_h5ad(filename)\n",
    "\n",
    "\n",
    "\n",
    "\n",
    "# # keep only top 10000 most variable genes \n",
    "# var_genes = sc.pp.highly_variable_genes(adata, n_top_genes=10000, layer = \"raw\", batch_key=\"Site\", flavor='seurat_v3', inplace=False)\n",
    "# adata = adata[:,var_genes[\"highly_variable\"]]\n",
    "\n",
    "\n",
    "\n",
    "\n",
    "\n",
    "\n",
    "\n",
    "\n",
    "\n",
    "\n",
    "# library(Seurat)\n",
    "# library(SeuratData)\n",
    "# library(SeuratDisk)\n",
    "\n",
    "# ?Convert\n",
    "\n",
    "# Convert(\"../Data/RNA/Simulation-PBMC/haniffa21.processed.h5ad\", dest = \"h5seurat\", overwrite = TRUE)\n",
    "\n",
    "# pbmc <- LoadH5Seurat(\"../Data/RNA/Simulation-PBMC/haniffa21.processed.h5seurat\")\n",
    "# pbmc\n",
    "\n",
    "# saveRDS(pbmc, \"../Data/RNA/Simulation-PBMC/haniffa21.processed.rds\")"
   ]
  }
 ],
 "metadata": {
  "kernelspec": {
   "display_name": "sn-Methylation-v2",
   "language": "python",
   "name": "sn-methylation-v2"
  },
  "language_info": {
   "codemirror_mode": {
    "name": "ipython",
    "version": 3
   },
   "file_extension": ".py",
   "mimetype": "text/x-python",
   "name": "python",
   "nbconvert_exporter": "python",
   "pygments_lexer": "ipython3",
   "version": "3.8.13"
  }
 },
 "nbformat": 4,
 "nbformat_minor": 4
}
