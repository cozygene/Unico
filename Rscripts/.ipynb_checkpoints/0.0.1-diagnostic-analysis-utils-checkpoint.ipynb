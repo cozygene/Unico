{
 "cells": [
  {
   "cell_type": "raw",
   "metadata": {},
   "source": [
    "# This notebook check implementation in the analysis.utils.r\n",
    "# functions checked/refactored by this notebook are moved to the latest directory "
   ]
  },
  {
   "cell_type": "code",
   "execution_count": 1,
   "metadata": {},
   "outputs": [
    {
     "name": "stderr",
     "output_type": "stream",
     "text": [
      "Warning message:\n",
      "“package ‘MASS’ was built under R version 4.1.3”\n"
     ]
    }
   ],
   "source": [
    "library(\"MASS\")\n",
    "library(\"pracma\")\n",
    "library(\"data.table\") #copy"
   ]
  },
  {
   "cell_type": "markdown",
   "metadata": {},
   "source": [
    "# simulation related "
   ]
  },
  {
   "cell_type": "code",
   "execution_count": 2,
   "metadata": {},
   "outputs": [],
   "source": [
    "#sigmas: an array of m features by k sources by k sources, indicating the k by k covariance matrix for each feature\n",
    "#return the corresponding correlation matrices for all features: an array of m features by k sources by k sources\n",
    "calc_corrs_from_sigmas = function(sigmas){\n",
    "    \n",
    "    m = dim(sigmas)[1]\n",
    "    k = dim(sigmas)[2]\n",
    "    \n",
    "    corrs = array(0, c(m, k, k))\n",
    "    for (j in 1:m){\n",
    "        corrs[j,,]  = sigmas[j,,]/sqrt(diag(sigmas[j,,]) %*% t(diag(sigmas[j,,])))\n",
    "    }\n",
    "    dimnames(corrs)[[1]] = dimnames(sigmas)[[1]]\n",
    "    dimnames(corrs)[[2]] = dimnames(sigmas)[[2]]\n",
    "    dimnames(corrs)[[3]] = dimnames(sigmas)[[3]]\n",
    "    \n",
    "    #if there are no variation in one celltype. corresponding sigmas will be 0, related cor will be NA\n",
    "    #here set those to 0\n",
    "    corrs[is.na(corrs)] = 0\n",
    "    return(corrs)\n",
    "}\n",
    "\n",
    "#ltri_val: numbers in the lower triangle of a matrix\n",
    "#k: the dimension (number of rows or cols) of the full symmetric matrix \n",
    "#return a k by k symmetric matrix constructed from the ltri_val\n",
    "fill_lower_tri = function(ltri_val, k){\n",
    "    full_mat <- matrix(0,k,k)\n",
    "    full_mat[lower.tri(full_mat,diag = T)] <- ltri_val\n",
    "    full_mat <- t(full_mat)\n",
    "    full_mat[lower.tri(full_mat,diag = T)] <- ltri_val\n",
    "    return (full_mat)\n",
    "}\n",
    "\n",
    "# corrs: an array of shape m features by k sources by k sources\n",
    "# return a matrix of m features by 1\n",
    "# per feature, calculate entropy given correlations (k by k) matrix\n",
    "calc_entropy <- function(corrs){\n",
    "    m <- dim(corrs)[1]\n",
    "    k <- dim(corrs)[2]\n",
    "    entropies <- numeric(m)\n",
    "    for (j in 1:m){\n",
    "        sigma_j <- corrs[j,,]\n",
    "        # von Neumann entropy for Pearson correlation matrix (https://arxiv.org/pdf/2106.05379.pdf)\n",
    "        # make sure it is a valid full rank correlation matrix\n",
    "        diag(sigma_j) = 1\n",
    "        sigma_j_eig <- tryCatch({\n",
    "            eig(sigma_j/k)\n",
    "        },error=function(cond){\n",
    "            print(j)\n",
    "        }) \n",
    "    \n",
    "    #this is trying to catch the case when the covariance matrix is not PSD\n",
    "    #which might happen because of the way we are constructing the covariance matrix (by exluding different outlier samples)\n",
    "    sigma_j_eig[sigma_j_eig<=0] <- 1e-5\n",
    "    entropies[j] <- -sum(sigma_j_eig*log(sigma_j_eig))  \n",
    "    } \n",
    "    \n",
    "    entropies = as.matrix(entropies)\n",
    "    rownames(entropies) = dimnames(corrs)[[1]]\n",
    "    colnames(entropies) = \"entropy\"\n",
    "    return(entropies)\n",
    "}\n",
    "\n",
    "#Z: an array of k sources by m features by n samples\n",
    "#max_sds: numeric. Per (source,feature), samples whose value fall outside of max_sds will be ignored\n",
    "#returns a list with the following entires: mus (m by k), sigmas (m by k by k), corrs (m by k by k), entropies (m by 1), \n",
    "#for features that are not expressed in a source. The varaince term on the diagnol is set to 0\n",
    "#the correlation term is undefined, also set to 0\n",
    "calc_params_from_Z <- function(Z, max_sds){\n",
    "    \n",
    "    k <- dim(Z)[1]\n",
    "    m <- dim(Z)[2]\n",
    "    n <- dim(Z)[3] \n",
    "    source.ids  = dimnames(Z)[[1]]\n",
    "    feature.ids = dimnames(Z)[[2]]\n",
    "    \n",
    "    means  <- matrix(0,m,k)\n",
    "    rownames(means) = feature.ids \n",
    "    colnames(means) = source.ids\n",
    "    \n",
    "    sigmas <- matrix(0,m,(choose(k,2) + k))\n",
    "    for (j in 1:m){\n",
    "        counter <- 1\n",
    "        for (h in 1:k){    \n",
    "            sd_jh <- sd(Z[h,j,])\n",
    "            indices_jh <- abs(Z[h,j,] - mean(Z[h,j,])) <= max_sds*sd_jh\n",
    "            #no such sample left\n",
    "            if (sum(indices_jh) < 1){\n",
    "                means[j,h] <- 0\n",
    "            }else{\n",
    "                means[j,h] <- mean(Z[h,j,indices_jh])\n",
    "            }            \n",
    "            for (l in h:k){\n",
    "                sd_jl <- sd(Z[l,j,])\n",
    "                indices_jl <- abs(Z[l,j,]-mean(Z[l,j,])) <= max_sds*sd_jl\n",
    "                indices_jhl <- indices_jh & indices_jl\n",
    "     \n",
    "                if ((sum(indices_jhl) <=1)|(sd(Z[h,j,indices_jhl]) == 0) | (sd(Z[l,j,indices_jhl]) == 0)){\n",
    "                    sigmas[j, counter] = 0\n",
    "                }else{\n",
    "                    sigmas[j, counter] <- cov(Z[h,j,indices_jhl],Z[l,j,indices_jhl])\n",
    "                }\n",
    "                counter <- counter + 1\n",
    "            }\n",
    "        }  \n",
    "    } \n",
    "    \n",
    "    sigmas.tensor = array(0,c(m,k,k))\n",
    "    dimnames(sigmas.tensor)[[1]] = feature.ids \n",
    "    dimnames(sigmas.tensor)[[2]] = source.ids\n",
    "    dimnames(sigmas.tensor)[[3]] = source.ids\n",
    "   \n",
    "    for (j in 1:m){\n",
    "        sigmas.tensor[j,,] = fill_lower_tri(sigmas[j,], k)\n",
    "    }\n",
    "    corrs.tensor  = calc_corrs_from_sigmas(sigmas.tensor)\n",
    "    \n",
    "    \n",
    "    params = list()\n",
    "    params$sigmas    = sigmas.tensor\n",
    "    params$corrs     = corrs.tensor\n",
    "    params$mus       = means\n",
    "    params$entropies = calc_entropy(params$corrs)\n",
    "    return(params)\n",
    "}"
   ]
  },
  {
   "cell_type": "markdown",
   "metadata": {},
   "source": [
    "### checking  calc_corrs_from_sigmas, get_cor_mat, calc_params_from_Z, "
   ]
  },
  {
   "cell_type": "code",
   "execution_count": 3,
   "metadata": {},
   "outputs": [],
   "source": [
    "# simulate 4 sources, 1 feature, 1000 samples\n",
    "sim.Z = array(0, c(4,4,1000))\n",
    "\n",
    "# a MVN with real covar \n",
    "sim.Z[,1,] = t(mvrnorm(n = 1000, mu = c(10,20,30,40), \n",
    "                      Sigma = matrix(c(10, 0,  3,  8,\n",
    "                                        0,  5,  2,  0,\n",
    "                                        3,  2, 10,  0,\n",
    "                                        8,  0,  0,  20), \n",
    "                                     4,4, byrow =T), \n",
    "                      tol = 1e-6, empirical = FALSE, EISPACK = FALSE))\n",
    "\n",
    "# a MVN with diag aka independent \n",
    "sim.Z[,2,] = t(mvrnorm(n = 1000, mu = c(10,20,30,40), \n",
    "                      Sigma = diag(4), \n",
    "                      tol = 1e-6, empirical = FALSE, EISPACK = FALSE))\n",
    "\n",
    "# a MVN with fully dependent structure \n",
    "sim.Z[,3,] = t(mvrnorm(n = 1000, mu = c(10,20,30,40), \n",
    "                      Sigma = matrix(1, 4, 4),\n",
    "                      tol = 1e-6, empirical = FALSE, EISPACK = FALSE))\n",
    "\n",
    "# a MVN with certain source having no variantion, not expressed \n",
    "sim.Z[,4,] = t(mvrnorm(n = 1000, mu = c(0,1,1,1), \n",
    "                      Sigma = matrix(c( 0, 0,  0,  0,\n",
    "                                        0,  5,  2,  0,\n",
    "                                        0,  2, 10,  0,\n",
    "                                        0,  0,  0,  20), \n",
    "                                     4,4, byrow =T), \n",
    "                      tol = 1e-6, empirical = FALSE, EISPACK = FALSE))"
   ]
  },
  {
   "cell_type": "code",
   "execution_count": 4,
   "metadata": {},
   "outputs": [],
   "source": [
    "params = calc_params_from_Z(sim.Z, max_sds = 5)"
   ]
  },
  {
   "cell_type": "code",
   "execution_count": 5,
   "metadata": {},
   "outputs": [
    {
     "data": {
      "text/html": [
       "<table class=\"dataframe\">\n",
       "<caption>A matrix: 4 × 4 of type dbl</caption>\n",
       "<tbody>\n",
       "\t<tr><td>10.155978</td><td>20.0345687</td><td>30.0402418</td><td>40.076474</td></tr>\n",
       "\t<tr><td>10.013753</td><td>19.9818710</td><td>30.0698270</td><td>39.947470</td></tr>\n",
       "\t<tr><td> 9.972139</td><td>19.9721388</td><td>29.9721388</td><td>39.972139</td></tr>\n",
       "\t<tr><td> 0.000000</td><td> 0.9756215</td><td> 0.9174506</td><td> 0.905303</td></tr>\n",
       "</tbody>\n",
       "</table>\n"
      ],
      "text/latex": [
       "A matrix: 4 × 4 of type dbl\n",
       "\\begin{tabular}{llll}\n",
       "\t 10.155978 & 20.0345687 & 30.0402418 & 40.076474\\\\\n",
       "\t 10.013753 & 19.9818710 & 30.0698270 & 39.947470\\\\\n",
       "\t  9.972139 & 19.9721388 & 29.9721388 & 39.972139\\\\\n",
       "\t  0.000000 &  0.9756215 &  0.9174506 &  0.905303\\\\\n",
       "\\end{tabular}\n"
      ],
      "text/markdown": [
       "\n",
       "A matrix: 4 × 4 of type dbl\n",
       "\n",
       "| 10.155978 | 20.0345687 | 30.0402418 | 40.076474 |\n",
       "| 10.013753 | 19.9818710 | 30.0698270 | 39.947470 |\n",
       "|  9.972139 | 19.9721388 | 29.9721388 | 39.972139 |\n",
       "|  0.000000 |  0.9756215 |  0.9174506 |  0.905303 |\n",
       "\n"
      ],
      "text/plain": [
       "     [,1]      [,2]       [,3]       [,4]     \n",
       "[1,] 10.155978 20.0345687 30.0402418 40.076474\n",
       "[2,] 10.013753 19.9818710 30.0698270 39.947470\n",
       "[3,]  9.972139 19.9721388 29.9721388 39.972139\n",
       "[4,]  0.000000  0.9756215  0.9174506  0.905303"
      ]
     },
     "metadata": {},
     "output_type": "display_data"
    }
   ],
   "source": [
    "params$mus"
   ]
  },
  {
   "cell_type": "code",
   "execution_count": 6,
   "metadata": {},
   "outputs": [
    {
     "data": {
      "text/html": [
       "<table class=\"dataframe\">\n",
       "<caption>A matrix: 4 × 4 of type dbl</caption>\n",
       "<tbody>\n",
       "\t<tr><td>10.1562957</td><td>0.1554315</td><td>3.20212533</td><td> 8.46605558</td></tr>\n",
       "\t<tr><td> 0.1554315</td><td>5.2394507</td><td>1.92598608</td><td> 0.21365163</td></tr>\n",
       "\t<tr><td> 3.2021253</td><td>1.9259861</td><td>9.61577473</td><td> 0.09983893</td></tr>\n",
       "\t<tr><td> 8.4660556</td><td>0.2136516</td><td>0.09983893</td><td>20.92974165</td></tr>\n",
       "</tbody>\n",
       "</table>\n"
      ],
      "text/latex": [
       "A matrix: 4 × 4 of type dbl\n",
       "\\begin{tabular}{llll}\n",
       "\t 10.1562957 & 0.1554315 & 3.20212533 &  8.46605558\\\\\n",
       "\t  0.1554315 & 5.2394507 & 1.92598608 &  0.21365163\\\\\n",
       "\t  3.2021253 & 1.9259861 & 9.61577473 &  0.09983893\\\\\n",
       "\t  8.4660556 & 0.2136516 & 0.09983893 & 20.92974165\\\\\n",
       "\\end{tabular}\n"
      ],
      "text/markdown": [
       "\n",
       "A matrix: 4 × 4 of type dbl\n",
       "\n",
       "| 10.1562957 | 0.1554315 | 3.20212533 |  8.46605558 |\n",
       "|  0.1554315 | 5.2394507 | 1.92598608 |  0.21365163 |\n",
       "|  3.2021253 | 1.9259861 | 9.61577473 |  0.09983893 |\n",
       "|  8.4660556 | 0.2136516 | 0.09983893 | 20.92974165 |\n",
       "\n"
      ],
      "text/plain": [
       "     [,1]       [,2]      [,3]       [,4]       \n",
       "[1,] 10.1562957 0.1554315 3.20212533  8.46605558\n",
       "[2,]  0.1554315 5.2394507 1.92598608  0.21365163\n",
       "[3,]  3.2021253 1.9259861 9.61577473  0.09983893\n",
       "[4,]  8.4660556 0.2136516 0.09983893 20.92974165"
      ]
     },
     "metadata": {},
     "output_type": "display_data"
    }
   ],
   "source": [
    "params$sigmas[1,,]"
   ]
  },
  {
   "cell_type": "code",
   "execution_count": 7,
   "metadata": {},
   "outputs": [
    {
     "data": {
      "text/html": [
       "<table class=\"dataframe\">\n",
       "<caption>A matrix: 4 × 4 of type dbl</caption>\n",
       "<tbody>\n",
       "\t<tr><td>0.92327085</td><td> 0.04059547</td><td> 0.04379319</td><td> 0.02624970</td></tr>\n",
       "\t<tr><td>0.04059547</td><td> 1.00307523</td><td> 0.01085054</td><td>-0.02759156</td></tr>\n",
       "\t<tr><td>0.04379319</td><td> 0.01085054</td><td> 0.99966492</td><td>-0.01909739</td></tr>\n",
       "\t<tr><td>0.02624970</td><td>-0.02759156</td><td>-0.01909739</td><td> 1.04161007</td></tr>\n",
       "</tbody>\n",
       "</table>\n"
      ],
      "text/latex": [
       "A matrix: 4 × 4 of type dbl\n",
       "\\begin{tabular}{llll}\n",
       "\t 0.92327085 &  0.04059547 &  0.04379319 &  0.02624970\\\\\n",
       "\t 0.04059547 &  1.00307523 &  0.01085054 & -0.02759156\\\\\n",
       "\t 0.04379319 &  0.01085054 &  0.99966492 & -0.01909739\\\\\n",
       "\t 0.02624970 & -0.02759156 & -0.01909739 &  1.04161007\\\\\n",
       "\\end{tabular}\n"
      ],
      "text/markdown": [
       "\n",
       "A matrix: 4 × 4 of type dbl\n",
       "\n",
       "| 0.92327085 |  0.04059547 |  0.04379319 |  0.02624970 |\n",
       "| 0.04059547 |  1.00307523 |  0.01085054 | -0.02759156 |\n",
       "| 0.04379319 |  0.01085054 |  0.99966492 | -0.01909739 |\n",
       "| 0.02624970 | -0.02759156 | -0.01909739 |  1.04161007 |\n",
       "\n"
      ],
      "text/plain": [
       "     [,1]       [,2]        [,3]        [,4]       \n",
       "[1,] 0.92327085  0.04059547  0.04379319  0.02624970\n",
       "[2,] 0.04059547  1.00307523  0.01085054 -0.02759156\n",
       "[3,] 0.04379319  0.01085054  0.99966492 -0.01909739\n",
       "[4,] 0.02624970 -0.02759156 -0.01909739  1.04161007"
      ]
     },
     "metadata": {},
     "output_type": "display_data"
    }
   ],
   "source": [
    "params$sigmas[2,,]"
   ]
  },
  {
   "cell_type": "code",
   "execution_count": 8,
   "metadata": {},
   "outputs": [
    {
     "data": {
      "text/html": [
       "<table class=\"dataframe\">\n",
       "<caption>A matrix: 4 × 4 of type dbl</caption>\n",
       "<tbody>\n",
       "\t<tr><td>1.04589</td><td>1.04589</td><td>1.04589</td><td>1.04589</td></tr>\n",
       "\t<tr><td>1.04589</td><td>1.04589</td><td>1.04589</td><td>1.04589</td></tr>\n",
       "\t<tr><td>1.04589</td><td>1.04589</td><td>1.04589</td><td>1.04589</td></tr>\n",
       "\t<tr><td>1.04589</td><td>1.04589</td><td>1.04589</td><td>1.04589</td></tr>\n",
       "</tbody>\n",
       "</table>\n"
      ],
      "text/latex": [
       "A matrix: 4 × 4 of type dbl\n",
       "\\begin{tabular}{llll}\n",
       "\t 1.04589 & 1.04589 & 1.04589 & 1.04589\\\\\n",
       "\t 1.04589 & 1.04589 & 1.04589 & 1.04589\\\\\n",
       "\t 1.04589 & 1.04589 & 1.04589 & 1.04589\\\\\n",
       "\t 1.04589 & 1.04589 & 1.04589 & 1.04589\\\\\n",
       "\\end{tabular}\n"
      ],
      "text/markdown": [
       "\n",
       "A matrix: 4 × 4 of type dbl\n",
       "\n",
       "| 1.04589 | 1.04589 | 1.04589 | 1.04589 |\n",
       "| 1.04589 | 1.04589 | 1.04589 | 1.04589 |\n",
       "| 1.04589 | 1.04589 | 1.04589 | 1.04589 |\n",
       "| 1.04589 | 1.04589 | 1.04589 | 1.04589 |\n",
       "\n"
      ],
      "text/plain": [
       "     [,1]    [,2]    [,3]    [,4]   \n",
       "[1,] 1.04589 1.04589 1.04589 1.04589\n",
       "[2,] 1.04589 1.04589 1.04589 1.04589\n",
       "[3,] 1.04589 1.04589 1.04589 1.04589\n",
       "[4,] 1.04589 1.04589 1.04589 1.04589"
      ]
     },
     "metadata": {},
     "output_type": "display_data"
    }
   ],
   "source": [
    "params$sigmas[3,,]"
   ]
  },
  {
   "cell_type": "code",
   "execution_count": 9,
   "metadata": {},
   "outputs": [
    {
     "data": {
      "text/html": [
       "<table class=\"dataframe\">\n",
       "<caption>A matrix: 4 × 4 of type dbl</caption>\n",
       "<tbody>\n",
       "\t<tr><td>0</td><td>0.00000000</td><td> 0.0000000</td><td> 0.00000000</td></tr>\n",
       "\t<tr><td>0</td><td>4.95481057</td><td> 2.2675655</td><td> 0.05765383</td></tr>\n",
       "\t<tr><td>0</td><td>2.26756553</td><td>10.4649995</td><td>-0.70272869</td></tr>\n",
       "\t<tr><td>0</td><td>0.05765383</td><td>-0.7027287</td><td>20.22265720</td></tr>\n",
       "</tbody>\n",
       "</table>\n"
      ],
      "text/latex": [
       "A matrix: 4 × 4 of type dbl\n",
       "\\begin{tabular}{llll}\n",
       "\t 0 & 0.00000000 &  0.0000000 &  0.00000000\\\\\n",
       "\t 0 & 4.95481057 &  2.2675655 &  0.05765383\\\\\n",
       "\t 0 & 2.26756553 & 10.4649995 & -0.70272869\\\\\n",
       "\t 0 & 0.05765383 & -0.7027287 & 20.22265720\\\\\n",
       "\\end{tabular}\n"
      ],
      "text/markdown": [
       "\n",
       "A matrix: 4 × 4 of type dbl\n",
       "\n",
       "| 0 | 0.00000000 |  0.0000000 |  0.00000000 |\n",
       "| 0 | 4.95481057 |  2.2675655 |  0.05765383 |\n",
       "| 0 | 2.26756553 | 10.4649995 | -0.70272869 |\n",
       "| 0 | 0.05765383 | -0.7027287 | 20.22265720 |\n",
       "\n"
      ],
      "text/plain": [
       "     [,1] [,2]       [,3]       [,4]       \n",
       "[1,] 0    0.00000000  0.0000000  0.00000000\n",
       "[2,] 0    4.95481057  2.2675655  0.05765383\n",
       "[3,] 0    2.26756553 10.4649995 -0.70272869\n",
       "[4,] 0    0.05765383 -0.7027287 20.22265720"
      ]
     },
     "metadata": {},
     "output_type": "display_data"
    }
   ],
   "source": [
    "params$sigmas[4,,]"
   ]
  },
  {
   "cell_type": "code",
   "execution_count": null,
   "metadata": {},
   "outputs": [],
   "source": []
  },
  {
   "cell_type": "code",
   "execution_count": 10,
   "metadata": {},
   "outputs": [
    {
     "data": {
      "text/html": [
       "<table class=\"dataframe\">\n",
       "<caption>A matrix: 4 × 4 of type dbl</caption>\n",
       "<tbody>\n",
       "\t<tr><td>1.0000000</td><td>0.02130730</td><td>0.32402500</td><td>0.58067284</td></tr>\n",
       "\t<tr><td>0.0213073</td><td>1.00000000</td><td>0.27134269</td><td>0.02040241</td></tr>\n",
       "\t<tr><td>0.3240250</td><td>0.27134269</td><td>1.00000000</td><td>0.00703762</td></tr>\n",
       "\t<tr><td>0.5806728</td><td>0.02040241</td><td>0.00703762</td><td>1.00000000</td></tr>\n",
       "</tbody>\n",
       "</table>\n"
      ],
      "text/latex": [
       "A matrix: 4 × 4 of type dbl\n",
       "\\begin{tabular}{llll}\n",
       "\t 1.0000000 & 0.02130730 & 0.32402500 & 0.58067284\\\\\n",
       "\t 0.0213073 & 1.00000000 & 0.27134269 & 0.02040241\\\\\n",
       "\t 0.3240250 & 0.27134269 & 1.00000000 & 0.00703762\\\\\n",
       "\t 0.5806728 & 0.02040241 & 0.00703762 & 1.00000000\\\\\n",
       "\\end{tabular}\n"
      ],
      "text/markdown": [
       "\n",
       "A matrix: 4 × 4 of type dbl\n",
       "\n",
       "| 1.0000000 | 0.02130730 | 0.32402500 | 0.58067284 |\n",
       "| 0.0213073 | 1.00000000 | 0.27134269 | 0.02040241 |\n",
       "| 0.3240250 | 0.27134269 | 1.00000000 | 0.00703762 |\n",
       "| 0.5806728 | 0.02040241 | 0.00703762 | 1.00000000 |\n",
       "\n"
      ],
      "text/plain": [
       "     [,1]      [,2]       [,3]       [,4]      \n",
       "[1,] 1.0000000 0.02130730 0.32402500 0.58067284\n",
       "[2,] 0.0213073 1.00000000 0.27134269 0.02040241\n",
       "[3,] 0.3240250 0.27134269 1.00000000 0.00703762\n",
       "[4,] 0.5806728 0.02040241 0.00703762 1.00000000"
      ]
     },
     "metadata": {},
     "output_type": "display_data"
    }
   ],
   "source": [
    "params$corrs[1,,]"
   ]
  },
  {
   "cell_type": "code",
   "execution_count": 11,
   "metadata": {},
   "outputs": [
    {
     "data": {
      "text/html": [
       "<table class=\"dataframe\">\n",
       "<caption>A matrix: 4 × 4 of type dbl</caption>\n",
       "<tbody>\n",
       "\t<tr><td>1.00000000</td><td> 0.04218386</td><td> 0.04558424</td><td> 0.02676746</td></tr>\n",
       "\t<tr><td>0.04218386</td><td> 1.00000000</td><td> 0.01083571</td><td>-0.02699336</td></tr>\n",
       "\t<tr><td>0.04558424</td><td> 0.01083571</td><td> 1.00000000</td><td>-0.01871519</td></tr>\n",
       "\t<tr><td>0.02676746</td><td>-0.02699336</td><td>-0.01871519</td><td> 1.00000000</td></tr>\n",
       "</tbody>\n",
       "</table>\n"
      ],
      "text/latex": [
       "A matrix: 4 × 4 of type dbl\n",
       "\\begin{tabular}{llll}\n",
       "\t 1.00000000 &  0.04218386 &  0.04558424 &  0.02676746\\\\\n",
       "\t 0.04218386 &  1.00000000 &  0.01083571 & -0.02699336\\\\\n",
       "\t 0.04558424 &  0.01083571 &  1.00000000 & -0.01871519\\\\\n",
       "\t 0.02676746 & -0.02699336 & -0.01871519 &  1.00000000\\\\\n",
       "\\end{tabular}\n"
      ],
      "text/markdown": [
       "\n",
       "A matrix: 4 × 4 of type dbl\n",
       "\n",
       "| 1.00000000 |  0.04218386 |  0.04558424 |  0.02676746 |\n",
       "| 0.04218386 |  1.00000000 |  0.01083571 | -0.02699336 |\n",
       "| 0.04558424 |  0.01083571 |  1.00000000 | -0.01871519 |\n",
       "| 0.02676746 | -0.02699336 | -0.01871519 |  1.00000000 |\n",
       "\n"
      ],
      "text/plain": [
       "     [,1]       [,2]        [,3]        [,4]       \n",
       "[1,] 1.00000000  0.04218386  0.04558424  0.02676746\n",
       "[2,] 0.04218386  1.00000000  0.01083571 -0.02699336\n",
       "[3,] 0.04558424  0.01083571  1.00000000 -0.01871519\n",
       "[4,] 0.02676746 -0.02699336 -0.01871519  1.00000000"
      ]
     },
     "metadata": {},
     "output_type": "display_data"
    }
   ],
   "source": [
    "params$corrs[2,,]"
   ]
  },
  {
   "cell_type": "code",
   "execution_count": 12,
   "metadata": {},
   "outputs": [
    {
     "data": {
      "text/html": [
       "<table class=\"dataframe\">\n",
       "<caption>A matrix: 4 × 4 of type dbl</caption>\n",
       "<tbody>\n",
       "\t<tr><td>1</td><td>1</td><td>1</td><td>1</td></tr>\n",
       "\t<tr><td>1</td><td>1</td><td>1</td><td>1</td></tr>\n",
       "\t<tr><td>1</td><td>1</td><td>1</td><td>1</td></tr>\n",
       "\t<tr><td>1</td><td>1</td><td>1</td><td>1</td></tr>\n",
       "</tbody>\n",
       "</table>\n"
      ],
      "text/latex": [
       "A matrix: 4 × 4 of type dbl\n",
       "\\begin{tabular}{llll}\n",
       "\t 1 & 1 & 1 & 1\\\\\n",
       "\t 1 & 1 & 1 & 1\\\\\n",
       "\t 1 & 1 & 1 & 1\\\\\n",
       "\t 1 & 1 & 1 & 1\\\\\n",
       "\\end{tabular}\n"
      ],
      "text/markdown": [
       "\n",
       "A matrix: 4 × 4 of type dbl\n",
       "\n",
       "| 1 | 1 | 1 | 1 |\n",
       "| 1 | 1 | 1 | 1 |\n",
       "| 1 | 1 | 1 | 1 |\n",
       "| 1 | 1 | 1 | 1 |\n",
       "\n"
      ],
      "text/plain": [
       "     [,1] [,2] [,3] [,4]\n",
       "[1,] 1    1    1    1   \n",
       "[2,] 1    1    1    1   \n",
       "[3,] 1    1    1    1   \n",
       "[4,] 1    1    1    1   "
      ]
     },
     "metadata": {},
     "output_type": "display_data"
    }
   ],
   "source": [
    "params$corrs[3,,]"
   ]
  },
  {
   "cell_type": "code",
   "execution_count": 13,
   "metadata": {},
   "outputs": [
    {
     "data": {
      "text/html": [
       "<table class=\"dataframe\">\n",
       "<caption>A matrix: 4 × 4 of type dbl</caption>\n",
       "<tbody>\n",
       "\t<tr><td>0</td><td>0.000000000</td><td> 0.00000000</td><td> 0.000000000</td></tr>\n",
       "\t<tr><td>0</td><td>1.000000000</td><td> 0.31490294</td><td> 0.005759642</td></tr>\n",
       "\t<tr><td>0</td><td>0.314902937</td><td> 1.00000000</td><td>-0.048305765</td></tr>\n",
       "\t<tr><td>0</td><td>0.005759642</td><td>-0.04830577</td><td> 1.000000000</td></tr>\n",
       "</tbody>\n",
       "</table>\n"
      ],
      "text/latex": [
       "A matrix: 4 × 4 of type dbl\n",
       "\\begin{tabular}{llll}\n",
       "\t 0 & 0.000000000 &  0.00000000 &  0.000000000\\\\\n",
       "\t 0 & 1.000000000 &  0.31490294 &  0.005759642\\\\\n",
       "\t 0 & 0.314902937 &  1.00000000 & -0.048305765\\\\\n",
       "\t 0 & 0.005759642 & -0.04830577 &  1.000000000\\\\\n",
       "\\end{tabular}\n"
      ],
      "text/markdown": [
       "\n",
       "A matrix: 4 × 4 of type dbl\n",
       "\n",
       "| 0 | 0.000000000 |  0.00000000 |  0.000000000 |\n",
       "| 0 | 1.000000000 |  0.31490294 |  0.005759642 |\n",
       "| 0 | 0.314902937 |  1.00000000 | -0.048305765 |\n",
       "| 0 | 0.005759642 | -0.04830577 |  1.000000000 |\n",
       "\n"
      ],
      "text/plain": [
       "     [,1] [,2]        [,3]        [,4]        \n",
       "[1,] 0    0.000000000  0.00000000  0.000000000\n",
       "[2,] 0    1.000000000  0.31490294  0.005759642\n",
       "[3,] 0    0.314902937  1.00000000 -0.048305765\n",
       "[4,] 0    0.005759642 -0.04830577  1.000000000"
      ]
     },
     "metadata": {},
     "output_type": "display_data"
    }
   ],
   "source": [
    "params$corrs[4,,]"
   ]
  },
  {
   "cell_type": "markdown",
   "metadata": {},
   "source": [
    "### check calc_entropy"
   ]
  },
  {
   "cell_type": "code",
   "execution_count": 14,
   "metadata": {},
   "outputs": [
    {
     "data": {
      "text/html": [
       "<style>\n",
       ".list-inline {list-style: none; margin:0; padding: 0}\n",
       ".list-inline>li {display: inline-block}\n",
       ".list-inline>li:not(:last-child)::after {content: \"\\00b7\"; padding: 0 .5ex}\n",
       "</style>\n",
       "<ol class=list-inline><li>4</li><li>4</li><li>4</li></ol>\n"
      ],
      "text/latex": [
       "\\begin{enumerate*}\n",
       "\\item 4\n",
       "\\item 4\n",
       "\\item 4\n",
       "\\end{enumerate*}\n"
      ],
      "text/markdown": [
       "1. 4\n",
       "2. 4\n",
       "3. 4\n",
       "\n",
       "\n"
      ],
      "text/plain": [
       "[1] 4 4 4"
      ]
     },
     "metadata": {},
     "output_type": "display_data"
    }
   ],
   "source": [
    "dim(params$corrs)"
   ]
  },
  {
   "cell_type": "code",
   "execution_count": 15,
   "metadata": {},
   "outputs": [
    {
     "data": {
      "text/html": [
       "<table class=\"dataframe\">\n",
       "<caption>A matrix: 4 × 1 of type dbl</caption>\n",
       "<thead>\n",
       "\t<tr><th scope=col>entropy</th></tr>\n",
       "</thead>\n",
       "<tbody>\n",
       "\t<tr><td>1.2467631851</td></tr>\n",
       "\t<tr><td>1.3848437683</td></tr>\n",
       "\t<tr><td>0.0001151293</td></tr>\n",
       "\t<tr><td>1.3604406683</td></tr>\n",
       "</tbody>\n",
       "</table>\n"
      ],
      "text/latex": [
       "A matrix: 4 × 1 of type dbl\n",
       "\\begin{tabular}{l}\n",
       " entropy\\\\\n",
       "\\hline\n",
       "\t 1.2467631851\\\\\n",
       "\t 1.3848437683\\\\\n",
       "\t 0.0001151293\\\\\n",
       "\t 1.3604406683\\\\\n",
       "\\end{tabular}\n"
      ],
      "text/markdown": [
       "\n",
       "A matrix: 4 × 1 of type dbl\n",
       "\n",
       "| entropy |\n",
       "|---|\n",
       "| 1.2467631851 |\n",
       "| 1.3848437683 |\n",
       "| 0.0001151293 |\n",
       "| 1.3604406683 |\n",
       "\n"
      ],
      "text/plain": [
       "     entropy     \n",
       "[1,] 1.2467631851\n",
       "[2,] 1.3848437683\n",
       "[3,] 0.0001151293\n",
       "[4,] 1.3604406683"
      ]
     },
     "metadata": {},
     "output_type": "display_data"
    }
   ],
   "source": [
    "calc_entropy(params$corrs)"
   ]
  },
  {
   "cell_type": "markdown",
   "metadata": {},
   "source": [
    "### testing when there is no sample left like when max_sds is set to super tiny number"
   ]
  },
  {
   "cell_type": "code",
   "execution_count": 16,
   "metadata": {},
   "outputs": [],
   "source": [
    "# testing when there is no sample left like when max_sds is set to super tiny number\n",
    "sim.Z = array(0, c(4,1,10))\n",
    "sim.Z[,1,] = t(mvrnorm(n = 10, mu = c(0,1,1,1), \n",
    "                      Sigma = matrix(c( 10, 0,  0,  0,\n",
    "                                        0,  5,  2,  0,\n",
    "                                        0,  2, 10,  0,\n",
    "                                        0,  0,  0,  20), \n",
    "                                     4,4, byrow =T), \n",
    "                      tol = 1e-6, empirical = FALSE, EISPACK = FALSE))"
   ]
  },
  {
   "cell_type": "code",
   "execution_count": 17,
   "metadata": {},
   "outputs": [],
   "source": [
    "params = calc_params_from_Z(sim.Z, max_sds = 0.01)"
   ]
  },
  {
   "cell_type": "code",
   "execution_count": 18,
   "metadata": {},
   "outputs": [
    {
     "data": {
      "text/html": [
       "<table class=\"dataframe\">\n",
       "<caption>A matrix: 1 × 4 of type dbl</caption>\n",
       "<tbody>\n",
       "\t<tr><td>0</td><td>0</td><td>0</td><td>0</td></tr>\n",
       "</tbody>\n",
       "</table>\n"
      ],
      "text/latex": [
       "A matrix: 1 × 4 of type dbl\n",
       "\\begin{tabular}{llll}\n",
       "\t 0 & 0 & 0 & 0\\\\\n",
       "\\end{tabular}\n"
      ],
      "text/markdown": [
       "\n",
       "A matrix: 1 × 4 of type dbl\n",
       "\n",
       "| 0 | 0 | 0 | 0 |\n",
       "\n"
      ],
      "text/plain": [
       "     [,1] [,2] [,3] [,4]\n",
       "[1,] 0    0    0    0   "
      ]
     },
     "metadata": {},
     "output_type": "display_data"
    }
   ],
   "source": [
    "params$mus"
   ]
  },
  {
   "cell_type": "code",
   "execution_count": 19,
   "metadata": {},
   "outputs": [
    {
     "data": {
      "text/html": [
       "<table class=\"dataframe\">\n",
       "<caption>A matrix: 4 × 4 of type dbl</caption>\n",
       "<tbody>\n",
       "\t<tr><td>0</td><td>0</td><td>0</td><td>0</td></tr>\n",
       "\t<tr><td>0</td><td>0</td><td>0</td><td>0</td></tr>\n",
       "\t<tr><td>0</td><td>0</td><td>0</td><td>0</td></tr>\n",
       "\t<tr><td>0</td><td>0</td><td>0</td><td>0</td></tr>\n",
       "</tbody>\n",
       "</table>\n"
      ],
      "text/latex": [
       "A matrix: 4 × 4 of type dbl\n",
       "\\begin{tabular}{llll}\n",
       "\t 0 & 0 & 0 & 0\\\\\n",
       "\t 0 & 0 & 0 & 0\\\\\n",
       "\t 0 & 0 & 0 & 0\\\\\n",
       "\t 0 & 0 & 0 & 0\\\\\n",
       "\\end{tabular}\n"
      ],
      "text/markdown": [
       "\n",
       "A matrix: 4 × 4 of type dbl\n",
       "\n",
       "| 0 | 0 | 0 | 0 |\n",
       "| 0 | 0 | 0 | 0 |\n",
       "| 0 | 0 | 0 | 0 |\n",
       "| 0 | 0 | 0 | 0 |\n",
       "\n"
      ],
      "text/plain": [
       "     [,1] [,2] [,3] [,4]\n",
       "[1,] 0    0    0    0   \n",
       "[2,] 0    0    0    0   \n",
       "[3,] 0    0    0    0   \n",
       "[4,] 0    0    0    0   "
      ]
     },
     "metadata": {},
     "output_type": "display_data"
    }
   ],
   "source": [
    "params$sigmas[1,,]"
   ]
  },
  {
   "cell_type": "code",
   "execution_count": 20,
   "metadata": {},
   "outputs": [
    {
     "data": {
      "text/html": [
       "<table class=\"dataframe\">\n",
       "<caption>A matrix: 4 × 4 of type dbl</caption>\n",
       "<tbody>\n",
       "\t<tr><td>0</td><td>0</td><td>0</td><td>0</td></tr>\n",
       "\t<tr><td>0</td><td>0</td><td>0</td><td>0</td></tr>\n",
       "\t<tr><td>0</td><td>0</td><td>0</td><td>0</td></tr>\n",
       "\t<tr><td>0</td><td>0</td><td>0</td><td>0</td></tr>\n",
       "</tbody>\n",
       "</table>\n"
      ],
      "text/latex": [
       "A matrix: 4 × 4 of type dbl\n",
       "\\begin{tabular}{llll}\n",
       "\t 0 & 0 & 0 & 0\\\\\n",
       "\t 0 & 0 & 0 & 0\\\\\n",
       "\t 0 & 0 & 0 & 0\\\\\n",
       "\t 0 & 0 & 0 & 0\\\\\n",
       "\\end{tabular}\n"
      ],
      "text/markdown": [
       "\n",
       "A matrix: 4 × 4 of type dbl\n",
       "\n",
       "| 0 | 0 | 0 | 0 |\n",
       "| 0 | 0 | 0 | 0 |\n",
       "| 0 | 0 | 0 | 0 |\n",
       "| 0 | 0 | 0 | 0 |\n",
       "\n"
      ],
      "text/plain": [
       "     [,1] [,2] [,3] [,4]\n",
       "[1,] 0    0    0    0   \n",
       "[2,] 0    0    0    0   \n",
       "[3,] 0    0    0    0   \n",
       "[4,] 0    0    0    0   "
      ]
     },
     "metadata": {},
     "output_type": "display_data"
    }
   ],
   "source": [
    "params$corrs[1,,]"
   ]
  },
  {
   "cell_type": "code",
   "execution_count": 21,
   "metadata": {},
   "outputs": [
    {
     "data": {
      "text/html": [
       "<table class=\"dataframe\">\n",
       "<caption>A matrix: 1 × 1 of type dbl</caption>\n",
       "<thead>\n",
       "\t<tr><th scope=col>entropy</th></tr>\n",
       "</thead>\n",
       "<tbody>\n",
       "\t<tr><td>1.386294</td></tr>\n",
       "</tbody>\n",
       "</table>\n"
      ],
      "text/latex": [
       "A matrix: 1 × 1 of type dbl\n",
       "\\begin{tabular}{l}\n",
       " entropy\\\\\n",
       "\\hline\n",
       "\t 1.386294\\\\\n",
       "\\end{tabular}\n"
      ],
      "text/markdown": [
       "\n",
       "A matrix: 1 × 1 of type dbl\n",
       "\n",
       "| entropy |\n",
       "|---|\n",
       "| 1.386294 |\n",
       "\n"
      ],
      "text/plain": [
       "     entropy \n",
       "[1,] 1.386294"
      ]
     },
     "metadata": {},
     "output_type": "display_data"
    }
   ],
   "source": [
    "params$entropies"
   ]
  },
  {
   "cell_type": "markdown",
   "metadata": {},
   "source": [
    "# Tensor numerical stability"
   ]
  },
  {
   "cell_type": "code",
   "execution_count": 22,
   "metadata": {},
   "outputs": [],
   "source": [
    "# data: any data structure, could be 2d matrix or 3d array \n",
    "# min.val: numeric. minimal absolute value to be capped \n",
    "# max.val: numeric. maximal absolute value to be capped \n",
    "# NA in the data structure is turned into + min.val\n",
    "# absolute values larger than max.val or smaller than min.val (including Inf, -Inf)are replaced by max.val and min.val\n",
    "# sign information is also preserved\n",
    "cap_values = function(data, min.val = 10**(-4), max.val = 10**(4)){\n",
    "    if(sum(is.na(data)| is.infinite(data)) != 0){\n",
    "        print(paste0(\"there are NAN: \", sum(is.na(data))))\n",
    "        data[is.na(data)] <- min.val\n",
    "    }\n",
    "    if(sum(abs(data) < min.val) != 0){\n",
    "        print(paste0(\"there are extrmemely close to 0 values: \", sum(abs(data) < min.val)))\n",
    "        sign.info = sign(data[which(abs(data) < min.val)])\n",
    "        data[which(abs(data) < min.val)] <- sign.info * min.val\n",
    "    }\n",
    "    if(sum(abs(data) > max.val) != 0){\n",
    "        print(paste0(\"there are extrmemely large values: \" , sum(abs(data) < max.val)))\n",
    "        sign.info = sign(data[which(abs(data) > max.val)])\n",
    "        data[which(abs(data) > max.val)] <- sign.info * max.val\n",
    "    }\n",
    "    return(data)\n",
    "} "
   ]
  },
  {
   "cell_type": "code",
   "execution_count": 23,
   "metadata": {},
   "outputs": [
    {
     "name": "stdout",
     "output_type": "stream",
     "text": [
      "[1] \"there are NAN: 2\"\n",
      "[1] \"there are extrmemely large values: 6\"\n"
     ]
    },
    {
     "data": {
      "text/html": [
       "<table class=\"dataframe\">\n",
       "<caption>A matrix: 3 × 4 of type dbl</caption>\n",
       "<tbody>\n",
       "\t<tr><td>-1</td><td>1</td><td>-2</td><td> 2</td></tr>\n",
       "\t<tr><td> 1</td><td>1</td><td> 5</td><td>-5</td></tr>\n",
       "\t<tr><td>-5</td><td>5</td><td>-5</td><td> 5</td></tr>\n",
       "</tbody>\n",
       "</table>\n"
      ],
      "text/latex": [
       "A matrix: 3 × 4 of type dbl\n",
       "\\begin{tabular}{llll}\n",
       "\t -1 & 1 & -2 &  2\\\\\n",
       "\t  1 & 1 &  5 & -5\\\\\n",
       "\t -5 & 5 & -5 &  5\\\\\n",
       "\\end{tabular}\n"
      ],
      "text/markdown": [
       "\n",
       "A matrix: 3 × 4 of type dbl\n",
       "\n",
       "| -1 | 1 | -2 |  2 |\n",
       "|  1 | 1 |  5 | -5 |\n",
       "| -5 | 5 | -5 |  5 |\n",
       "\n"
      ],
      "text/plain": [
       "     [,1] [,2] [,3] [,4]\n",
       "[1,] -1   1    -2    2  \n",
       "[2,]  1   1     5   -5  \n",
       "[3,] -5   5    -5    5  "
      ]
     },
     "metadata": {},
     "output_type": "display_data"
    }
   ],
   "source": [
    "cap_values(matrix(c(-1,  1,   -2,    2,\n",
    "                    NA,  NA,  Inf, -Inf,\n",
    "                    -10, 10,  -100, 100), nrow = 3, byrow = T),  min.val = 1, max.val = 5)"
   ]
  },
  {
   "cell_type": "code",
   "execution_count": 24,
   "metadata": {},
   "outputs": [
    {
     "name": "stdout",
     "output_type": "stream",
     "text": [
      "[1] \"there are NAN: 2\"\n",
      "[1] \"there are extrmemely large values: 8\"\n"
     ]
    },
    {
     "data": {
      "text/html": [
       "<table class=\"dataframe\">\n",
       "<caption>A matrix: 3 × 4 of type dbl</caption>\n",
       "<tbody>\n",
       "\t<tr><td> -1.0</td><td> 1.0</td><td> -2</td><td>  2</td></tr>\n",
       "\t<tr><td>  0.5</td><td> 0.5</td><td> 20</td><td>-20</td></tr>\n",
       "\t<tr><td>-10.0</td><td>10.0</td><td>-20</td><td> 20</td></tr>\n",
       "</tbody>\n",
       "</table>\n"
      ],
      "text/latex": [
       "A matrix: 3 × 4 of type dbl\n",
       "\\begin{tabular}{llll}\n",
       "\t  -1.0 &  1.0 &  -2 &   2\\\\\n",
       "\t   0.5 &  0.5 &  20 & -20\\\\\n",
       "\t -10.0 & 10.0 & -20 &  20\\\\\n",
       "\\end{tabular}\n"
      ],
      "text/markdown": [
       "\n",
       "A matrix: 3 × 4 of type dbl\n",
       "\n",
       "|  -1.0 |  1.0 |  -2 |   2 |\n",
       "|   0.5 |  0.5 |  20 | -20 |\n",
       "| -10.0 | 10.0 | -20 |  20 |\n",
       "\n"
      ],
      "text/plain": [
       "     [,1]  [,2] [,3] [,4]\n",
       "[1,]  -1.0  1.0  -2    2 \n",
       "[2,]   0.5  0.5  20  -20 \n",
       "[3,] -10.0 10.0 -20   20 "
      ]
     },
     "metadata": {},
     "output_type": "display_data"
    }
   ],
   "source": [
    "cap_values(matrix(c(-1,  1,   -2,    2,\n",
    "                    NA,  NA,  Inf, -Inf,\n",
    "                    -10, 10,  -100, 100), nrow = 3, byrow = T),  min.val = 0.5, max.val = 20)"
   ]
  },
  {
   "cell_type": "code",
   "execution_count": 25,
   "metadata": {},
   "outputs": [
    {
     "data": {
      "text/html": [
       "<table class=\"dataframe\">\n",
       "<caption>A matrix: 3 × 4 of type dbl</caption>\n",
       "<tbody>\n",
       "\t<tr><td>-1</td><td> 1</td><td>-1</td><td> 1</td></tr>\n",
       "\t<tr><td>NA</td><td>NA</td><td> 1</td><td>-1</td></tr>\n",
       "\t<tr><td>-1</td><td> 1</td><td>-1</td><td> 1</td></tr>\n",
       "</tbody>\n",
       "</table>\n"
      ],
      "text/latex": [
       "A matrix: 3 × 4 of type dbl\n",
       "\\begin{tabular}{llll}\n",
       "\t -1 &  1 & -1 &  1\\\\\n",
       "\t NA & NA &  1 & -1\\\\\n",
       "\t -1 &  1 & -1 &  1\\\\\n",
       "\\end{tabular}\n"
      ],
      "text/markdown": [
       "\n",
       "A matrix: 3 × 4 of type dbl\n",
       "\n",
       "| -1 |  1 | -1 |  1 |\n",
       "| NA | NA |  1 | -1 |\n",
       "| -1 |  1 | -1 |  1 |\n",
       "\n"
      ],
      "text/plain": [
       "     [,1] [,2] [,3] [,4]\n",
       "[1,] -1    1   -1    1  \n",
       "[2,] NA   NA    1   -1  \n",
       "[3,] -1    1   -1    1  "
      ]
     },
     "metadata": {},
     "output_type": "display_data"
    }
   ],
   "source": [
    "sign(matrix(c(-1,  1,   -2,    2,\n",
    "                    NA,  NA,  Inf, -Inf,\n",
    "                    -10, 10,  -100, 100), nrow = 3, byrow = T))"
   ]
  },
  {
   "cell_type": "markdown",
   "metadata": {},
   "source": [
    "# TCA result format "
   ]
  },
  {
   "cell_type": "code",
   "execution_count": 26,
   "metadata": {},
   "outputs": [],
   "source": [
    "# Z: TCA's tensor in the form of a list of matrices. each list element is a celltype. each matrix is features by samples\n",
    "# source.ids: a list of charactors, indicating the sources/celltypes\n",
    "# turn TCA's tensor Z to an 3d array format with all the dimnames \n",
    "list_2_array = function(Z, source.ids){\n",
    "    \n",
    "    k = length(Z)\n",
    "    m = dim(Z[[1]])[1]\n",
    "    n = dim(Z[[1]])[2]\n",
    "    Z.array = array(0, c(k, m, n))\n",
    "    \n",
    "    dimnames(Z.array)[[1]] = source.ids\n",
    "    dimnames(Z.array)[[2]] = rownames(Z[[1]])\n",
    "    dimnames(Z.array)[[3]] = colnames(Z[[1]])\n",
    "    \n",
    "    for(h in 1:k){\n",
    "        Z.array[h,,] = Z[[h]]\n",
    "    }\n",
    "    return(Z.array)\n",
    "}"
   ]
  },
  {
   "cell_type": "code",
   "execution_count": 27,
   "metadata": {},
   "outputs": [],
   "source": [
    "s1 = matrix(1, 20, 10)\n",
    "rownames(s1) = paste(\"feature.\",1:20)\n",
    "colnames(s1) = paste(\"sample.\",1:10)\n",
    "s2 = copy(s1)\n",
    "\n",
    "Z.hat = list_2_array(list(s1, s2), source.ids = c(\"source.1\", \"source.2\"))"
   ]
  },
  {
   "cell_type": "code",
   "execution_count": 28,
   "metadata": {},
   "outputs": [
    {
     "name": "stdout",
     "output_type": "stream",
     "text": [
      " num [1:2, 1:20, 1:10] 1 1 1 1 1 1 1 1 1 1 ...\n",
      " - attr(*, \"dimnames\")=List of 3\n",
      "  ..$ : chr [1:2] \"source.1\" \"source.2\"\n",
      "  ..$ : chr [1:20] \"feature. 1\" \"feature. 2\" \"feature. 3\" \"feature. 4\" ...\n",
      "  ..$ : chr [1:10] \"sample. 1\" \"sample. 2\" \"sample. 3\" \"sample. 4\" ...\n"
     ]
    }
   ],
   "source": [
    "str(Z.hat)"
   ]
  },
  {
   "cell_type": "code",
   "execution_count": 29,
   "metadata": {},
   "outputs": [
    {
     "data": {
      "text/html": [
       "<table class=\"dataframe\">\n",
       "<caption>A matrix: 2 × 10 of type dbl</caption>\n",
       "<thead>\n",
       "\t<tr><th></th><th scope=col>sample. 1</th><th scope=col>sample. 2</th><th scope=col>sample. 3</th><th scope=col>sample. 4</th><th scope=col>sample. 5</th><th scope=col>sample. 6</th><th scope=col>sample. 7</th><th scope=col>sample. 8</th><th scope=col>sample. 9</th><th scope=col>sample. 10</th></tr>\n",
       "</thead>\n",
       "<tbody>\n",
       "\t<tr><th scope=row>source.1</th><td>1</td><td>1</td><td>1</td><td>1</td><td>1</td><td>1</td><td>1</td><td>1</td><td>1</td><td>1</td></tr>\n",
       "\t<tr><th scope=row>source.2</th><td>1</td><td>1</td><td>1</td><td>1</td><td>1</td><td>1</td><td>1</td><td>1</td><td>1</td><td>1</td></tr>\n",
       "</tbody>\n",
       "</table>\n"
      ],
      "text/latex": [
       "A matrix: 2 × 10 of type dbl\n",
       "\\begin{tabular}{r|llllllllll}\n",
       "  & sample. 1 & sample. 2 & sample. 3 & sample. 4 & sample. 5 & sample. 6 & sample. 7 & sample. 8 & sample. 9 & sample. 10\\\\\n",
       "\\hline\n",
       "\tsource.1 & 1 & 1 & 1 & 1 & 1 & 1 & 1 & 1 & 1 & 1\\\\\n",
       "\tsource.2 & 1 & 1 & 1 & 1 & 1 & 1 & 1 & 1 & 1 & 1\\\\\n",
       "\\end{tabular}\n"
      ],
      "text/markdown": [
       "\n",
       "A matrix: 2 × 10 of type dbl\n",
       "\n",
       "| <!--/--> | sample. 1 | sample. 2 | sample. 3 | sample. 4 | sample. 5 | sample. 6 | sample. 7 | sample. 8 | sample. 9 | sample. 10 |\n",
       "|---|---|---|---|---|---|---|---|---|---|---|\n",
       "| source.1 | 1 | 1 | 1 | 1 | 1 | 1 | 1 | 1 | 1 | 1 |\n",
       "| source.2 | 1 | 1 | 1 | 1 | 1 | 1 | 1 | 1 | 1 | 1 |\n",
       "\n"
      ],
      "text/plain": [
       "         sample. 1 sample. 2 sample. 3 sample. 4 sample. 5 sample. 6 sample. 7\n",
       "source.1 1         1         1         1         1         1         1        \n",
       "source.2 1         1         1         1         1         1         1        \n",
       "         sample. 8 sample. 9 sample. 10\n",
       "source.1 1         1         1         \n",
       "source.2 1         1         1         "
      ]
     },
     "metadata": {},
     "output_type": "display_data"
    }
   ],
   "source": [
    "Z.hat[,1,]"
   ]
  },
  {
   "cell_type": "code",
   "execution_count": 30,
   "metadata": {},
   "outputs": [
    {
     "data": {
      "text/html": [
       "<table class=\"dataframe\">\n",
       "<caption>A matrix: 20 × 10 of type dbl</caption>\n",
       "<thead>\n",
       "\t<tr><th></th><th scope=col>sample. 1</th><th scope=col>sample. 2</th><th scope=col>sample. 3</th><th scope=col>sample. 4</th><th scope=col>sample. 5</th><th scope=col>sample. 6</th><th scope=col>sample. 7</th><th scope=col>sample. 8</th><th scope=col>sample. 9</th><th scope=col>sample. 10</th></tr>\n",
       "</thead>\n",
       "<tbody>\n",
       "\t<tr><th scope=row>feature. 1</th><td>1</td><td>1</td><td>1</td><td>1</td><td>1</td><td>1</td><td>1</td><td>1</td><td>1</td><td>1</td></tr>\n",
       "\t<tr><th scope=row>feature. 2</th><td>1</td><td>1</td><td>1</td><td>1</td><td>1</td><td>1</td><td>1</td><td>1</td><td>1</td><td>1</td></tr>\n",
       "\t<tr><th scope=row>feature. 3</th><td>1</td><td>1</td><td>1</td><td>1</td><td>1</td><td>1</td><td>1</td><td>1</td><td>1</td><td>1</td></tr>\n",
       "\t<tr><th scope=row>feature. 4</th><td>1</td><td>1</td><td>1</td><td>1</td><td>1</td><td>1</td><td>1</td><td>1</td><td>1</td><td>1</td></tr>\n",
       "\t<tr><th scope=row>feature. 5</th><td>1</td><td>1</td><td>1</td><td>1</td><td>1</td><td>1</td><td>1</td><td>1</td><td>1</td><td>1</td></tr>\n",
       "\t<tr><th scope=row>feature. 6</th><td>1</td><td>1</td><td>1</td><td>1</td><td>1</td><td>1</td><td>1</td><td>1</td><td>1</td><td>1</td></tr>\n",
       "\t<tr><th scope=row>feature. 7</th><td>1</td><td>1</td><td>1</td><td>1</td><td>1</td><td>1</td><td>1</td><td>1</td><td>1</td><td>1</td></tr>\n",
       "\t<tr><th scope=row>feature. 8</th><td>1</td><td>1</td><td>1</td><td>1</td><td>1</td><td>1</td><td>1</td><td>1</td><td>1</td><td>1</td></tr>\n",
       "\t<tr><th scope=row>feature. 9</th><td>1</td><td>1</td><td>1</td><td>1</td><td>1</td><td>1</td><td>1</td><td>1</td><td>1</td><td>1</td></tr>\n",
       "\t<tr><th scope=row>feature. 10</th><td>1</td><td>1</td><td>1</td><td>1</td><td>1</td><td>1</td><td>1</td><td>1</td><td>1</td><td>1</td></tr>\n",
       "\t<tr><th scope=row>feature. 11</th><td>1</td><td>1</td><td>1</td><td>1</td><td>1</td><td>1</td><td>1</td><td>1</td><td>1</td><td>1</td></tr>\n",
       "\t<tr><th scope=row>feature. 12</th><td>1</td><td>1</td><td>1</td><td>1</td><td>1</td><td>1</td><td>1</td><td>1</td><td>1</td><td>1</td></tr>\n",
       "\t<tr><th scope=row>feature. 13</th><td>1</td><td>1</td><td>1</td><td>1</td><td>1</td><td>1</td><td>1</td><td>1</td><td>1</td><td>1</td></tr>\n",
       "\t<tr><th scope=row>feature. 14</th><td>1</td><td>1</td><td>1</td><td>1</td><td>1</td><td>1</td><td>1</td><td>1</td><td>1</td><td>1</td></tr>\n",
       "\t<tr><th scope=row>feature. 15</th><td>1</td><td>1</td><td>1</td><td>1</td><td>1</td><td>1</td><td>1</td><td>1</td><td>1</td><td>1</td></tr>\n",
       "\t<tr><th scope=row>feature. 16</th><td>1</td><td>1</td><td>1</td><td>1</td><td>1</td><td>1</td><td>1</td><td>1</td><td>1</td><td>1</td></tr>\n",
       "\t<tr><th scope=row>feature. 17</th><td>1</td><td>1</td><td>1</td><td>1</td><td>1</td><td>1</td><td>1</td><td>1</td><td>1</td><td>1</td></tr>\n",
       "\t<tr><th scope=row>feature. 18</th><td>1</td><td>1</td><td>1</td><td>1</td><td>1</td><td>1</td><td>1</td><td>1</td><td>1</td><td>1</td></tr>\n",
       "\t<tr><th scope=row>feature. 19</th><td>1</td><td>1</td><td>1</td><td>1</td><td>1</td><td>1</td><td>1</td><td>1</td><td>1</td><td>1</td></tr>\n",
       "\t<tr><th scope=row>feature. 20</th><td>1</td><td>1</td><td>1</td><td>1</td><td>1</td><td>1</td><td>1</td><td>1</td><td>1</td><td>1</td></tr>\n",
       "</tbody>\n",
       "</table>\n"
      ],
      "text/latex": [
       "A matrix: 20 × 10 of type dbl\n",
       "\\begin{tabular}{r|llllllllll}\n",
       "  & sample. 1 & sample. 2 & sample. 3 & sample. 4 & sample. 5 & sample. 6 & sample. 7 & sample. 8 & sample. 9 & sample. 10\\\\\n",
       "\\hline\n",
       "\tfeature. 1 & 1 & 1 & 1 & 1 & 1 & 1 & 1 & 1 & 1 & 1\\\\\n",
       "\tfeature. 2 & 1 & 1 & 1 & 1 & 1 & 1 & 1 & 1 & 1 & 1\\\\\n",
       "\tfeature. 3 & 1 & 1 & 1 & 1 & 1 & 1 & 1 & 1 & 1 & 1\\\\\n",
       "\tfeature. 4 & 1 & 1 & 1 & 1 & 1 & 1 & 1 & 1 & 1 & 1\\\\\n",
       "\tfeature. 5 & 1 & 1 & 1 & 1 & 1 & 1 & 1 & 1 & 1 & 1\\\\\n",
       "\tfeature. 6 & 1 & 1 & 1 & 1 & 1 & 1 & 1 & 1 & 1 & 1\\\\\n",
       "\tfeature. 7 & 1 & 1 & 1 & 1 & 1 & 1 & 1 & 1 & 1 & 1\\\\\n",
       "\tfeature. 8 & 1 & 1 & 1 & 1 & 1 & 1 & 1 & 1 & 1 & 1\\\\\n",
       "\tfeature. 9 & 1 & 1 & 1 & 1 & 1 & 1 & 1 & 1 & 1 & 1\\\\\n",
       "\tfeature. 10 & 1 & 1 & 1 & 1 & 1 & 1 & 1 & 1 & 1 & 1\\\\\n",
       "\tfeature. 11 & 1 & 1 & 1 & 1 & 1 & 1 & 1 & 1 & 1 & 1\\\\\n",
       "\tfeature. 12 & 1 & 1 & 1 & 1 & 1 & 1 & 1 & 1 & 1 & 1\\\\\n",
       "\tfeature. 13 & 1 & 1 & 1 & 1 & 1 & 1 & 1 & 1 & 1 & 1\\\\\n",
       "\tfeature. 14 & 1 & 1 & 1 & 1 & 1 & 1 & 1 & 1 & 1 & 1\\\\\n",
       "\tfeature. 15 & 1 & 1 & 1 & 1 & 1 & 1 & 1 & 1 & 1 & 1\\\\\n",
       "\tfeature. 16 & 1 & 1 & 1 & 1 & 1 & 1 & 1 & 1 & 1 & 1\\\\\n",
       "\tfeature. 17 & 1 & 1 & 1 & 1 & 1 & 1 & 1 & 1 & 1 & 1\\\\\n",
       "\tfeature. 18 & 1 & 1 & 1 & 1 & 1 & 1 & 1 & 1 & 1 & 1\\\\\n",
       "\tfeature. 19 & 1 & 1 & 1 & 1 & 1 & 1 & 1 & 1 & 1 & 1\\\\\n",
       "\tfeature. 20 & 1 & 1 & 1 & 1 & 1 & 1 & 1 & 1 & 1 & 1\\\\\n",
       "\\end{tabular}\n"
      ],
      "text/markdown": [
       "\n",
       "A matrix: 20 × 10 of type dbl\n",
       "\n",
       "| <!--/--> | sample. 1 | sample. 2 | sample. 3 | sample. 4 | sample. 5 | sample. 6 | sample. 7 | sample. 8 | sample. 9 | sample. 10 |\n",
       "|---|---|---|---|---|---|---|---|---|---|---|\n",
       "| feature. 1 | 1 | 1 | 1 | 1 | 1 | 1 | 1 | 1 | 1 | 1 |\n",
       "| feature. 2 | 1 | 1 | 1 | 1 | 1 | 1 | 1 | 1 | 1 | 1 |\n",
       "| feature. 3 | 1 | 1 | 1 | 1 | 1 | 1 | 1 | 1 | 1 | 1 |\n",
       "| feature. 4 | 1 | 1 | 1 | 1 | 1 | 1 | 1 | 1 | 1 | 1 |\n",
       "| feature. 5 | 1 | 1 | 1 | 1 | 1 | 1 | 1 | 1 | 1 | 1 |\n",
       "| feature. 6 | 1 | 1 | 1 | 1 | 1 | 1 | 1 | 1 | 1 | 1 |\n",
       "| feature. 7 | 1 | 1 | 1 | 1 | 1 | 1 | 1 | 1 | 1 | 1 |\n",
       "| feature. 8 | 1 | 1 | 1 | 1 | 1 | 1 | 1 | 1 | 1 | 1 |\n",
       "| feature. 9 | 1 | 1 | 1 | 1 | 1 | 1 | 1 | 1 | 1 | 1 |\n",
       "| feature. 10 | 1 | 1 | 1 | 1 | 1 | 1 | 1 | 1 | 1 | 1 |\n",
       "| feature. 11 | 1 | 1 | 1 | 1 | 1 | 1 | 1 | 1 | 1 | 1 |\n",
       "| feature. 12 | 1 | 1 | 1 | 1 | 1 | 1 | 1 | 1 | 1 | 1 |\n",
       "| feature. 13 | 1 | 1 | 1 | 1 | 1 | 1 | 1 | 1 | 1 | 1 |\n",
       "| feature. 14 | 1 | 1 | 1 | 1 | 1 | 1 | 1 | 1 | 1 | 1 |\n",
       "| feature. 15 | 1 | 1 | 1 | 1 | 1 | 1 | 1 | 1 | 1 | 1 |\n",
       "| feature. 16 | 1 | 1 | 1 | 1 | 1 | 1 | 1 | 1 | 1 | 1 |\n",
       "| feature. 17 | 1 | 1 | 1 | 1 | 1 | 1 | 1 | 1 | 1 | 1 |\n",
       "| feature. 18 | 1 | 1 | 1 | 1 | 1 | 1 | 1 | 1 | 1 | 1 |\n",
       "| feature. 19 | 1 | 1 | 1 | 1 | 1 | 1 | 1 | 1 | 1 | 1 |\n",
       "| feature. 20 | 1 | 1 | 1 | 1 | 1 | 1 | 1 | 1 | 1 | 1 |\n",
       "\n"
      ],
      "text/plain": [
       "            sample. 1 sample. 2 sample. 3 sample. 4 sample. 5 sample. 6\n",
       "feature. 1  1         1         1         1         1         1        \n",
       "feature. 2  1         1         1         1         1         1        \n",
       "feature. 3  1         1         1         1         1         1        \n",
       "feature. 4  1         1         1         1         1         1        \n",
       "feature. 5  1         1         1         1         1         1        \n",
       "feature. 6  1         1         1         1         1         1        \n",
       "feature. 7  1         1         1         1         1         1        \n",
       "feature. 8  1         1         1         1         1         1        \n",
       "feature. 9  1         1         1         1         1         1        \n",
       "feature. 10 1         1         1         1         1         1        \n",
       "feature. 11 1         1         1         1         1         1        \n",
       "feature. 12 1         1         1         1         1         1        \n",
       "feature. 13 1         1         1         1         1         1        \n",
       "feature. 14 1         1         1         1         1         1        \n",
       "feature. 15 1         1         1         1         1         1        \n",
       "feature. 16 1         1         1         1         1         1        \n",
       "feature. 17 1         1         1         1         1         1        \n",
       "feature. 18 1         1         1         1         1         1        \n",
       "feature. 19 1         1         1         1         1         1        \n",
       "feature. 20 1         1         1         1         1         1        \n",
       "            sample. 7 sample. 8 sample. 9 sample. 10\n",
       "feature. 1  1         1         1         1         \n",
       "feature. 2  1         1         1         1         \n",
       "feature. 3  1         1         1         1         \n",
       "feature. 4  1         1         1         1         \n",
       "feature. 5  1         1         1         1         \n",
       "feature. 6  1         1         1         1         \n",
       "feature. 7  1         1         1         1         \n",
       "feature. 8  1         1         1         1         \n",
       "feature. 9  1         1         1         1         \n",
       "feature. 10 1         1         1         1         \n",
       "feature. 11 1         1         1         1         \n",
       "feature. 12 1         1         1         1         \n",
       "feature. 13 1         1         1         1         \n",
       "feature. 14 1         1         1         1         \n",
       "feature. 15 1         1         1         1         \n",
       "feature. 16 1         1         1         1         \n",
       "feature. 17 1         1         1         1         \n",
       "feature. 18 1         1         1         1         \n",
       "feature. 19 1         1         1         1         \n",
       "feature. 20 1         1         1         1         "
      ]
     },
     "metadata": {},
     "output_type": "display_data"
    }
   ],
   "source": [
    "Z.hat[1,,]"
   ]
  },
  {
   "cell_type": "code",
   "execution_count": 19,
   "metadata": {},
   "outputs": [],
   "source": [
    "# mat: a matrix that is number of features by number of sources\n",
    "# return a tensor that is number of features by number of sources by number of sources\n",
    "# per feature, it turns the original vector (of length number of sources) to entries in a diagnol matrix\n",
    "matrix_to_diag_tensor = function(mat){\n",
    "    m = nrow(mat)\n",
    "    k = ncol(mat)\n",
    "    feature.ids = rownames(mat)\n",
    "    source.ids  = colnames(mat)\n",
    "    \n",
    "    dtensor = array(0, c(m,k,k))\n",
    "    dimnames(dtensor)[[1]] = feature.ids\n",
    "    dimnames(dtensor)[[2]] = source.ids\n",
    "    dimnames(dtensor)[[3]] = source.ids\n",
    "    \n",
    "    for (j in 1:m){\n",
    "        dtensor[j,,] = diag(mat[j,])\n",
    "    }\n",
    "    return(dtensor) \n",
    "}"
   ]
  },
  {
   "cell_type": "code",
   "execution_count": 20,
   "metadata": {},
   "outputs": [],
   "source": [
    "sigmas_hat = matrix(c(1, 2, 3, 4, 5, 6),ncol = 3, byrow = T)\n",
    "rownames(sigmas_hat) = paste0(\"feature.\", 1:2)\n",
    "colnames(sigmas_hat) = paste0(\"source.\", 1:3)"
   ]
  },
  {
   "cell_type": "code",
   "execution_count": 21,
   "metadata": {},
   "outputs": [
    {
     "data": {
      "text/html": [
       "<table class=\"dataframe\">\n",
       "<caption>A matrix: 2 × 3 of type dbl</caption>\n",
       "<thead>\n",
       "\t<tr><th></th><th scope=col>source.1</th><th scope=col>source.2</th><th scope=col>source.3</th></tr>\n",
       "</thead>\n",
       "<tbody>\n",
       "\t<tr><th scope=row>feature.1</th><td>1</td><td>2</td><td>3</td></tr>\n",
       "\t<tr><th scope=row>feature.2</th><td>4</td><td>5</td><td>6</td></tr>\n",
       "</tbody>\n",
       "</table>\n"
      ],
      "text/latex": [
       "A matrix: 2 × 3 of type dbl\n",
       "\\begin{tabular}{r|lll}\n",
       "  & source.1 & source.2 & source.3\\\\\n",
       "\\hline\n",
       "\tfeature.1 & 1 & 2 & 3\\\\\n",
       "\tfeature.2 & 4 & 5 & 6\\\\\n",
       "\\end{tabular}\n"
      ],
      "text/markdown": [
       "\n",
       "A matrix: 2 × 3 of type dbl\n",
       "\n",
       "| <!--/--> | source.1 | source.2 | source.3 |\n",
       "|---|---|---|---|\n",
       "| feature.1 | 1 | 2 | 3 |\n",
       "| feature.2 | 4 | 5 | 6 |\n",
       "\n"
      ],
      "text/plain": [
       "          source.1 source.2 source.3\n",
       "feature.1 1        2        3       \n",
       "feature.2 4        5        6       "
      ]
     },
     "metadata": {},
     "output_type": "display_data"
    }
   ],
   "source": [
    "sigmas_hat"
   ]
  },
  {
   "cell_type": "code",
   "execution_count": 22,
   "metadata": {},
   "outputs": [
    {
     "data": {
      "text/html": [
       "<table class=\"dataframe\">\n",
       "<caption>A matrix: 3 × 3 of type dbl</caption>\n",
       "<thead>\n",
       "\t<tr><th></th><th scope=col>source.1</th><th scope=col>source.2</th><th scope=col>source.3</th></tr>\n",
       "</thead>\n",
       "<tbody>\n",
       "\t<tr><th scope=row>source.1</th><td>1</td><td>0</td><td>0</td></tr>\n",
       "\t<tr><th scope=row>source.2</th><td>0</td><td>2</td><td>0</td></tr>\n",
       "\t<tr><th scope=row>source.3</th><td>0</td><td>0</td><td>3</td></tr>\n",
       "</tbody>\n",
       "</table>\n"
      ],
      "text/latex": [
       "A matrix: 3 × 3 of type dbl\n",
       "\\begin{tabular}{r|lll}\n",
       "  & source.1 & source.2 & source.3\\\\\n",
       "\\hline\n",
       "\tsource.1 & 1 & 0 & 0\\\\\n",
       "\tsource.2 & 0 & 2 & 0\\\\\n",
       "\tsource.3 & 0 & 0 & 3\\\\\n",
       "\\end{tabular}\n"
      ],
      "text/markdown": [
       "\n",
       "A matrix: 3 × 3 of type dbl\n",
       "\n",
       "| <!--/--> | source.1 | source.2 | source.3 |\n",
       "|---|---|---|---|\n",
       "| source.1 | 1 | 0 | 0 |\n",
       "| source.2 | 0 | 2 | 0 |\n",
       "| source.3 | 0 | 0 | 3 |\n",
       "\n"
      ],
      "text/plain": [
       "         source.1 source.2 source.3\n",
       "source.1 1        0        0       \n",
       "source.2 0        2        0       \n",
       "source.3 0        0        3       "
      ]
     },
     "metadata": {},
     "output_type": "display_data"
    }
   ],
   "source": [
    "matrix_to_diag_tensor(sigmas_hat)[1,,]"
   ]
  },
  {
   "cell_type": "code",
   "execution_count": 23,
   "metadata": {},
   "outputs": [
    {
     "data": {
      "text/html": [
       "<table class=\"dataframe\">\n",
       "<caption>A matrix: 3 × 3 of type dbl</caption>\n",
       "<thead>\n",
       "\t<tr><th></th><th scope=col>source.1</th><th scope=col>source.2</th><th scope=col>source.3</th></tr>\n",
       "</thead>\n",
       "<tbody>\n",
       "\t<tr><th scope=row>source.1</th><td>4</td><td>0</td><td>0</td></tr>\n",
       "\t<tr><th scope=row>source.2</th><td>0</td><td>5</td><td>0</td></tr>\n",
       "\t<tr><th scope=row>source.3</th><td>0</td><td>0</td><td>6</td></tr>\n",
       "</tbody>\n",
       "</table>\n"
      ],
      "text/latex": [
       "A matrix: 3 × 3 of type dbl\n",
       "\\begin{tabular}{r|lll}\n",
       "  & source.1 & source.2 & source.3\\\\\n",
       "\\hline\n",
       "\tsource.1 & 4 & 0 & 0\\\\\n",
       "\tsource.2 & 0 & 5 & 0\\\\\n",
       "\tsource.3 & 0 & 0 & 6\\\\\n",
       "\\end{tabular}\n"
      ],
      "text/markdown": [
       "\n",
       "A matrix: 3 × 3 of type dbl\n",
       "\n",
       "| <!--/--> | source.1 | source.2 | source.3 |\n",
       "|---|---|---|---|\n",
       "| source.1 | 4 | 0 | 0 |\n",
       "| source.2 | 0 | 5 | 0 |\n",
       "| source.3 | 0 | 0 | 6 |\n",
       "\n"
      ],
      "text/plain": [
       "         source.1 source.2 source.3\n",
       "source.1 4        0        0       \n",
       "source.2 0        5        0       \n",
       "source.3 0        0        6       "
      ]
     },
     "metadata": {},
     "output_type": "display_data"
    }
   ],
   "source": [
    "matrix_to_diag_tensor(sigmas_hat)[2,,]"
   ]
  },
  {
   "cell_type": "markdown",
   "metadata": {},
   "source": [
    "# Evaluation related "
   ]
  },
  {
   "cell_type": "code",
   "execution_count": 2,
   "metadata": {},
   "outputs": [],
   "source": [
    "# x: list of numbers  \n",
    "# y: list of numbers \n",
    "# robust: boolean. indicate if using robust correlation\n",
    "# qtl: numeric between (0,1), only meaningful when robust is turned on. indicate the fraction of the data that is considered to be \"good portion\" and will participate in the correlation calculation\n",
    "# check the correlation between x and y after excluding outliers defined by the qtl\n",
    "# note that if in IQR is 0 in either x or y, OR x and y are completely colinear, robust correlation will be NA and thus filled by 0\n",
    "safe_cor = function(x, y, robust = FALSE, qtl = 0.95){\n",
    "    res = tryCatch({\n",
    "        if(robust){\n",
    "            cov.rob(cbind(x,y), cor = TRUE, quantile.used = round(qtl*length(x)) ,method = \"mve\")$cor[1,2] \n",
    "        }else{\n",
    "            cor(x,y)\n",
    "        }\n",
    "        \n",
    "    }, error = function(cond){\n",
    "        0\n",
    "    })\n",
    "    \n",
    "    # in regular correlation if all constant, then it is going to be NA\n",
    "    if (is.na(res)){\n",
    "        return(0)\n",
    "    }else{\n",
    "        return(res)\n",
    "    }\n",
    "    \n",
    "}"
   ]
  },
  {
   "cell_type": "code",
   "execution_count": 3,
   "metadata": {},
   "outputs": [
    {
     "data": {
      "text/html": [
       "-0.999866668889379"
      ],
      "text/latex": [
       "-0.999866668889379"
      ],
      "text/markdown": [
       "-0.999866668889379"
      ],
      "text/plain": [
       "[1] -0.9998667"
      ]
     },
     "metadata": {},
     "output_type": "display_data"
    }
   ],
   "source": [
    "# if use all observations, not robust\n",
    "safe_cor(c(1,2,3,4,5,6,7,8,9,1000), c(1,2,3,4,5,6,7,8,9, -1000), F, 1)"
   ]
  },
  {
   "cell_type": "code",
   "execution_count": 4,
   "metadata": {},
   "outputs": [
    {
     "data": {
      "text/html": [
       "0"
      ],
      "text/latex": [
       "0"
      ],
      "text/markdown": [
       "0"
      ],
      "text/plain": [
       "[1] 0"
      ]
     },
     "metadata": {},
     "output_type": "display_data"
    }
   ],
   "source": [
    "# if use all observations, robust, expect to have an error and return 0, need to exlude at least 1 observation\n",
    "safe_cor(c(1,2,3,4,5,6,7,8,9,1000), c(1,2,3,4,5,6,7,8,9, -1000), T, 1)"
   ]
  },
  {
   "cell_type": "code",
   "execution_count": 5,
   "metadata": {},
   "outputs": [
    {
     "data": {
      "text/html": [
       "1"
      ],
      "text/latex": [
       "1"
      ],
      "text/markdown": [
       "1"
      ],
      "text/plain": [
       "[1] 1"
      ]
     },
     "metadata": {},
     "output_type": "display_data"
    }
   ],
   "source": [
    "# if use good portion of observations\n",
    "safe_cor(c(1,2,3,4,5,6,7,8,9,1000), c(1,2,3,4,5,6,7,8,9, -1000), T, 0.9)"
   ]
  },
  {
   "cell_type": "code",
   "execution_count": 6,
   "metadata": {},
   "outputs": [
    {
     "data": {
      "text/html": [
       "0"
      ],
      "text/latex": [
       "0"
      ],
      "text/markdown": [
       "0"
      ],
      "text/plain": [
       "[1] 0"
      ]
     },
     "metadata": {},
     "output_type": "display_data"
    }
   ],
   "source": [
    "# completely colinear raw x and y will trigger this to be NA and filled by 0\n",
    "safe_cor(c(1,2,3,4,5,6,7,8,9,1000), c(1,2,3,4,5,6,7,8,9, 1000), T, 0.9)"
   ]
  },
  {
   "cell_type": "code",
   "execution_count": 13,
   "metadata": {},
   "outputs": [
    {
     "data": {
      "text/html": [
       "1"
      ],
      "text/latex": [
       "1"
      ],
      "text/markdown": [
       "1"
      ],
      "text/plain": [
       "[1] 1"
      ]
     },
     "metadata": {},
     "output_type": "display_data"
    }
   ],
   "source": [
    "#slightly not colinear will do \n",
    "safe_cor(c(1,2,3,4,5,6,7,8,9,1000), c(2,3,4,5,6,7,8,9,10,1000), T, 0.9)"
   ]
  },
  {
   "cell_type": "code",
   "execution_count": 9,
   "metadata": {},
   "outputs": [
    {
     "data": {
      "text/html": [
       "0"
      ],
      "text/latex": [
       "0"
      ],
      "text/markdown": [
       "0"
      ],
      "text/plain": [
       "[1] 0"
      ]
     },
     "metadata": {},
     "output_type": "display_data"
    }
   ],
   "source": [
    "# if constant, return 0\n",
    "safe_cor(rep(1, 10), rep(2, 10), T, 0.9)"
   ]
  },
  {
   "cell_type": "code",
   "execution_count": 10,
   "metadata": {},
   "outputs": [
    {
     "name": "stderr",
     "output_type": "stream",
     "text": [
      "Warning message in cor(x, y):\n",
      "“the standard deviation is zero”\n"
     ]
    },
    {
     "data": {
      "text/html": [
       "0"
      ],
      "text/latex": [
       "0"
      ],
      "text/markdown": [
       "0"
      ],
      "text/plain": [
       "[1] 0"
      ]
     },
     "metadata": {},
     "output_type": "display_data"
    }
   ],
   "source": [
    "# if constant, return 0\n",
    "safe_cor(rep(1, 10), rep(2, 10), F, 0.9)"
   ]
  },
  {
   "cell_type": "code",
   "execution_count": 14,
   "metadata": {},
   "outputs": [],
   "source": [
    "# Z.true is an array of k by m by n, the true tensor \n",
    "# Z.hat is an array of k by m by n, the estimated tensor \n",
    "# eval.feature.source is a matrix of logical values that is number of features by number of sources. only calculate correlation on feature-source that has TRUE in this matrix \n",
    "# robust: boolean. indicate if using robust correlation\n",
    "# qtl: numeric between (0,1), only meaningful when robust is turned on. indicate the fraction of the data that is considered to be \"good portion\" and will participate in the correlation calculation\n",
    "# return a m by k correltion matrix, each column is a different source and each row is a different feature, \n",
    "# each entry is a correlation score, indicating that feautre, that source's tensor estimated across samples\n",
    "# those entry with FALSE in the eval.feature.source is going to be set to NA \n",
    "calc_Z_corrs <- function(Z.true, Z.hat, eval.feature.source = NULL, robust = TRUE, qtl = 0.95){\n",
    "    \n",
    "    m = dim(Z.true)[2]\n",
    "    k = dim(Z.true)[1]\n",
    "    Z.corrs = matrix(NA, m, k)\n",
    "    rownames(Z.corrs) = dimnames(Z.true)[[2]]\n",
    "    colnames(Z.corrs) = dimnames(Z.true)[[1]]\n",
    "    \n",
    "    # if eval.feature.source is not present, return all results\n",
    "    if(is.null(eval.feature.source)){\n",
    "        eval.feature.source = matrix(TRUE, m, k)\n",
    "    }\n",
    "    \n",
    "    for (h in 1:k){\n",
    "        for (j in 1:m){\n",
    "            if(eval.feature.source[j,h]){\n",
    "                Z.corrs[j,h] <- safe_cor(Z.true[h,j,], Z.hat[h,j,], robust, qtl)\n",
    "            }else{\n",
    "                Z.corrs[j,h] <- NA\n",
    "            }\n",
    "                \n",
    "        }\n",
    "    }\n",
    "    return(Z.corrs)\n",
    "}"
   ]
  },
  {
   "cell_type": "code",
   "execution_count": 18,
   "metadata": {},
   "outputs": [],
   "source": [
    "Z.true = array(c(1, 2.1, 3.2, 4.1, 5.2, 6.3, 7.4, 8.2, 9.1, 10.9,\n",
    "                 100, 2, 3,     4, 5,     6, 7,     8,   9, 10), \n",
    "               c(1,2,10))\n",
    "dimnames(Z.true)[[1]] = c(\"source.1\")\n",
    "dimnames(Z.true)[[2]] = c(\"feature.1\", \"feature.2\")\n",
    "dimnames(Z.true)[[3]] = c(paste0(\"sample\", 1:10))\n",
    "\n",
    "Z.hat = array(c(  -1, 2, 3, 4, 5, 6, 7, 8, 9, 10,\n",
    "                -100, 2, 3, 4, 5, 6, 7, 8, 9, 10), c(1,2,10))"
   ]
  },
  {
   "cell_type": "code",
   "execution_count": 19,
   "metadata": {},
   "outputs": [
    {
     "data": {
      "text/html": [
       "<table class=\"dataframe\">\n",
       "<caption>A matrix: 2 × 1 of type dbl</caption>\n",
       "<thead>\n",
       "\t<tr><th></th><th scope=col>source.1</th></tr>\n",
       "</thead>\n",
       "<tbody>\n",
       "\t<tr><th scope=row>feature.1</th><td>0.9869641</td></tr>\n",
       "\t<tr><th scope=row>feature.2</th><td>0.9992373</td></tr>\n",
       "</tbody>\n",
       "</table>\n"
      ],
      "text/latex": [
       "A matrix: 2 × 1 of type dbl\n",
       "\\begin{tabular}{r|l}\n",
       "  & source.1\\\\\n",
       "\\hline\n",
       "\tfeature.1 & 0.9869641\\\\\n",
       "\tfeature.2 & 0.9992373\\\\\n",
       "\\end{tabular}\n"
      ],
      "text/markdown": [
       "\n",
       "A matrix: 2 × 1 of type dbl\n",
       "\n",
       "| <!--/--> | source.1 |\n",
       "|---|---|\n",
       "| feature.1 | 0.9869641 |\n",
       "| feature.2 | 0.9992373 |\n",
       "\n"
      ],
      "text/plain": [
       "          source.1 \n",
       "feature.1 0.9869641\n",
       "feature.2 0.9992373"
      ]
     },
     "metadata": {},
     "output_type": "display_data"
    }
   ],
   "source": [
    "calc_Z_corrs(Z.true, Z.hat, eval.feature.source = NULL, robust = T, qtl = 0.9)"
   ]
  },
  {
   "cell_type": "code",
   "execution_count": 20,
   "metadata": {},
   "outputs": [
    {
     "data": {
      "text/html": [
       "<table class=\"dataframe\">\n",
       "<caption>A matrix: 2 × 1 of type dbl</caption>\n",
       "<thead>\n",
       "\t<tr><th></th><th scope=col>source.1</th></tr>\n",
       "</thead>\n",
       "<tbody>\n",
       "\t<tr><th scope=row>feature.1</th><td>0.9869641</td></tr>\n",
       "\t<tr><th scope=row>feature.2</th><td>       NA</td></tr>\n",
       "</tbody>\n",
       "</table>\n"
      ],
      "text/latex": [
       "A matrix: 2 × 1 of type dbl\n",
       "\\begin{tabular}{r|l}\n",
       "  & source.1\\\\\n",
       "\\hline\n",
       "\tfeature.1 & 0.9869641\\\\\n",
       "\tfeature.2 &        NA\\\\\n",
       "\\end{tabular}\n"
      ],
      "text/markdown": [
       "\n",
       "A matrix: 2 × 1 of type dbl\n",
       "\n",
       "| <!--/--> | source.1 |\n",
       "|---|---|\n",
       "| feature.1 | 0.9869641 |\n",
       "| feature.2 |        NA |\n",
       "\n"
      ],
      "text/plain": [
       "          source.1 \n",
       "feature.1 0.9869641\n",
       "feature.2        NA"
      ]
     },
     "metadata": {},
     "output_type": "display_data"
    }
   ],
   "source": [
    "# if eval.feature.source is set to FALSE, that entry will not be evaled and set to NA\n",
    "calc_Z_corrs(Z.true, Z.hat, eval.feature.source = matrix(c(T, F), 2, 1), robust = T, qtl = 0.9)"
   ]
  },
  {
   "cell_type": "code",
   "execution_count": null,
   "metadata": {},
   "outputs": [],
   "source": []
  },
  {
   "cell_type": "markdown",
   "metadata": {},
   "source": [
    "# moments correlation"
   ]
  },
  {
   "cell_type": "code",
   "execution_count": 21,
   "metadata": {},
   "outputs": [],
   "source": [
    "#source.ids: list of sources\n",
    "#generate all the unique combination of 2 difference sources  \n",
    "get_covar_ids = function(source.ids){\n",
    "    k = length(source.ids)\n",
    "    covar.ids = list(choose( k,2))\n",
    "    counter = 1\n",
    "    for (h1 in 1:( k -1)){\n",
    "        for (h2 in (h1 + 1): k){\n",
    "            covar.ids[counter] = paste(source.ids[h1], source.ids[h2], sep = \"-\")\n",
    "            counter = counter +1\n",
    "        }\n",
    "    }\n",
    "    return(unlist(covar.ids))\n",
    "}"
   ]
  },
  {
   "cell_type": "code",
   "execution_count": 22,
   "metadata": {},
   "outputs": [
    {
     "data": {
      "text/html": [
       "<style>\n",
       ".list-inline {list-style: none; margin:0; padding: 0}\n",
       ".list-inline>li {display: inline-block}\n",
       ".list-inline>li:not(:last-child)::after {content: \"\\00b7\"; padding: 0 .5ex}\n",
       "</style>\n",
       "<ol class=list-inline><li>'a-b'</li><li>'a-c'</li><li>'b-c'</li></ol>\n"
      ],
      "text/latex": [
       "\\begin{enumerate*}\n",
       "\\item 'a-b'\n",
       "\\item 'a-c'\n",
       "\\item 'b-c'\n",
       "\\end{enumerate*}\n"
      ],
      "text/markdown": [
       "1. 'a-b'\n",
       "2. 'a-c'\n",
       "3. 'b-c'\n",
       "\n",
       "\n"
      ],
      "text/plain": [
       "[1] \"a-b\" \"a-c\" \"b-c\""
      ]
     },
     "metadata": {},
     "output_type": "display_data"
    }
   ],
   "source": [
    "get_covar_ids(c(\"a\", \"b\", \"c\"))"
   ]
  },
  {
   "cell_type": "code",
   "execution_count": 23,
   "metadata": {},
   "outputs": [
    {
     "name": "stdout",
     "output_type": "stream",
     "text": [
      "[1] \"a\"\n",
      "[1] \"b\"\n",
      "[1] \"a\"\n",
      "[1] \"c\"\n",
      "[1] \"b\"\n",
      "[1] \"c\"\n"
     ]
    }
   ],
   "source": [
    "for (covar.id in get_covar_ids(c(\"a\", \"b\", \"c\"))){\n",
    "    covar.pair = strsplit(covar.id,\"-\")[[1]]\n",
    "    print(covar.pair[1])\n",
    "    print(covar.pair[2])\n",
    "}"
   ]
  },
  {
   "cell_type": "code",
   "execution_count": 24,
   "metadata": {},
   "outputs": [],
   "source": [
    "# params.true: a list of 2 keys: mus, sigmas. mus is number of features by number of sources. sigmas is number of features by source by source. these are true parameters\n",
    "# params.hat: similar to params.true but are the estimated \n",
    "# robust: boolean if to use robust correlation. default is TRUE\n",
    "# qtl: numeric, the quantile of robust correlation, default is 0.95\n",
    "get_moment_corrs = function (params.true, params.hat, robust = TRUE, qtl = 0.95){\n",
    "            \n",
    "    feature.ids = rownames(params.true$mus)\n",
    "    source.ids  = colnames(params.true$mus)\n",
    "    covar.ids   = get_covar_ids(source.ids)\n",
    "    \n",
    "    mus.rob.corrs   = matrix(0, 1, length(source.ids))\n",
    "    colnames(mus.rob.corrs)   = source.ids\n",
    "    rownames(mus.rob.corrs)   = c(\"mus.rob.corrs\")\n",
    "    \n",
    "    var.rob.corrs   = matrix(0, 1, length(source.ids))\n",
    "    colnames(var.rob.corrs)   = source.ids\n",
    "    rownames(var.rob.corrs)   = c(\"var.rob.corrs\")\n",
    "    \n",
    "    covar.rob.corrs = matrix(0, 1, choose(length(source.ids), 2))\n",
    "    colnames(covar.rob.corrs) = covar.ids\n",
    "    rownames(covar.rob.corrs) = c(\"covar.rob.corrs\")\n",
    "\n",
    "    for (h in 1:length(source.ids)){\n",
    "        mus.rob.corrs[1,h]  = safe_cor(params.true$mus[,h], \n",
    "                                       params.hat$mus[,h], robust, qtl)\n",
    "        \n",
    "        var.rob.corrs[1,h]  = safe_cor(params.true$sigmas[,h,h], \n",
    "                                       params.hat$sigmas[,h,h], robust, qtl)\n",
    "    }\n",
    "    for (covar.id in covar.ids){\n",
    "        covar.pair = strsplit(covar.id,\"-\")[[1]]\n",
    "        covar.rob.corrs[1,covar.id] = safe_cor(params.true$sigmas[,covar.pair[1],covar.pair[2]], \n",
    "                                               params.hat$sigmas[,covar.pair[1],covar.pair[2]], robust, qtl)\n",
    "    }\n",
    "                      \n",
    "    return(list(mus.rob.corrs   = mus.rob.corrs,         \n",
    "                var.rob.corrs   = var.rob.corrs,      \n",
    "                covar.rob.corrs = covar.rob.corrs))                    \n",
    "}"
   ]
  },
  {
   "cell_type": "code",
   "execution_count": 25,
   "metadata": {},
   "outputs": [],
   "source": [
    "k = 5\n",
    "m = 600\n",
    "n = 500\n",
    "\n",
    "source.ids  = paste0(\"source.\", 1:k)\n",
    "feature.ids = paste0(\"feature.\", 1:m)\n",
    "sample.ids  = paste0(\"sample.\", 1:n)\n",
    "\n",
    "mus.true  = matrix (runif(m*k, 0, 1), m, k)\n",
    "rownames(mus.true) = feature.ids\n",
    "colnames(mus.true) = source.ids\n",
    "\n",
    "mus.hat = mus.true + matrix (runif(m*k, 0, 0.1), m, k)\n",
    "\n",
    "sigmas.true = array(runif(m*k*k, 0, 1), c(m,k,k))\n",
    "dimnames(sigmas.true)[[1]] = feature.ids\n",
    "dimnames(sigmas.true)[[2]] = source.ids\n",
    "dimnames(sigmas.true)[[3]] = source.ids\n",
    "\n",
    "# add noise and deliberately set a few entries to nonsense \n",
    "sigmas.hat = sigmas.true + array(runif(m*k*k, 0, 0.1), c(m,k,k))\n",
    "sigmas.hat[,1,1] = runif(m, 0, 1)\n",
    "\n",
    "sigmas.hat[,1,2] = runif(m, 0, 1)\n",
    "sigmas.hat[,2,1] = runif(m, 0, 1)\n",
    "\n",
    "sigmas.hat[,2,3] = runif(m, 0, 1)\n",
    "sigmas.hat[,3,2] = runif(m, 0, 1)\n",
    "\n",
    "sigmas.hat[,2,4] = runif(m, 0, 1)\n",
    "sigmas.hat[,4,2] = runif(m, 0, 1)\n",
    "\n",
    "sigmas.hat[,3,5] = runif(m, 0, 1)\n",
    "sigmas.hat[,5,3] = runif(m, 0, 1)\n",
    "\n",
    "params.true = list(mus = mus.true, sigmas = sigmas.true)\n",
    "params.hat  = list(mus = mus.hat, sigmas = sigmas.hat)"
   ]
  },
  {
   "cell_type": "code",
   "execution_count": 26,
   "metadata": {},
   "outputs": [],
   "source": [
    "moment.corrs = get_moment_corrs(params.true, params.hat, robust = T)"
   ]
  },
  {
   "cell_type": "code",
   "execution_count": 27,
   "metadata": {},
   "outputs": [
    {
     "data": {
      "text/html": [
       "<dl>\n",
       "\t<dt>$mus.rob.corrs</dt>\n",
       "\t\t<dd><table class=\"dataframe\">\n",
       "<caption>A matrix: 1 × 5 of type dbl</caption>\n",
       "<thead>\n",
       "\t<tr><th></th><th scope=col>source.1</th><th scope=col>source.2</th><th scope=col>source.3</th><th scope=col>source.4</th><th scope=col>source.5</th></tr>\n",
       "</thead>\n",
       "<tbody>\n",
       "\t<tr><th scope=row>mus.rob.corrs</th><td>0.9951468</td><td>0.995078</td><td>0.9952077</td><td>0.9955865</td><td>0.995173</td></tr>\n",
       "</tbody>\n",
       "</table>\n",
       "</dd>\n",
       "\t<dt>$var.rob.corrs</dt>\n",
       "\t\t<dd><table class=\"dataframe\">\n",
       "<caption>A matrix: 1 × 5 of type dbl</caption>\n",
       "<thead>\n",
       "\t<tr><th></th><th scope=col>source.1</th><th scope=col>source.2</th><th scope=col>source.3</th><th scope=col>source.4</th><th scope=col>source.5</th></tr>\n",
       "</thead>\n",
       "<tbody>\n",
       "\t<tr><th scope=row>var.rob.corrs</th><td>-0.02043646</td><td>0.9948213</td><td>0.9946894</td><td>0.9952005</td><td>0.9947666</td></tr>\n",
       "</tbody>\n",
       "</table>\n",
       "</dd>\n",
       "\t<dt>$covar.rob.corrs</dt>\n",
       "\t\t<dd><table class=\"dataframe\">\n",
       "<caption>A matrix: 1 × 10 of type dbl</caption>\n",
       "<thead>\n",
       "\t<tr><th></th><th scope=col>source.1-source.2</th><th scope=col>source.1-source.3</th><th scope=col>source.1-source.4</th><th scope=col>source.1-source.5</th><th scope=col>source.2-source.3</th><th scope=col>source.2-source.4</th><th scope=col>source.2-source.5</th><th scope=col>source.3-source.4</th><th scope=col>source.3-source.5</th><th scope=col>source.4-source.5</th></tr>\n",
       "</thead>\n",
       "<tbody>\n",
       "\t<tr><th scope=row>covar.rob.corrs</th><td>-0.078437</td><td>0.9950331</td><td>0.9948563</td><td>0.9953406</td><td>0.09902901</td><td>-0.01512013</td><td>0.9953173</td><td>0.9949377</td><td>-0.05831088</td><td>0.9953077</td></tr>\n",
       "</tbody>\n",
       "</table>\n",
       "</dd>\n",
       "</dl>\n"
      ],
      "text/latex": [
       "\\begin{description}\n",
       "\\item[\\$mus.rob.corrs] A matrix: 1 × 5 of type dbl\n",
       "\\begin{tabular}{r|lllll}\n",
       "  & source.1 & source.2 & source.3 & source.4 & source.5\\\\\n",
       "\\hline\n",
       "\tmus.rob.corrs & 0.9951468 & 0.995078 & 0.9952077 & 0.9955865 & 0.995173\\\\\n",
       "\\end{tabular}\n",
       "\n",
       "\\item[\\$var.rob.corrs] A matrix: 1 × 5 of type dbl\n",
       "\\begin{tabular}{r|lllll}\n",
       "  & source.1 & source.2 & source.3 & source.4 & source.5\\\\\n",
       "\\hline\n",
       "\tvar.rob.corrs & -0.02043646 & 0.9948213 & 0.9946894 & 0.9952005 & 0.9947666\\\\\n",
       "\\end{tabular}\n",
       "\n",
       "\\item[\\$covar.rob.corrs] A matrix: 1 × 10 of type dbl\n",
       "\\begin{tabular}{r|llllllllll}\n",
       "  & source.1-source.2 & source.1-source.3 & source.1-source.4 & source.1-source.5 & source.2-source.3 & source.2-source.4 & source.2-source.5 & source.3-source.4 & source.3-source.5 & source.4-source.5\\\\\n",
       "\\hline\n",
       "\tcovar.rob.corrs & -0.078437 & 0.9950331 & 0.9948563 & 0.9953406 & 0.09902901 & -0.01512013 & 0.9953173 & 0.9949377 & -0.05831088 & 0.9953077\\\\\n",
       "\\end{tabular}\n",
       "\n",
       "\\end{description}\n"
      ],
      "text/markdown": [
       "$mus.rob.corrs\n",
       ":   \n",
       "A matrix: 1 × 5 of type dbl\n",
       "\n",
       "| <!--/--> | source.1 | source.2 | source.3 | source.4 | source.5 |\n",
       "|---|---|---|---|---|---|\n",
       "| mus.rob.corrs | 0.9951468 | 0.995078 | 0.9952077 | 0.9955865 | 0.995173 |\n",
       "\n",
       "\n",
       "$var.rob.corrs\n",
       ":   \n",
       "A matrix: 1 × 5 of type dbl\n",
       "\n",
       "| <!--/--> | source.1 | source.2 | source.3 | source.4 | source.5 |\n",
       "|---|---|---|---|---|---|\n",
       "| var.rob.corrs | -0.02043646 | 0.9948213 | 0.9946894 | 0.9952005 | 0.9947666 |\n",
       "\n",
       "\n",
       "$covar.rob.corrs\n",
       ":   \n",
       "A matrix: 1 × 10 of type dbl\n",
       "\n",
       "| <!--/--> | source.1-source.2 | source.1-source.3 | source.1-source.4 | source.1-source.5 | source.2-source.3 | source.2-source.4 | source.2-source.5 | source.3-source.4 | source.3-source.5 | source.4-source.5 |\n",
       "|---|---|---|---|---|---|---|---|---|---|---|\n",
       "| covar.rob.corrs | -0.078437 | 0.9950331 | 0.9948563 | 0.9953406 | 0.09902901 | -0.01512013 | 0.9953173 | 0.9949377 | -0.05831088 | 0.9953077 |\n",
       "\n",
       "\n",
       "\n",
       "\n"
      ],
      "text/plain": [
       "$mus.rob.corrs\n",
       "               source.1 source.2  source.3  source.4 source.5\n",
       "mus.rob.corrs 0.9951468 0.995078 0.9952077 0.9955865 0.995173\n",
       "\n",
       "$var.rob.corrs\n",
       "                 source.1  source.2  source.3  source.4  source.5\n",
       "var.rob.corrs -0.02043646 0.9948213 0.9946894 0.9952005 0.9947666\n",
       "\n",
       "$covar.rob.corrs\n",
       "                source.1-source.2 source.1-source.3 source.1-source.4\n",
       "covar.rob.corrs         -0.078437         0.9950331         0.9948563\n",
       "                source.1-source.5 source.2-source.3 source.2-source.4\n",
       "covar.rob.corrs         0.9953406        0.09902901       -0.01512013\n",
       "                source.2-source.5 source.3-source.4 source.3-source.5\n",
       "covar.rob.corrs         0.9953173         0.9949377       -0.05831088\n",
       "                source.4-source.5\n",
       "covar.rob.corrs         0.9953077\n"
      ]
     },
     "metadata": {},
     "output_type": "display_data"
    }
   ],
   "source": [
    "# estimated correlation matches the set up. only those that are deliberatly set to nonsense gets super low score\n",
    "moment.corrs"
   ]
  },
  {
   "cell_type": "code",
   "execution_count": null,
   "metadata": {},
   "outputs": [],
   "source": []
  },
  {
   "cell_type": "code",
   "execution_count": 28,
   "metadata": {},
   "outputs": [],
   "source": [
    "# mdl.list: a list of models, each represent one run\n",
    "# key: character, the name of the variable to extract. \n",
    "# return concated version of that varibale, stacked vertically. columns remain the same\n",
    "concat_key = function(mdl.list, key){\n",
    "    res = list(length(mdl.list))\n",
    "    for (t in 1:length(mdl.list)){\n",
    "        res[[t]] = mdl.list[[t]][[key]]\n",
    "    }\n",
    "    res = Reduce(rbind, res)\n",
    "    return(res)\n",
    "}\n",
    "\n",
    "# mdl.list: a list of models, each represent one run\n",
    "# key1: character, the first name of the variable to extract. \n",
    "# key2: character, the second name of the variable to extract. \n",
    "# return concated version of that varibale, stacked vertically. columns remain the same\n",
    "concat_2_keys = function(mdl.list, key1, key2){\n",
    "    res = list(length(mdl.list))\n",
    "    for (t in 1:length(mdl.list)){\n",
    "        res[[t]] = mdl.list[[t]][[key1]][[key2]]\n",
    "    }\n",
    "    res = Reduce(rbind, res)\n",
    "    return(res)\n",
    "}"
   ]
  },
  {
   "cell_type": "code",
   "execution_count": 29,
   "metadata": {},
   "outputs": [],
   "source": [
    "mdl.list = list()\n",
    "mdl.list[[1]] = list(mus = matrix (runif(10*5, 0, 1), 10, 5),\n",
    "                     moment.recon.corrs = list(mus = matrix (runif(5, 0, 1), 1, 5),\n",
    "                                         var = matrix (runif(5, 0, 1), 1, 5)))\n",
    "\n",
    "mdl.list[[2]] = list(mus = matrix (runif(10*5, 0, 1), 10, 5),\n",
    "                     moment.recon.corrs = list(mus = matrix (runif(5, 0, 1), 1, 5),\n",
    "                                         var = matrix (runif(5, 0, 1), 1, 5)))"
   ]
  },
  {
   "cell_type": "code",
   "execution_count": 30,
   "metadata": {},
   "outputs": [
    {
     "name": "stdout",
     "output_type": "stream",
     "text": [
      "List of 2\n",
      " $ :List of 2\n",
      "  ..$ mus               : num [1:10, 1:5] 0.9151 0.0284 0.8564 0.5953 0.6996 ...\n",
      "  ..$ moment.recon.corrs:List of 2\n",
      "  .. ..$ mus: num [1, 1:5] 0.359 0.214 0.664 0.406 0.763\n",
      "  .. ..$ var: num [1, 1:5] 0.617 0.406 0.482 0.237 0.24\n",
      " $ :List of 2\n",
      "  ..$ mus               : num [1:10, 1:5] 0.212 0.982 0.98 0.172 0.542 ...\n",
      "  ..$ moment.recon.corrs:List of 2\n",
      "  .. ..$ mus: num [1, 1:5] 0.254 0.0571 0.2576 0.0705 0.596\n",
      "  .. ..$ var: num [1, 1:5] 0.925 0.752 0.384 0.158 0.135\n"
     ]
    }
   ],
   "source": [
    "str(mdl.list)"
   ]
  },
  {
   "cell_type": "code",
   "execution_count": 31,
   "metadata": {
    "scrolled": true
   },
   "outputs": [
    {
     "data": {
      "text/html": [
       "<table class=\"dataframe\">\n",
       "<caption>A matrix: 20 × 5 of type dbl</caption>\n",
       "<tbody>\n",
       "\t<tr><td>0.915120249</td><td>0.847544433</td><td>0.94301872</td><td>0.702532472</td><td>0.83307632</td></tr>\n",
       "\t<tr><td>0.028412883</td><td>0.102523704</td><td>0.95303982</td><td>0.457286095</td><td>0.67995812</td></tr>\n",
       "\t<tr><td>0.856423965</td><td>0.357401809</td><td>0.70727609</td><td>0.332869947</td><td>0.48777865</td></tr>\n",
       "\t<tr><td>0.595315177</td><td>0.057135828</td><td>0.18137668</td><td>0.090360845</td><td>0.93684311</td></tr>\n",
       "\t<tr><td>0.699557907</td><td>0.502508165</td><td>0.42942553</td><td>0.939525913</td><td>0.45776004</td></tr>\n",
       "\t<tr><td>0.118900904</td><td>0.685385701</td><td>0.65910546</td><td>0.323143884</td><td>0.93571168</td></tr>\n",
       "\t<tr><td>0.507680171</td><td>0.363697683</td><td>0.82428247</td><td>0.357678541</td><td>0.71698808</td></tr>\n",
       "\t<tr><td>0.785444007</td><td>0.327729658</td><td>0.37195970</td><td>0.513151643</td><td>0.98487607</td></tr>\n",
       "\t<tr><td>0.252443637</td><td>0.215316348</td><td>0.91011644</td><td>0.504627376</td><td>0.06649987</td></tr>\n",
       "\t<tr><td>0.007464877</td><td>0.088174807</td><td>0.51932122</td><td>0.563663266</td><td>0.56725766</td></tr>\n",
       "\t<tr><td>0.211969172</td><td>0.437277932</td><td>0.95857287</td><td>0.054746838</td><td>0.42615222</td></tr>\n",
       "\t<tr><td>0.981527452</td><td>0.147242008</td><td>0.88995993</td><td>0.392157896</td><td>0.64916568</td></tr>\n",
       "\t<tr><td>0.980416591</td><td>0.291610697</td><td>0.16451136</td><td>0.672668550</td><td>0.01448365</td></tr>\n",
       "\t<tr><td>0.171637294</td><td>0.784251804</td><td>0.98813607</td><td>0.888055219</td><td>0.34743529</td></tr>\n",
       "\t<tr><td>0.542383897</td><td>0.564248707</td><td>0.49962750</td><td>0.373801889</td><td>0.06830966</td></tr>\n",
       "\t<tr><td>0.107380840</td><td>0.647523453</td><td>0.69079577</td><td>0.001020254</td><td>0.22806716</td></tr>\n",
       "\t<tr><td>0.275355304</td><td>0.120587885</td><td>0.74852409</td><td>0.201384381</td><td>0.94091202</td></tr>\n",
       "\t<tr><td>0.715112666</td><td>0.201696737</td><td>0.04516871</td><td>0.142034299</td><td>0.91720326</td></tr>\n",
       "\t<tr><td>0.961750088</td><td>0.282973683</td><td>0.59426697</td><td>0.873813638</td><td>0.18479258</td></tr>\n",
       "\t<tr><td>0.543814988</td><td>0.003713311</td><td>0.11869681</td><td>0.608387029</td><td>0.67846702</td></tr>\n",
       "</tbody>\n",
       "</table>\n"
      ],
      "text/latex": [
       "A matrix: 20 × 5 of type dbl\n",
       "\\begin{tabular}{lllll}\n",
       "\t 0.915120249 & 0.847544433 & 0.94301872 & 0.702532472 & 0.83307632\\\\\n",
       "\t 0.028412883 & 0.102523704 & 0.95303982 & 0.457286095 & 0.67995812\\\\\n",
       "\t 0.856423965 & 0.357401809 & 0.70727609 & 0.332869947 & 0.48777865\\\\\n",
       "\t 0.595315177 & 0.057135828 & 0.18137668 & 0.090360845 & 0.93684311\\\\\n",
       "\t 0.699557907 & 0.502508165 & 0.42942553 & 0.939525913 & 0.45776004\\\\\n",
       "\t 0.118900904 & 0.685385701 & 0.65910546 & 0.323143884 & 0.93571168\\\\\n",
       "\t 0.507680171 & 0.363697683 & 0.82428247 & 0.357678541 & 0.71698808\\\\\n",
       "\t 0.785444007 & 0.327729658 & 0.37195970 & 0.513151643 & 0.98487607\\\\\n",
       "\t 0.252443637 & 0.215316348 & 0.91011644 & 0.504627376 & 0.06649987\\\\\n",
       "\t 0.007464877 & 0.088174807 & 0.51932122 & 0.563663266 & 0.56725766\\\\\n",
       "\t 0.211969172 & 0.437277932 & 0.95857287 & 0.054746838 & 0.42615222\\\\\n",
       "\t 0.981527452 & 0.147242008 & 0.88995993 & 0.392157896 & 0.64916568\\\\\n",
       "\t 0.980416591 & 0.291610697 & 0.16451136 & 0.672668550 & 0.01448365\\\\\n",
       "\t 0.171637294 & 0.784251804 & 0.98813607 & 0.888055219 & 0.34743529\\\\\n",
       "\t 0.542383897 & 0.564248707 & 0.49962750 & 0.373801889 & 0.06830966\\\\\n",
       "\t 0.107380840 & 0.647523453 & 0.69079577 & 0.001020254 & 0.22806716\\\\\n",
       "\t 0.275355304 & 0.120587885 & 0.74852409 & 0.201384381 & 0.94091202\\\\\n",
       "\t 0.715112666 & 0.201696737 & 0.04516871 & 0.142034299 & 0.91720326\\\\\n",
       "\t 0.961750088 & 0.282973683 & 0.59426697 & 0.873813638 & 0.18479258\\\\\n",
       "\t 0.543814988 & 0.003713311 & 0.11869681 & 0.608387029 & 0.67846702\\\\\n",
       "\\end{tabular}\n"
      ],
      "text/markdown": [
       "\n",
       "A matrix: 20 × 5 of type dbl\n",
       "\n",
       "| 0.915120249 | 0.847544433 | 0.94301872 | 0.702532472 | 0.83307632 |\n",
       "| 0.028412883 | 0.102523704 | 0.95303982 | 0.457286095 | 0.67995812 |\n",
       "| 0.856423965 | 0.357401809 | 0.70727609 | 0.332869947 | 0.48777865 |\n",
       "| 0.595315177 | 0.057135828 | 0.18137668 | 0.090360845 | 0.93684311 |\n",
       "| 0.699557907 | 0.502508165 | 0.42942553 | 0.939525913 | 0.45776004 |\n",
       "| 0.118900904 | 0.685385701 | 0.65910546 | 0.323143884 | 0.93571168 |\n",
       "| 0.507680171 | 0.363697683 | 0.82428247 | 0.357678541 | 0.71698808 |\n",
       "| 0.785444007 | 0.327729658 | 0.37195970 | 0.513151643 | 0.98487607 |\n",
       "| 0.252443637 | 0.215316348 | 0.91011644 | 0.504627376 | 0.06649987 |\n",
       "| 0.007464877 | 0.088174807 | 0.51932122 | 0.563663266 | 0.56725766 |\n",
       "| 0.211969172 | 0.437277932 | 0.95857287 | 0.054746838 | 0.42615222 |\n",
       "| 0.981527452 | 0.147242008 | 0.88995993 | 0.392157896 | 0.64916568 |\n",
       "| 0.980416591 | 0.291610697 | 0.16451136 | 0.672668550 | 0.01448365 |\n",
       "| 0.171637294 | 0.784251804 | 0.98813607 | 0.888055219 | 0.34743529 |\n",
       "| 0.542383897 | 0.564248707 | 0.49962750 | 0.373801889 | 0.06830966 |\n",
       "| 0.107380840 | 0.647523453 | 0.69079577 | 0.001020254 | 0.22806716 |\n",
       "| 0.275355304 | 0.120587885 | 0.74852409 | 0.201384381 | 0.94091202 |\n",
       "| 0.715112666 | 0.201696737 | 0.04516871 | 0.142034299 | 0.91720326 |\n",
       "| 0.961750088 | 0.282973683 | 0.59426697 | 0.873813638 | 0.18479258 |\n",
       "| 0.543814988 | 0.003713311 | 0.11869681 | 0.608387029 | 0.67846702 |\n",
       "\n"
      ],
      "text/plain": [
       "      [,1]        [,2]        [,3]       [,4]        [,5]      \n",
       " [1,] 0.915120249 0.847544433 0.94301872 0.702532472 0.83307632\n",
       " [2,] 0.028412883 0.102523704 0.95303982 0.457286095 0.67995812\n",
       " [3,] 0.856423965 0.357401809 0.70727609 0.332869947 0.48777865\n",
       " [4,] 0.595315177 0.057135828 0.18137668 0.090360845 0.93684311\n",
       " [5,] 0.699557907 0.502508165 0.42942553 0.939525913 0.45776004\n",
       " [6,] 0.118900904 0.685385701 0.65910546 0.323143884 0.93571168\n",
       " [7,] 0.507680171 0.363697683 0.82428247 0.357678541 0.71698808\n",
       " [8,] 0.785444007 0.327729658 0.37195970 0.513151643 0.98487607\n",
       " [9,] 0.252443637 0.215316348 0.91011644 0.504627376 0.06649987\n",
       "[10,] 0.007464877 0.088174807 0.51932122 0.563663266 0.56725766\n",
       "[11,] 0.211969172 0.437277932 0.95857287 0.054746838 0.42615222\n",
       "[12,] 0.981527452 0.147242008 0.88995993 0.392157896 0.64916568\n",
       "[13,] 0.980416591 0.291610697 0.16451136 0.672668550 0.01448365\n",
       "[14,] 0.171637294 0.784251804 0.98813607 0.888055219 0.34743529\n",
       "[15,] 0.542383897 0.564248707 0.49962750 0.373801889 0.06830966\n",
       "[16,] 0.107380840 0.647523453 0.69079577 0.001020254 0.22806716\n",
       "[17,] 0.275355304 0.120587885 0.74852409 0.201384381 0.94091202\n",
       "[18,] 0.715112666 0.201696737 0.04516871 0.142034299 0.91720326\n",
       "[19,] 0.961750088 0.282973683 0.59426697 0.873813638 0.18479258\n",
       "[20,] 0.543814988 0.003713311 0.11869681 0.608387029 0.67846702"
      ]
     },
     "metadata": {},
     "output_type": "display_data"
    }
   ],
   "source": [
    "concat_key(mdl.list,\"mus\")"
   ]
  },
  {
   "cell_type": "code",
   "execution_count": 32,
   "metadata": {},
   "outputs": [
    {
     "data": {
      "text/html": [
       "<table class=\"dataframe\">\n",
       "<caption>A matrix: 2 × 5 of type dbl</caption>\n",
       "<tbody>\n",
       "\t<tr><td>0.3591791</td><td>0.21429001</td><td>0.6644137</td><td>0.40622711</td><td>0.7625677</td></tr>\n",
       "\t<tr><td>0.2540414</td><td>0.05712932</td><td>0.2575532</td><td>0.07052129</td><td>0.5959777</td></tr>\n",
       "</tbody>\n",
       "</table>\n"
      ],
      "text/latex": [
       "A matrix: 2 × 5 of type dbl\n",
       "\\begin{tabular}{lllll}\n",
       "\t 0.3591791 & 0.21429001 & 0.6644137 & 0.40622711 & 0.7625677\\\\\n",
       "\t 0.2540414 & 0.05712932 & 0.2575532 & 0.07052129 & 0.5959777\\\\\n",
       "\\end{tabular}\n"
      ],
      "text/markdown": [
       "\n",
       "A matrix: 2 × 5 of type dbl\n",
       "\n",
       "| 0.3591791 | 0.21429001 | 0.6644137 | 0.40622711 | 0.7625677 |\n",
       "| 0.2540414 | 0.05712932 | 0.2575532 | 0.07052129 | 0.5959777 |\n",
       "\n"
      ],
      "text/plain": [
       "     [,1]      [,2]       [,3]      [,4]       [,5]     \n",
       "[1,] 0.3591791 0.21429001 0.6644137 0.40622711 0.7625677\n",
       "[2,] 0.2540414 0.05712932 0.2575532 0.07052129 0.5959777"
      ]
     },
     "metadata": {},
     "output_type": "display_data"
    }
   ],
   "source": [
    "concat_2_keys(mdl.list,\"moment.recon.corrs\",\"mus\")"
   ]
  },
  {
   "cell_type": "code",
   "execution_count": null,
   "metadata": {},
   "outputs": [],
   "source": []
  },
  {
   "cell_type": "code",
   "execution_count": null,
   "metadata": {},
   "outputs": [],
   "source": []
  },
  {
   "cell_type": "markdown",
   "metadata": {},
   "source": [
    "# negative values in Z"
   ]
  },
  {
   "cell_type": "code",
   "execution_count": 41,
   "metadata": {},
   "outputs": [],
   "source": [
    "#Z: a 3D array of sources by features by samples\n",
    "#return a new version with no negative values, per source, feature, if the minimal value is below zero, \n",
    "#shift the entire distribution across all samples by the - of the minimal value  \n",
    "none_neg_Z = function(Z){\n",
    "    k = dim(Z)[1]\n",
    "    m = dim(Z)[2]\n",
    "    n = dim(Z)[3]\n",
    "    counter = 0\n",
    "    \n",
    "    for (l in 1:k){\n",
    "        for (j in 1:m){\n",
    "            sample.min = min(Z[l,j,])\n",
    "            if(sample.min < 0){\n",
    "                counter = counter + 1\n",
    "                #move entire distribution to non-neg range \n",
    "                Z[l,j,] = Z[l,j,] + (-sample.min)\n",
    "            }\n",
    "        }\n",
    "    }\n",
    "    \n",
    "    message(paste0(round((counter/(m * k)) * 100, 2), \" percent of the feature-source are shifted to be non negative\"))\n",
    "    return(Z)\n",
    "}"
   ]
  },
  {
   "cell_type": "code",
   "execution_count": 42,
   "metadata": {},
   "outputs": [],
   "source": [
    "Z.hat = array(-1, c(5, 100, 20))"
   ]
  },
  {
   "cell_type": "code",
   "execution_count": 43,
   "metadata": {},
   "outputs": [],
   "source": [
    "Z.hat[1,1,1] = -100"
   ]
  },
  {
   "cell_type": "code",
   "execution_count": 44,
   "metadata": {
    "scrolled": true
   },
   "outputs": [
    {
     "data": {
      "text/html": [
       "<table class=\"dataframe\">\n",
       "<caption>A matrix: 100 × 20 of type dbl</caption>\n",
       "<tbody>\n",
       "\t<tr><td>-100</td><td>-1</td><td>-1</td><td>-1</td><td>-1</td><td>-1</td><td>-1</td><td>-1</td><td>-1</td><td>-1</td><td>-1</td><td>-1</td><td>-1</td><td>-1</td><td>-1</td><td>-1</td><td>-1</td><td>-1</td><td>-1</td><td>-1</td></tr>\n",
       "\t<tr><td>  -1</td><td>-1</td><td>-1</td><td>-1</td><td>-1</td><td>-1</td><td>-1</td><td>-1</td><td>-1</td><td>-1</td><td>-1</td><td>-1</td><td>-1</td><td>-1</td><td>-1</td><td>-1</td><td>-1</td><td>-1</td><td>-1</td><td>-1</td></tr>\n",
       "\t<tr><td>  -1</td><td>-1</td><td>-1</td><td>-1</td><td>-1</td><td>-1</td><td>-1</td><td>-1</td><td>-1</td><td>-1</td><td>-1</td><td>-1</td><td>-1</td><td>-1</td><td>-1</td><td>-1</td><td>-1</td><td>-1</td><td>-1</td><td>-1</td></tr>\n",
       "\t<tr><td>  -1</td><td>-1</td><td>-1</td><td>-1</td><td>-1</td><td>-1</td><td>-1</td><td>-1</td><td>-1</td><td>-1</td><td>-1</td><td>-1</td><td>-1</td><td>-1</td><td>-1</td><td>-1</td><td>-1</td><td>-1</td><td>-1</td><td>-1</td></tr>\n",
       "\t<tr><td>  -1</td><td>-1</td><td>-1</td><td>-1</td><td>-1</td><td>-1</td><td>-1</td><td>-1</td><td>-1</td><td>-1</td><td>-1</td><td>-1</td><td>-1</td><td>-1</td><td>-1</td><td>-1</td><td>-1</td><td>-1</td><td>-1</td><td>-1</td></tr>\n",
       "\t<tr><td>  -1</td><td>-1</td><td>-1</td><td>-1</td><td>-1</td><td>-1</td><td>-1</td><td>-1</td><td>-1</td><td>-1</td><td>-1</td><td>-1</td><td>-1</td><td>-1</td><td>-1</td><td>-1</td><td>-1</td><td>-1</td><td>-1</td><td>-1</td></tr>\n",
       "\t<tr><td>  -1</td><td>-1</td><td>-1</td><td>-1</td><td>-1</td><td>-1</td><td>-1</td><td>-1</td><td>-1</td><td>-1</td><td>-1</td><td>-1</td><td>-1</td><td>-1</td><td>-1</td><td>-1</td><td>-1</td><td>-1</td><td>-1</td><td>-1</td></tr>\n",
       "\t<tr><td>  -1</td><td>-1</td><td>-1</td><td>-1</td><td>-1</td><td>-1</td><td>-1</td><td>-1</td><td>-1</td><td>-1</td><td>-1</td><td>-1</td><td>-1</td><td>-1</td><td>-1</td><td>-1</td><td>-1</td><td>-1</td><td>-1</td><td>-1</td></tr>\n",
       "\t<tr><td>  -1</td><td>-1</td><td>-1</td><td>-1</td><td>-1</td><td>-1</td><td>-1</td><td>-1</td><td>-1</td><td>-1</td><td>-1</td><td>-1</td><td>-1</td><td>-1</td><td>-1</td><td>-1</td><td>-1</td><td>-1</td><td>-1</td><td>-1</td></tr>\n",
       "\t<tr><td>  -1</td><td>-1</td><td>-1</td><td>-1</td><td>-1</td><td>-1</td><td>-1</td><td>-1</td><td>-1</td><td>-1</td><td>-1</td><td>-1</td><td>-1</td><td>-1</td><td>-1</td><td>-1</td><td>-1</td><td>-1</td><td>-1</td><td>-1</td></tr>\n",
       "\t<tr><td>  -1</td><td>-1</td><td>-1</td><td>-1</td><td>-1</td><td>-1</td><td>-1</td><td>-1</td><td>-1</td><td>-1</td><td>-1</td><td>-1</td><td>-1</td><td>-1</td><td>-1</td><td>-1</td><td>-1</td><td>-1</td><td>-1</td><td>-1</td></tr>\n",
       "\t<tr><td>  -1</td><td>-1</td><td>-1</td><td>-1</td><td>-1</td><td>-1</td><td>-1</td><td>-1</td><td>-1</td><td>-1</td><td>-1</td><td>-1</td><td>-1</td><td>-1</td><td>-1</td><td>-1</td><td>-1</td><td>-1</td><td>-1</td><td>-1</td></tr>\n",
       "\t<tr><td>  -1</td><td>-1</td><td>-1</td><td>-1</td><td>-1</td><td>-1</td><td>-1</td><td>-1</td><td>-1</td><td>-1</td><td>-1</td><td>-1</td><td>-1</td><td>-1</td><td>-1</td><td>-1</td><td>-1</td><td>-1</td><td>-1</td><td>-1</td></tr>\n",
       "\t<tr><td>  -1</td><td>-1</td><td>-1</td><td>-1</td><td>-1</td><td>-1</td><td>-1</td><td>-1</td><td>-1</td><td>-1</td><td>-1</td><td>-1</td><td>-1</td><td>-1</td><td>-1</td><td>-1</td><td>-1</td><td>-1</td><td>-1</td><td>-1</td></tr>\n",
       "\t<tr><td>  -1</td><td>-1</td><td>-1</td><td>-1</td><td>-1</td><td>-1</td><td>-1</td><td>-1</td><td>-1</td><td>-1</td><td>-1</td><td>-1</td><td>-1</td><td>-1</td><td>-1</td><td>-1</td><td>-1</td><td>-1</td><td>-1</td><td>-1</td></tr>\n",
       "\t<tr><td>  -1</td><td>-1</td><td>-1</td><td>-1</td><td>-1</td><td>-1</td><td>-1</td><td>-1</td><td>-1</td><td>-1</td><td>-1</td><td>-1</td><td>-1</td><td>-1</td><td>-1</td><td>-1</td><td>-1</td><td>-1</td><td>-1</td><td>-1</td></tr>\n",
       "\t<tr><td>  -1</td><td>-1</td><td>-1</td><td>-1</td><td>-1</td><td>-1</td><td>-1</td><td>-1</td><td>-1</td><td>-1</td><td>-1</td><td>-1</td><td>-1</td><td>-1</td><td>-1</td><td>-1</td><td>-1</td><td>-1</td><td>-1</td><td>-1</td></tr>\n",
       "\t<tr><td>  -1</td><td>-1</td><td>-1</td><td>-1</td><td>-1</td><td>-1</td><td>-1</td><td>-1</td><td>-1</td><td>-1</td><td>-1</td><td>-1</td><td>-1</td><td>-1</td><td>-1</td><td>-1</td><td>-1</td><td>-1</td><td>-1</td><td>-1</td></tr>\n",
       "\t<tr><td>  -1</td><td>-1</td><td>-1</td><td>-1</td><td>-1</td><td>-1</td><td>-1</td><td>-1</td><td>-1</td><td>-1</td><td>-1</td><td>-1</td><td>-1</td><td>-1</td><td>-1</td><td>-1</td><td>-1</td><td>-1</td><td>-1</td><td>-1</td></tr>\n",
       "\t<tr><td>  -1</td><td>-1</td><td>-1</td><td>-1</td><td>-1</td><td>-1</td><td>-1</td><td>-1</td><td>-1</td><td>-1</td><td>-1</td><td>-1</td><td>-1</td><td>-1</td><td>-1</td><td>-1</td><td>-1</td><td>-1</td><td>-1</td><td>-1</td></tr>\n",
       "\t<tr><td>  -1</td><td>-1</td><td>-1</td><td>-1</td><td>-1</td><td>-1</td><td>-1</td><td>-1</td><td>-1</td><td>-1</td><td>-1</td><td>-1</td><td>-1</td><td>-1</td><td>-1</td><td>-1</td><td>-1</td><td>-1</td><td>-1</td><td>-1</td></tr>\n",
       "\t<tr><td>  -1</td><td>-1</td><td>-1</td><td>-1</td><td>-1</td><td>-1</td><td>-1</td><td>-1</td><td>-1</td><td>-1</td><td>-1</td><td>-1</td><td>-1</td><td>-1</td><td>-1</td><td>-1</td><td>-1</td><td>-1</td><td>-1</td><td>-1</td></tr>\n",
       "\t<tr><td>  -1</td><td>-1</td><td>-1</td><td>-1</td><td>-1</td><td>-1</td><td>-1</td><td>-1</td><td>-1</td><td>-1</td><td>-1</td><td>-1</td><td>-1</td><td>-1</td><td>-1</td><td>-1</td><td>-1</td><td>-1</td><td>-1</td><td>-1</td></tr>\n",
       "\t<tr><td>  -1</td><td>-1</td><td>-1</td><td>-1</td><td>-1</td><td>-1</td><td>-1</td><td>-1</td><td>-1</td><td>-1</td><td>-1</td><td>-1</td><td>-1</td><td>-1</td><td>-1</td><td>-1</td><td>-1</td><td>-1</td><td>-1</td><td>-1</td></tr>\n",
       "\t<tr><td>  -1</td><td>-1</td><td>-1</td><td>-1</td><td>-1</td><td>-1</td><td>-1</td><td>-1</td><td>-1</td><td>-1</td><td>-1</td><td>-1</td><td>-1</td><td>-1</td><td>-1</td><td>-1</td><td>-1</td><td>-1</td><td>-1</td><td>-1</td></tr>\n",
       "\t<tr><td>  -1</td><td>-1</td><td>-1</td><td>-1</td><td>-1</td><td>-1</td><td>-1</td><td>-1</td><td>-1</td><td>-1</td><td>-1</td><td>-1</td><td>-1</td><td>-1</td><td>-1</td><td>-1</td><td>-1</td><td>-1</td><td>-1</td><td>-1</td></tr>\n",
       "\t<tr><td>  -1</td><td>-1</td><td>-1</td><td>-1</td><td>-1</td><td>-1</td><td>-1</td><td>-1</td><td>-1</td><td>-1</td><td>-1</td><td>-1</td><td>-1</td><td>-1</td><td>-1</td><td>-1</td><td>-1</td><td>-1</td><td>-1</td><td>-1</td></tr>\n",
       "\t<tr><td>  -1</td><td>-1</td><td>-1</td><td>-1</td><td>-1</td><td>-1</td><td>-1</td><td>-1</td><td>-1</td><td>-1</td><td>-1</td><td>-1</td><td>-1</td><td>-1</td><td>-1</td><td>-1</td><td>-1</td><td>-1</td><td>-1</td><td>-1</td></tr>\n",
       "\t<tr><td>  -1</td><td>-1</td><td>-1</td><td>-1</td><td>-1</td><td>-1</td><td>-1</td><td>-1</td><td>-1</td><td>-1</td><td>-1</td><td>-1</td><td>-1</td><td>-1</td><td>-1</td><td>-1</td><td>-1</td><td>-1</td><td>-1</td><td>-1</td></tr>\n",
       "\t<tr><td>  -1</td><td>-1</td><td>-1</td><td>-1</td><td>-1</td><td>-1</td><td>-1</td><td>-1</td><td>-1</td><td>-1</td><td>-1</td><td>-1</td><td>-1</td><td>-1</td><td>-1</td><td>-1</td><td>-1</td><td>-1</td><td>-1</td><td>-1</td></tr>\n",
       "\t<tr><td>⋮</td><td>⋮</td><td>⋮</td><td>⋮</td><td>⋮</td><td>⋮</td><td>⋮</td><td>⋮</td><td>⋮</td><td>⋮</td><td>⋮</td><td>⋮</td><td>⋮</td><td>⋮</td><td>⋮</td><td>⋮</td><td>⋮</td><td>⋮</td><td>⋮</td><td>⋮</td></tr>\n",
       "\t<tr><td>-1</td><td>-1</td><td>-1</td><td>-1</td><td>-1</td><td>-1</td><td>-1</td><td>-1</td><td>-1</td><td>-1</td><td>-1</td><td>-1</td><td>-1</td><td>-1</td><td>-1</td><td>-1</td><td>-1</td><td>-1</td><td>-1</td><td>-1</td></tr>\n",
       "\t<tr><td>-1</td><td>-1</td><td>-1</td><td>-1</td><td>-1</td><td>-1</td><td>-1</td><td>-1</td><td>-1</td><td>-1</td><td>-1</td><td>-1</td><td>-1</td><td>-1</td><td>-1</td><td>-1</td><td>-1</td><td>-1</td><td>-1</td><td>-1</td></tr>\n",
       "\t<tr><td>-1</td><td>-1</td><td>-1</td><td>-1</td><td>-1</td><td>-1</td><td>-1</td><td>-1</td><td>-1</td><td>-1</td><td>-1</td><td>-1</td><td>-1</td><td>-1</td><td>-1</td><td>-1</td><td>-1</td><td>-1</td><td>-1</td><td>-1</td></tr>\n",
       "\t<tr><td>-1</td><td>-1</td><td>-1</td><td>-1</td><td>-1</td><td>-1</td><td>-1</td><td>-1</td><td>-1</td><td>-1</td><td>-1</td><td>-1</td><td>-1</td><td>-1</td><td>-1</td><td>-1</td><td>-1</td><td>-1</td><td>-1</td><td>-1</td></tr>\n",
       "\t<tr><td>-1</td><td>-1</td><td>-1</td><td>-1</td><td>-1</td><td>-1</td><td>-1</td><td>-1</td><td>-1</td><td>-1</td><td>-1</td><td>-1</td><td>-1</td><td>-1</td><td>-1</td><td>-1</td><td>-1</td><td>-1</td><td>-1</td><td>-1</td></tr>\n",
       "\t<tr><td>-1</td><td>-1</td><td>-1</td><td>-1</td><td>-1</td><td>-1</td><td>-1</td><td>-1</td><td>-1</td><td>-1</td><td>-1</td><td>-1</td><td>-1</td><td>-1</td><td>-1</td><td>-1</td><td>-1</td><td>-1</td><td>-1</td><td>-1</td></tr>\n",
       "\t<tr><td>-1</td><td>-1</td><td>-1</td><td>-1</td><td>-1</td><td>-1</td><td>-1</td><td>-1</td><td>-1</td><td>-1</td><td>-1</td><td>-1</td><td>-1</td><td>-1</td><td>-1</td><td>-1</td><td>-1</td><td>-1</td><td>-1</td><td>-1</td></tr>\n",
       "\t<tr><td>-1</td><td>-1</td><td>-1</td><td>-1</td><td>-1</td><td>-1</td><td>-1</td><td>-1</td><td>-1</td><td>-1</td><td>-1</td><td>-1</td><td>-1</td><td>-1</td><td>-1</td><td>-1</td><td>-1</td><td>-1</td><td>-1</td><td>-1</td></tr>\n",
       "\t<tr><td>-1</td><td>-1</td><td>-1</td><td>-1</td><td>-1</td><td>-1</td><td>-1</td><td>-1</td><td>-1</td><td>-1</td><td>-1</td><td>-1</td><td>-1</td><td>-1</td><td>-1</td><td>-1</td><td>-1</td><td>-1</td><td>-1</td><td>-1</td></tr>\n",
       "\t<tr><td>-1</td><td>-1</td><td>-1</td><td>-1</td><td>-1</td><td>-1</td><td>-1</td><td>-1</td><td>-1</td><td>-1</td><td>-1</td><td>-1</td><td>-1</td><td>-1</td><td>-1</td><td>-1</td><td>-1</td><td>-1</td><td>-1</td><td>-1</td></tr>\n",
       "\t<tr><td>-1</td><td>-1</td><td>-1</td><td>-1</td><td>-1</td><td>-1</td><td>-1</td><td>-1</td><td>-1</td><td>-1</td><td>-1</td><td>-1</td><td>-1</td><td>-1</td><td>-1</td><td>-1</td><td>-1</td><td>-1</td><td>-1</td><td>-1</td></tr>\n",
       "\t<tr><td>-1</td><td>-1</td><td>-1</td><td>-1</td><td>-1</td><td>-1</td><td>-1</td><td>-1</td><td>-1</td><td>-1</td><td>-1</td><td>-1</td><td>-1</td><td>-1</td><td>-1</td><td>-1</td><td>-1</td><td>-1</td><td>-1</td><td>-1</td></tr>\n",
       "\t<tr><td>-1</td><td>-1</td><td>-1</td><td>-1</td><td>-1</td><td>-1</td><td>-1</td><td>-1</td><td>-1</td><td>-1</td><td>-1</td><td>-1</td><td>-1</td><td>-1</td><td>-1</td><td>-1</td><td>-1</td><td>-1</td><td>-1</td><td>-1</td></tr>\n",
       "\t<tr><td>-1</td><td>-1</td><td>-1</td><td>-1</td><td>-1</td><td>-1</td><td>-1</td><td>-1</td><td>-1</td><td>-1</td><td>-1</td><td>-1</td><td>-1</td><td>-1</td><td>-1</td><td>-1</td><td>-1</td><td>-1</td><td>-1</td><td>-1</td></tr>\n",
       "\t<tr><td>-1</td><td>-1</td><td>-1</td><td>-1</td><td>-1</td><td>-1</td><td>-1</td><td>-1</td><td>-1</td><td>-1</td><td>-1</td><td>-1</td><td>-1</td><td>-1</td><td>-1</td><td>-1</td><td>-1</td><td>-1</td><td>-1</td><td>-1</td></tr>\n",
       "\t<tr><td>-1</td><td>-1</td><td>-1</td><td>-1</td><td>-1</td><td>-1</td><td>-1</td><td>-1</td><td>-1</td><td>-1</td><td>-1</td><td>-1</td><td>-1</td><td>-1</td><td>-1</td><td>-1</td><td>-1</td><td>-1</td><td>-1</td><td>-1</td></tr>\n",
       "\t<tr><td>-1</td><td>-1</td><td>-1</td><td>-1</td><td>-1</td><td>-1</td><td>-1</td><td>-1</td><td>-1</td><td>-1</td><td>-1</td><td>-1</td><td>-1</td><td>-1</td><td>-1</td><td>-1</td><td>-1</td><td>-1</td><td>-1</td><td>-1</td></tr>\n",
       "\t<tr><td>-1</td><td>-1</td><td>-1</td><td>-1</td><td>-1</td><td>-1</td><td>-1</td><td>-1</td><td>-1</td><td>-1</td><td>-1</td><td>-1</td><td>-1</td><td>-1</td><td>-1</td><td>-1</td><td>-1</td><td>-1</td><td>-1</td><td>-1</td></tr>\n",
       "\t<tr><td>-1</td><td>-1</td><td>-1</td><td>-1</td><td>-1</td><td>-1</td><td>-1</td><td>-1</td><td>-1</td><td>-1</td><td>-1</td><td>-1</td><td>-1</td><td>-1</td><td>-1</td><td>-1</td><td>-1</td><td>-1</td><td>-1</td><td>-1</td></tr>\n",
       "\t<tr><td>-1</td><td>-1</td><td>-1</td><td>-1</td><td>-1</td><td>-1</td><td>-1</td><td>-1</td><td>-1</td><td>-1</td><td>-1</td><td>-1</td><td>-1</td><td>-1</td><td>-1</td><td>-1</td><td>-1</td><td>-1</td><td>-1</td><td>-1</td></tr>\n",
       "\t<tr><td>-1</td><td>-1</td><td>-1</td><td>-1</td><td>-1</td><td>-1</td><td>-1</td><td>-1</td><td>-1</td><td>-1</td><td>-1</td><td>-1</td><td>-1</td><td>-1</td><td>-1</td><td>-1</td><td>-1</td><td>-1</td><td>-1</td><td>-1</td></tr>\n",
       "\t<tr><td>-1</td><td>-1</td><td>-1</td><td>-1</td><td>-1</td><td>-1</td><td>-1</td><td>-1</td><td>-1</td><td>-1</td><td>-1</td><td>-1</td><td>-1</td><td>-1</td><td>-1</td><td>-1</td><td>-1</td><td>-1</td><td>-1</td><td>-1</td></tr>\n",
       "\t<tr><td>-1</td><td>-1</td><td>-1</td><td>-1</td><td>-1</td><td>-1</td><td>-1</td><td>-1</td><td>-1</td><td>-1</td><td>-1</td><td>-1</td><td>-1</td><td>-1</td><td>-1</td><td>-1</td><td>-1</td><td>-1</td><td>-1</td><td>-1</td></tr>\n",
       "\t<tr><td>-1</td><td>-1</td><td>-1</td><td>-1</td><td>-1</td><td>-1</td><td>-1</td><td>-1</td><td>-1</td><td>-1</td><td>-1</td><td>-1</td><td>-1</td><td>-1</td><td>-1</td><td>-1</td><td>-1</td><td>-1</td><td>-1</td><td>-1</td></tr>\n",
       "\t<tr><td>-1</td><td>-1</td><td>-1</td><td>-1</td><td>-1</td><td>-1</td><td>-1</td><td>-1</td><td>-1</td><td>-1</td><td>-1</td><td>-1</td><td>-1</td><td>-1</td><td>-1</td><td>-1</td><td>-1</td><td>-1</td><td>-1</td><td>-1</td></tr>\n",
       "\t<tr><td>-1</td><td>-1</td><td>-1</td><td>-1</td><td>-1</td><td>-1</td><td>-1</td><td>-1</td><td>-1</td><td>-1</td><td>-1</td><td>-1</td><td>-1</td><td>-1</td><td>-1</td><td>-1</td><td>-1</td><td>-1</td><td>-1</td><td>-1</td></tr>\n",
       "\t<tr><td>-1</td><td>-1</td><td>-1</td><td>-1</td><td>-1</td><td>-1</td><td>-1</td><td>-1</td><td>-1</td><td>-1</td><td>-1</td><td>-1</td><td>-1</td><td>-1</td><td>-1</td><td>-1</td><td>-1</td><td>-1</td><td>-1</td><td>-1</td></tr>\n",
       "\t<tr><td>-1</td><td>-1</td><td>-1</td><td>-1</td><td>-1</td><td>-1</td><td>-1</td><td>-1</td><td>-1</td><td>-1</td><td>-1</td><td>-1</td><td>-1</td><td>-1</td><td>-1</td><td>-1</td><td>-1</td><td>-1</td><td>-1</td><td>-1</td></tr>\n",
       "\t<tr><td>-1</td><td>-1</td><td>-1</td><td>-1</td><td>-1</td><td>-1</td><td>-1</td><td>-1</td><td>-1</td><td>-1</td><td>-1</td><td>-1</td><td>-1</td><td>-1</td><td>-1</td><td>-1</td><td>-1</td><td>-1</td><td>-1</td><td>-1</td></tr>\n",
       "\t<tr><td>-1</td><td>-1</td><td>-1</td><td>-1</td><td>-1</td><td>-1</td><td>-1</td><td>-1</td><td>-1</td><td>-1</td><td>-1</td><td>-1</td><td>-1</td><td>-1</td><td>-1</td><td>-1</td><td>-1</td><td>-1</td><td>-1</td><td>-1</td></tr>\n",
       "</tbody>\n",
       "</table>\n"
      ],
      "text/latex": [
       "A matrix: 100 × 20 of type dbl\n",
       "\\begin{tabular}{llllllllllllllllllll}\n",
       "\t -100 & -1 & -1 & -1 & -1 & -1 & -1 & -1 & -1 & -1 & -1 & -1 & -1 & -1 & -1 & -1 & -1 & -1 & -1 & -1\\\\\n",
       "\t   -1 & -1 & -1 & -1 & -1 & -1 & -1 & -1 & -1 & -1 & -1 & -1 & -1 & -1 & -1 & -1 & -1 & -1 & -1 & -1\\\\\n",
       "\t   -1 & -1 & -1 & -1 & -1 & -1 & -1 & -1 & -1 & -1 & -1 & -1 & -1 & -1 & -1 & -1 & -1 & -1 & -1 & -1\\\\\n",
       "\t   -1 & -1 & -1 & -1 & -1 & -1 & -1 & -1 & -1 & -1 & -1 & -1 & -1 & -1 & -1 & -1 & -1 & -1 & -1 & -1\\\\\n",
       "\t   -1 & -1 & -1 & -1 & -1 & -1 & -1 & -1 & -1 & -1 & -1 & -1 & -1 & -1 & -1 & -1 & -1 & -1 & -1 & -1\\\\\n",
       "\t   -1 & -1 & -1 & -1 & -1 & -1 & -1 & -1 & -1 & -1 & -1 & -1 & -1 & -1 & -1 & -1 & -1 & -1 & -1 & -1\\\\\n",
       "\t   -1 & -1 & -1 & -1 & -1 & -1 & -1 & -1 & -1 & -1 & -1 & -1 & -1 & -1 & -1 & -1 & -1 & -1 & -1 & -1\\\\\n",
       "\t   -1 & -1 & -1 & -1 & -1 & -1 & -1 & -1 & -1 & -1 & -1 & -1 & -1 & -1 & -1 & -1 & -1 & -1 & -1 & -1\\\\\n",
       "\t   -1 & -1 & -1 & -1 & -1 & -1 & -1 & -1 & -1 & -1 & -1 & -1 & -1 & -1 & -1 & -1 & -1 & -1 & -1 & -1\\\\\n",
       "\t   -1 & -1 & -1 & -1 & -1 & -1 & -1 & -1 & -1 & -1 & -1 & -1 & -1 & -1 & -1 & -1 & -1 & -1 & -1 & -1\\\\\n",
       "\t   -1 & -1 & -1 & -1 & -1 & -1 & -1 & -1 & -1 & -1 & -1 & -1 & -1 & -1 & -1 & -1 & -1 & -1 & -1 & -1\\\\\n",
       "\t   -1 & -1 & -1 & -1 & -1 & -1 & -1 & -1 & -1 & -1 & -1 & -1 & -1 & -1 & -1 & -1 & -1 & -1 & -1 & -1\\\\\n",
       "\t   -1 & -1 & -1 & -1 & -1 & -1 & -1 & -1 & -1 & -1 & -1 & -1 & -1 & -1 & -1 & -1 & -1 & -1 & -1 & -1\\\\\n",
       "\t   -1 & -1 & -1 & -1 & -1 & -1 & -1 & -1 & -1 & -1 & -1 & -1 & -1 & -1 & -1 & -1 & -1 & -1 & -1 & -1\\\\\n",
       "\t   -1 & -1 & -1 & -1 & -1 & -1 & -1 & -1 & -1 & -1 & -1 & -1 & -1 & -1 & -1 & -1 & -1 & -1 & -1 & -1\\\\\n",
       "\t   -1 & -1 & -1 & -1 & -1 & -1 & -1 & -1 & -1 & -1 & -1 & -1 & -1 & -1 & -1 & -1 & -1 & -1 & -1 & -1\\\\\n",
       "\t   -1 & -1 & -1 & -1 & -1 & -1 & -1 & -1 & -1 & -1 & -1 & -1 & -1 & -1 & -1 & -1 & -1 & -1 & -1 & -1\\\\\n",
       "\t   -1 & -1 & -1 & -1 & -1 & -1 & -1 & -1 & -1 & -1 & -1 & -1 & -1 & -1 & -1 & -1 & -1 & -1 & -1 & -1\\\\\n",
       "\t   -1 & -1 & -1 & -1 & -1 & -1 & -1 & -1 & -1 & -1 & -1 & -1 & -1 & -1 & -1 & -1 & -1 & -1 & -1 & -1\\\\\n",
       "\t   -1 & -1 & -1 & -1 & -1 & -1 & -1 & -1 & -1 & -1 & -1 & -1 & -1 & -1 & -1 & -1 & -1 & -1 & -1 & -1\\\\\n",
       "\t   -1 & -1 & -1 & -1 & -1 & -1 & -1 & -1 & -1 & -1 & -1 & -1 & -1 & -1 & -1 & -1 & -1 & -1 & -1 & -1\\\\\n",
       "\t   -1 & -1 & -1 & -1 & -1 & -1 & -1 & -1 & -1 & -1 & -1 & -1 & -1 & -1 & -1 & -1 & -1 & -1 & -1 & -1\\\\\n",
       "\t   -1 & -1 & -1 & -1 & -1 & -1 & -1 & -1 & -1 & -1 & -1 & -1 & -1 & -1 & -1 & -1 & -1 & -1 & -1 & -1\\\\\n",
       "\t   -1 & -1 & -1 & -1 & -1 & -1 & -1 & -1 & -1 & -1 & -1 & -1 & -1 & -1 & -1 & -1 & -1 & -1 & -1 & -1\\\\\n",
       "\t   -1 & -1 & -1 & -1 & -1 & -1 & -1 & -1 & -1 & -1 & -1 & -1 & -1 & -1 & -1 & -1 & -1 & -1 & -1 & -1\\\\\n",
       "\t   -1 & -1 & -1 & -1 & -1 & -1 & -1 & -1 & -1 & -1 & -1 & -1 & -1 & -1 & -1 & -1 & -1 & -1 & -1 & -1\\\\\n",
       "\t   -1 & -1 & -1 & -1 & -1 & -1 & -1 & -1 & -1 & -1 & -1 & -1 & -1 & -1 & -1 & -1 & -1 & -1 & -1 & -1\\\\\n",
       "\t   -1 & -1 & -1 & -1 & -1 & -1 & -1 & -1 & -1 & -1 & -1 & -1 & -1 & -1 & -1 & -1 & -1 & -1 & -1 & -1\\\\\n",
       "\t   -1 & -1 & -1 & -1 & -1 & -1 & -1 & -1 & -1 & -1 & -1 & -1 & -1 & -1 & -1 & -1 & -1 & -1 & -1 & -1\\\\\n",
       "\t   -1 & -1 & -1 & -1 & -1 & -1 & -1 & -1 & -1 & -1 & -1 & -1 & -1 & -1 & -1 & -1 & -1 & -1 & -1 & -1\\\\\n",
       "\t ⋮ & ⋮ & ⋮ & ⋮ & ⋮ & ⋮ & ⋮ & ⋮ & ⋮ & ⋮ & ⋮ & ⋮ & ⋮ & ⋮ & ⋮ & ⋮ & ⋮ & ⋮ & ⋮ & ⋮\\\\\n",
       "\t -1 & -1 & -1 & -1 & -1 & -1 & -1 & -1 & -1 & -1 & -1 & -1 & -1 & -1 & -1 & -1 & -1 & -1 & -1 & -1\\\\\n",
       "\t -1 & -1 & -1 & -1 & -1 & -1 & -1 & -1 & -1 & -1 & -1 & -1 & -1 & -1 & -1 & -1 & -1 & -1 & -1 & -1\\\\\n",
       "\t -1 & -1 & -1 & -1 & -1 & -1 & -1 & -1 & -1 & -1 & -1 & -1 & -1 & -1 & -1 & -1 & -1 & -1 & -1 & -1\\\\\n",
       "\t -1 & -1 & -1 & -1 & -1 & -1 & -1 & -1 & -1 & -1 & -1 & -1 & -1 & -1 & -1 & -1 & -1 & -1 & -1 & -1\\\\\n",
       "\t -1 & -1 & -1 & -1 & -1 & -1 & -1 & -1 & -1 & -1 & -1 & -1 & -1 & -1 & -1 & -1 & -1 & -1 & -1 & -1\\\\\n",
       "\t -1 & -1 & -1 & -1 & -1 & -1 & -1 & -1 & -1 & -1 & -1 & -1 & -1 & -1 & -1 & -1 & -1 & -1 & -1 & -1\\\\\n",
       "\t -1 & -1 & -1 & -1 & -1 & -1 & -1 & -1 & -1 & -1 & -1 & -1 & -1 & -1 & -1 & -1 & -1 & -1 & -1 & -1\\\\\n",
       "\t -1 & -1 & -1 & -1 & -1 & -1 & -1 & -1 & -1 & -1 & -1 & -1 & -1 & -1 & -1 & -1 & -1 & -1 & -1 & -1\\\\\n",
       "\t -1 & -1 & -1 & -1 & -1 & -1 & -1 & -1 & -1 & -1 & -1 & -1 & -1 & -1 & -1 & -1 & -1 & -1 & -1 & -1\\\\\n",
       "\t -1 & -1 & -1 & -1 & -1 & -1 & -1 & -1 & -1 & -1 & -1 & -1 & -1 & -1 & -1 & -1 & -1 & -1 & -1 & -1\\\\\n",
       "\t -1 & -1 & -1 & -1 & -1 & -1 & -1 & -1 & -1 & -1 & -1 & -1 & -1 & -1 & -1 & -1 & -1 & -1 & -1 & -1\\\\\n",
       "\t -1 & -1 & -1 & -1 & -1 & -1 & -1 & -1 & -1 & -1 & -1 & -1 & -1 & -1 & -1 & -1 & -1 & -1 & -1 & -1\\\\\n",
       "\t -1 & -1 & -1 & -1 & -1 & -1 & -1 & -1 & -1 & -1 & -1 & -1 & -1 & -1 & -1 & -1 & -1 & -1 & -1 & -1\\\\\n",
       "\t -1 & -1 & -1 & -1 & -1 & -1 & -1 & -1 & -1 & -1 & -1 & -1 & -1 & -1 & -1 & -1 & -1 & -1 & -1 & -1\\\\\n",
       "\t -1 & -1 & -1 & -1 & -1 & -1 & -1 & -1 & -1 & -1 & -1 & -1 & -1 & -1 & -1 & -1 & -1 & -1 & -1 & -1\\\\\n",
       "\t -1 & -1 & -1 & -1 & -1 & -1 & -1 & -1 & -1 & -1 & -1 & -1 & -1 & -1 & -1 & -1 & -1 & -1 & -1 & -1\\\\\n",
       "\t -1 & -1 & -1 & -1 & -1 & -1 & -1 & -1 & -1 & -1 & -1 & -1 & -1 & -1 & -1 & -1 & -1 & -1 & -1 & -1\\\\\n",
       "\t -1 & -1 & -1 & -1 & -1 & -1 & -1 & -1 & -1 & -1 & -1 & -1 & -1 & -1 & -1 & -1 & -1 & -1 & -1 & -1\\\\\n",
       "\t -1 & -1 & -1 & -1 & -1 & -1 & -1 & -1 & -1 & -1 & -1 & -1 & -1 & -1 & -1 & -1 & -1 & -1 & -1 & -1\\\\\n",
       "\t -1 & -1 & -1 & -1 & -1 & -1 & -1 & -1 & -1 & -1 & -1 & -1 & -1 & -1 & -1 & -1 & -1 & -1 & -1 & -1\\\\\n",
       "\t -1 & -1 & -1 & -1 & -1 & -1 & -1 & -1 & -1 & -1 & -1 & -1 & -1 & -1 & -1 & -1 & -1 & -1 & -1 & -1\\\\\n",
       "\t -1 & -1 & -1 & -1 & -1 & -1 & -1 & -1 & -1 & -1 & -1 & -1 & -1 & -1 & -1 & -1 & -1 & -1 & -1 & -1\\\\\n",
       "\t -1 & -1 & -1 & -1 & -1 & -1 & -1 & -1 & -1 & -1 & -1 & -1 & -1 & -1 & -1 & -1 & -1 & -1 & -1 & -1\\\\\n",
       "\t -1 & -1 & -1 & -1 & -1 & -1 & -1 & -1 & -1 & -1 & -1 & -1 & -1 & -1 & -1 & -1 & -1 & -1 & -1 & -1\\\\\n",
       "\t -1 & -1 & -1 & -1 & -1 & -1 & -1 & -1 & -1 & -1 & -1 & -1 & -1 & -1 & -1 & -1 & -1 & -1 & -1 & -1\\\\\n",
       "\t -1 & -1 & -1 & -1 & -1 & -1 & -1 & -1 & -1 & -1 & -1 & -1 & -1 & -1 & -1 & -1 & -1 & -1 & -1 & -1\\\\\n",
       "\t -1 & -1 & -1 & -1 & -1 & -1 & -1 & -1 & -1 & -1 & -1 & -1 & -1 & -1 & -1 & -1 & -1 & -1 & -1 & -1\\\\\n",
       "\t -1 & -1 & -1 & -1 & -1 & -1 & -1 & -1 & -1 & -1 & -1 & -1 & -1 & -1 & -1 & -1 & -1 & -1 & -1 & -1\\\\\n",
       "\t -1 & -1 & -1 & -1 & -1 & -1 & -1 & -1 & -1 & -1 & -1 & -1 & -1 & -1 & -1 & -1 & -1 & -1 & -1 & -1\\\\\n",
       "\t -1 & -1 & -1 & -1 & -1 & -1 & -1 & -1 & -1 & -1 & -1 & -1 & -1 & -1 & -1 & -1 & -1 & -1 & -1 & -1\\\\\n",
       "\\end{tabular}\n"
      ],
      "text/markdown": [
       "\n",
       "A matrix: 100 × 20 of type dbl\n",
       "\n",
       "| -100 | -1 | -1 | -1 | -1 | -1 | -1 | -1 | -1 | -1 | -1 | -1 | -1 | -1 | -1 | -1 | -1 | -1 | -1 | -1 |\n",
       "|   -1 | -1 | -1 | -1 | -1 | -1 | -1 | -1 | -1 | -1 | -1 | -1 | -1 | -1 | -1 | -1 | -1 | -1 | -1 | -1 |\n",
       "|   -1 | -1 | -1 | -1 | -1 | -1 | -1 | -1 | -1 | -1 | -1 | -1 | -1 | -1 | -1 | -1 | -1 | -1 | -1 | -1 |\n",
       "|   -1 | -1 | -1 | -1 | -1 | -1 | -1 | -1 | -1 | -1 | -1 | -1 | -1 | -1 | -1 | -1 | -1 | -1 | -1 | -1 |\n",
       "|   -1 | -1 | -1 | -1 | -1 | -1 | -1 | -1 | -1 | -1 | -1 | -1 | -1 | -1 | -1 | -1 | -1 | -1 | -1 | -1 |\n",
       "|   -1 | -1 | -1 | -1 | -1 | -1 | -1 | -1 | -1 | -1 | -1 | -1 | -1 | -1 | -1 | -1 | -1 | -1 | -1 | -1 |\n",
       "|   -1 | -1 | -1 | -1 | -1 | -1 | -1 | -1 | -1 | -1 | -1 | -1 | -1 | -1 | -1 | -1 | -1 | -1 | -1 | -1 |\n",
       "|   -1 | -1 | -1 | -1 | -1 | -1 | -1 | -1 | -1 | -1 | -1 | -1 | -1 | -1 | -1 | -1 | -1 | -1 | -1 | -1 |\n",
       "|   -1 | -1 | -1 | -1 | -1 | -1 | -1 | -1 | -1 | -1 | -1 | -1 | -1 | -1 | -1 | -1 | -1 | -1 | -1 | -1 |\n",
       "|   -1 | -1 | -1 | -1 | -1 | -1 | -1 | -1 | -1 | -1 | -1 | -1 | -1 | -1 | -1 | -1 | -1 | -1 | -1 | -1 |\n",
       "|   -1 | -1 | -1 | -1 | -1 | -1 | -1 | -1 | -1 | -1 | -1 | -1 | -1 | -1 | -1 | -1 | -1 | -1 | -1 | -1 |\n",
       "|   -1 | -1 | -1 | -1 | -1 | -1 | -1 | -1 | -1 | -1 | -1 | -1 | -1 | -1 | -1 | -1 | -1 | -1 | -1 | -1 |\n",
       "|   -1 | -1 | -1 | -1 | -1 | -1 | -1 | -1 | -1 | -1 | -1 | -1 | -1 | -1 | -1 | -1 | -1 | -1 | -1 | -1 |\n",
       "|   -1 | -1 | -1 | -1 | -1 | -1 | -1 | -1 | -1 | -1 | -1 | -1 | -1 | -1 | -1 | -1 | -1 | -1 | -1 | -1 |\n",
       "|   -1 | -1 | -1 | -1 | -1 | -1 | -1 | -1 | -1 | -1 | -1 | -1 | -1 | -1 | -1 | -1 | -1 | -1 | -1 | -1 |\n",
       "|   -1 | -1 | -1 | -1 | -1 | -1 | -1 | -1 | -1 | -1 | -1 | -1 | -1 | -1 | -1 | -1 | -1 | -1 | -1 | -1 |\n",
       "|   -1 | -1 | -1 | -1 | -1 | -1 | -1 | -1 | -1 | -1 | -1 | -1 | -1 | -1 | -1 | -1 | -1 | -1 | -1 | -1 |\n",
       "|   -1 | -1 | -1 | -1 | -1 | -1 | -1 | -1 | -1 | -1 | -1 | -1 | -1 | -1 | -1 | -1 | -1 | -1 | -1 | -1 |\n",
       "|   -1 | -1 | -1 | -1 | -1 | -1 | -1 | -1 | -1 | -1 | -1 | -1 | -1 | -1 | -1 | -1 | -1 | -1 | -1 | -1 |\n",
       "|   -1 | -1 | -1 | -1 | -1 | -1 | -1 | -1 | -1 | -1 | -1 | -1 | -1 | -1 | -1 | -1 | -1 | -1 | -1 | -1 |\n",
       "|   -1 | -1 | -1 | -1 | -1 | -1 | -1 | -1 | -1 | -1 | -1 | -1 | -1 | -1 | -1 | -1 | -1 | -1 | -1 | -1 |\n",
       "|   -1 | -1 | -1 | -1 | -1 | -1 | -1 | -1 | -1 | -1 | -1 | -1 | -1 | -1 | -1 | -1 | -1 | -1 | -1 | -1 |\n",
       "|   -1 | -1 | -1 | -1 | -1 | -1 | -1 | -1 | -1 | -1 | -1 | -1 | -1 | -1 | -1 | -1 | -1 | -1 | -1 | -1 |\n",
       "|   -1 | -1 | -1 | -1 | -1 | -1 | -1 | -1 | -1 | -1 | -1 | -1 | -1 | -1 | -1 | -1 | -1 | -1 | -1 | -1 |\n",
       "|   -1 | -1 | -1 | -1 | -1 | -1 | -1 | -1 | -1 | -1 | -1 | -1 | -1 | -1 | -1 | -1 | -1 | -1 | -1 | -1 |\n",
       "|   -1 | -1 | -1 | -1 | -1 | -1 | -1 | -1 | -1 | -1 | -1 | -1 | -1 | -1 | -1 | -1 | -1 | -1 | -1 | -1 |\n",
       "|   -1 | -1 | -1 | -1 | -1 | -1 | -1 | -1 | -1 | -1 | -1 | -1 | -1 | -1 | -1 | -1 | -1 | -1 | -1 | -1 |\n",
       "|   -1 | -1 | -1 | -1 | -1 | -1 | -1 | -1 | -1 | -1 | -1 | -1 | -1 | -1 | -1 | -1 | -1 | -1 | -1 | -1 |\n",
       "|   -1 | -1 | -1 | -1 | -1 | -1 | -1 | -1 | -1 | -1 | -1 | -1 | -1 | -1 | -1 | -1 | -1 | -1 | -1 | -1 |\n",
       "|   -1 | -1 | -1 | -1 | -1 | -1 | -1 | -1 | -1 | -1 | -1 | -1 | -1 | -1 | -1 | -1 | -1 | -1 | -1 | -1 |\n",
       "| ⋮ | ⋮ | ⋮ | ⋮ | ⋮ | ⋮ | ⋮ | ⋮ | ⋮ | ⋮ | ⋮ | ⋮ | ⋮ | ⋮ | ⋮ | ⋮ | ⋮ | ⋮ | ⋮ | ⋮ |\n",
       "| -1 | -1 | -1 | -1 | -1 | -1 | -1 | -1 | -1 | -1 | -1 | -1 | -1 | -1 | -1 | -1 | -1 | -1 | -1 | -1 |\n",
       "| -1 | -1 | -1 | -1 | -1 | -1 | -1 | -1 | -1 | -1 | -1 | -1 | -1 | -1 | -1 | -1 | -1 | -1 | -1 | -1 |\n",
       "| -1 | -1 | -1 | -1 | -1 | -1 | -1 | -1 | -1 | -1 | -1 | -1 | -1 | -1 | -1 | -1 | -1 | -1 | -1 | -1 |\n",
       "| -1 | -1 | -1 | -1 | -1 | -1 | -1 | -1 | -1 | -1 | -1 | -1 | -1 | -1 | -1 | -1 | -1 | -1 | -1 | -1 |\n",
       "| -1 | -1 | -1 | -1 | -1 | -1 | -1 | -1 | -1 | -1 | -1 | -1 | -1 | -1 | -1 | -1 | -1 | -1 | -1 | -1 |\n",
       "| -1 | -1 | -1 | -1 | -1 | -1 | -1 | -1 | -1 | -1 | -1 | -1 | -1 | -1 | -1 | -1 | -1 | -1 | -1 | -1 |\n",
       "| -1 | -1 | -1 | -1 | -1 | -1 | -1 | -1 | -1 | -1 | -1 | -1 | -1 | -1 | -1 | -1 | -1 | -1 | -1 | -1 |\n",
       "| -1 | -1 | -1 | -1 | -1 | -1 | -1 | -1 | -1 | -1 | -1 | -1 | -1 | -1 | -1 | -1 | -1 | -1 | -1 | -1 |\n",
       "| -1 | -1 | -1 | -1 | -1 | -1 | -1 | -1 | -1 | -1 | -1 | -1 | -1 | -1 | -1 | -1 | -1 | -1 | -1 | -1 |\n",
       "| -1 | -1 | -1 | -1 | -1 | -1 | -1 | -1 | -1 | -1 | -1 | -1 | -1 | -1 | -1 | -1 | -1 | -1 | -1 | -1 |\n",
       "| -1 | -1 | -1 | -1 | -1 | -1 | -1 | -1 | -1 | -1 | -1 | -1 | -1 | -1 | -1 | -1 | -1 | -1 | -1 | -1 |\n",
       "| -1 | -1 | -1 | -1 | -1 | -1 | -1 | -1 | -1 | -1 | -1 | -1 | -1 | -1 | -1 | -1 | -1 | -1 | -1 | -1 |\n",
       "| -1 | -1 | -1 | -1 | -1 | -1 | -1 | -1 | -1 | -1 | -1 | -1 | -1 | -1 | -1 | -1 | -1 | -1 | -1 | -1 |\n",
       "| -1 | -1 | -1 | -1 | -1 | -1 | -1 | -1 | -1 | -1 | -1 | -1 | -1 | -1 | -1 | -1 | -1 | -1 | -1 | -1 |\n",
       "| -1 | -1 | -1 | -1 | -1 | -1 | -1 | -1 | -1 | -1 | -1 | -1 | -1 | -1 | -1 | -1 | -1 | -1 | -1 | -1 |\n",
       "| -1 | -1 | -1 | -1 | -1 | -1 | -1 | -1 | -1 | -1 | -1 | -1 | -1 | -1 | -1 | -1 | -1 | -1 | -1 | -1 |\n",
       "| -1 | -1 | -1 | -1 | -1 | -1 | -1 | -1 | -1 | -1 | -1 | -1 | -1 | -1 | -1 | -1 | -1 | -1 | -1 | -1 |\n",
       "| -1 | -1 | -1 | -1 | -1 | -1 | -1 | -1 | -1 | -1 | -1 | -1 | -1 | -1 | -1 | -1 | -1 | -1 | -1 | -1 |\n",
       "| -1 | -1 | -1 | -1 | -1 | -1 | -1 | -1 | -1 | -1 | -1 | -1 | -1 | -1 | -1 | -1 | -1 | -1 | -1 | -1 |\n",
       "| -1 | -1 | -1 | -1 | -1 | -1 | -1 | -1 | -1 | -1 | -1 | -1 | -1 | -1 | -1 | -1 | -1 | -1 | -1 | -1 |\n",
       "| -1 | -1 | -1 | -1 | -1 | -1 | -1 | -1 | -1 | -1 | -1 | -1 | -1 | -1 | -1 | -1 | -1 | -1 | -1 | -1 |\n",
       "| -1 | -1 | -1 | -1 | -1 | -1 | -1 | -1 | -1 | -1 | -1 | -1 | -1 | -1 | -1 | -1 | -1 | -1 | -1 | -1 |\n",
       "| -1 | -1 | -1 | -1 | -1 | -1 | -1 | -1 | -1 | -1 | -1 | -1 | -1 | -1 | -1 | -1 | -1 | -1 | -1 | -1 |\n",
       "| -1 | -1 | -1 | -1 | -1 | -1 | -1 | -1 | -1 | -1 | -1 | -1 | -1 | -1 | -1 | -1 | -1 | -1 | -1 | -1 |\n",
       "| -1 | -1 | -1 | -1 | -1 | -1 | -1 | -1 | -1 | -1 | -1 | -1 | -1 | -1 | -1 | -1 | -1 | -1 | -1 | -1 |\n",
       "| -1 | -1 | -1 | -1 | -1 | -1 | -1 | -1 | -1 | -1 | -1 | -1 | -1 | -1 | -1 | -1 | -1 | -1 | -1 | -1 |\n",
       "| -1 | -1 | -1 | -1 | -1 | -1 | -1 | -1 | -1 | -1 | -1 | -1 | -1 | -1 | -1 | -1 | -1 | -1 | -1 | -1 |\n",
       "| -1 | -1 | -1 | -1 | -1 | -1 | -1 | -1 | -1 | -1 | -1 | -1 | -1 | -1 | -1 | -1 | -1 | -1 | -1 | -1 |\n",
       "| -1 | -1 | -1 | -1 | -1 | -1 | -1 | -1 | -1 | -1 | -1 | -1 | -1 | -1 | -1 | -1 | -1 | -1 | -1 | -1 |\n",
       "| -1 | -1 | -1 | -1 | -1 | -1 | -1 | -1 | -1 | -1 | -1 | -1 | -1 | -1 | -1 | -1 | -1 | -1 | -1 | -1 |\n",
       "\n"
      ],
      "text/plain": [
       "      [,1] [,2] [,3] [,4] [,5] [,6] [,7] [,8] [,9] [,10] [,11] [,12] [,13]\n",
       " [1,] -100 -1   -1   -1   -1   -1   -1   -1   -1   -1    -1    -1    -1   \n",
       " [2,]   -1 -1   -1   -1   -1   -1   -1   -1   -1   -1    -1    -1    -1   \n",
       " [3,]   -1 -1   -1   -1   -1   -1   -1   -1   -1   -1    -1    -1    -1   \n",
       " [4,]   -1 -1   -1   -1   -1   -1   -1   -1   -1   -1    -1    -1    -1   \n",
       " [5,]   -1 -1   -1   -1   -1   -1   -1   -1   -1   -1    -1    -1    -1   \n",
       " [6,]   -1 -1   -1   -1   -1   -1   -1   -1   -1   -1    -1    -1    -1   \n",
       " [7,]   -1 -1   -1   -1   -1   -1   -1   -1   -1   -1    -1    -1    -1   \n",
       " [8,]   -1 -1   -1   -1   -1   -1   -1   -1   -1   -1    -1    -1    -1   \n",
       " [9,]   -1 -1   -1   -1   -1   -1   -1   -1   -1   -1    -1    -1    -1   \n",
       "[10,]   -1 -1   -1   -1   -1   -1   -1   -1   -1   -1    -1    -1    -1   \n",
       "[11,]   -1 -1   -1   -1   -1   -1   -1   -1   -1   -1    -1    -1    -1   \n",
       "[12,]   -1 -1   -1   -1   -1   -1   -1   -1   -1   -1    -1    -1    -1   \n",
       "[13,]   -1 -1   -1   -1   -1   -1   -1   -1   -1   -1    -1    -1    -1   \n",
       "[14,]   -1 -1   -1   -1   -1   -1   -1   -1   -1   -1    -1    -1    -1   \n",
       "[15,]   -1 -1   -1   -1   -1   -1   -1   -1   -1   -1    -1    -1    -1   \n",
       "[16,]   -1 -1   -1   -1   -1   -1   -1   -1   -1   -1    -1    -1    -1   \n",
       "[17,]   -1 -1   -1   -1   -1   -1   -1   -1   -1   -1    -1    -1    -1   \n",
       "[18,]   -1 -1   -1   -1   -1   -1   -1   -1   -1   -1    -1    -1    -1   \n",
       "[19,]   -1 -1   -1   -1   -1   -1   -1   -1   -1   -1    -1    -1    -1   \n",
       "[20,]   -1 -1   -1   -1   -1   -1   -1   -1   -1   -1    -1    -1    -1   \n",
       "[21,]   -1 -1   -1   -1   -1   -1   -1   -1   -1   -1    -1    -1    -1   \n",
       "[22,]   -1 -1   -1   -1   -1   -1   -1   -1   -1   -1    -1    -1    -1   \n",
       "[23,]   -1 -1   -1   -1   -1   -1   -1   -1   -1   -1    -1    -1    -1   \n",
       "[24,]   -1 -1   -1   -1   -1   -1   -1   -1   -1   -1    -1    -1    -1   \n",
       "[25,]   -1 -1   -1   -1   -1   -1   -1   -1   -1   -1    -1    -1    -1   \n",
       "[26,]   -1 -1   -1   -1   -1   -1   -1   -1   -1   -1    -1    -1    -1   \n",
       "[27,]   -1 -1   -1   -1   -1   -1   -1   -1   -1   -1    -1    -1    -1   \n",
       "[28,]   -1 -1   -1   -1   -1   -1   -1   -1   -1   -1    -1    -1    -1   \n",
       "[29,]   -1 -1   -1   -1   -1   -1   -1   -1   -1   -1    -1    -1    -1   \n",
       "[30,]   -1 -1   -1   -1   -1   -1   -1   -1   -1   -1    -1    -1    -1   \n",
       "[31,] ⋮    ⋮    ⋮    ⋮    ⋮    ⋮    ⋮    ⋮    ⋮    ⋮     ⋮     ⋮     ⋮    \n",
       "[32,] -1   -1   -1   -1   -1   -1   -1   -1   -1   -1    -1    -1    -1   \n",
       "[33,] -1   -1   -1   -1   -1   -1   -1   -1   -1   -1    -1    -1    -1   \n",
       "[34,] -1   -1   -1   -1   -1   -1   -1   -1   -1   -1    -1    -1    -1   \n",
       "[35,] -1   -1   -1   -1   -1   -1   -1   -1   -1   -1    -1    -1    -1   \n",
       "[36,] -1   -1   -1   -1   -1   -1   -1   -1   -1   -1    -1    -1    -1   \n",
       "[37,] -1   -1   -1   -1   -1   -1   -1   -1   -1   -1    -1    -1    -1   \n",
       "[38,] -1   -1   -1   -1   -1   -1   -1   -1   -1   -1    -1    -1    -1   \n",
       "[39,] -1   -1   -1   -1   -1   -1   -1   -1   -1   -1    -1    -1    -1   \n",
       "[40,] -1   -1   -1   -1   -1   -1   -1   -1   -1   -1    -1    -1    -1   \n",
       "[41,] -1   -1   -1   -1   -1   -1   -1   -1   -1   -1    -1    -1    -1   \n",
       "[42,] -1   -1   -1   -1   -1   -1   -1   -1   -1   -1    -1    -1    -1   \n",
       "[43,] -1   -1   -1   -1   -1   -1   -1   -1   -1   -1    -1    -1    -1   \n",
       "[44,] -1   -1   -1   -1   -1   -1   -1   -1   -1   -1    -1    -1    -1   \n",
       "[45,] -1   -1   -1   -1   -1   -1   -1   -1   -1   -1    -1    -1    -1   \n",
       "[46,] -1   -1   -1   -1   -1   -1   -1   -1   -1   -1    -1    -1    -1   \n",
       "[47,] -1   -1   -1   -1   -1   -1   -1   -1   -1   -1    -1    -1    -1   \n",
       "[48,] -1   -1   -1   -1   -1   -1   -1   -1   -1   -1    -1    -1    -1   \n",
       "[49,] -1   -1   -1   -1   -1   -1   -1   -1   -1   -1    -1    -1    -1   \n",
       "[50,] -1   -1   -1   -1   -1   -1   -1   -1   -1   -1    -1    -1    -1   \n",
       "[51,] -1   -1   -1   -1   -1   -1   -1   -1   -1   -1    -1    -1    -1   \n",
       "[52,] -1   -1   -1   -1   -1   -1   -1   -1   -1   -1    -1    -1    -1   \n",
       "[53,] -1   -1   -1   -1   -1   -1   -1   -1   -1   -1    -1    -1    -1   \n",
       "[54,] -1   -1   -1   -1   -1   -1   -1   -1   -1   -1    -1    -1    -1   \n",
       "[55,] -1   -1   -1   -1   -1   -1   -1   -1   -1   -1    -1    -1    -1   \n",
       "[56,] -1   -1   -1   -1   -1   -1   -1   -1   -1   -1    -1    -1    -1   \n",
       "[57,] -1   -1   -1   -1   -1   -1   -1   -1   -1   -1    -1    -1    -1   \n",
       "[58,] -1   -1   -1   -1   -1   -1   -1   -1   -1   -1    -1    -1    -1   \n",
       "[59,] -1   -1   -1   -1   -1   -1   -1   -1   -1   -1    -1    -1    -1   \n",
       "[60,] -1   -1   -1   -1   -1   -1   -1   -1   -1   -1    -1    -1    -1   \n",
       "[61,] -1   -1   -1   -1   -1   -1   -1   -1   -1   -1    -1    -1    -1   \n",
       "      [,14] [,15] [,16] [,17] [,18] [,19] [,20]\n",
       " [1,] -1    -1    -1    -1    -1    -1    -1   \n",
       " [2,] -1    -1    -1    -1    -1    -1    -1   \n",
       " [3,] -1    -1    -1    -1    -1    -1    -1   \n",
       " [4,] -1    -1    -1    -1    -1    -1    -1   \n",
       " [5,] -1    -1    -1    -1    -1    -1    -1   \n",
       " [6,] -1    -1    -1    -1    -1    -1    -1   \n",
       " [7,] -1    -1    -1    -1    -1    -1    -1   \n",
       " [8,] -1    -1    -1    -1    -1    -1    -1   \n",
       " [9,] -1    -1    -1    -1    -1    -1    -1   \n",
       "[10,] -1    -1    -1    -1    -1    -1    -1   \n",
       "[11,] -1    -1    -1    -1    -1    -1    -1   \n",
       "[12,] -1    -1    -1    -1    -1    -1    -1   \n",
       "[13,] -1    -1    -1    -1    -1    -1    -1   \n",
       "[14,] -1    -1    -1    -1    -1    -1    -1   \n",
       "[15,] -1    -1    -1    -1    -1    -1    -1   \n",
       "[16,] -1    -1    -1    -1    -1    -1    -1   \n",
       "[17,] -1    -1    -1    -1    -1    -1    -1   \n",
       "[18,] -1    -1    -1    -1    -1    -1    -1   \n",
       "[19,] -1    -1    -1    -1    -1    -1    -1   \n",
       "[20,] -1    -1    -1    -1    -1    -1    -1   \n",
       "[21,] -1    -1    -1    -1    -1    -1    -1   \n",
       "[22,] -1    -1    -1    -1    -1    -1    -1   \n",
       "[23,] -1    -1    -1    -1    -1    -1    -1   \n",
       "[24,] -1    -1    -1    -1    -1    -1    -1   \n",
       "[25,] -1    -1    -1    -1    -1    -1    -1   \n",
       "[26,] -1    -1    -1    -1    -1    -1    -1   \n",
       "[27,] -1    -1    -1    -1    -1    -1    -1   \n",
       "[28,] -1    -1    -1    -1    -1    -1    -1   \n",
       "[29,] -1    -1    -1    -1    -1    -1    -1   \n",
       "[30,] -1    -1    -1    -1    -1    -1    -1   \n",
       "[31,] ⋮     ⋮     ⋮     ⋮     ⋮     ⋮     ⋮    \n",
       "[32,] -1    -1    -1    -1    -1    -1    -1   \n",
       "[33,] -1    -1    -1    -1    -1    -1    -1   \n",
       "[34,] -1    -1    -1    -1    -1    -1    -1   \n",
       "[35,] -1    -1    -1    -1    -1    -1    -1   \n",
       "[36,] -1    -1    -1    -1    -1    -1    -1   \n",
       "[37,] -1    -1    -1    -1    -1    -1    -1   \n",
       "[38,] -1    -1    -1    -1    -1    -1    -1   \n",
       "[39,] -1    -1    -1    -1    -1    -1    -1   \n",
       "[40,] -1    -1    -1    -1    -1    -1    -1   \n",
       "[41,] -1    -1    -1    -1    -1    -1    -1   \n",
       "[42,] -1    -1    -1    -1    -1    -1    -1   \n",
       "[43,] -1    -1    -1    -1    -1    -1    -1   \n",
       "[44,] -1    -1    -1    -1    -1    -1    -1   \n",
       "[45,] -1    -1    -1    -1    -1    -1    -1   \n",
       "[46,] -1    -1    -1    -1    -1    -1    -1   \n",
       "[47,] -1    -1    -1    -1    -1    -1    -1   \n",
       "[48,] -1    -1    -1    -1    -1    -1    -1   \n",
       "[49,] -1    -1    -1    -1    -1    -1    -1   \n",
       "[50,] -1    -1    -1    -1    -1    -1    -1   \n",
       "[51,] -1    -1    -1    -1    -1    -1    -1   \n",
       "[52,] -1    -1    -1    -1    -1    -1    -1   \n",
       "[53,] -1    -1    -1    -1    -1    -1    -1   \n",
       "[54,] -1    -1    -1    -1    -1    -1    -1   \n",
       "[55,] -1    -1    -1    -1    -1    -1    -1   \n",
       "[56,] -1    -1    -1    -1    -1    -1    -1   \n",
       "[57,] -1    -1    -1    -1    -1    -1    -1   \n",
       "[58,] -1    -1    -1    -1    -1    -1    -1   \n",
       "[59,] -1    -1    -1    -1    -1    -1    -1   \n",
       "[60,] -1    -1    -1    -1    -1    -1    -1   \n",
       "[61,] -1    -1    -1    -1    -1    -1    -1   "
      ]
     },
     "metadata": {},
     "output_type": "display_data"
    }
   ],
   "source": [
    "Z.hat[1,,]"
   ]
  },
  {
   "cell_type": "code",
   "execution_count": 45,
   "metadata": {
    "scrolled": true
   },
   "outputs": [
    {
     "name": "stderr",
     "output_type": "stream",
     "text": [
      "100 percent of the feature-source are shifted to be non negative\n",
      "\n"
     ]
    },
    {
     "data": {
      "text/html": [
       "<table class=\"dataframe\">\n",
       "<caption>A matrix: 100 × 20 of type dbl</caption>\n",
       "<tbody>\n",
       "\t<tr><td>0</td><td>99</td><td>99</td><td>99</td><td>99</td><td>99</td><td>99</td><td>99</td><td>99</td><td>99</td><td>99</td><td>99</td><td>99</td><td>99</td><td>99</td><td>99</td><td>99</td><td>99</td><td>99</td><td>99</td></tr>\n",
       "\t<tr><td>0</td><td> 0</td><td> 0</td><td> 0</td><td> 0</td><td> 0</td><td> 0</td><td> 0</td><td> 0</td><td> 0</td><td> 0</td><td> 0</td><td> 0</td><td> 0</td><td> 0</td><td> 0</td><td> 0</td><td> 0</td><td> 0</td><td> 0</td></tr>\n",
       "\t<tr><td>0</td><td> 0</td><td> 0</td><td> 0</td><td> 0</td><td> 0</td><td> 0</td><td> 0</td><td> 0</td><td> 0</td><td> 0</td><td> 0</td><td> 0</td><td> 0</td><td> 0</td><td> 0</td><td> 0</td><td> 0</td><td> 0</td><td> 0</td></tr>\n",
       "\t<tr><td>0</td><td> 0</td><td> 0</td><td> 0</td><td> 0</td><td> 0</td><td> 0</td><td> 0</td><td> 0</td><td> 0</td><td> 0</td><td> 0</td><td> 0</td><td> 0</td><td> 0</td><td> 0</td><td> 0</td><td> 0</td><td> 0</td><td> 0</td></tr>\n",
       "\t<tr><td>0</td><td> 0</td><td> 0</td><td> 0</td><td> 0</td><td> 0</td><td> 0</td><td> 0</td><td> 0</td><td> 0</td><td> 0</td><td> 0</td><td> 0</td><td> 0</td><td> 0</td><td> 0</td><td> 0</td><td> 0</td><td> 0</td><td> 0</td></tr>\n",
       "\t<tr><td>0</td><td> 0</td><td> 0</td><td> 0</td><td> 0</td><td> 0</td><td> 0</td><td> 0</td><td> 0</td><td> 0</td><td> 0</td><td> 0</td><td> 0</td><td> 0</td><td> 0</td><td> 0</td><td> 0</td><td> 0</td><td> 0</td><td> 0</td></tr>\n",
       "\t<tr><td>0</td><td> 0</td><td> 0</td><td> 0</td><td> 0</td><td> 0</td><td> 0</td><td> 0</td><td> 0</td><td> 0</td><td> 0</td><td> 0</td><td> 0</td><td> 0</td><td> 0</td><td> 0</td><td> 0</td><td> 0</td><td> 0</td><td> 0</td></tr>\n",
       "\t<tr><td>0</td><td> 0</td><td> 0</td><td> 0</td><td> 0</td><td> 0</td><td> 0</td><td> 0</td><td> 0</td><td> 0</td><td> 0</td><td> 0</td><td> 0</td><td> 0</td><td> 0</td><td> 0</td><td> 0</td><td> 0</td><td> 0</td><td> 0</td></tr>\n",
       "\t<tr><td>0</td><td> 0</td><td> 0</td><td> 0</td><td> 0</td><td> 0</td><td> 0</td><td> 0</td><td> 0</td><td> 0</td><td> 0</td><td> 0</td><td> 0</td><td> 0</td><td> 0</td><td> 0</td><td> 0</td><td> 0</td><td> 0</td><td> 0</td></tr>\n",
       "\t<tr><td>0</td><td> 0</td><td> 0</td><td> 0</td><td> 0</td><td> 0</td><td> 0</td><td> 0</td><td> 0</td><td> 0</td><td> 0</td><td> 0</td><td> 0</td><td> 0</td><td> 0</td><td> 0</td><td> 0</td><td> 0</td><td> 0</td><td> 0</td></tr>\n",
       "\t<tr><td>0</td><td> 0</td><td> 0</td><td> 0</td><td> 0</td><td> 0</td><td> 0</td><td> 0</td><td> 0</td><td> 0</td><td> 0</td><td> 0</td><td> 0</td><td> 0</td><td> 0</td><td> 0</td><td> 0</td><td> 0</td><td> 0</td><td> 0</td></tr>\n",
       "\t<tr><td>0</td><td> 0</td><td> 0</td><td> 0</td><td> 0</td><td> 0</td><td> 0</td><td> 0</td><td> 0</td><td> 0</td><td> 0</td><td> 0</td><td> 0</td><td> 0</td><td> 0</td><td> 0</td><td> 0</td><td> 0</td><td> 0</td><td> 0</td></tr>\n",
       "\t<tr><td>0</td><td> 0</td><td> 0</td><td> 0</td><td> 0</td><td> 0</td><td> 0</td><td> 0</td><td> 0</td><td> 0</td><td> 0</td><td> 0</td><td> 0</td><td> 0</td><td> 0</td><td> 0</td><td> 0</td><td> 0</td><td> 0</td><td> 0</td></tr>\n",
       "\t<tr><td>0</td><td> 0</td><td> 0</td><td> 0</td><td> 0</td><td> 0</td><td> 0</td><td> 0</td><td> 0</td><td> 0</td><td> 0</td><td> 0</td><td> 0</td><td> 0</td><td> 0</td><td> 0</td><td> 0</td><td> 0</td><td> 0</td><td> 0</td></tr>\n",
       "\t<tr><td>0</td><td> 0</td><td> 0</td><td> 0</td><td> 0</td><td> 0</td><td> 0</td><td> 0</td><td> 0</td><td> 0</td><td> 0</td><td> 0</td><td> 0</td><td> 0</td><td> 0</td><td> 0</td><td> 0</td><td> 0</td><td> 0</td><td> 0</td></tr>\n",
       "\t<tr><td>0</td><td> 0</td><td> 0</td><td> 0</td><td> 0</td><td> 0</td><td> 0</td><td> 0</td><td> 0</td><td> 0</td><td> 0</td><td> 0</td><td> 0</td><td> 0</td><td> 0</td><td> 0</td><td> 0</td><td> 0</td><td> 0</td><td> 0</td></tr>\n",
       "\t<tr><td>0</td><td> 0</td><td> 0</td><td> 0</td><td> 0</td><td> 0</td><td> 0</td><td> 0</td><td> 0</td><td> 0</td><td> 0</td><td> 0</td><td> 0</td><td> 0</td><td> 0</td><td> 0</td><td> 0</td><td> 0</td><td> 0</td><td> 0</td></tr>\n",
       "\t<tr><td>0</td><td> 0</td><td> 0</td><td> 0</td><td> 0</td><td> 0</td><td> 0</td><td> 0</td><td> 0</td><td> 0</td><td> 0</td><td> 0</td><td> 0</td><td> 0</td><td> 0</td><td> 0</td><td> 0</td><td> 0</td><td> 0</td><td> 0</td></tr>\n",
       "\t<tr><td>0</td><td> 0</td><td> 0</td><td> 0</td><td> 0</td><td> 0</td><td> 0</td><td> 0</td><td> 0</td><td> 0</td><td> 0</td><td> 0</td><td> 0</td><td> 0</td><td> 0</td><td> 0</td><td> 0</td><td> 0</td><td> 0</td><td> 0</td></tr>\n",
       "\t<tr><td>0</td><td> 0</td><td> 0</td><td> 0</td><td> 0</td><td> 0</td><td> 0</td><td> 0</td><td> 0</td><td> 0</td><td> 0</td><td> 0</td><td> 0</td><td> 0</td><td> 0</td><td> 0</td><td> 0</td><td> 0</td><td> 0</td><td> 0</td></tr>\n",
       "\t<tr><td>0</td><td> 0</td><td> 0</td><td> 0</td><td> 0</td><td> 0</td><td> 0</td><td> 0</td><td> 0</td><td> 0</td><td> 0</td><td> 0</td><td> 0</td><td> 0</td><td> 0</td><td> 0</td><td> 0</td><td> 0</td><td> 0</td><td> 0</td></tr>\n",
       "\t<tr><td>0</td><td> 0</td><td> 0</td><td> 0</td><td> 0</td><td> 0</td><td> 0</td><td> 0</td><td> 0</td><td> 0</td><td> 0</td><td> 0</td><td> 0</td><td> 0</td><td> 0</td><td> 0</td><td> 0</td><td> 0</td><td> 0</td><td> 0</td></tr>\n",
       "\t<tr><td>0</td><td> 0</td><td> 0</td><td> 0</td><td> 0</td><td> 0</td><td> 0</td><td> 0</td><td> 0</td><td> 0</td><td> 0</td><td> 0</td><td> 0</td><td> 0</td><td> 0</td><td> 0</td><td> 0</td><td> 0</td><td> 0</td><td> 0</td></tr>\n",
       "\t<tr><td>0</td><td> 0</td><td> 0</td><td> 0</td><td> 0</td><td> 0</td><td> 0</td><td> 0</td><td> 0</td><td> 0</td><td> 0</td><td> 0</td><td> 0</td><td> 0</td><td> 0</td><td> 0</td><td> 0</td><td> 0</td><td> 0</td><td> 0</td></tr>\n",
       "\t<tr><td>0</td><td> 0</td><td> 0</td><td> 0</td><td> 0</td><td> 0</td><td> 0</td><td> 0</td><td> 0</td><td> 0</td><td> 0</td><td> 0</td><td> 0</td><td> 0</td><td> 0</td><td> 0</td><td> 0</td><td> 0</td><td> 0</td><td> 0</td></tr>\n",
       "\t<tr><td>0</td><td> 0</td><td> 0</td><td> 0</td><td> 0</td><td> 0</td><td> 0</td><td> 0</td><td> 0</td><td> 0</td><td> 0</td><td> 0</td><td> 0</td><td> 0</td><td> 0</td><td> 0</td><td> 0</td><td> 0</td><td> 0</td><td> 0</td></tr>\n",
       "\t<tr><td>0</td><td> 0</td><td> 0</td><td> 0</td><td> 0</td><td> 0</td><td> 0</td><td> 0</td><td> 0</td><td> 0</td><td> 0</td><td> 0</td><td> 0</td><td> 0</td><td> 0</td><td> 0</td><td> 0</td><td> 0</td><td> 0</td><td> 0</td></tr>\n",
       "\t<tr><td>0</td><td> 0</td><td> 0</td><td> 0</td><td> 0</td><td> 0</td><td> 0</td><td> 0</td><td> 0</td><td> 0</td><td> 0</td><td> 0</td><td> 0</td><td> 0</td><td> 0</td><td> 0</td><td> 0</td><td> 0</td><td> 0</td><td> 0</td></tr>\n",
       "\t<tr><td>0</td><td> 0</td><td> 0</td><td> 0</td><td> 0</td><td> 0</td><td> 0</td><td> 0</td><td> 0</td><td> 0</td><td> 0</td><td> 0</td><td> 0</td><td> 0</td><td> 0</td><td> 0</td><td> 0</td><td> 0</td><td> 0</td><td> 0</td></tr>\n",
       "\t<tr><td>0</td><td> 0</td><td> 0</td><td> 0</td><td> 0</td><td> 0</td><td> 0</td><td> 0</td><td> 0</td><td> 0</td><td> 0</td><td> 0</td><td> 0</td><td> 0</td><td> 0</td><td> 0</td><td> 0</td><td> 0</td><td> 0</td><td> 0</td></tr>\n",
       "\t<tr><td>⋮</td><td>⋮</td><td>⋮</td><td>⋮</td><td>⋮</td><td>⋮</td><td>⋮</td><td>⋮</td><td>⋮</td><td>⋮</td><td>⋮</td><td>⋮</td><td>⋮</td><td>⋮</td><td>⋮</td><td>⋮</td><td>⋮</td><td>⋮</td><td>⋮</td><td>⋮</td></tr>\n",
       "\t<tr><td>0</td><td>0</td><td>0</td><td>0</td><td>0</td><td>0</td><td>0</td><td>0</td><td>0</td><td>0</td><td>0</td><td>0</td><td>0</td><td>0</td><td>0</td><td>0</td><td>0</td><td>0</td><td>0</td><td>0</td></tr>\n",
       "\t<tr><td>0</td><td>0</td><td>0</td><td>0</td><td>0</td><td>0</td><td>0</td><td>0</td><td>0</td><td>0</td><td>0</td><td>0</td><td>0</td><td>0</td><td>0</td><td>0</td><td>0</td><td>0</td><td>0</td><td>0</td></tr>\n",
       "\t<tr><td>0</td><td>0</td><td>0</td><td>0</td><td>0</td><td>0</td><td>0</td><td>0</td><td>0</td><td>0</td><td>0</td><td>0</td><td>0</td><td>0</td><td>0</td><td>0</td><td>0</td><td>0</td><td>0</td><td>0</td></tr>\n",
       "\t<tr><td>0</td><td>0</td><td>0</td><td>0</td><td>0</td><td>0</td><td>0</td><td>0</td><td>0</td><td>0</td><td>0</td><td>0</td><td>0</td><td>0</td><td>0</td><td>0</td><td>0</td><td>0</td><td>0</td><td>0</td></tr>\n",
       "\t<tr><td>0</td><td>0</td><td>0</td><td>0</td><td>0</td><td>0</td><td>0</td><td>0</td><td>0</td><td>0</td><td>0</td><td>0</td><td>0</td><td>0</td><td>0</td><td>0</td><td>0</td><td>0</td><td>0</td><td>0</td></tr>\n",
       "\t<tr><td>0</td><td>0</td><td>0</td><td>0</td><td>0</td><td>0</td><td>0</td><td>0</td><td>0</td><td>0</td><td>0</td><td>0</td><td>0</td><td>0</td><td>0</td><td>0</td><td>0</td><td>0</td><td>0</td><td>0</td></tr>\n",
       "\t<tr><td>0</td><td>0</td><td>0</td><td>0</td><td>0</td><td>0</td><td>0</td><td>0</td><td>0</td><td>0</td><td>0</td><td>0</td><td>0</td><td>0</td><td>0</td><td>0</td><td>0</td><td>0</td><td>0</td><td>0</td></tr>\n",
       "\t<tr><td>0</td><td>0</td><td>0</td><td>0</td><td>0</td><td>0</td><td>0</td><td>0</td><td>0</td><td>0</td><td>0</td><td>0</td><td>0</td><td>0</td><td>0</td><td>0</td><td>0</td><td>0</td><td>0</td><td>0</td></tr>\n",
       "\t<tr><td>0</td><td>0</td><td>0</td><td>0</td><td>0</td><td>0</td><td>0</td><td>0</td><td>0</td><td>0</td><td>0</td><td>0</td><td>0</td><td>0</td><td>0</td><td>0</td><td>0</td><td>0</td><td>0</td><td>0</td></tr>\n",
       "\t<tr><td>0</td><td>0</td><td>0</td><td>0</td><td>0</td><td>0</td><td>0</td><td>0</td><td>0</td><td>0</td><td>0</td><td>0</td><td>0</td><td>0</td><td>0</td><td>0</td><td>0</td><td>0</td><td>0</td><td>0</td></tr>\n",
       "\t<tr><td>0</td><td>0</td><td>0</td><td>0</td><td>0</td><td>0</td><td>0</td><td>0</td><td>0</td><td>0</td><td>0</td><td>0</td><td>0</td><td>0</td><td>0</td><td>0</td><td>0</td><td>0</td><td>0</td><td>0</td></tr>\n",
       "\t<tr><td>0</td><td>0</td><td>0</td><td>0</td><td>0</td><td>0</td><td>0</td><td>0</td><td>0</td><td>0</td><td>0</td><td>0</td><td>0</td><td>0</td><td>0</td><td>0</td><td>0</td><td>0</td><td>0</td><td>0</td></tr>\n",
       "\t<tr><td>0</td><td>0</td><td>0</td><td>0</td><td>0</td><td>0</td><td>0</td><td>0</td><td>0</td><td>0</td><td>0</td><td>0</td><td>0</td><td>0</td><td>0</td><td>0</td><td>0</td><td>0</td><td>0</td><td>0</td></tr>\n",
       "\t<tr><td>0</td><td>0</td><td>0</td><td>0</td><td>0</td><td>0</td><td>0</td><td>0</td><td>0</td><td>0</td><td>0</td><td>0</td><td>0</td><td>0</td><td>0</td><td>0</td><td>0</td><td>0</td><td>0</td><td>0</td></tr>\n",
       "\t<tr><td>0</td><td>0</td><td>0</td><td>0</td><td>0</td><td>0</td><td>0</td><td>0</td><td>0</td><td>0</td><td>0</td><td>0</td><td>0</td><td>0</td><td>0</td><td>0</td><td>0</td><td>0</td><td>0</td><td>0</td></tr>\n",
       "\t<tr><td>0</td><td>0</td><td>0</td><td>0</td><td>0</td><td>0</td><td>0</td><td>0</td><td>0</td><td>0</td><td>0</td><td>0</td><td>0</td><td>0</td><td>0</td><td>0</td><td>0</td><td>0</td><td>0</td><td>0</td></tr>\n",
       "\t<tr><td>0</td><td>0</td><td>0</td><td>0</td><td>0</td><td>0</td><td>0</td><td>0</td><td>0</td><td>0</td><td>0</td><td>0</td><td>0</td><td>0</td><td>0</td><td>0</td><td>0</td><td>0</td><td>0</td><td>0</td></tr>\n",
       "\t<tr><td>0</td><td>0</td><td>0</td><td>0</td><td>0</td><td>0</td><td>0</td><td>0</td><td>0</td><td>0</td><td>0</td><td>0</td><td>0</td><td>0</td><td>0</td><td>0</td><td>0</td><td>0</td><td>0</td><td>0</td></tr>\n",
       "\t<tr><td>0</td><td>0</td><td>0</td><td>0</td><td>0</td><td>0</td><td>0</td><td>0</td><td>0</td><td>0</td><td>0</td><td>0</td><td>0</td><td>0</td><td>0</td><td>0</td><td>0</td><td>0</td><td>0</td><td>0</td></tr>\n",
       "\t<tr><td>0</td><td>0</td><td>0</td><td>0</td><td>0</td><td>0</td><td>0</td><td>0</td><td>0</td><td>0</td><td>0</td><td>0</td><td>0</td><td>0</td><td>0</td><td>0</td><td>0</td><td>0</td><td>0</td><td>0</td></tr>\n",
       "\t<tr><td>0</td><td>0</td><td>0</td><td>0</td><td>0</td><td>0</td><td>0</td><td>0</td><td>0</td><td>0</td><td>0</td><td>0</td><td>0</td><td>0</td><td>0</td><td>0</td><td>0</td><td>0</td><td>0</td><td>0</td></tr>\n",
       "\t<tr><td>0</td><td>0</td><td>0</td><td>0</td><td>0</td><td>0</td><td>0</td><td>0</td><td>0</td><td>0</td><td>0</td><td>0</td><td>0</td><td>0</td><td>0</td><td>0</td><td>0</td><td>0</td><td>0</td><td>0</td></tr>\n",
       "\t<tr><td>0</td><td>0</td><td>0</td><td>0</td><td>0</td><td>0</td><td>0</td><td>0</td><td>0</td><td>0</td><td>0</td><td>0</td><td>0</td><td>0</td><td>0</td><td>0</td><td>0</td><td>0</td><td>0</td><td>0</td></tr>\n",
       "\t<tr><td>0</td><td>0</td><td>0</td><td>0</td><td>0</td><td>0</td><td>0</td><td>0</td><td>0</td><td>0</td><td>0</td><td>0</td><td>0</td><td>0</td><td>0</td><td>0</td><td>0</td><td>0</td><td>0</td><td>0</td></tr>\n",
       "\t<tr><td>0</td><td>0</td><td>0</td><td>0</td><td>0</td><td>0</td><td>0</td><td>0</td><td>0</td><td>0</td><td>0</td><td>0</td><td>0</td><td>0</td><td>0</td><td>0</td><td>0</td><td>0</td><td>0</td><td>0</td></tr>\n",
       "\t<tr><td>0</td><td>0</td><td>0</td><td>0</td><td>0</td><td>0</td><td>0</td><td>0</td><td>0</td><td>0</td><td>0</td><td>0</td><td>0</td><td>0</td><td>0</td><td>0</td><td>0</td><td>0</td><td>0</td><td>0</td></tr>\n",
       "\t<tr><td>0</td><td>0</td><td>0</td><td>0</td><td>0</td><td>0</td><td>0</td><td>0</td><td>0</td><td>0</td><td>0</td><td>0</td><td>0</td><td>0</td><td>0</td><td>0</td><td>0</td><td>0</td><td>0</td><td>0</td></tr>\n",
       "\t<tr><td>0</td><td>0</td><td>0</td><td>0</td><td>0</td><td>0</td><td>0</td><td>0</td><td>0</td><td>0</td><td>0</td><td>0</td><td>0</td><td>0</td><td>0</td><td>0</td><td>0</td><td>0</td><td>0</td><td>0</td></tr>\n",
       "\t<tr><td>0</td><td>0</td><td>0</td><td>0</td><td>0</td><td>0</td><td>0</td><td>0</td><td>0</td><td>0</td><td>0</td><td>0</td><td>0</td><td>0</td><td>0</td><td>0</td><td>0</td><td>0</td><td>0</td><td>0</td></tr>\n",
       "\t<tr><td>0</td><td>0</td><td>0</td><td>0</td><td>0</td><td>0</td><td>0</td><td>0</td><td>0</td><td>0</td><td>0</td><td>0</td><td>0</td><td>0</td><td>0</td><td>0</td><td>0</td><td>0</td><td>0</td><td>0</td></tr>\n",
       "</tbody>\n",
       "</table>\n"
      ],
      "text/latex": [
       "A matrix: 100 × 20 of type dbl\n",
       "\\begin{tabular}{llllllllllllllllllll}\n",
       "\t 0 & 99 & 99 & 99 & 99 & 99 & 99 & 99 & 99 & 99 & 99 & 99 & 99 & 99 & 99 & 99 & 99 & 99 & 99 & 99\\\\\n",
       "\t 0 &  0 &  0 &  0 &  0 &  0 &  0 &  0 &  0 &  0 &  0 &  0 &  0 &  0 &  0 &  0 &  0 &  0 &  0 &  0\\\\\n",
       "\t 0 &  0 &  0 &  0 &  0 &  0 &  0 &  0 &  0 &  0 &  0 &  0 &  0 &  0 &  0 &  0 &  0 &  0 &  0 &  0\\\\\n",
       "\t 0 &  0 &  0 &  0 &  0 &  0 &  0 &  0 &  0 &  0 &  0 &  0 &  0 &  0 &  0 &  0 &  0 &  0 &  0 &  0\\\\\n",
       "\t 0 &  0 &  0 &  0 &  0 &  0 &  0 &  0 &  0 &  0 &  0 &  0 &  0 &  0 &  0 &  0 &  0 &  0 &  0 &  0\\\\\n",
       "\t 0 &  0 &  0 &  0 &  0 &  0 &  0 &  0 &  0 &  0 &  0 &  0 &  0 &  0 &  0 &  0 &  0 &  0 &  0 &  0\\\\\n",
       "\t 0 &  0 &  0 &  0 &  0 &  0 &  0 &  0 &  0 &  0 &  0 &  0 &  0 &  0 &  0 &  0 &  0 &  0 &  0 &  0\\\\\n",
       "\t 0 &  0 &  0 &  0 &  0 &  0 &  0 &  0 &  0 &  0 &  0 &  0 &  0 &  0 &  0 &  0 &  0 &  0 &  0 &  0\\\\\n",
       "\t 0 &  0 &  0 &  0 &  0 &  0 &  0 &  0 &  0 &  0 &  0 &  0 &  0 &  0 &  0 &  0 &  0 &  0 &  0 &  0\\\\\n",
       "\t 0 &  0 &  0 &  0 &  0 &  0 &  0 &  0 &  0 &  0 &  0 &  0 &  0 &  0 &  0 &  0 &  0 &  0 &  0 &  0\\\\\n",
       "\t 0 &  0 &  0 &  0 &  0 &  0 &  0 &  0 &  0 &  0 &  0 &  0 &  0 &  0 &  0 &  0 &  0 &  0 &  0 &  0\\\\\n",
       "\t 0 &  0 &  0 &  0 &  0 &  0 &  0 &  0 &  0 &  0 &  0 &  0 &  0 &  0 &  0 &  0 &  0 &  0 &  0 &  0\\\\\n",
       "\t 0 &  0 &  0 &  0 &  0 &  0 &  0 &  0 &  0 &  0 &  0 &  0 &  0 &  0 &  0 &  0 &  0 &  0 &  0 &  0\\\\\n",
       "\t 0 &  0 &  0 &  0 &  0 &  0 &  0 &  0 &  0 &  0 &  0 &  0 &  0 &  0 &  0 &  0 &  0 &  0 &  0 &  0\\\\\n",
       "\t 0 &  0 &  0 &  0 &  0 &  0 &  0 &  0 &  0 &  0 &  0 &  0 &  0 &  0 &  0 &  0 &  0 &  0 &  0 &  0\\\\\n",
       "\t 0 &  0 &  0 &  0 &  0 &  0 &  0 &  0 &  0 &  0 &  0 &  0 &  0 &  0 &  0 &  0 &  0 &  0 &  0 &  0\\\\\n",
       "\t 0 &  0 &  0 &  0 &  0 &  0 &  0 &  0 &  0 &  0 &  0 &  0 &  0 &  0 &  0 &  0 &  0 &  0 &  0 &  0\\\\\n",
       "\t 0 &  0 &  0 &  0 &  0 &  0 &  0 &  0 &  0 &  0 &  0 &  0 &  0 &  0 &  0 &  0 &  0 &  0 &  0 &  0\\\\\n",
       "\t 0 &  0 &  0 &  0 &  0 &  0 &  0 &  0 &  0 &  0 &  0 &  0 &  0 &  0 &  0 &  0 &  0 &  0 &  0 &  0\\\\\n",
       "\t 0 &  0 &  0 &  0 &  0 &  0 &  0 &  0 &  0 &  0 &  0 &  0 &  0 &  0 &  0 &  0 &  0 &  0 &  0 &  0\\\\\n",
       "\t 0 &  0 &  0 &  0 &  0 &  0 &  0 &  0 &  0 &  0 &  0 &  0 &  0 &  0 &  0 &  0 &  0 &  0 &  0 &  0\\\\\n",
       "\t 0 &  0 &  0 &  0 &  0 &  0 &  0 &  0 &  0 &  0 &  0 &  0 &  0 &  0 &  0 &  0 &  0 &  0 &  0 &  0\\\\\n",
       "\t 0 &  0 &  0 &  0 &  0 &  0 &  0 &  0 &  0 &  0 &  0 &  0 &  0 &  0 &  0 &  0 &  0 &  0 &  0 &  0\\\\\n",
       "\t 0 &  0 &  0 &  0 &  0 &  0 &  0 &  0 &  0 &  0 &  0 &  0 &  0 &  0 &  0 &  0 &  0 &  0 &  0 &  0\\\\\n",
       "\t 0 &  0 &  0 &  0 &  0 &  0 &  0 &  0 &  0 &  0 &  0 &  0 &  0 &  0 &  0 &  0 &  0 &  0 &  0 &  0\\\\\n",
       "\t 0 &  0 &  0 &  0 &  0 &  0 &  0 &  0 &  0 &  0 &  0 &  0 &  0 &  0 &  0 &  0 &  0 &  0 &  0 &  0\\\\\n",
       "\t 0 &  0 &  0 &  0 &  0 &  0 &  0 &  0 &  0 &  0 &  0 &  0 &  0 &  0 &  0 &  0 &  0 &  0 &  0 &  0\\\\\n",
       "\t 0 &  0 &  0 &  0 &  0 &  0 &  0 &  0 &  0 &  0 &  0 &  0 &  0 &  0 &  0 &  0 &  0 &  0 &  0 &  0\\\\\n",
       "\t 0 &  0 &  0 &  0 &  0 &  0 &  0 &  0 &  0 &  0 &  0 &  0 &  0 &  0 &  0 &  0 &  0 &  0 &  0 &  0\\\\\n",
       "\t 0 &  0 &  0 &  0 &  0 &  0 &  0 &  0 &  0 &  0 &  0 &  0 &  0 &  0 &  0 &  0 &  0 &  0 &  0 &  0\\\\\n",
       "\t ⋮ & ⋮ & ⋮ & ⋮ & ⋮ & ⋮ & ⋮ & ⋮ & ⋮ & ⋮ & ⋮ & ⋮ & ⋮ & ⋮ & ⋮ & ⋮ & ⋮ & ⋮ & ⋮ & ⋮\\\\\n",
       "\t 0 & 0 & 0 & 0 & 0 & 0 & 0 & 0 & 0 & 0 & 0 & 0 & 0 & 0 & 0 & 0 & 0 & 0 & 0 & 0\\\\\n",
       "\t 0 & 0 & 0 & 0 & 0 & 0 & 0 & 0 & 0 & 0 & 0 & 0 & 0 & 0 & 0 & 0 & 0 & 0 & 0 & 0\\\\\n",
       "\t 0 & 0 & 0 & 0 & 0 & 0 & 0 & 0 & 0 & 0 & 0 & 0 & 0 & 0 & 0 & 0 & 0 & 0 & 0 & 0\\\\\n",
       "\t 0 & 0 & 0 & 0 & 0 & 0 & 0 & 0 & 0 & 0 & 0 & 0 & 0 & 0 & 0 & 0 & 0 & 0 & 0 & 0\\\\\n",
       "\t 0 & 0 & 0 & 0 & 0 & 0 & 0 & 0 & 0 & 0 & 0 & 0 & 0 & 0 & 0 & 0 & 0 & 0 & 0 & 0\\\\\n",
       "\t 0 & 0 & 0 & 0 & 0 & 0 & 0 & 0 & 0 & 0 & 0 & 0 & 0 & 0 & 0 & 0 & 0 & 0 & 0 & 0\\\\\n",
       "\t 0 & 0 & 0 & 0 & 0 & 0 & 0 & 0 & 0 & 0 & 0 & 0 & 0 & 0 & 0 & 0 & 0 & 0 & 0 & 0\\\\\n",
       "\t 0 & 0 & 0 & 0 & 0 & 0 & 0 & 0 & 0 & 0 & 0 & 0 & 0 & 0 & 0 & 0 & 0 & 0 & 0 & 0\\\\\n",
       "\t 0 & 0 & 0 & 0 & 0 & 0 & 0 & 0 & 0 & 0 & 0 & 0 & 0 & 0 & 0 & 0 & 0 & 0 & 0 & 0\\\\\n",
       "\t 0 & 0 & 0 & 0 & 0 & 0 & 0 & 0 & 0 & 0 & 0 & 0 & 0 & 0 & 0 & 0 & 0 & 0 & 0 & 0\\\\\n",
       "\t 0 & 0 & 0 & 0 & 0 & 0 & 0 & 0 & 0 & 0 & 0 & 0 & 0 & 0 & 0 & 0 & 0 & 0 & 0 & 0\\\\\n",
       "\t 0 & 0 & 0 & 0 & 0 & 0 & 0 & 0 & 0 & 0 & 0 & 0 & 0 & 0 & 0 & 0 & 0 & 0 & 0 & 0\\\\\n",
       "\t 0 & 0 & 0 & 0 & 0 & 0 & 0 & 0 & 0 & 0 & 0 & 0 & 0 & 0 & 0 & 0 & 0 & 0 & 0 & 0\\\\\n",
       "\t 0 & 0 & 0 & 0 & 0 & 0 & 0 & 0 & 0 & 0 & 0 & 0 & 0 & 0 & 0 & 0 & 0 & 0 & 0 & 0\\\\\n",
       "\t 0 & 0 & 0 & 0 & 0 & 0 & 0 & 0 & 0 & 0 & 0 & 0 & 0 & 0 & 0 & 0 & 0 & 0 & 0 & 0\\\\\n",
       "\t 0 & 0 & 0 & 0 & 0 & 0 & 0 & 0 & 0 & 0 & 0 & 0 & 0 & 0 & 0 & 0 & 0 & 0 & 0 & 0\\\\\n",
       "\t 0 & 0 & 0 & 0 & 0 & 0 & 0 & 0 & 0 & 0 & 0 & 0 & 0 & 0 & 0 & 0 & 0 & 0 & 0 & 0\\\\\n",
       "\t 0 & 0 & 0 & 0 & 0 & 0 & 0 & 0 & 0 & 0 & 0 & 0 & 0 & 0 & 0 & 0 & 0 & 0 & 0 & 0\\\\\n",
       "\t 0 & 0 & 0 & 0 & 0 & 0 & 0 & 0 & 0 & 0 & 0 & 0 & 0 & 0 & 0 & 0 & 0 & 0 & 0 & 0\\\\\n",
       "\t 0 & 0 & 0 & 0 & 0 & 0 & 0 & 0 & 0 & 0 & 0 & 0 & 0 & 0 & 0 & 0 & 0 & 0 & 0 & 0\\\\\n",
       "\t 0 & 0 & 0 & 0 & 0 & 0 & 0 & 0 & 0 & 0 & 0 & 0 & 0 & 0 & 0 & 0 & 0 & 0 & 0 & 0\\\\\n",
       "\t 0 & 0 & 0 & 0 & 0 & 0 & 0 & 0 & 0 & 0 & 0 & 0 & 0 & 0 & 0 & 0 & 0 & 0 & 0 & 0\\\\\n",
       "\t 0 & 0 & 0 & 0 & 0 & 0 & 0 & 0 & 0 & 0 & 0 & 0 & 0 & 0 & 0 & 0 & 0 & 0 & 0 & 0\\\\\n",
       "\t 0 & 0 & 0 & 0 & 0 & 0 & 0 & 0 & 0 & 0 & 0 & 0 & 0 & 0 & 0 & 0 & 0 & 0 & 0 & 0\\\\\n",
       "\t 0 & 0 & 0 & 0 & 0 & 0 & 0 & 0 & 0 & 0 & 0 & 0 & 0 & 0 & 0 & 0 & 0 & 0 & 0 & 0\\\\\n",
       "\t 0 & 0 & 0 & 0 & 0 & 0 & 0 & 0 & 0 & 0 & 0 & 0 & 0 & 0 & 0 & 0 & 0 & 0 & 0 & 0\\\\\n",
       "\t 0 & 0 & 0 & 0 & 0 & 0 & 0 & 0 & 0 & 0 & 0 & 0 & 0 & 0 & 0 & 0 & 0 & 0 & 0 & 0\\\\\n",
       "\t 0 & 0 & 0 & 0 & 0 & 0 & 0 & 0 & 0 & 0 & 0 & 0 & 0 & 0 & 0 & 0 & 0 & 0 & 0 & 0\\\\\n",
       "\t 0 & 0 & 0 & 0 & 0 & 0 & 0 & 0 & 0 & 0 & 0 & 0 & 0 & 0 & 0 & 0 & 0 & 0 & 0 & 0\\\\\n",
       "\t 0 & 0 & 0 & 0 & 0 & 0 & 0 & 0 & 0 & 0 & 0 & 0 & 0 & 0 & 0 & 0 & 0 & 0 & 0 & 0\\\\\n",
       "\\end{tabular}\n"
      ],
      "text/markdown": [
       "\n",
       "A matrix: 100 × 20 of type dbl\n",
       "\n",
       "| 0 | 99 | 99 | 99 | 99 | 99 | 99 | 99 | 99 | 99 | 99 | 99 | 99 | 99 | 99 | 99 | 99 | 99 | 99 | 99 |\n",
       "| 0 |  0 |  0 |  0 |  0 |  0 |  0 |  0 |  0 |  0 |  0 |  0 |  0 |  0 |  0 |  0 |  0 |  0 |  0 |  0 |\n",
       "| 0 |  0 |  0 |  0 |  0 |  0 |  0 |  0 |  0 |  0 |  0 |  0 |  0 |  0 |  0 |  0 |  0 |  0 |  0 |  0 |\n",
       "| 0 |  0 |  0 |  0 |  0 |  0 |  0 |  0 |  0 |  0 |  0 |  0 |  0 |  0 |  0 |  0 |  0 |  0 |  0 |  0 |\n",
       "| 0 |  0 |  0 |  0 |  0 |  0 |  0 |  0 |  0 |  0 |  0 |  0 |  0 |  0 |  0 |  0 |  0 |  0 |  0 |  0 |\n",
       "| 0 |  0 |  0 |  0 |  0 |  0 |  0 |  0 |  0 |  0 |  0 |  0 |  0 |  0 |  0 |  0 |  0 |  0 |  0 |  0 |\n",
       "| 0 |  0 |  0 |  0 |  0 |  0 |  0 |  0 |  0 |  0 |  0 |  0 |  0 |  0 |  0 |  0 |  0 |  0 |  0 |  0 |\n",
       "| 0 |  0 |  0 |  0 |  0 |  0 |  0 |  0 |  0 |  0 |  0 |  0 |  0 |  0 |  0 |  0 |  0 |  0 |  0 |  0 |\n",
       "| 0 |  0 |  0 |  0 |  0 |  0 |  0 |  0 |  0 |  0 |  0 |  0 |  0 |  0 |  0 |  0 |  0 |  0 |  0 |  0 |\n",
       "| 0 |  0 |  0 |  0 |  0 |  0 |  0 |  0 |  0 |  0 |  0 |  0 |  0 |  0 |  0 |  0 |  0 |  0 |  0 |  0 |\n",
       "| 0 |  0 |  0 |  0 |  0 |  0 |  0 |  0 |  0 |  0 |  0 |  0 |  0 |  0 |  0 |  0 |  0 |  0 |  0 |  0 |\n",
       "| 0 |  0 |  0 |  0 |  0 |  0 |  0 |  0 |  0 |  0 |  0 |  0 |  0 |  0 |  0 |  0 |  0 |  0 |  0 |  0 |\n",
       "| 0 |  0 |  0 |  0 |  0 |  0 |  0 |  0 |  0 |  0 |  0 |  0 |  0 |  0 |  0 |  0 |  0 |  0 |  0 |  0 |\n",
       "| 0 |  0 |  0 |  0 |  0 |  0 |  0 |  0 |  0 |  0 |  0 |  0 |  0 |  0 |  0 |  0 |  0 |  0 |  0 |  0 |\n",
       "| 0 |  0 |  0 |  0 |  0 |  0 |  0 |  0 |  0 |  0 |  0 |  0 |  0 |  0 |  0 |  0 |  0 |  0 |  0 |  0 |\n",
       "| 0 |  0 |  0 |  0 |  0 |  0 |  0 |  0 |  0 |  0 |  0 |  0 |  0 |  0 |  0 |  0 |  0 |  0 |  0 |  0 |\n",
       "| 0 |  0 |  0 |  0 |  0 |  0 |  0 |  0 |  0 |  0 |  0 |  0 |  0 |  0 |  0 |  0 |  0 |  0 |  0 |  0 |\n",
       "| 0 |  0 |  0 |  0 |  0 |  0 |  0 |  0 |  0 |  0 |  0 |  0 |  0 |  0 |  0 |  0 |  0 |  0 |  0 |  0 |\n",
       "| 0 |  0 |  0 |  0 |  0 |  0 |  0 |  0 |  0 |  0 |  0 |  0 |  0 |  0 |  0 |  0 |  0 |  0 |  0 |  0 |\n",
       "| 0 |  0 |  0 |  0 |  0 |  0 |  0 |  0 |  0 |  0 |  0 |  0 |  0 |  0 |  0 |  0 |  0 |  0 |  0 |  0 |\n",
       "| 0 |  0 |  0 |  0 |  0 |  0 |  0 |  0 |  0 |  0 |  0 |  0 |  0 |  0 |  0 |  0 |  0 |  0 |  0 |  0 |\n",
       "| 0 |  0 |  0 |  0 |  0 |  0 |  0 |  0 |  0 |  0 |  0 |  0 |  0 |  0 |  0 |  0 |  0 |  0 |  0 |  0 |\n",
       "| 0 |  0 |  0 |  0 |  0 |  0 |  0 |  0 |  0 |  0 |  0 |  0 |  0 |  0 |  0 |  0 |  0 |  0 |  0 |  0 |\n",
       "| 0 |  0 |  0 |  0 |  0 |  0 |  0 |  0 |  0 |  0 |  0 |  0 |  0 |  0 |  0 |  0 |  0 |  0 |  0 |  0 |\n",
       "| 0 |  0 |  0 |  0 |  0 |  0 |  0 |  0 |  0 |  0 |  0 |  0 |  0 |  0 |  0 |  0 |  0 |  0 |  0 |  0 |\n",
       "| 0 |  0 |  0 |  0 |  0 |  0 |  0 |  0 |  0 |  0 |  0 |  0 |  0 |  0 |  0 |  0 |  0 |  0 |  0 |  0 |\n",
       "| 0 |  0 |  0 |  0 |  0 |  0 |  0 |  0 |  0 |  0 |  0 |  0 |  0 |  0 |  0 |  0 |  0 |  0 |  0 |  0 |\n",
       "| 0 |  0 |  0 |  0 |  0 |  0 |  0 |  0 |  0 |  0 |  0 |  0 |  0 |  0 |  0 |  0 |  0 |  0 |  0 |  0 |\n",
       "| 0 |  0 |  0 |  0 |  0 |  0 |  0 |  0 |  0 |  0 |  0 |  0 |  0 |  0 |  0 |  0 |  0 |  0 |  0 |  0 |\n",
       "| 0 |  0 |  0 |  0 |  0 |  0 |  0 |  0 |  0 |  0 |  0 |  0 |  0 |  0 |  0 |  0 |  0 |  0 |  0 |  0 |\n",
       "| ⋮ | ⋮ | ⋮ | ⋮ | ⋮ | ⋮ | ⋮ | ⋮ | ⋮ | ⋮ | ⋮ | ⋮ | ⋮ | ⋮ | ⋮ | ⋮ | ⋮ | ⋮ | ⋮ | ⋮ |\n",
       "| 0 | 0 | 0 | 0 | 0 | 0 | 0 | 0 | 0 | 0 | 0 | 0 | 0 | 0 | 0 | 0 | 0 | 0 | 0 | 0 |\n",
       "| 0 | 0 | 0 | 0 | 0 | 0 | 0 | 0 | 0 | 0 | 0 | 0 | 0 | 0 | 0 | 0 | 0 | 0 | 0 | 0 |\n",
       "| 0 | 0 | 0 | 0 | 0 | 0 | 0 | 0 | 0 | 0 | 0 | 0 | 0 | 0 | 0 | 0 | 0 | 0 | 0 | 0 |\n",
       "| 0 | 0 | 0 | 0 | 0 | 0 | 0 | 0 | 0 | 0 | 0 | 0 | 0 | 0 | 0 | 0 | 0 | 0 | 0 | 0 |\n",
       "| 0 | 0 | 0 | 0 | 0 | 0 | 0 | 0 | 0 | 0 | 0 | 0 | 0 | 0 | 0 | 0 | 0 | 0 | 0 | 0 |\n",
       "| 0 | 0 | 0 | 0 | 0 | 0 | 0 | 0 | 0 | 0 | 0 | 0 | 0 | 0 | 0 | 0 | 0 | 0 | 0 | 0 |\n",
       "| 0 | 0 | 0 | 0 | 0 | 0 | 0 | 0 | 0 | 0 | 0 | 0 | 0 | 0 | 0 | 0 | 0 | 0 | 0 | 0 |\n",
       "| 0 | 0 | 0 | 0 | 0 | 0 | 0 | 0 | 0 | 0 | 0 | 0 | 0 | 0 | 0 | 0 | 0 | 0 | 0 | 0 |\n",
       "| 0 | 0 | 0 | 0 | 0 | 0 | 0 | 0 | 0 | 0 | 0 | 0 | 0 | 0 | 0 | 0 | 0 | 0 | 0 | 0 |\n",
       "| 0 | 0 | 0 | 0 | 0 | 0 | 0 | 0 | 0 | 0 | 0 | 0 | 0 | 0 | 0 | 0 | 0 | 0 | 0 | 0 |\n",
       "| 0 | 0 | 0 | 0 | 0 | 0 | 0 | 0 | 0 | 0 | 0 | 0 | 0 | 0 | 0 | 0 | 0 | 0 | 0 | 0 |\n",
       "| 0 | 0 | 0 | 0 | 0 | 0 | 0 | 0 | 0 | 0 | 0 | 0 | 0 | 0 | 0 | 0 | 0 | 0 | 0 | 0 |\n",
       "| 0 | 0 | 0 | 0 | 0 | 0 | 0 | 0 | 0 | 0 | 0 | 0 | 0 | 0 | 0 | 0 | 0 | 0 | 0 | 0 |\n",
       "| 0 | 0 | 0 | 0 | 0 | 0 | 0 | 0 | 0 | 0 | 0 | 0 | 0 | 0 | 0 | 0 | 0 | 0 | 0 | 0 |\n",
       "| 0 | 0 | 0 | 0 | 0 | 0 | 0 | 0 | 0 | 0 | 0 | 0 | 0 | 0 | 0 | 0 | 0 | 0 | 0 | 0 |\n",
       "| 0 | 0 | 0 | 0 | 0 | 0 | 0 | 0 | 0 | 0 | 0 | 0 | 0 | 0 | 0 | 0 | 0 | 0 | 0 | 0 |\n",
       "| 0 | 0 | 0 | 0 | 0 | 0 | 0 | 0 | 0 | 0 | 0 | 0 | 0 | 0 | 0 | 0 | 0 | 0 | 0 | 0 |\n",
       "| 0 | 0 | 0 | 0 | 0 | 0 | 0 | 0 | 0 | 0 | 0 | 0 | 0 | 0 | 0 | 0 | 0 | 0 | 0 | 0 |\n",
       "| 0 | 0 | 0 | 0 | 0 | 0 | 0 | 0 | 0 | 0 | 0 | 0 | 0 | 0 | 0 | 0 | 0 | 0 | 0 | 0 |\n",
       "| 0 | 0 | 0 | 0 | 0 | 0 | 0 | 0 | 0 | 0 | 0 | 0 | 0 | 0 | 0 | 0 | 0 | 0 | 0 | 0 |\n",
       "| 0 | 0 | 0 | 0 | 0 | 0 | 0 | 0 | 0 | 0 | 0 | 0 | 0 | 0 | 0 | 0 | 0 | 0 | 0 | 0 |\n",
       "| 0 | 0 | 0 | 0 | 0 | 0 | 0 | 0 | 0 | 0 | 0 | 0 | 0 | 0 | 0 | 0 | 0 | 0 | 0 | 0 |\n",
       "| 0 | 0 | 0 | 0 | 0 | 0 | 0 | 0 | 0 | 0 | 0 | 0 | 0 | 0 | 0 | 0 | 0 | 0 | 0 | 0 |\n",
       "| 0 | 0 | 0 | 0 | 0 | 0 | 0 | 0 | 0 | 0 | 0 | 0 | 0 | 0 | 0 | 0 | 0 | 0 | 0 | 0 |\n",
       "| 0 | 0 | 0 | 0 | 0 | 0 | 0 | 0 | 0 | 0 | 0 | 0 | 0 | 0 | 0 | 0 | 0 | 0 | 0 | 0 |\n",
       "| 0 | 0 | 0 | 0 | 0 | 0 | 0 | 0 | 0 | 0 | 0 | 0 | 0 | 0 | 0 | 0 | 0 | 0 | 0 | 0 |\n",
       "| 0 | 0 | 0 | 0 | 0 | 0 | 0 | 0 | 0 | 0 | 0 | 0 | 0 | 0 | 0 | 0 | 0 | 0 | 0 | 0 |\n",
       "| 0 | 0 | 0 | 0 | 0 | 0 | 0 | 0 | 0 | 0 | 0 | 0 | 0 | 0 | 0 | 0 | 0 | 0 | 0 | 0 |\n",
       "| 0 | 0 | 0 | 0 | 0 | 0 | 0 | 0 | 0 | 0 | 0 | 0 | 0 | 0 | 0 | 0 | 0 | 0 | 0 | 0 |\n",
       "| 0 | 0 | 0 | 0 | 0 | 0 | 0 | 0 | 0 | 0 | 0 | 0 | 0 | 0 | 0 | 0 | 0 | 0 | 0 | 0 |\n",
       "\n"
      ],
      "text/plain": [
       "      [,1] [,2] [,3] [,4] [,5] [,6] [,7] [,8] [,9] [,10] [,11] [,12] [,13]\n",
       " [1,] 0    99   99   99   99   99   99   99   99   99    99    99    99   \n",
       " [2,] 0     0    0    0    0    0    0    0    0    0     0     0     0   \n",
       " [3,] 0     0    0    0    0    0    0    0    0    0     0     0     0   \n",
       " [4,] 0     0    0    0    0    0    0    0    0    0     0     0     0   \n",
       " [5,] 0     0    0    0    0    0    0    0    0    0     0     0     0   \n",
       " [6,] 0     0    0    0    0    0    0    0    0    0     0     0     0   \n",
       " [7,] 0     0    0    0    0    0    0    0    0    0     0     0     0   \n",
       " [8,] 0     0    0    0    0    0    0    0    0    0     0     0     0   \n",
       " [9,] 0     0    0    0    0    0    0    0    0    0     0     0     0   \n",
       "[10,] 0     0    0    0    0    0    0    0    0    0     0     0     0   \n",
       "[11,] 0     0    0    0    0    0    0    0    0    0     0     0     0   \n",
       "[12,] 0     0    0    0    0    0    0    0    0    0     0     0     0   \n",
       "[13,] 0     0    0    0    0    0    0    0    0    0     0     0     0   \n",
       "[14,] 0     0    0    0    0    0    0    0    0    0     0     0     0   \n",
       "[15,] 0     0    0    0    0    0    0    0    0    0     0     0     0   \n",
       "[16,] 0     0    0    0    0    0    0    0    0    0     0     0     0   \n",
       "[17,] 0     0    0    0    0    0    0    0    0    0     0     0     0   \n",
       "[18,] 0     0    0    0    0    0    0    0    0    0     0     0     0   \n",
       "[19,] 0     0    0    0    0    0    0    0    0    0     0     0     0   \n",
       "[20,] 0     0    0    0    0    0    0    0    0    0     0     0     0   \n",
       "[21,] 0     0    0    0    0    0    0    0    0    0     0     0     0   \n",
       "[22,] 0     0    0    0    0    0    0    0    0    0     0     0     0   \n",
       "[23,] 0     0    0    0    0    0    0    0    0    0     0     0     0   \n",
       "[24,] 0     0    0    0    0    0    0    0    0    0     0     0     0   \n",
       "[25,] 0     0    0    0    0    0    0    0    0    0     0     0     0   \n",
       "[26,] 0     0    0    0    0    0    0    0    0    0     0     0     0   \n",
       "[27,] 0     0    0    0    0    0    0    0    0    0     0     0     0   \n",
       "[28,] 0     0    0    0    0    0    0    0    0    0     0     0     0   \n",
       "[29,] 0     0    0    0    0    0    0    0    0    0     0     0     0   \n",
       "[30,] 0     0    0    0    0    0    0    0    0    0     0     0     0   \n",
       "[31,] ⋮    ⋮    ⋮    ⋮    ⋮    ⋮    ⋮    ⋮    ⋮    ⋮     ⋮     ⋮     ⋮    \n",
       "[32,] 0    0    0    0    0    0    0    0    0    0     0     0     0    \n",
       "[33,] 0    0    0    0    0    0    0    0    0    0     0     0     0    \n",
       "[34,] 0    0    0    0    0    0    0    0    0    0     0     0     0    \n",
       "[35,] 0    0    0    0    0    0    0    0    0    0     0     0     0    \n",
       "[36,] 0    0    0    0    0    0    0    0    0    0     0     0     0    \n",
       "[37,] 0    0    0    0    0    0    0    0    0    0     0     0     0    \n",
       "[38,] 0    0    0    0    0    0    0    0    0    0     0     0     0    \n",
       "[39,] 0    0    0    0    0    0    0    0    0    0     0     0     0    \n",
       "[40,] 0    0    0    0    0    0    0    0    0    0     0     0     0    \n",
       "[41,] 0    0    0    0    0    0    0    0    0    0     0     0     0    \n",
       "[42,] 0    0    0    0    0    0    0    0    0    0     0     0     0    \n",
       "[43,] 0    0    0    0    0    0    0    0    0    0     0     0     0    \n",
       "[44,] 0    0    0    0    0    0    0    0    0    0     0     0     0    \n",
       "[45,] 0    0    0    0    0    0    0    0    0    0     0     0     0    \n",
       "[46,] 0    0    0    0    0    0    0    0    0    0     0     0     0    \n",
       "[47,] 0    0    0    0    0    0    0    0    0    0     0     0     0    \n",
       "[48,] 0    0    0    0    0    0    0    0    0    0     0     0     0    \n",
       "[49,] 0    0    0    0    0    0    0    0    0    0     0     0     0    \n",
       "[50,] 0    0    0    0    0    0    0    0    0    0     0     0     0    \n",
       "[51,] 0    0    0    0    0    0    0    0    0    0     0     0     0    \n",
       "[52,] 0    0    0    0    0    0    0    0    0    0     0     0     0    \n",
       "[53,] 0    0    0    0    0    0    0    0    0    0     0     0     0    \n",
       "[54,] 0    0    0    0    0    0    0    0    0    0     0     0     0    \n",
       "[55,] 0    0    0    0    0    0    0    0    0    0     0     0     0    \n",
       "[56,] 0    0    0    0    0    0    0    0    0    0     0     0     0    \n",
       "[57,] 0    0    0    0    0    0    0    0    0    0     0     0     0    \n",
       "[58,] 0    0    0    0    0    0    0    0    0    0     0     0     0    \n",
       "[59,] 0    0    0    0    0    0    0    0    0    0     0     0     0    \n",
       "[60,] 0    0    0    0    0    0    0    0    0    0     0     0     0    \n",
       "[61,] 0    0    0    0    0    0    0    0    0    0     0     0     0    \n",
       "      [,14] [,15] [,16] [,17] [,18] [,19] [,20]\n",
       " [1,] 99    99    99    99    99    99    99   \n",
       " [2,]  0     0     0     0     0     0     0   \n",
       " [3,]  0     0     0     0     0     0     0   \n",
       " [4,]  0     0     0     0     0     0     0   \n",
       " [5,]  0     0     0     0     0     0     0   \n",
       " [6,]  0     0     0     0     0     0     0   \n",
       " [7,]  0     0     0     0     0     0     0   \n",
       " [8,]  0     0     0     0     0     0     0   \n",
       " [9,]  0     0     0     0     0     0     0   \n",
       "[10,]  0     0     0     0     0     0     0   \n",
       "[11,]  0     0     0     0     0     0     0   \n",
       "[12,]  0     0     0     0     0     0     0   \n",
       "[13,]  0     0     0     0     0     0     0   \n",
       "[14,]  0     0     0     0     0     0     0   \n",
       "[15,]  0     0     0     0     0     0     0   \n",
       "[16,]  0     0     0     0     0     0     0   \n",
       "[17,]  0     0     0     0     0     0     0   \n",
       "[18,]  0     0     0     0     0     0     0   \n",
       "[19,]  0     0     0     0     0     0     0   \n",
       "[20,]  0     0     0     0     0     0     0   \n",
       "[21,]  0     0     0     0     0     0     0   \n",
       "[22,]  0     0     0     0     0     0     0   \n",
       "[23,]  0     0     0     0     0     0     0   \n",
       "[24,]  0     0     0     0     0     0     0   \n",
       "[25,]  0     0     0     0     0     0     0   \n",
       "[26,]  0     0     0     0     0     0     0   \n",
       "[27,]  0     0     0     0     0     0     0   \n",
       "[28,]  0     0     0     0     0     0     0   \n",
       "[29,]  0     0     0     0     0     0     0   \n",
       "[30,]  0     0     0     0     0     0     0   \n",
       "[31,] ⋮     ⋮     ⋮     ⋮     ⋮     ⋮     ⋮    \n",
       "[32,] 0     0     0     0     0     0     0    \n",
       "[33,] 0     0     0     0     0     0     0    \n",
       "[34,] 0     0     0     0     0     0     0    \n",
       "[35,] 0     0     0     0     0     0     0    \n",
       "[36,] 0     0     0     0     0     0     0    \n",
       "[37,] 0     0     0     0     0     0     0    \n",
       "[38,] 0     0     0     0     0     0     0    \n",
       "[39,] 0     0     0     0     0     0     0    \n",
       "[40,] 0     0     0     0     0     0     0    \n",
       "[41,] 0     0     0     0     0     0     0    \n",
       "[42,] 0     0     0     0     0     0     0    \n",
       "[43,] 0     0     0     0     0     0     0    \n",
       "[44,] 0     0     0     0     0     0     0    \n",
       "[45,] 0     0     0     0     0     0     0    \n",
       "[46,] 0     0     0     0     0     0     0    \n",
       "[47,] 0     0     0     0     0     0     0    \n",
       "[48,] 0     0     0     0     0     0     0    \n",
       "[49,] 0     0     0     0     0     0     0    \n",
       "[50,] 0     0     0     0     0     0     0    \n",
       "[51,] 0     0     0     0     0     0     0    \n",
       "[52,] 0     0     0     0     0     0     0    \n",
       "[53,] 0     0     0     0     0     0     0    \n",
       "[54,] 0     0     0     0     0     0     0    \n",
       "[55,] 0     0     0     0     0     0     0    \n",
       "[56,] 0     0     0     0     0     0     0    \n",
       "[57,] 0     0     0     0     0     0     0    \n",
       "[58,] 0     0     0     0     0     0     0    \n",
       "[59,] 0     0     0     0     0     0     0    \n",
       "[60,] 0     0     0     0     0     0     0    \n",
       "[61,] 0     0     0     0     0     0     0    "
      ]
     },
     "metadata": {},
     "output_type": "display_data"
    }
   ],
   "source": [
    "# make sure shifted by that feature-source's min sample \n",
    "none_neg_Z(Z.hat)[1,,]"
   ]
  },
  {
   "cell_type": "code",
   "execution_count": null,
   "metadata": {},
   "outputs": [],
   "source": []
  }
 ],
 "metadata": {
  "kernelspec": {
   "display_name": "Seurat-V4",
   "language": "R",
   "name": "ir41"
  },
  "language_info": {
   "codemirror_mode": "r",
   "file_extension": ".r",
   "mimetype": "text/x-r-source",
   "name": "R",
   "pygments_lexer": "r",
   "version": "4.1.0"
  }
 },
 "nbformat": 4,
 "nbformat_minor": 4
}
